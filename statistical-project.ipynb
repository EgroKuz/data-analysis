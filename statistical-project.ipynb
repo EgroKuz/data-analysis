{
 "cells": [
  {
   "cell_type": "markdown",
   "id": "aa0f1580",
   "metadata": {},
   "source": [
    "# Статистический анализ данных"
   ]
  },
  {
   "cell_type": "markdown",
   "id": "84ff70cf",
   "metadata": {},
   "source": [
    "Цель работы заключается в исследовании данных и проверки гипотез для сервиса аренды самокатов. Для этого предоставленно три файла с информацией о пользователях, поездках и подписках."
   ]
  },
  {
   "cell_type": "markdown",
   "id": "eee4dd88",
   "metadata": {},
   "source": [
    "План:\n",
    "- Загрузка данных\n",
    "- Предобработка \n",
    "- Исследование данных\n",
    "- Объединение данных\n",
    "- Подсчет выручки\n",
    "- Проверка гипотез\n",
    "- Составление вывода"
   ]
  },
  {
   "cell_type": "code",
   "execution_count": 1,
   "id": "72576667",
   "metadata": {},
   "outputs": [],
   "source": [
    "import pandas as pd\n",
    "import matplotlib.pyplot as plt\n",
    "import seaborn\n",
    "import numpy as np\n",
    "from scipy import stats as st"
   ]
  },
  {
   "cell_type": "markdown",
   "id": "c42cbe00",
   "metadata": {},
   "source": [
    "#### Шаг 1. Загрузка данных"
   ]
  },
  {
   "cell_type": "code",
   "execution_count": 2,
   "id": "eff9f206",
   "metadata": {},
   "outputs": [
    {
     "name": "stdout",
     "output_type": "stream",
     "text": [
      "<class 'pandas.core.frame.DataFrame'>\n",
      "RangeIndex: 1565 entries, 0 to 1564\n",
      "Data columns (total 5 columns):\n",
      " #   Column             Non-Null Count  Dtype \n",
      "---  ------             --------------  ----- \n",
      " 0   user_id            1565 non-null   int64 \n",
      " 1   name               1565 non-null   object\n",
      " 2   age                1565 non-null   int64 \n",
      " 3   city               1565 non-null   object\n",
      " 4   subscription_type  1565 non-null   object\n",
      "dtypes: int64(2), object(3)\n",
      "memory usage: 61.3+ KB\n"
     ]
    },
    {
     "data": {
      "text/plain": [
       "None"
      ]
     },
     "metadata": {},
     "output_type": "display_data"
    },
    {
     "data": {
      "text/html": [
       "<div>\n",
       "<style scoped>\n",
       "    .dataframe tbody tr th:only-of-type {\n",
       "        vertical-align: middle;\n",
       "    }\n",
       "\n",
       "    .dataframe tbody tr th {\n",
       "        vertical-align: top;\n",
       "    }\n",
       "\n",
       "    .dataframe thead th {\n",
       "        text-align: right;\n",
       "    }\n",
       "</style>\n",
       "<table border=\"1\" class=\"dataframe\">\n",
       "  <thead>\n",
       "    <tr style=\"text-align: right;\">\n",
       "      <th></th>\n",
       "      <th>user_id</th>\n",
       "      <th>name</th>\n",
       "      <th>age</th>\n",
       "      <th>city</th>\n",
       "      <th>subscription_type</th>\n",
       "    </tr>\n",
       "  </thead>\n",
       "  <tbody>\n",
       "    <tr>\n",
       "      <th>0</th>\n",
       "      <td>1</td>\n",
       "      <td>Кира</td>\n",
       "      <td>22</td>\n",
       "      <td>Тюмень</td>\n",
       "      <td>ultra</td>\n",
       "    </tr>\n",
       "    <tr>\n",
       "      <th>1</th>\n",
       "      <td>2</td>\n",
       "      <td>Станислав</td>\n",
       "      <td>31</td>\n",
       "      <td>Омск</td>\n",
       "      <td>ultra</td>\n",
       "    </tr>\n",
       "    <tr>\n",
       "      <th>2</th>\n",
       "      <td>3</td>\n",
       "      <td>Алексей</td>\n",
       "      <td>20</td>\n",
       "      <td>Москва</td>\n",
       "      <td>ultra</td>\n",
       "    </tr>\n",
       "    <tr>\n",
       "      <th>3</th>\n",
       "      <td>4</td>\n",
       "      <td>Константин</td>\n",
       "      <td>26</td>\n",
       "      <td>Ростов-на-Дону</td>\n",
       "      <td>ultra</td>\n",
       "    </tr>\n",
       "    <tr>\n",
       "      <th>4</th>\n",
       "      <td>5</td>\n",
       "      <td>Адель</td>\n",
       "      <td>28</td>\n",
       "      <td>Омск</td>\n",
       "      <td>ultra</td>\n",
       "    </tr>\n",
       "    <tr>\n",
       "      <th>5</th>\n",
       "      <td>6</td>\n",
       "      <td>Регина</td>\n",
       "      <td>25</td>\n",
       "      <td>Краснодар</td>\n",
       "      <td>ultra</td>\n",
       "    </tr>\n",
       "    <tr>\n",
       "      <th>6</th>\n",
       "      <td>7</td>\n",
       "      <td>Игорь</td>\n",
       "      <td>23</td>\n",
       "      <td>Омск</td>\n",
       "      <td>ultra</td>\n",
       "    </tr>\n",
       "    <tr>\n",
       "      <th>7</th>\n",
       "      <td>8</td>\n",
       "      <td>Юрий</td>\n",
       "      <td>23</td>\n",
       "      <td>Краснодар</td>\n",
       "      <td>ultra</td>\n",
       "    </tr>\n",
       "    <tr>\n",
       "      <th>8</th>\n",
       "      <td>9</td>\n",
       "      <td>Ян</td>\n",
       "      <td>21</td>\n",
       "      <td>Пятигорск</td>\n",
       "      <td>ultra</td>\n",
       "    </tr>\n",
       "    <tr>\n",
       "      <th>9</th>\n",
       "      <td>10</td>\n",
       "      <td>Валерий</td>\n",
       "      <td>18</td>\n",
       "      <td>Екатеринбург</td>\n",
       "      <td>ultra</td>\n",
       "    </tr>\n",
       "  </tbody>\n",
       "</table>\n",
       "</div>"
      ],
      "text/plain": [
       "   user_id        name  age            city subscription_type\n",
       "0        1        Кира   22          Тюмень             ultra\n",
       "1        2   Станислав   31            Омск             ultra\n",
       "2        3     Алексей   20          Москва             ultra\n",
       "3        4  Константин   26  Ростов-на-Дону             ultra\n",
       "4        5       Адель   28            Омск             ultra\n",
       "5        6      Регина   25       Краснодар             ultra\n",
       "6        7       Игорь   23            Омск             ultra\n",
       "7        8        Юрий   23       Краснодар             ultra\n",
       "8        9          Ян   21       Пятигорск             ultra\n",
       "9       10     Валерий   18    Екатеринбург             ultra"
      ]
     },
     "execution_count": 2,
     "metadata": {},
     "output_type": "execute_result"
    }
   ],
   "source": [
    "user_data = pd.read_csv('/datasets/users_go.csv')\n",
    "display(user_data.info())\n",
    "user_data.head(10)"
   ]
  },
  {
   "cell_type": "code",
   "execution_count": 3,
   "id": "cf92d02a",
   "metadata": {},
   "outputs": [
    {
     "name": "stdout",
     "output_type": "stream",
     "text": [
      "<class 'pandas.core.frame.DataFrame'>\n",
      "RangeIndex: 18068 entries, 0 to 18067\n",
      "Data columns (total 4 columns):\n",
      " #   Column    Non-Null Count  Dtype  \n",
      "---  ------    --------------  -----  \n",
      " 0   user_id   18068 non-null  int64  \n",
      " 1   distance  18068 non-null  float64\n",
      " 2   duration  18068 non-null  float64\n",
      " 3   date      18068 non-null  object \n",
      "dtypes: float64(2), int64(1), object(1)\n",
      "memory usage: 564.8+ KB\n"
     ]
    },
    {
     "data": {
      "text/plain": [
       "None"
      ]
     },
     "metadata": {},
     "output_type": "display_data"
    },
    {
     "data": {
      "text/html": [
       "<div>\n",
       "<style scoped>\n",
       "    .dataframe tbody tr th:only-of-type {\n",
       "        vertical-align: middle;\n",
       "    }\n",
       "\n",
       "    .dataframe tbody tr th {\n",
       "        vertical-align: top;\n",
       "    }\n",
       "\n",
       "    .dataframe thead th {\n",
       "        text-align: right;\n",
       "    }\n",
       "</style>\n",
       "<table border=\"1\" class=\"dataframe\">\n",
       "  <thead>\n",
       "    <tr style=\"text-align: right;\">\n",
       "      <th></th>\n",
       "      <th>user_id</th>\n",
       "      <th>distance</th>\n",
       "      <th>duration</th>\n",
       "      <th>date</th>\n",
       "    </tr>\n",
       "  </thead>\n",
       "  <tbody>\n",
       "    <tr>\n",
       "      <th>0</th>\n",
       "      <td>1</td>\n",
       "      <td>4409.919140</td>\n",
       "      <td>25.599769</td>\n",
       "      <td>2021-01-01</td>\n",
       "    </tr>\n",
       "    <tr>\n",
       "      <th>1</th>\n",
       "      <td>1</td>\n",
       "      <td>2617.592153</td>\n",
       "      <td>15.816871</td>\n",
       "      <td>2021-01-18</td>\n",
       "    </tr>\n",
       "    <tr>\n",
       "      <th>2</th>\n",
       "      <td>1</td>\n",
       "      <td>754.159807</td>\n",
       "      <td>6.232113</td>\n",
       "      <td>2021-04-20</td>\n",
       "    </tr>\n",
       "    <tr>\n",
       "      <th>3</th>\n",
       "      <td>1</td>\n",
       "      <td>2694.783254</td>\n",
       "      <td>18.511000</td>\n",
       "      <td>2021-08-11</td>\n",
       "    </tr>\n",
       "    <tr>\n",
       "      <th>4</th>\n",
       "      <td>1</td>\n",
       "      <td>4028.687306</td>\n",
       "      <td>26.265803</td>\n",
       "      <td>2021-08-28</td>\n",
       "    </tr>\n",
       "    <tr>\n",
       "      <th>5</th>\n",
       "      <td>1</td>\n",
       "      <td>2770.890808</td>\n",
       "      <td>16.650138</td>\n",
       "      <td>2021-10-09</td>\n",
       "    </tr>\n",
       "    <tr>\n",
       "      <th>6</th>\n",
       "      <td>1</td>\n",
       "      <td>3039.020292</td>\n",
       "      <td>14.927879</td>\n",
       "      <td>2021-10-19</td>\n",
       "    </tr>\n",
       "    <tr>\n",
       "      <th>7</th>\n",
       "      <td>1</td>\n",
       "      <td>2842.118050</td>\n",
       "      <td>23.117468</td>\n",
       "      <td>2021-11-06</td>\n",
       "    </tr>\n",
       "    <tr>\n",
       "      <th>8</th>\n",
       "      <td>1</td>\n",
       "      <td>3412.690668</td>\n",
       "      <td>15.238072</td>\n",
       "      <td>2021-11-14</td>\n",
       "    </tr>\n",
       "    <tr>\n",
       "      <th>9</th>\n",
       "      <td>1</td>\n",
       "      <td>748.690645</td>\n",
       "      <td>15.041884</td>\n",
       "      <td>2021-11-22</td>\n",
       "    </tr>\n",
       "  </tbody>\n",
       "</table>\n",
       "</div>"
      ],
      "text/plain": [
       "   user_id     distance   duration        date\n",
       "0        1  4409.919140  25.599769  2021-01-01\n",
       "1        1  2617.592153  15.816871  2021-01-18\n",
       "2        1   754.159807   6.232113  2021-04-20\n",
       "3        1  2694.783254  18.511000  2021-08-11\n",
       "4        1  4028.687306  26.265803  2021-08-28\n",
       "5        1  2770.890808  16.650138  2021-10-09\n",
       "6        1  3039.020292  14.927879  2021-10-19\n",
       "7        1  2842.118050  23.117468  2021-11-06\n",
       "8        1  3412.690668  15.238072  2021-11-14\n",
       "9        1   748.690645  15.041884  2021-11-22"
      ]
     },
     "execution_count": 3,
     "metadata": {},
     "output_type": "execute_result"
    }
   ],
   "source": [
    "ride_data = pd.read_csv('/datasets/rides_go.csv')\n",
    "display(ride_data.info())\n",
    "ride_data.head(10)"
   ]
  },
  {
   "cell_type": "code",
   "execution_count": 4,
   "id": "454bb0ae",
   "metadata": {},
   "outputs": [
    {
     "name": "stdout",
     "output_type": "stream",
     "text": [
      "<class 'pandas.core.frame.DataFrame'>\n",
      "RangeIndex: 2 entries, 0 to 1\n",
      "Data columns (total 4 columns):\n",
      " #   Column             Non-Null Count  Dtype \n",
      "---  ------             --------------  ----- \n",
      " 0   subscription_type  2 non-null      object\n",
      " 1   minute_price       2 non-null      int64 \n",
      " 2   start_ride_price   2 non-null      int64 \n",
      " 3   subscription_fee   2 non-null      int64 \n",
      "dtypes: int64(3), object(1)\n",
      "memory usage: 192.0+ bytes\n"
     ]
    },
    {
     "data": {
      "text/plain": [
       "None"
      ]
     },
     "metadata": {},
     "output_type": "display_data"
    },
    {
     "data": {
      "text/html": [
       "<div>\n",
       "<style scoped>\n",
       "    .dataframe tbody tr th:only-of-type {\n",
       "        vertical-align: middle;\n",
       "    }\n",
       "\n",
       "    .dataframe tbody tr th {\n",
       "        vertical-align: top;\n",
       "    }\n",
       "\n",
       "    .dataframe thead th {\n",
       "        text-align: right;\n",
       "    }\n",
       "</style>\n",
       "<table border=\"1\" class=\"dataframe\">\n",
       "  <thead>\n",
       "    <tr style=\"text-align: right;\">\n",
       "      <th></th>\n",
       "      <th>subscription_type</th>\n",
       "      <th>minute_price</th>\n",
       "      <th>start_ride_price</th>\n",
       "      <th>subscription_fee</th>\n",
       "    </tr>\n",
       "  </thead>\n",
       "  <tbody>\n",
       "    <tr>\n",
       "      <th>0</th>\n",
       "      <td>free</td>\n",
       "      <td>8</td>\n",
       "      <td>50</td>\n",
       "      <td>0</td>\n",
       "    </tr>\n",
       "    <tr>\n",
       "      <th>1</th>\n",
       "      <td>ultra</td>\n",
       "      <td>6</td>\n",
       "      <td>0</td>\n",
       "      <td>199</td>\n",
       "    </tr>\n",
       "  </tbody>\n",
       "</table>\n",
       "</div>"
      ],
      "text/plain": [
       "  subscription_type  minute_price  start_ride_price  subscription_fee\n",
       "0              free             8                50                 0\n",
       "1             ultra             6                 0               199"
      ]
     },
     "execution_count": 4,
     "metadata": {},
     "output_type": "execute_result"
    }
   ],
   "source": [
    "sub_data = pd.read_csv('/datasets/subscriptions_go.csv')\n",
    "display(sub_data.info())\n",
    "sub_data.head(10)"
   ]
  },
  {
   "cell_type": "markdown",
   "id": "df5f1012",
   "metadata": {},
   "source": [
    "<div class=\"alert alert-info\">\n",
    "Вывод: В полученных данных можно заметить, что в датасете подписок все две строки(виды подписки). БОльшее кол-во строк содержалось в датасете поездок. Все данные можно объединить. Дата в датасете имеет тип данных object, поэтому следует ее заменить на datetime.\n",
    "    </div> "
   ]
  },
  {
   "cell_type": "markdown",
   "id": "e95ebca7",
   "metadata": {},
   "source": [
    "#### Шаг 2. Предобработка данных"
   ]
  },
  {
   "cell_type": "code",
   "execution_count": 5,
   "id": "af6d202c",
   "metadata": {
    "scrolled": true
   },
   "outputs": [
    {
     "name": "stdout",
     "output_type": "stream",
     "text": [
      "<class 'pandas.core.frame.DataFrame'>\n",
      "RangeIndex: 18068 entries, 0 to 18067\n",
      "Data columns (total 4 columns):\n",
      " #   Column    Non-Null Count  Dtype         \n",
      "---  ------    --------------  -----         \n",
      " 0   user_id   18068 non-null  int64         \n",
      " 1   distance  18068 non-null  float64       \n",
      " 2   duration  18068 non-null  float64       \n",
      " 3   date      18068 non-null  datetime64[ns]\n",
      "dtypes: datetime64[ns](1), float64(2), int64(1)\n",
      "memory usage: 564.8 KB\n"
     ]
    },
    {
     "data": {
      "text/plain": [
       "None"
      ]
     },
     "metadata": {},
     "output_type": "display_data"
    }
   ],
   "source": [
    "ride_data['date'] = pd.to_datetime(ride_data['date'], format='%Y-%m-%d')\n",
    "display(ride_data.info())"
   ]
  },
  {
   "cell_type": "code",
   "execution_count": 6,
   "id": "eade1a41",
   "metadata": {},
   "outputs": [
    {
     "data": {
      "text/plain": [
       "Timestamp('2021-12-30 00:00:00')"
      ]
     },
     "metadata": {},
     "output_type": "display_data"
    },
    {
     "data": {
      "text/plain": [
       "Timestamp('2021-01-01 00:00:00')"
      ]
     },
     "metadata": {},
     "output_type": "display_data"
    }
   ],
   "source": [
    "display(ride_data['date'].max())\n",
    "display(ride_data['date'].min())"
   ]
  },
  {
   "cell_type": "markdown",
   "id": "0a1fdc74",
   "metadata": {},
   "source": [
    "Полученные данные содержат информацию за 1 год."
   ]
  },
  {
   "cell_type": "code",
   "execution_count": 7,
   "id": "73e5b4fe",
   "metadata": {
    "scrolled": true
   },
   "outputs": [
    {
     "data": {
      "text/html": [
       "<div>\n",
       "<style scoped>\n",
       "    .dataframe tbody tr th:only-of-type {\n",
       "        vertical-align: middle;\n",
       "    }\n",
       "\n",
       "    .dataframe tbody tr th {\n",
       "        vertical-align: top;\n",
       "    }\n",
       "\n",
       "    .dataframe thead th {\n",
       "        text-align: right;\n",
       "    }\n",
       "</style>\n",
       "<table border=\"1\" class=\"dataframe\">\n",
       "  <thead>\n",
       "    <tr style=\"text-align: right;\">\n",
       "      <th></th>\n",
       "      <th>user_id</th>\n",
       "      <th>distance</th>\n",
       "      <th>duration</th>\n",
       "      <th>date</th>\n",
       "      <th>month</th>\n",
       "    </tr>\n",
       "  </thead>\n",
       "  <tbody>\n",
       "    <tr>\n",
       "      <th>0</th>\n",
       "      <td>1</td>\n",
       "      <td>4409.919140</td>\n",
       "      <td>25.599769</td>\n",
       "      <td>2021-01-01</td>\n",
       "      <td>1</td>\n",
       "    </tr>\n",
       "    <tr>\n",
       "      <th>1</th>\n",
       "      <td>1</td>\n",
       "      <td>2617.592153</td>\n",
       "      <td>15.816871</td>\n",
       "      <td>2021-01-18</td>\n",
       "      <td>1</td>\n",
       "    </tr>\n",
       "    <tr>\n",
       "      <th>2</th>\n",
       "      <td>1</td>\n",
       "      <td>754.159807</td>\n",
       "      <td>6.232113</td>\n",
       "      <td>2021-04-20</td>\n",
       "      <td>4</td>\n",
       "    </tr>\n",
       "    <tr>\n",
       "      <th>3</th>\n",
       "      <td>1</td>\n",
       "      <td>2694.783254</td>\n",
       "      <td>18.511000</td>\n",
       "      <td>2021-08-11</td>\n",
       "      <td>8</td>\n",
       "    </tr>\n",
       "    <tr>\n",
       "      <th>4</th>\n",
       "      <td>1</td>\n",
       "      <td>4028.687306</td>\n",
       "      <td>26.265803</td>\n",
       "      <td>2021-08-28</td>\n",
       "      <td>8</td>\n",
       "    </tr>\n",
       "  </tbody>\n",
       "</table>\n",
       "</div>"
      ],
      "text/plain": [
       "   user_id     distance   duration       date  month\n",
       "0        1  4409.919140  25.599769 2021-01-01      1\n",
       "1        1  2617.592153  15.816871 2021-01-18      1\n",
       "2        1   754.159807   6.232113 2021-04-20      4\n",
       "3        1  2694.783254  18.511000 2021-08-11      8\n",
       "4        1  4028.687306  26.265803 2021-08-28      8"
      ]
     },
     "execution_count": 7,
     "metadata": {},
     "output_type": "execute_result"
    }
   ],
   "source": [
    "ride_data['month'] = ride_data['date'].dt.month\n",
    "ride_data.head()"
   ]
  },
  {
   "cell_type": "code",
   "execution_count": 8,
   "id": "f90a6dc4",
   "metadata": {},
   "outputs": [
    {
     "data": {
      "text/plain": [
       "user_id     0\n",
       "distance    0\n",
       "duration    0\n",
       "date        0\n",
       "month       0\n",
       "dtype: int64"
      ]
     },
     "execution_count": 8,
     "metadata": {},
     "output_type": "execute_result"
    }
   ],
   "source": [
    "ride_data.isna().sum()"
   ]
  },
  {
   "cell_type": "code",
   "execution_count": 9,
   "id": "62467af6",
   "metadata": {},
   "outputs": [
    {
     "data": {
      "text/plain": [
       "user_id              0\n",
       "name                 0\n",
       "age                  0\n",
       "city                 0\n",
       "subscription_type    0\n",
       "dtype: int64"
      ]
     },
     "execution_count": 9,
     "metadata": {},
     "output_type": "execute_result"
    }
   ],
   "source": [
    "user_data.isna().sum()"
   ]
  },
  {
   "cell_type": "code",
   "execution_count": 10,
   "id": "f38ff35c",
   "metadata": {},
   "outputs": [
    {
     "data": {
      "text/plain": [
       "subscription_type    0\n",
       "minute_price         0\n",
       "start_ride_price     0\n",
       "subscription_fee     0\n",
       "dtype: int64"
      ]
     },
     "execution_count": 10,
     "metadata": {},
     "output_type": "execute_result"
    }
   ],
   "source": [
    "sub_data.isna().sum()"
   ]
  },
  {
   "cell_type": "code",
   "execution_count": 11,
   "id": "2002c44a",
   "metadata": {},
   "outputs": [
    {
     "data": {
      "text/plain": [
       "0"
      ]
     },
     "execution_count": 11,
     "metadata": {},
     "output_type": "execute_result"
    }
   ],
   "source": [
    "ride_data.duplicated().sum()"
   ]
  },
  {
   "cell_type": "code",
   "execution_count": 12,
   "id": "a490940d",
   "metadata": {},
   "outputs": [
    {
     "data": {
      "text/plain": [
       "31"
      ]
     },
     "execution_count": 12,
     "metadata": {},
     "output_type": "execute_result"
    }
   ],
   "source": [
    "user_data.duplicated().sum()"
   ]
  },
  {
   "cell_type": "code",
   "execution_count": 13,
   "id": "c3760dd7",
   "metadata": {},
   "outputs": [
    {
     "data": {
      "text/plain": [
       "0"
      ]
     },
     "execution_count": 13,
     "metadata": {},
     "output_type": "execute_result"
    }
   ],
   "source": [
    "user_data = user_data.drop_duplicates().reset_index(drop=True)\n",
    "user_data.duplicated().sum()"
   ]
  },
  {
   "cell_type": "code",
   "execution_count": 14,
   "id": "b7a37bc8",
   "metadata": {},
   "outputs": [
    {
     "data": {
      "text/plain": [
       "0"
      ]
     },
     "execution_count": 14,
     "metadata": {},
     "output_type": "execute_result"
    }
   ],
   "source": [
    "sub_data.duplicated().sum()"
   ]
  },
  {
   "cell_type": "markdown",
   "id": "2ba07091",
   "metadata": {},
   "source": [
    "<div class=\"alert alert-info\">\n",
    "Вывод: В полученных данных не встречаются пропуски. Были удалены дупликаты из датасета пользователей. В других данных дупликатов не было. Также был приведен столбец date к формату даты и времени.\n",
    "    </div> "
   ]
  },
  {
   "cell_type": "markdown",
   "id": "212593c7",
   "metadata": {},
   "source": [
    "#### Шаг 3. Исследовательский анализ данных"
   ]
  },
  {
   "cell_type": "code",
   "execution_count": 15,
   "id": "e3a4274c",
   "metadata": {},
   "outputs": [
    {
     "data": {
      "text/html": [
       "<div>\n",
       "<style scoped>\n",
       "    .dataframe tbody tr th:only-of-type {\n",
       "        vertical-align: middle;\n",
       "    }\n",
       "\n",
       "    .dataframe tbody tr th {\n",
       "        vertical-align: top;\n",
       "    }\n",
       "\n",
       "    .dataframe thead th {\n",
       "        text-align: right;\n",
       "    }\n",
       "</style>\n",
       "<table border=\"1\" class=\"dataframe\">\n",
       "  <thead>\n",
       "    <tr style=\"text-align: right;\">\n",
       "      <th></th>\n",
       "      <th>user_id</th>\n",
       "    </tr>\n",
       "    <tr>\n",
       "      <th>city</th>\n",
       "      <th></th>\n",
       "    </tr>\n",
       "  </thead>\n",
       "  <tbody>\n",
       "    <tr>\n",
       "      <th>Москва</th>\n",
       "      <td>168</td>\n",
       "    </tr>\n",
       "    <tr>\n",
       "      <th>Тюмень</th>\n",
       "      <td>180</td>\n",
       "    </tr>\n",
       "    <tr>\n",
       "      <th>Омск</th>\n",
       "      <td>183</td>\n",
       "    </tr>\n",
       "    <tr>\n",
       "      <th>Сочи</th>\n",
       "      <td>189</td>\n",
       "    </tr>\n",
       "    <tr>\n",
       "      <th>Краснодар</th>\n",
       "      <td>193</td>\n",
       "    </tr>\n",
       "    <tr>\n",
       "      <th>Ростов-на-Дону</th>\n",
       "      <td>198</td>\n",
       "    </tr>\n",
       "    <tr>\n",
       "      <th>Екатеринбург</th>\n",
       "      <td>204</td>\n",
       "    </tr>\n",
       "    <tr>\n",
       "      <th>Пятигорск</th>\n",
       "      <td>219</td>\n",
       "    </tr>\n",
       "  </tbody>\n",
       "</table>\n",
       "</div>"
      ],
      "text/plain": [
       "                user_id\n",
       "city                   \n",
       "Москва              168\n",
       "Тюмень              180\n",
       "Омск                183\n",
       "Сочи                189\n",
       "Краснодар           193\n",
       "Ростов-на-Дону      198\n",
       "Екатеринбург        204\n",
       "Пятигорск           219"
      ]
     },
     "metadata": {},
     "output_type": "display_data"
    },
    {
     "data": {
      "image/png": "[encoded data removed]",
      "text/plain": [
       "<Figure size 864x288 with 1 Axes>"
      ]
     },
     "metadata": {
      "needs_background": "light"
     },
     "output_type": "display_data"
    }
   ],
   "source": [
    "city_info = user_data.pivot_table(index='city', values='user_id', aggfunc='count').sort_values(by='user_id')\n",
    "display(city_info.head(10))\n",
    "city_info.plot(kind='barh', figsize=(12, 4));\n",
    "plt.title('Частота встречаемости городов')\n",
    "plt.xlabel('Кол-во пользователей');\n",
    "plt.ylabel('Город');"
   ]
  },
  {
   "cell_type": "markdown",
   "id": "1a471462",
   "metadata": {},
   "source": [
    "Чаще всех встречается Пятигорск, а вот реже всех - Москва."
   ]
  },
  {
   "cell_type": "code",
   "execution_count": 16,
   "id": "8eca593a",
   "metadata": {
    "scrolled": true
   },
   "outputs": [
    {
     "data": {
      "text/html": [
       "<div>\n",
       "<style scoped>\n",
       "    .dataframe tbody tr th:only-of-type {\n",
       "        vertical-align: middle;\n",
       "    }\n",
       "\n",
       "    .dataframe tbody tr th {\n",
       "        vertical-align: top;\n",
       "    }\n",
       "\n",
       "    .dataframe thead th {\n",
       "        text-align: right;\n",
       "    }\n",
       "</style>\n",
       "<table border=\"1\" class=\"dataframe\">\n",
       "  <thead>\n",
       "    <tr style=\"text-align: right;\">\n",
       "      <th></th>\n",
       "      <th>user_id</th>\n",
       "    </tr>\n",
       "    <tr>\n",
       "      <th>subscription_type</th>\n",
       "      <th></th>\n",
       "    </tr>\n",
       "  </thead>\n",
       "  <tbody>\n",
       "    <tr>\n",
       "      <th>free</th>\n",
       "      <td>835</td>\n",
       "    </tr>\n",
       "    <tr>\n",
       "      <th>ultra</th>\n",
       "      <td>699</td>\n",
       "    </tr>\n",
       "  </tbody>\n",
       "</table>\n",
       "</div>"
      ],
      "text/plain": [
       "                   user_id\n",
       "subscription_type         \n",
       "free                   835\n",
       "ultra                  699"
      ]
     },
     "metadata": {},
     "output_type": "display_data"
    },
    {
     "data": {
      "image/png": "[encoded data removed]",
      "text/plain": [
       "<Figure size 432x288 with 1 Axes>"
      ]
     },
     "metadata": {},
     "output_type": "display_data"
    }
   ],
   "source": [
    "ratio = user_data.pivot_table(index='subscription_type', values='user_id', aggfunc='count')\n",
    "display(ratio)\n",
    "\n",
    "ratio.plot(y='user_id', kind='pie', autopct='%1.1f%%');\n",
    "plt.title('Соотношение пользователей');\n"
   ]
  },
  {
   "cell_type": "markdown",
   "id": "16f775e6",
   "metadata": {},
   "source": [
    "Кол-во людей с подпиской немного меньше, чем пользователей без."
   ]
  },
  {
   "cell_type": "code",
   "execution_count": 17,
   "id": "9b479423",
   "metadata": {},
   "outputs": [
    {
     "data": {
      "text/plain": [
       "count    1534.000000\n",
       "mean       24.903520\n",
       "std         4.572367\n",
       "min        12.000000\n",
       "25%        22.000000\n",
       "50%        25.000000\n",
       "75%        28.000000\n",
       "max        43.000000\n",
       "Name: age, dtype: float64"
      ]
     },
     "metadata": {},
     "output_type": "display_data"
    },
    {
     "data": {
      "image/png": "[encoded data removed]",
      "text/plain": [
       "<Figure size 864x360 with 1 Axes>"
      ]
     },
     "metadata": {
      "needs_background": "light"
     },
     "output_type": "display_data"
    }
   ],
   "source": [
    "display(user_data['age'].describe())\n",
    "user_data['age'].hist(figsize=(12, 5), bins=30);\n",
    "plt.title('Возраст пользователей')\n",
    "plt.xlabel('Возраст')\n",
    "plt.ylabel('Кол-во пользователей');"
   ]
  },
  {
   "cell_type": "markdown",
   "id": "9911cc24",
   "metadata": {},
   "source": [
    "В основном пользуются самокатами люди от 15 до 35 лет. Средний возраст 25 лет."
   ]
  },
  {
   "cell_type": "code",
   "execution_count": 18,
   "id": "43a3d466",
   "metadata": {},
   "outputs": [
    {
     "data": {
      "text/html": [
       "<div>\n",
       "<style scoped>\n",
       "    .dataframe tbody tr th:only-of-type {\n",
       "        vertical-align: middle;\n",
       "    }\n",
       "\n",
       "    .dataframe tbody tr th {\n",
       "        vertical-align: top;\n",
       "    }\n",
       "\n",
       "    .dataframe thead th {\n",
       "        text-align: right;\n",
       "    }\n",
       "</style>\n",
       "<table border=\"1\" class=\"dataframe\">\n",
       "  <thead>\n",
       "    <tr style=\"text-align: right;\">\n",
       "      <th></th>\n",
       "      <th>user_id</th>\n",
       "      <th>name</th>\n",
       "      <th>age</th>\n",
       "      <th>city</th>\n",
       "      <th>subscription_type</th>\n",
       "      <th>distance</th>\n",
       "      <th>duration</th>\n",
       "      <th>date</th>\n",
       "      <th>month</th>\n",
       "    </tr>\n",
       "  </thead>\n",
       "  <tbody>\n",
       "    <tr>\n",
       "      <th>0</th>\n",
       "      <td>1</td>\n",
       "      <td>Кира</td>\n",
       "      <td>22</td>\n",
       "      <td>Тюмень</td>\n",
       "      <td>ultra</td>\n",
       "      <td>4409.919140</td>\n",
       "      <td>25.599769</td>\n",
       "      <td>2021-01-01</td>\n",
       "      <td>1</td>\n",
       "    </tr>\n",
       "    <tr>\n",
       "      <th>1</th>\n",
       "      <td>1</td>\n",
       "      <td>Кира</td>\n",
       "      <td>22</td>\n",
       "      <td>Тюмень</td>\n",
       "      <td>ultra</td>\n",
       "      <td>2617.592153</td>\n",
       "      <td>15.816871</td>\n",
       "      <td>2021-01-18</td>\n",
       "      <td>1</td>\n",
       "    </tr>\n",
       "    <tr>\n",
       "      <th>2</th>\n",
       "      <td>1</td>\n",
       "      <td>Кира</td>\n",
       "      <td>22</td>\n",
       "      <td>Тюмень</td>\n",
       "      <td>ultra</td>\n",
       "      <td>754.159807</td>\n",
       "      <td>6.232113</td>\n",
       "      <td>2021-04-20</td>\n",
       "      <td>4</td>\n",
       "    </tr>\n",
       "    <tr>\n",
       "      <th>3</th>\n",
       "      <td>1</td>\n",
       "      <td>Кира</td>\n",
       "      <td>22</td>\n",
       "      <td>Тюмень</td>\n",
       "      <td>ultra</td>\n",
       "      <td>2694.783254</td>\n",
       "      <td>18.511000</td>\n",
       "      <td>2021-08-11</td>\n",
       "      <td>8</td>\n",
       "    </tr>\n",
       "    <tr>\n",
       "      <th>4</th>\n",
       "      <td>1</td>\n",
       "      <td>Кира</td>\n",
       "      <td>22</td>\n",
       "      <td>Тюмень</td>\n",
       "      <td>ultra</td>\n",
       "      <td>4028.687306</td>\n",
       "      <td>26.265803</td>\n",
       "      <td>2021-08-28</td>\n",
       "      <td>8</td>\n",
       "    </tr>\n",
       "    <tr>\n",
       "      <th>5</th>\n",
       "      <td>1</td>\n",
       "      <td>Кира</td>\n",
       "      <td>22</td>\n",
       "      <td>Тюмень</td>\n",
       "      <td>ultra</td>\n",
       "      <td>2770.890808</td>\n",
       "      <td>16.650138</td>\n",
       "      <td>2021-10-09</td>\n",
       "      <td>10</td>\n",
       "    </tr>\n",
       "    <tr>\n",
       "      <th>6</th>\n",
       "      <td>1</td>\n",
       "      <td>Кира</td>\n",
       "      <td>22</td>\n",
       "      <td>Тюмень</td>\n",
       "      <td>ultra</td>\n",
       "      <td>3039.020292</td>\n",
       "      <td>14.927879</td>\n",
       "      <td>2021-10-19</td>\n",
       "      <td>10</td>\n",
       "    </tr>\n",
       "    <tr>\n",
       "      <th>7</th>\n",
       "      <td>1</td>\n",
       "      <td>Кира</td>\n",
       "      <td>22</td>\n",
       "      <td>Тюмень</td>\n",
       "      <td>ultra</td>\n",
       "      <td>2842.118050</td>\n",
       "      <td>23.117468</td>\n",
       "      <td>2021-11-06</td>\n",
       "      <td>11</td>\n",
       "    </tr>\n",
       "    <tr>\n",
       "      <th>8</th>\n",
       "      <td>1</td>\n",
       "      <td>Кира</td>\n",
       "      <td>22</td>\n",
       "      <td>Тюмень</td>\n",
       "      <td>ultra</td>\n",
       "      <td>3412.690668</td>\n",
       "      <td>15.238072</td>\n",
       "      <td>2021-11-14</td>\n",
       "      <td>11</td>\n",
       "    </tr>\n",
       "    <tr>\n",
       "      <th>9</th>\n",
       "      <td>1</td>\n",
       "      <td>Кира</td>\n",
       "      <td>22</td>\n",
       "      <td>Тюмень</td>\n",
       "      <td>ultra</td>\n",
       "      <td>748.690645</td>\n",
       "      <td>15.041884</td>\n",
       "      <td>2021-11-22</td>\n",
       "      <td>11</td>\n",
       "    </tr>\n",
       "  </tbody>\n",
       "</table>\n",
       "</div>"
      ],
      "text/plain": [
       "   user_id  name  age    city subscription_type     distance   duration  \\\n",
       "0        1  Кира   22  Тюмень             ultra  4409.919140  25.599769   \n",
       "1        1  Кира   22  Тюмень             ultra  2617.592153  15.816871   \n",
       "2        1  Кира   22  Тюмень             ultra   754.159807   6.232113   \n",
       "3        1  Кира   22  Тюмень             ultra  2694.783254  18.511000   \n",
       "4        1  Кира   22  Тюмень             ultra  4028.687306  26.265803   \n",
       "5        1  Кира   22  Тюмень             ultra  2770.890808  16.650138   \n",
       "6        1  Кира   22  Тюмень             ultra  3039.020292  14.927879   \n",
       "7        1  Кира   22  Тюмень             ultra  2842.118050  23.117468   \n",
       "8        1  Кира   22  Тюмень             ultra  3412.690668  15.238072   \n",
       "9        1  Кира   22  Тюмень             ultra   748.690645  15.041884   \n",
       "\n",
       "        date  month  \n",
       "0 2021-01-01      1  \n",
       "1 2021-01-18      1  \n",
       "2 2021-04-20      4  \n",
       "3 2021-08-11      8  \n",
       "4 2021-08-28      8  \n",
       "5 2021-10-09     10  \n",
       "6 2021-10-19     10  \n",
       "7 2021-11-06     11  \n",
       "8 2021-11-14     11  \n",
       "9 2021-11-22     11  "
      ]
     },
     "execution_count": 18,
     "metadata": {},
     "output_type": "execute_result"
    }
   ],
   "source": [
    "user_ride_data = user_data.merge(ride_data, on='user_id')\n",
    "user_ride_data.head(10)"
   ]
  },
  {
   "cell_type": "code",
   "execution_count": 19,
   "id": "87d6fd9c",
   "metadata": {},
   "outputs": [
    {
     "data": {
      "text/plain": [
       "count    18068.000000\n",
       "mean      3070.659976\n",
       "std       1116.831209\n",
       "min          0.855683\n",
       "25%       2543.226360\n",
       "50%       3133.609994\n",
       "75%       3776.222735\n",
       "max       7211.007745\n",
       "Name: distance, dtype: float64"
      ]
     },
     "metadata": {},
     "output_type": "display_data"
    },
    {
     "data": {
      "image/png": "[encoded data removed]",
      "text/plain": [
       "<Figure size 864x360 with 1 Axes>"
      ]
     },
     "metadata": {
      "needs_background": "light"
     },
     "output_type": "display_data"
    }
   ],
   "source": [
    "display(user_ride_data['distance'].describe())\n",
    "user_ride_data['distance'].hist(figsize=(12, 5), bins = 50);\n",
    "plt.title('Расстояние за одну поездку')\n",
    "plt.xlabel('Расстояние')\n",
    "plt.ylabel('Кол-во пользователей');"
   ]
  },
  {
   "cell_type": "markdown",
   "id": "3403c50b",
   "metadata": {},
   "source": [
    "В основном пользователи проезжают расстояние до 5км. Среднее расстояние 3070м."
   ]
  },
  {
   "cell_type": "code",
   "execution_count": 20,
   "id": "1718e412",
   "metadata": {},
   "outputs": [
    {
     "data": {
      "text/plain": [
       "count    18068.000000\n",
       "mean        17.805011\n",
       "std          6.091051\n",
       "min          0.500000\n",
       "25%         13.597563\n",
       "50%         17.678395\n",
       "75%         21.724800\n",
       "max         40.823963\n",
       "Name: duration, dtype: float64"
      ]
     },
     "metadata": {},
     "output_type": "display_data"
    },
    {
     "data": {
      "image/png": "[encoded data removed]",
      "text/plain": [
       "<Figure size 864x360 with 1 Axes>"
      ]
     },
     "metadata": {
      "needs_background": "light"
     },
     "output_type": "display_data"
    }
   ],
   "source": [
    "display(user_ride_data['duration'].describe())\n",
    "user_ride_data['duration'].hist(figsize=(12, 5), bins = 40);\n",
    "plt.title('Продолжительность поездок')\n",
    "plt.xlabel('Минут')\n",
    "plt.ylabel('Кол-во пользователей');"
   ]
  },
  {
   "cell_type": "markdown",
   "id": "ff44c50d",
   "metadata": {},
   "source": [
    "<div class=\"alert alert-info\">\n",
    "\n",
    "Вывод: Было проведенно небольшое исследование, из которого можно узнать, что больше всего пользуются самокатами в Пятигорске, Екатеринбурге, Ростове-на-Дону; основные пользователи - люди от 15 до 35; 45% пользователей имеют подписку; чаще всего поездки занимают от 5 до 30 минут на расстояние до 5км.\n",
    "    \n",
    "</div> "
   ]
  },
  {
   "cell_type": "markdown",
   "id": "4ef51331",
   "metadata": {},
   "source": [
    "#### Шаг 4. Объединение данных"
   ]
  },
  {
   "cell_type": "code",
   "execution_count": 21,
   "id": "6bf288b5",
   "metadata": {
    "scrolled": false
   },
   "outputs": [
    {
     "data": {
      "text/html": [
       "<div>\n",
       "<style scoped>\n",
       "    .dataframe tbody tr th:only-of-type {\n",
       "        vertical-align: middle;\n",
       "    }\n",
       "\n",
       "    .dataframe tbody tr th {\n",
       "        vertical-align: top;\n",
       "    }\n",
       "\n",
       "    .dataframe thead th {\n",
       "        text-align: right;\n",
       "    }\n",
       "</style>\n",
       "<table border=\"1\" class=\"dataframe\">\n",
       "  <thead>\n",
       "    <tr style=\"text-align: right;\">\n",
       "      <th></th>\n",
       "      <th>user_id</th>\n",
       "      <th>name</th>\n",
       "      <th>age</th>\n",
       "      <th>city</th>\n",
       "      <th>subscription_type</th>\n",
       "      <th>distance</th>\n",
       "      <th>duration</th>\n",
       "      <th>date</th>\n",
       "      <th>month</th>\n",
       "      <th>minute_price</th>\n",
       "      <th>start_ride_price</th>\n",
       "      <th>subscription_fee</th>\n",
       "    </tr>\n",
       "  </thead>\n",
       "  <tbody>\n",
       "    <tr>\n",
       "      <th>0</th>\n",
       "      <td>1</td>\n",
       "      <td>Кира</td>\n",
       "      <td>22</td>\n",
       "      <td>Тюмень</td>\n",
       "      <td>ultra</td>\n",
       "      <td>4409.919140</td>\n",
       "      <td>25.599769</td>\n",
       "      <td>2021-01-01</td>\n",
       "      <td>1</td>\n",
       "      <td>6</td>\n",
       "      <td>0</td>\n",
       "      <td>199</td>\n",
       "    </tr>\n",
       "    <tr>\n",
       "      <th>1</th>\n",
       "      <td>1</td>\n",
       "      <td>Кира</td>\n",
       "      <td>22</td>\n",
       "      <td>Тюмень</td>\n",
       "      <td>ultra</td>\n",
       "      <td>2617.592153</td>\n",
       "      <td>15.816871</td>\n",
       "      <td>2021-01-18</td>\n",
       "      <td>1</td>\n",
       "      <td>6</td>\n",
       "      <td>0</td>\n",
       "      <td>199</td>\n",
       "    </tr>\n",
       "    <tr>\n",
       "      <th>2</th>\n",
       "      <td>1</td>\n",
       "      <td>Кира</td>\n",
       "      <td>22</td>\n",
       "      <td>Тюмень</td>\n",
       "      <td>ultra</td>\n",
       "      <td>754.159807</td>\n",
       "      <td>6.232113</td>\n",
       "      <td>2021-04-20</td>\n",
       "      <td>4</td>\n",
       "      <td>6</td>\n",
       "      <td>0</td>\n",
       "      <td>199</td>\n",
       "    </tr>\n",
       "    <tr>\n",
       "      <th>3</th>\n",
       "      <td>1</td>\n",
       "      <td>Кира</td>\n",
       "      <td>22</td>\n",
       "      <td>Тюмень</td>\n",
       "      <td>ultra</td>\n",
       "      <td>2694.783254</td>\n",
       "      <td>18.511000</td>\n",
       "      <td>2021-08-11</td>\n",
       "      <td>8</td>\n",
       "      <td>6</td>\n",
       "      <td>0</td>\n",
       "      <td>199</td>\n",
       "    </tr>\n",
       "    <tr>\n",
       "      <th>4</th>\n",
       "      <td>1</td>\n",
       "      <td>Кира</td>\n",
       "      <td>22</td>\n",
       "      <td>Тюмень</td>\n",
       "      <td>ultra</td>\n",
       "      <td>4028.687306</td>\n",
       "      <td>26.265803</td>\n",
       "      <td>2021-08-28</td>\n",
       "      <td>8</td>\n",
       "      <td>6</td>\n",
       "      <td>0</td>\n",
       "      <td>199</td>\n",
       "    </tr>\n",
       "    <tr>\n",
       "      <th>5</th>\n",
       "      <td>1</td>\n",
       "      <td>Кира</td>\n",
       "      <td>22</td>\n",
       "      <td>Тюмень</td>\n",
       "      <td>ultra</td>\n",
       "      <td>2770.890808</td>\n",
       "      <td>16.650138</td>\n",
       "      <td>2021-10-09</td>\n",
       "      <td>10</td>\n",
       "      <td>6</td>\n",
       "      <td>0</td>\n",
       "      <td>199</td>\n",
       "    </tr>\n",
       "    <tr>\n",
       "      <th>6</th>\n",
       "      <td>1</td>\n",
       "      <td>Кира</td>\n",
       "      <td>22</td>\n",
       "      <td>Тюмень</td>\n",
       "      <td>ultra</td>\n",
       "      <td>3039.020292</td>\n",
       "      <td>14.927879</td>\n",
       "      <td>2021-10-19</td>\n",
       "      <td>10</td>\n",
       "      <td>6</td>\n",
       "      <td>0</td>\n",
       "      <td>199</td>\n",
       "    </tr>\n",
       "    <tr>\n",
       "      <th>7</th>\n",
       "      <td>1</td>\n",
       "      <td>Кира</td>\n",
       "      <td>22</td>\n",
       "      <td>Тюмень</td>\n",
       "      <td>ultra</td>\n",
       "      <td>2842.118050</td>\n",
       "      <td>23.117468</td>\n",
       "      <td>2021-11-06</td>\n",
       "      <td>11</td>\n",
       "      <td>6</td>\n",
       "      <td>0</td>\n",
       "      <td>199</td>\n",
       "    </tr>\n",
       "    <tr>\n",
       "      <th>8</th>\n",
       "      <td>1</td>\n",
       "      <td>Кира</td>\n",
       "      <td>22</td>\n",
       "      <td>Тюмень</td>\n",
       "      <td>ultra</td>\n",
       "      <td>3412.690668</td>\n",
       "      <td>15.238072</td>\n",
       "      <td>2021-11-14</td>\n",
       "      <td>11</td>\n",
       "      <td>6</td>\n",
       "      <td>0</td>\n",
       "      <td>199</td>\n",
       "    </tr>\n",
       "    <tr>\n",
       "      <th>9</th>\n",
       "      <td>1</td>\n",
       "      <td>Кира</td>\n",
       "      <td>22</td>\n",
       "      <td>Тюмень</td>\n",
       "      <td>ultra</td>\n",
       "      <td>748.690645</td>\n",
       "      <td>15.041884</td>\n",
       "      <td>2021-11-22</td>\n",
       "      <td>11</td>\n",
       "      <td>6</td>\n",
       "      <td>0</td>\n",
       "      <td>199</td>\n",
       "    </tr>\n",
       "    <tr>\n",
       "      <th>10</th>\n",
       "      <td>1</td>\n",
       "      <td>Кира</td>\n",
       "      <td>22</td>\n",
       "      <td>Тюмень</td>\n",
       "      <td>ultra</td>\n",
       "      <td>4031.020195</td>\n",
       "      <td>17.674448</td>\n",
       "      <td>2021-12-14</td>\n",
       "      <td>12</td>\n",
       "      <td>6</td>\n",
       "      <td>0</td>\n",
       "      <td>199</td>\n",
       "    </tr>\n",
       "    <tr>\n",
       "      <th>11</th>\n",
       "      <td>1</td>\n",
       "      <td>Кира</td>\n",
       "      <td>22</td>\n",
       "      <td>Тюмень</td>\n",
       "      <td>ultra</td>\n",
       "      <td>2720.609748</td>\n",
       "      <td>9.529463</td>\n",
       "      <td>2021-12-22</td>\n",
       "      <td>12</td>\n",
       "      <td>6</td>\n",
       "      <td>0</td>\n",
       "      <td>199</td>\n",
       "    </tr>\n",
       "    <tr>\n",
       "      <th>12</th>\n",
       "      <td>2</td>\n",
       "      <td>Станислав</td>\n",
       "      <td>31</td>\n",
       "      <td>Омск</td>\n",
       "      <td>ultra</td>\n",
       "      <td>3105.086678</td>\n",
       "      <td>24.307514</td>\n",
       "      <td>2021-03-15</td>\n",
       "      <td>3</td>\n",
       "      <td>6</td>\n",
       "      <td>0</td>\n",
       "      <td>199</td>\n",
       "    </tr>\n",
       "    <tr>\n",
       "      <th>13</th>\n",
       "      <td>2</td>\n",
       "      <td>Станислав</td>\n",
       "      <td>31</td>\n",
       "      <td>Омск</td>\n",
       "      <td>ultra</td>\n",
       "      <td>3053.519401</td>\n",
       "      <td>11.543256</td>\n",
       "      <td>2021-03-18</td>\n",
       "      <td>3</td>\n",
       "      <td>6</td>\n",
       "      <td>0</td>\n",
       "      <td>199</td>\n",
       "    </tr>\n",
       "    <tr>\n",
       "      <th>14</th>\n",
       "      <td>2</td>\n",
       "      <td>Станислав</td>\n",
       "      <td>31</td>\n",
       "      <td>Омск</td>\n",
       "      <td>ultra</td>\n",
       "      <td>4029.116927</td>\n",
       "      <td>25.109188</td>\n",
       "      <td>2021-03-23</td>\n",
       "      <td>3</td>\n",
       "      <td>6</td>\n",
       "      <td>0</td>\n",
       "      <td>199</td>\n",
       "    </tr>\n",
       "    <tr>\n",
       "      <th>15</th>\n",
       "      <td>2</td>\n",
       "      <td>Станислав</td>\n",
       "      <td>31</td>\n",
       "      <td>Омск</td>\n",
       "      <td>ultra</td>\n",
       "      <td>2805.786329</td>\n",
       "      <td>20.652145</td>\n",
       "      <td>2021-04-08</td>\n",
       "      <td>4</td>\n",
       "      <td>6</td>\n",
       "      <td>0</td>\n",
       "      <td>199</td>\n",
       "    </tr>\n",
       "    <tr>\n",
       "      <th>16</th>\n",
       "      <td>2</td>\n",
       "      <td>Станислав</td>\n",
       "      <td>31</td>\n",
       "      <td>Омск</td>\n",
       "      <td>ultra</td>\n",
       "      <td>3358.595495</td>\n",
       "      <td>18.396489</td>\n",
       "      <td>2021-04-13</td>\n",
       "      <td>4</td>\n",
       "      <td>6</td>\n",
       "      <td>0</td>\n",
       "      <td>199</td>\n",
       "    </tr>\n",
       "    <tr>\n",
       "      <th>17</th>\n",
       "      <td>2</td>\n",
       "      <td>Станислав</td>\n",
       "      <td>31</td>\n",
       "      <td>Омск</td>\n",
       "      <td>ultra</td>\n",
       "      <td>3255.338202</td>\n",
       "      <td>13.851127</td>\n",
       "      <td>2021-06-20</td>\n",
       "      <td>6</td>\n",
       "      <td>6</td>\n",
       "      <td>0</td>\n",
       "      <td>199</td>\n",
       "    </tr>\n",
       "    <tr>\n",
       "      <th>18</th>\n",
       "      <td>2</td>\n",
       "      <td>Станислав</td>\n",
       "      <td>31</td>\n",
       "      <td>Омск</td>\n",
       "      <td>ultra</td>\n",
       "      <td>3942.817648</td>\n",
       "      <td>20.142725</td>\n",
       "      <td>2021-07-02</td>\n",
       "      <td>7</td>\n",
       "      <td>6</td>\n",
       "      <td>0</td>\n",
       "      <td>199</td>\n",
       "    </tr>\n",
       "    <tr>\n",
       "      <th>19</th>\n",
       "      <td>2</td>\n",
       "      <td>Станислав</td>\n",
       "      <td>31</td>\n",
       "      <td>Омск</td>\n",
       "      <td>ultra</td>\n",
       "      <td>2837.905316</td>\n",
       "      <td>26.027432</td>\n",
       "      <td>2021-07-18</td>\n",
       "      <td>7</td>\n",
       "      <td>6</td>\n",
       "      <td>0</td>\n",
       "      <td>199</td>\n",
       "    </tr>\n",
       "  </tbody>\n",
       "</table>\n",
       "</div>"
      ],
      "text/plain": [
       "    user_id       name  age    city subscription_type     distance   duration  \\\n",
       "0         1       Кира   22  Тюмень             ultra  4409.919140  25.599769   \n",
       "1         1       Кира   22  Тюмень             ultra  2617.592153  15.816871   \n",
       "2         1       Кира   22  Тюмень             ultra   754.159807   6.232113   \n",
       "3         1       Кира   22  Тюмень             ultra  2694.783254  18.511000   \n",
       "4         1       Кира   22  Тюмень             ultra  4028.687306  26.265803   \n",
       "5         1       Кира   22  Тюмень             ultra  2770.890808  16.650138   \n",
       "6         1       Кира   22  Тюмень             ultra  3039.020292  14.927879   \n",
       "7         1       Кира   22  Тюмень             ultra  2842.118050  23.117468   \n",
       "8         1       Кира   22  Тюмень             ultra  3412.690668  15.238072   \n",
       "9         1       Кира   22  Тюмень             ultra   748.690645  15.041884   \n",
       "10        1       Кира   22  Тюмень             ultra  4031.020195  17.674448   \n",
       "11        1       Кира   22  Тюмень             ultra  2720.609748   9.529463   \n",
       "12        2  Станислав   31    Омск             ultra  3105.086678  24.307514   \n",
       "13        2  Станислав   31    Омск             ultra  3053.519401  11.543256   \n",
       "14        2  Станислав   31    Омск             ultra  4029.116927  25.109188   \n",
       "15        2  Станислав   31    Омск             ultra  2805.786329  20.652145   \n",
       "16        2  Станислав   31    Омск             ultra  3358.595495  18.396489   \n",
       "17        2  Станислав   31    Омск             ultra  3255.338202  13.851127   \n",
       "18        2  Станислав   31    Омск             ultra  3942.817648  20.142725   \n",
       "19        2  Станислав   31    Омск             ultra  2837.905316  26.027432   \n",
       "\n",
       "         date  month  minute_price  start_ride_price  subscription_fee  \n",
       "0  2021-01-01      1             6                 0               199  \n",
       "1  2021-01-18      1             6                 0               199  \n",
       "2  2021-04-20      4             6                 0               199  \n",
       "3  2021-08-11      8             6                 0               199  \n",
       "4  2021-08-28      8             6                 0               199  \n",
       "5  2021-10-09     10             6                 0               199  \n",
       "6  2021-10-19     10             6                 0               199  \n",
       "7  2021-11-06     11             6                 0               199  \n",
       "8  2021-11-14     11             6                 0               199  \n",
       "9  2021-11-22     11             6                 0               199  \n",
       "10 2021-12-14     12             6                 0               199  \n",
       "11 2021-12-22     12             6                 0               199  \n",
       "12 2021-03-15      3             6                 0               199  \n",
       "13 2021-03-18      3             6                 0               199  \n",
       "14 2021-03-23      3             6                 0               199  \n",
       "15 2021-04-08      4             6                 0               199  \n",
       "16 2021-04-13      4             6                 0               199  \n",
       "17 2021-06-20      6             6                 0               199  \n",
       "18 2021-07-02      7             6                 0               199  \n",
       "19 2021-07-18      7             6                 0               199  "
      ]
     },
     "execution_count": 21,
     "metadata": {},
     "output_type": "execute_result"
    }
   ],
   "source": [
    "data = user_ride_data.merge(sub_data, on='subscription_type')\n",
    "data.head(20)"
   ]
  },
  {
   "cell_type": "code",
   "execution_count": 22,
   "id": "7e85b95f",
   "metadata": {},
   "outputs": [
    {
     "data": {
      "text/plain": [
       "18068"
      ]
     },
     "metadata": {},
     "output_type": "display_data"
    },
    {
     "data": {
      "text/plain": [
       "user_id              0\n",
       "name                 0\n",
       "age                  0\n",
       "city                 0\n",
       "subscription_type    0\n",
       "distance             0\n",
       "duration             0\n",
       "date                 0\n",
       "month                0\n",
       "minute_price         0\n",
       "start_ride_price     0\n",
       "subscription_fee     0\n",
       "dtype: int64"
      ]
     },
     "execution_count": 22,
     "metadata": {},
     "output_type": "execute_result"
    }
   ],
   "source": [
    "display(len(data))\n",
    "data.isna().sum()"
   ]
  },
  {
   "cell_type": "markdown",
   "id": "c3c622de",
   "metadata": {},
   "source": [
    "Кол-во записей не изменилось. Пропуски не обнаружены."
   ]
  },
  {
   "cell_type": "code",
   "execution_count": 23,
   "id": "ef6bd9c0",
   "metadata": {},
   "outputs": [
    {
     "data": {
      "text/html": [
       "<div>\n",
       "<style scoped>\n",
       "    .dataframe tbody tr th:only-of-type {\n",
       "        vertical-align: middle;\n",
       "    }\n",
       "\n",
       "    .dataframe tbody tr th {\n",
       "        vertical-align: top;\n",
       "    }\n",
       "\n",
       "    .dataframe thead th {\n",
       "        text-align: right;\n",
       "    }\n",
       "</style>\n",
       "<table border=\"1\" class=\"dataframe\">\n",
       "  <thead>\n",
       "    <tr style=\"text-align: right;\">\n",
       "      <th></th>\n",
       "      <th>user_id</th>\n",
       "      <th>name</th>\n",
       "      <th>age</th>\n",
       "      <th>city</th>\n",
       "      <th>subscription_type</th>\n",
       "      <th>distance</th>\n",
       "      <th>duration</th>\n",
       "      <th>date</th>\n",
       "      <th>month</th>\n",
       "      <th>minute_price</th>\n",
       "      <th>start_ride_price</th>\n",
       "      <th>subscription_fee</th>\n",
       "    </tr>\n",
       "  </thead>\n",
       "  <tbody>\n",
       "    <tr>\n",
       "      <th>6500</th>\n",
       "      <td>700</td>\n",
       "      <td>Айдар</td>\n",
       "      <td>22</td>\n",
       "      <td>Омск</td>\n",
       "      <td>free</td>\n",
       "      <td>2515.690719</td>\n",
       "      <td>14.944286</td>\n",
       "      <td>2021-01-02</td>\n",
       "      <td>1</td>\n",
       "      <td>8</td>\n",
       "      <td>50</td>\n",
       "      <td>0</td>\n",
       "    </tr>\n",
       "    <tr>\n",
       "      <th>6501</th>\n",
       "      <td>700</td>\n",
       "      <td>Айдар</td>\n",
       "      <td>22</td>\n",
       "      <td>Омск</td>\n",
       "      <td>free</td>\n",
       "      <td>846.932642</td>\n",
       "      <td>16.234663</td>\n",
       "      <td>2021-02-01</td>\n",
       "      <td>2</td>\n",
       "      <td>8</td>\n",
       "      <td>50</td>\n",
       "      <td>0</td>\n",
       "    </tr>\n",
       "    <tr>\n",
       "      <th>6502</th>\n",
       "      <td>700</td>\n",
       "      <td>Айдар</td>\n",
       "      <td>22</td>\n",
       "      <td>Омск</td>\n",
       "      <td>free</td>\n",
       "      <td>4004.434142</td>\n",
       "      <td>20.016628</td>\n",
       "      <td>2021-02-04</td>\n",
       "      <td>2</td>\n",
       "      <td>8</td>\n",
       "      <td>50</td>\n",
       "      <td>0</td>\n",
       "    </tr>\n",
       "    <tr>\n",
       "      <th>6503</th>\n",
       "      <td>700</td>\n",
       "      <td>Айдар</td>\n",
       "      <td>22</td>\n",
       "      <td>Омск</td>\n",
       "      <td>free</td>\n",
       "      <td>1205.911290</td>\n",
       "      <td>9.782872</td>\n",
       "      <td>2021-02-10</td>\n",
       "      <td>2</td>\n",
       "      <td>8</td>\n",
       "      <td>50</td>\n",
       "      <td>0</td>\n",
       "    </tr>\n",
       "    <tr>\n",
       "      <th>6504</th>\n",
       "      <td>700</td>\n",
       "      <td>Айдар</td>\n",
       "      <td>22</td>\n",
       "      <td>Омск</td>\n",
       "      <td>free</td>\n",
       "      <td>3047.379435</td>\n",
       "      <td>17.427673</td>\n",
       "      <td>2021-02-14</td>\n",
       "      <td>2</td>\n",
       "      <td>8</td>\n",
       "      <td>50</td>\n",
       "      <td>0</td>\n",
       "    </tr>\n",
       "  </tbody>\n",
       "</table>\n",
       "</div>"
      ],
      "text/plain": [
       "      user_id   name  age  city subscription_type     distance   duration  \\\n",
       "6500      700  Айдар   22  Омск              free  2515.690719  14.944286   \n",
       "6501      700  Айдар   22  Омск              free   846.932642  16.234663   \n",
       "6502      700  Айдар   22  Омск              free  4004.434142  20.016628   \n",
       "6503      700  Айдар   22  Омск              free  1205.911290   9.782872   \n",
       "6504      700  Айдар   22  Омск              free  3047.379435  17.427673   \n",
       "\n",
       "           date  month  minute_price  start_ride_price  subscription_fee  \n",
       "6500 2021-01-02      1             8                50                 0  \n",
       "6501 2021-02-01      2             8                50                 0  \n",
       "6502 2021-02-04      2             8                50                 0  \n",
       "6503 2021-02-10      2             8                50                 0  \n",
       "6504 2021-02-14      2             8                50                 0  "
      ]
     },
     "execution_count": 23,
     "metadata": {},
     "output_type": "execute_result"
    }
   ],
   "source": [
    "free_data = data.query('subscription_type == \"free\"')\n",
    "free_data.head()"
   ]
  },
  {
   "cell_type": "code",
   "execution_count": 24,
   "id": "e3908af5",
   "metadata": {},
   "outputs": [
    {
     "data": {
      "text/html": [
       "<div>\n",
       "<style scoped>\n",
       "    .dataframe tbody tr th:only-of-type {\n",
       "        vertical-align: middle;\n",
       "    }\n",
       "\n",
       "    .dataframe tbody tr th {\n",
       "        vertical-align: top;\n",
       "    }\n",
       "\n",
       "    .dataframe thead th {\n",
       "        text-align: right;\n",
       "    }\n",
       "</style>\n",
       "<table border=\"1\" class=\"dataframe\">\n",
       "  <thead>\n",
       "    <tr style=\"text-align: right;\">\n",
       "      <th></th>\n",
       "      <th>user_id</th>\n",
       "      <th>name</th>\n",
       "      <th>age</th>\n",
       "      <th>city</th>\n",
       "      <th>subscription_type</th>\n",
       "      <th>distance</th>\n",
       "      <th>duration</th>\n",
       "      <th>date</th>\n",
       "      <th>month</th>\n",
       "      <th>minute_price</th>\n",
       "      <th>start_ride_price</th>\n",
       "      <th>subscription_fee</th>\n",
       "    </tr>\n",
       "  </thead>\n",
       "  <tbody>\n",
       "    <tr>\n",
       "      <th>0</th>\n",
       "      <td>1</td>\n",
       "      <td>Кира</td>\n",
       "      <td>22</td>\n",
       "      <td>Тюмень</td>\n",
       "      <td>ultra</td>\n",
       "      <td>4409.919140</td>\n",
       "      <td>25.599769</td>\n",
       "      <td>2021-01-01</td>\n",
       "      <td>1</td>\n",
       "      <td>6</td>\n",
       "      <td>0</td>\n",
       "      <td>199</td>\n",
       "    </tr>\n",
       "    <tr>\n",
       "      <th>1</th>\n",
       "      <td>1</td>\n",
       "      <td>Кира</td>\n",
       "      <td>22</td>\n",
       "      <td>Тюмень</td>\n",
       "      <td>ultra</td>\n",
       "      <td>2617.592153</td>\n",
       "      <td>15.816871</td>\n",
       "      <td>2021-01-18</td>\n",
       "      <td>1</td>\n",
       "      <td>6</td>\n",
       "      <td>0</td>\n",
       "      <td>199</td>\n",
       "    </tr>\n",
       "    <tr>\n",
       "      <th>2</th>\n",
       "      <td>1</td>\n",
       "      <td>Кира</td>\n",
       "      <td>22</td>\n",
       "      <td>Тюмень</td>\n",
       "      <td>ultra</td>\n",
       "      <td>754.159807</td>\n",
       "      <td>6.232113</td>\n",
       "      <td>2021-04-20</td>\n",
       "      <td>4</td>\n",
       "      <td>6</td>\n",
       "      <td>0</td>\n",
       "      <td>199</td>\n",
       "    </tr>\n",
       "    <tr>\n",
       "      <th>3</th>\n",
       "      <td>1</td>\n",
       "      <td>Кира</td>\n",
       "      <td>22</td>\n",
       "      <td>Тюмень</td>\n",
       "      <td>ultra</td>\n",
       "      <td>2694.783254</td>\n",
       "      <td>18.511000</td>\n",
       "      <td>2021-08-11</td>\n",
       "      <td>8</td>\n",
       "      <td>6</td>\n",
       "      <td>0</td>\n",
       "      <td>199</td>\n",
       "    </tr>\n",
       "    <tr>\n",
       "      <th>4</th>\n",
       "      <td>1</td>\n",
       "      <td>Кира</td>\n",
       "      <td>22</td>\n",
       "      <td>Тюмень</td>\n",
       "      <td>ultra</td>\n",
       "      <td>4028.687306</td>\n",
       "      <td>26.265803</td>\n",
       "      <td>2021-08-28</td>\n",
       "      <td>8</td>\n",
       "      <td>6</td>\n",
       "      <td>0</td>\n",
       "      <td>199</td>\n",
       "    </tr>\n",
       "  </tbody>\n",
       "</table>\n",
       "</div>"
      ],
      "text/plain": [
       "   user_id  name  age    city subscription_type     distance   duration  \\\n",
       "0        1  Кира   22  Тюмень             ultra  4409.919140  25.599769   \n",
       "1        1  Кира   22  Тюмень             ultra  2617.592153  15.816871   \n",
       "2        1  Кира   22  Тюмень             ultra   754.159807   6.232113   \n",
       "3        1  Кира   22  Тюмень             ultra  2694.783254  18.511000   \n",
       "4        1  Кира   22  Тюмень             ultra  4028.687306  26.265803   \n",
       "\n",
       "        date  month  minute_price  start_ride_price  subscription_fee  \n",
       "0 2021-01-01      1             6                 0               199  \n",
       "1 2021-01-18      1             6                 0               199  \n",
       "2 2021-04-20      4             6                 0               199  \n",
       "3 2021-08-11      8             6                 0               199  \n",
       "4 2021-08-28      8             6                 0               199  "
      ]
     },
     "metadata": {},
     "output_type": "display_data"
    }
   ],
   "source": [
    "ultra_data = data.query('subscription_type == \"ultra\"')\n",
    "display(ultra_data.head())"
   ]
  },
  {
   "cell_type": "code",
   "execution_count": 25,
   "id": "8b402748",
   "metadata": {},
   "outputs": [
    {
     "data": {
      "text/plain": [
       "count    6500.000000\n",
       "mean     3115.445388\n",
       "std       836.895330\n",
       "min       244.210438\n",
       "25%      2785.444017\n",
       "50%      3148.637229\n",
       "75%      3560.574425\n",
       "max      5699.769662\n",
       "Name: distance, dtype: float64"
      ]
     },
     "metadata": {},
     "output_type": "display_data"
    },
    {
     "data": {
      "text/plain": [
       "count    11568.000000\n",
       "mean      3045.495282\n",
       "std       1246.173806\n",
       "min          0.855683\n",
       "25%       2366.562689\n",
       "50%       3114.648465\n",
       "75%       3905.697894\n",
       "max       7211.007745\n",
       "Name: distance, dtype: float64"
      ]
     },
     "metadata": {},
     "output_type": "display_data"
    }
   ],
   "source": [
    "display(ultra_data['distance'].describe())\n",
    "display(free_data['distance'].describe())"
   ]
  },
  {
   "cell_type": "code",
   "execution_count": 26,
   "id": "97e04092",
   "metadata": {},
   "outputs": [
    {
     "data": {
      "image/png": "[encoded data removed]",
      "text/plain": [
       "<Figure size 864x360 with 1 Axes>"
      ]
     },
     "metadata": {
      "needs_background": "light"
     },
     "output_type": "display_data"
    }
   ],
   "source": [
    "free_data['distance'].hist(figsize=(12, 5), bins=40, label='free');\n",
    "ultra_data['distance'].hist(figsize=(12, 5), bins=40, label='ultra', alpha=0.8);\n",
    "plt.title('Расстояние за одну поездку')\n",
    "plt.xlabel('Расстояние')\n",
    "plt.ylabel('Кол-во пользователей')\n",
    "plt.legend(loc='upper right')\n",
    "plt.show();"
   ]
  },
  {
   "cell_type": "code",
   "execution_count": 27,
   "id": "9469d6ac",
   "metadata": {},
   "outputs": [
    {
     "data": {
      "text/plain": [
       "count    6500.000000\n",
       "mean       18.541985\n",
       "std         5.572048\n",
       "min         3.760353\n",
       "25%        14.524654\n",
       "50%        18.178153\n",
       "75%        21.884129\n",
       "max        40.823963\n",
       "Name: duration, dtype: float64"
      ]
     },
     "metadata": {},
     "output_type": "display_data"
    },
    {
     "data": {
      "text/plain": [
       "count    11568.000000\n",
       "mean        17.390909\n",
       "std          6.326803\n",
       "min          0.500000\n",
       "25%         12.958437\n",
       "50%         17.326890\n",
       "75%         21.594071\n",
       "max         34.948498\n",
       "Name: duration, dtype: float64"
      ]
     },
     "metadata": {},
     "output_type": "display_data"
    }
   ],
   "source": [
    "display(ultra_data['duration'].describe())\n",
    "display(free_data['duration'].describe())"
   ]
  },
  {
   "cell_type": "code",
   "execution_count": 28,
   "id": "74ff6967",
   "metadata": {
    "scrolled": true
   },
   "outputs": [
    {
     "data": {
      "image/png": "[encoded data removed]",
      "text/plain": [
       "<Figure size 864x360 with 1 Axes>"
      ]
     },
     "metadata": {
      "needs_background": "light"
     },
     "output_type": "display_data"
    }
   ],
   "source": [
    "free_data['duration'].hist(figsize=(12, 5), bins=40, label='free');\n",
    "ultra_data['duration'].hist(figsize=(12, 5), bins=40, label='ultra', alpha=0.8);\n",
    "plt.title('Продолжительность поездок')\n",
    "plt.xlabel('Минут')\n",
    "plt.ylabel('Кол-во пользователей');\n",
    "plt.legend(loc='upper right')\n",
    "plt.show();"
   ]
  },
  {
   "cell_type": "markdown",
   "id": "3581e02e",
   "metadata": {},
   "source": [
    "<div class=\"alert alert-info\">\n",
    "\n",
    "Вывод: По графикам можно заметить, что больше поездок совершают люди без подписки. \n",
    "- Данные по дистанции представленны до 7км. Пользователи с подпиской имеют меньше диапазон расстояния, но короткие поездки чаще совершают пользователи без подписки. Для пользователей с подпиской среднее значение 3115м и медиана 3148м, а без подписки среднее 3045м и медиана 3134м.\n",
    "- Данные по длительности представленны до 40 минут. Разброс у пользователей с подпиской чуть больше. Для пользователей с подпиской среднее значение и медиана 19 мин, а без подписки среднее и медиана 17 минут.\n",
    "- Графики не сильно отличаются друг от друга.\n"
   ]
  },
  {
   "cell_type": "markdown",
   "id": "402d620f",
   "metadata": {},
   "source": [
    "#### Шаг 5. Подсчёт выручки"
   ]
  },
  {
   "cell_type": "code",
   "execution_count": 29,
   "id": "9d2a3947",
   "metadata": {
    "scrolled": true
   },
   "outputs": [
    {
     "data": {
      "text/html": [
       "<div>\n",
       "<style scoped>\n",
       "    .dataframe tbody tr th:only-of-type {\n",
       "        vertical-align: middle;\n",
       "    }\n",
       "\n",
       "    .dataframe tbody tr th {\n",
       "        vertical-align: top;\n",
       "    }\n",
       "\n",
       "    .dataframe thead th {\n",
       "        text-align: right;\n",
       "    }\n",
       "</style>\n",
       "<table border=\"1\" class=\"dataframe\">\n",
       "  <thead>\n",
       "    <tr style=\"text-align: right;\">\n",
       "      <th></th>\n",
       "      <th></th>\n",
       "      <th>duration</th>\n",
       "      <th>distance</th>\n",
       "      <th>count</th>\n",
       "      <th>subscription_type</th>\n",
       "    </tr>\n",
       "    <tr>\n",
       "      <th>user_id</th>\n",
       "      <th>month</th>\n",
       "      <th></th>\n",
       "      <th></th>\n",
       "      <th></th>\n",
       "      <th></th>\n",
       "    </tr>\n",
       "  </thead>\n",
       "  <tbody>\n",
       "    <tr>\n",
       "      <th rowspan=\"6\" valign=\"top\">1</th>\n",
       "      <th>1</th>\n",
       "      <td>42</td>\n",
       "      <td>7027.511294</td>\n",
       "      <td>2</td>\n",
       "      <td>ultra</td>\n",
       "    </tr>\n",
       "    <tr>\n",
       "      <th>4</th>\n",
       "      <td>7</td>\n",
       "      <td>754.159807</td>\n",
       "      <td>1</td>\n",
       "      <td>ultra</td>\n",
       "    </tr>\n",
       "    <tr>\n",
       "      <th>8</th>\n",
       "      <td>46</td>\n",
       "      <td>6723.470560</td>\n",
       "      <td>2</td>\n",
       "      <td>ultra</td>\n",
       "    </tr>\n",
       "    <tr>\n",
       "      <th>10</th>\n",
       "      <td>32</td>\n",
       "      <td>5809.911100</td>\n",
       "      <td>2</td>\n",
       "      <td>ultra</td>\n",
       "    </tr>\n",
       "    <tr>\n",
       "      <th>11</th>\n",
       "      <td>56</td>\n",
       "      <td>7003.499363</td>\n",
       "      <td>3</td>\n",
       "      <td>ultra</td>\n",
       "    </tr>\n",
       "    <tr>\n",
       "      <th>12</th>\n",
       "      <td>28</td>\n",
       "      <td>6751.629942</td>\n",
       "      <td>2</td>\n",
       "      <td>ultra</td>\n",
       "    </tr>\n",
       "    <tr>\n",
       "      <th rowspan=\"4\" valign=\"top\">2</th>\n",
       "      <th>3</th>\n",
       "      <td>63</td>\n",
       "      <td>10187.723006</td>\n",
       "      <td>3</td>\n",
       "      <td>ultra</td>\n",
       "    </tr>\n",
       "    <tr>\n",
       "      <th>4</th>\n",
       "      <td>40</td>\n",
       "      <td>6164.381824</td>\n",
       "      <td>2</td>\n",
       "      <td>ultra</td>\n",
       "    </tr>\n",
       "    <tr>\n",
       "      <th>6</th>\n",
       "      <td>14</td>\n",
       "      <td>3255.338202</td>\n",
       "      <td>1</td>\n",
       "      <td>ultra</td>\n",
       "    </tr>\n",
       "    <tr>\n",
       "      <th>7</th>\n",
       "      <td>48</td>\n",
       "      <td>6780.722964</td>\n",
       "      <td>2</td>\n",
       "      <td>ultra</td>\n",
       "    </tr>\n",
       "  </tbody>\n",
       "</table>\n",
       "</div>"
      ],
      "text/plain": [
       "               duration      distance  count subscription_type\n",
       "user_id month                                                 \n",
       "1       1            42   7027.511294      2             ultra\n",
       "        4             7    754.159807      1             ultra\n",
       "        8            46   6723.470560      2             ultra\n",
       "        10           32   5809.911100      2             ultra\n",
       "        11           56   7003.499363      3             ultra\n",
       "        12           28   6751.629942      2             ultra\n",
       "2       3            63  10187.723006      3             ultra\n",
       "        4            40   6164.381824      2             ultra\n",
       "        6            14   3255.338202      1             ultra\n",
       "        7            48   6780.722964      2             ultra"
      ]
     },
     "execution_count": 29,
     "metadata": {},
     "output_type": "execute_result"
    }
   ],
   "source": [
    "data['duration'] = np.ceil(data['duration']).astype(int)\n",
    "data_stat = (data.groupby(['user_id', 'month'])\n",
    "             .agg({'duration':'sum', 'distance':['sum', 'count'],\n",
    "                   'subscription_type':'first'}))\n",
    "data_stat.columns = ['duration', 'distance', 'count', 'subscription_type']\n",
    "data_stat.head(10)"
   ]
  },
  {
   "cell_type": "code",
   "execution_count": 30,
   "id": "a5ec64f8",
   "metadata": {
    "scrolled": true
   },
   "outputs": [
    {
     "data": {
      "text/html": [
       "<div>\n",
       "<style scoped>\n",
       "    .dataframe tbody tr th:only-of-type {\n",
       "        vertical-align: middle;\n",
       "    }\n",
       "\n",
       "    .dataframe tbody tr th {\n",
       "        vertical-align: top;\n",
       "    }\n",
       "\n",
       "    .dataframe thead th {\n",
       "        text-align: right;\n",
       "    }\n",
       "</style>\n",
       "<table border=\"1\" class=\"dataframe\">\n",
       "  <thead>\n",
       "    <tr style=\"text-align: right;\">\n",
       "      <th></th>\n",
       "      <th></th>\n",
       "      <th>duration</th>\n",
       "      <th>distance</th>\n",
       "      <th>count</th>\n",
       "      <th>subscription_type</th>\n",
       "      <th>income</th>\n",
       "    </tr>\n",
       "    <tr>\n",
       "      <th>user_id</th>\n",
       "      <th>month</th>\n",
       "      <th></th>\n",
       "      <th></th>\n",
       "      <th></th>\n",
       "      <th></th>\n",
       "      <th></th>\n",
       "    </tr>\n",
       "  </thead>\n",
       "  <tbody>\n",
       "    <tr>\n",
       "      <th rowspan=\"6\" valign=\"top\">1</th>\n",
       "      <th>1</th>\n",
       "      <td>42</td>\n",
       "      <td>7027.511294</td>\n",
       "      <td>2</td>\n",
       "      <td>ultra</td>\n",
       "      <td>451</td>\n",
       "    </tr>\n",
       "    <tr>\n",
       "      <th>4</th>\n",
       "      <td>7</td>\n",
       "      <td>754.159807</td>\n",
       "      <td>1</td>\n",
       "      <td>ultra</td>\n",
       "      <td>241</td>\n",
       "    </tr>\n",
       "    <tr>\n",
       "      <th>8</th>\n",
       "      <td>46</td>\n",
       "      <td>6723.470560</td>\n",
       "      <td>2</td>\n",
       "      <td>ultra</td>\n",
       "      <td>475</td>\n",
       "    </tr>\n",
       "    <tr>\n",
       "      <th>10</th>\n",
       "      <td>32</td>\n",
       "      <td>5809.911100</td>\n",
       "      <td>2</td>\n",
       "      <td>ultra</td>\n",
       "      <td>391</td>\n",
       "    </tr>\n",
       "    <tr>\n",
       "      <th>11</th>\n",
       "      <td>56</td>\n",
       "      <td>7003.499363</td>\n",
       "      <td>3</td>\n",
       "      <td>ultra</td>\n",
       "      <td>535</td>\n",
       "    </tr>\n",
       "    <tr>\n",
       "      <th>12</th>\n",
       "      <td>28</td>\n",
       "      <td>6751.629942</td>\n",
       "      <td>2</td>\n",
       "      <td>ultra</td>\n",
       "      <td>367</td>\n",
       "    </tr>\n",
       "    <tr>\n",
       "      <th rowspan=\"4\" valign=\"top\">2</th>\n",
       "      <th>3</th>\n",
       "      <td>63</td>\n",
       "      <td>10187.723006</td>\n",
       "      <td>3</td>\n",
       "      <td>ultra</td>\n",
       "      <td>577</td>\n",
       "    </tr>\n",
       "    <tr>\n",
       "      <th>4</th>\n",
       "      <td>40</td>\n",
       "      <td>6164.381824</td>\n",
       "      <td>2</td>\n",
       "      <td>ultra</td>\n",
       "      <td>439</td>\n",
       "    </tr>\n",
       "    <tr>\n",
       "      <th>6</th>\n",
       "      <td>14</td>\n",
       "      <td>3255.338202</td>\n",
       "      <td>1</td>\n",
       "      <td>ultra</td>\n",
       "      <td>283</td>\n",
       "    </tr>\n",
       "    <tr>\n",
       "      <th>7</th>\n",
       "      <td>48</td>\n",
       "      <td>6780.722964</td>\n",
       "      <td>2</td>\n",
       "      <td>ultra</td>\n",
       "      <td>487</td>\n",
       "    </tr>\n",
       "  </tbody>\n",
       "</table>\n",
       "</div>"
      ],
      "text/plain": [
       "               duration      distance  count subscription_type  income\n",
       "user_id month                                                         \n",
       "1       1            42   7027.511294      2             ultra     451\n",
       "        4             7    754.159807      1             ultra     241\n",
       "        8            46   6723.470560      2             ultra     475\n",
       "        10           32   5809.911100      2             ultra     391\n",
       "        11           56   7003.499363      3             ultra     535\n",
       "        12           28   6751.629942      2             ultra     367\n",
       "2       3            63  10187.723006      3             ultra     577\n",
       "        4            40   6164.381824      2             ultra     439\n",
       "        6            14   3255.338202      1             ultra     283\n",
       "        7            48   6780.722964      2             ultra     487"
      ]
     },
     "execution_count": 30,
     "metadata": {},
     "output_type": "execute_result"
    }
   ],
   "source": [
    "def income_count(row):\n",
    "    if row['subscription_type'] == 'ultra':\n",
    "        return row['duration'] * 6 + 199\n",
    "    else:\n",
    "        return row['duration'] * 8 + row['count'] * 50\n",
    " \n",
    "data_stat['income'] = data_stat.apply(income_count, axis=1)\n",
    "data_stat.head(10)"
   ]
  },
  {
   "cell_type": "markdown",
   "id": "41545ac0",
   "metadata": {},
   "source": [
    "#### Шаг 6. Проверка гипотез"
   ]
  },
  {
   "cell_type": "markdown",
   "id": "1186e2c0",
   "metadata": {},
   "source": [
    "Нулевая гипотеза: длительность поездок у пользователей с подпиской = длительность поездок у пользователей без подписки.\n",
    "Альтернативная гипотеза: длительность поездок у пользователей с подпиской > длительность поездок у пользователей без подписки."
   ]
  },
  {
   "cell_type": "code",
   "execution_count": 31,
   "id": "cce05d6e",
   "metadata": {},
   "outputs": [
    {
     "data": {
      "text/plain": [
       "18.54198516280583"
      ]
     },
     "metadata": {},
     "output_type": "display_data"
    },
    {
     "data": {
      "text/plain": [
       "17.39090929866399"
      ]
     },
     "metadata": {},
     "output_type": "display_data"
    }
   ],
   "source": [
    "display(ultra_data['duration'].mean())\n",
    "display(free_data['duration'].mean())"
   ]
  },
  {
   "cell_type": "code",
   "execution_count": 32,
   "id": "b5f5754f",
   "metadata": {
    "scrolled": true
   },
   "outputs": [
    {
     "name": "stdout",
     "output_type": "stream",
     "text": [
      "p-value: 1.2804098316645618e-34\n",
      "Отвергаем нулевую гипотезу\n"
     ]
    }
   ],
   "source": [
    "alpha = 0.05\n",
    "dur_results = st.ttest_ind(ultra_data['duration'], free_data['duration'], alternative='greater')\n",
    "print('p-value:', dur_results.pvalue)\n",
    "if dur_results.pvalue < alpha:\n",
    "    print('Отвергаем нулевую гипотезу')\n",
    "else:\n",
    "    print('Нет оснований отвергнуть нулевую гипотезу')"
   ]
  },
  {
   "cell_type": "markdown",
   "id": "d3d0cbe2",
   "metadata": {},
   "source": [
    "<div class=\"alert alert-info\">\n",
    "\n",
    "Вывод: Нулевая гипотеза отвергнута в пользу альтернативной. Есть основания говорить, что пользователи с подпиской тратят больше времени на поездки.\n",
    "</div> "
   ]
  },
  {
   "cell_type": "markdown",
   "id": "71be15f6",
   "metadata": {},
   "source": [
    "Нулевая гипотеза: среднее расстояние пользователя с подпиской = 3130.\n",
    "Альтернативная гипотеза: выходит ли за предел (среднее расстояние пользователя с подпиской > 3130)."
   ]
  },
  {
   "cell_type": "code",
   "execution_count": 33,
   "id": "474e8292",
   "metadata": {},
   "outputs": [
    {
     "data": {
      "text/plain": [
       "3115.4453880370247"
      ]
     },
     "execution_count": 33,
     "metadata": {},
     "output_type": "execute_result"
    }
   ],
   "source": [
    "ultra_data['distance'].mean()"
   ]
  },
  {
   "cell_type": "code",
   "execution_count": 34,
   "id": "19b2588f",
   "metadata": {
    "scrolled": true
   },
   "outputs": [
    {
     "name": "stdout",
     "output_type": "stream",
     "text": [
      "p-value: 0.9195368847849785\n",
      "Нет оснований отвергнуть нулевую гипотезу\n"
     ]
    }
   ],
   "source": [
    "one_ride = 3130\n",
    "dist_results = st.ttest_1samp(ultra_data['distance'], one_ride, alternative='greater')\n",
    "print('p-value:', dist_results.pvalue)\n",
    "if dist_results.pvalue < alpha:\n",
    "    print('Отвергаем нулевую гипотезу')\n",
    "else:\n",
    "    print('Нет оснований отвергнуть нулевую гипотезу')"
   ]
  },
  {
   "cell_type": "markdown",
   "id": "f187aece",
   "metadata": {},
   "source": [
    "<div class=\"alert alert-info\">\n",
    "\n",
    "Вывод: Не получилось отвергнуть нулевую гипотезу. Есть основания говорить, что среднее расстояние в пути пользователя с подпиской не превышает 3130м.\n",
    "</div>  "
   ]
  },
  {
   "cell_type": "markdown",
   "id": "5d9abbcb",
   "metadata": {},
   "source": [
    "Нулевая гипотеза: помесячная выручка от пользователей с подпиской по месяцам = выручка от пользователей без подписки.\n",
    "Альтернативная гипотеза: помесячная выручка от пользователей с подпиской по месяцам > выручка от пользователей без подписки."
   ]
  },
  {
   "cell_type": "code",
   "execution_count": 35,
   "id": "3e6e1ed8",
   "metadata": {},
   "outputs": [
    {
     "name": "stdout",
     "output_type": "stream",
     "text": [
      "p-value: 1.8850394384715216e-31\n",
      "Отвергаем нулевую гипотезу\n"
     ]
    }
   ],
   "source": [
    "ultra_samp = data_stat.query('subscription_type == \"ultra\"')['income']\n",
    "free_samp = data_stat.query('subscription_type == \"free\"')['income']\n",
    "income_results = st.ttest_ind(ultra_samp, free_samp, alternative='greater')\n",
    "print('p-value:', income_results.pvalue)\n",
    "if income_results.pvalue < alpha:\n",
    "    print('Отвергаем нулевую гипотезу')\n",
    "else:\n",
    "    print('Нет оснований отвергнуть нулевую гипотезу')"
   ]
  },
  {
   "cell_type": "markdown",
   "id": "d790a578",
   "metadata": {},
   "source": [
    "<div class=\"alert alert-info\">\n",
    "\n",
    "Вывод: Отвергаем нулевую гипотезу в пользу альтернативной. Есть основания говорить, что помесячная выручка от пользователей с подпиской больше.\n",
    "</div> "
   ]
  },
  {
   "cell_type": "markdown",
   "id": "1da6fb5e",
   "metadata": {},
   "source": [
    "#### Шаг 7. Распределения"
   ]
  },
  {
   "cell_type": "markdown",
   "id": "b3390902",
   "metadata": {},
   "source": [
    "<div class=\"alert alert-info\">\n",
    "<font size=\"4\", color = \"black\"><b>Вывод</b></font>\n",
    "    <br /> \n",
    "    <font size=\"3\", color = \"black\">\n",
    "<br /> Нужно было проанализировать данные о некоторых пользователях и проверить несколько гипотез. В полученных данных встретилось небольшое кол-во дупликатов. Пропусков в данных не было. В ходе работы нужно было объединить все датафреймы в один. Выяснилось, что чаще всего пользуются сервисом люди от 15 до 35. Самое большое кол-во пользователей из Пятигорска, Екатеринбурга, Ростова-на-Дону, а вот наименьшее в Москве. На поездку у пользователей в основном уходит от 5 до 30 минут. Люди с подпиской в среднем больше проезжают и проводят времени в поездке (3115м, 19 мин), чем люди без подписки (3045м, 17 мин). Были проверены несколько гипотез, благодаря которым можно сделать вывод, что пользователи с подпиской приносят больше денег сервису, больше проводят времени в поездке. Также можно сказать, что пользователи с подпиской проезжают в среднем расстояние не выходящее за пределы оптимального износа самоката (3130м)."
   ]
  }
 ],
 "metadata": {
  "ExecuteTimeLog": [
   {
    "duration": 427,
    "start_time": "2024-08-30T14:08:06.556Z"
   },
   {
    "duration": 85,
    "start_time": "2024-08-30T14:08:08.479Z"
   },
   {
    "duration": 170,
    "start_time": "2024-08-30T14:08:10.709Z"
   },
   {
    "duration": 71,
    "start_time": "2024-08-30T14:08:11.392Z"
   },
   {
    "duration": 42,
    "start_time": "2024-08-30T14:09:13.281Z"
   },
   {
    "duration": 55,
    "start_time": "2024-08-30T14:10:06.117Z"
   },
   {
    "duration": 38,
    "start_time": "2024-08-30T14:10:10.230Z"
   },
   {
    "duration": 78,
    "start_time": "2024-08-30T14:15:23.140Z"
   },
   {
    "duration": 13,
    "start_time": "2024-08-30T14:15:38.896Z"
   },
   {
    "duration": 65,
    "start_time": "2024-08-30T14:15:58.789Z"
   },
   {
    "duration": 9,
    "start_time": "2024-08-30T14:43:50.204Z"
   },
   {
    "duration": 12,
    "start_time": "2024-08-30T14:43:58.656Z"
   },
   {
    "duration": 22,
    "start_time": "2024-08-30T14:44:16.891Z"
   },
   {
    "duration": 6,
    "start_time": "2024-08-30T14:45:04.143Z"
   },
   {
    "duration": 6,
    "start_time": "2024-08-30T14:45:21.856Z"
   },
   {
    "duration": 7,
    "start_time": "2024-08-30T14:45:49.037Z"
   },
   {
    "duration": 4,
    "start_time": "2024-08-30T14:47:42.474Z"
   },
   {
    "duration": 15,
    "start_time": "2024-08-30T14:49:32.629Z"
   },
   {
    "duration": 18,
    "start_time": "2024-08-30T14:50:22.826Z"
   },
   {
    "duration": 13,
    "start_time": "2024-08-30T14:50:57.425Z"
   },
   {
    "duration": 992,
    "start_time": "2024-08-30T14:52:06.091Z"
   },
   {
    "duration": 173,
    "start_time": "2024-08-30T14:52:40.207Z"
   },
   {
    "duration": 56,
    "start_time": "2024-08-30T14:53:08.461Z"
   },
   {
    "duration": 161,
    "start_time": "2024-08-30T14:53:23.297Z"
   },
   {
    "duration": 164,
    "start_time": "2024-08-30T14:53:39.525Z"
   },
   {
    "duration": 172,
    "start_time": "2024-08-30T14:53:50.026Z"
   },
   {
    "duration": 186,
    "start_time": "2024-08-30T14:54:22.185Z"
   },
   {
    "duration": 241,
    "start_time": "2024-08-30T14:54:32.442Z"
   },
   {
    "duration": 150,
    "start_time": "2024-08-30T14:56:58.663Z"
   },
   {
    "duration": 151,
    "start_time": "2024-08-30T14:57:07.645Z"
   },
   {
    "duration": 147,
    "start_time": "2024-08-30T14:57:20.590Z"
   },
   {
    "duration": 140,
    "start_time": "2024-08-30T14:58:03.817Z"
   },
   {
    "duration": 118,
    "start_time": "2024-08-30T14:59:57.312Z"
   },
   {
    "duration": 117,
    "start_time": "2024-08-30T15:00:23.762Z"
   },
   {
    "duration": 121,
    "start_time": "2024-08-30T15:00:32.811Z"
   },
   {
    "duration": 158,
    "start_time": "2024-08-30T15:03:51.119Z"
   },
   {
    "duration": 131,
    "start_time": "2024-08-30T15:05:21.907Z"
   },
   {
    "duration": 155,
    "start_time": "2024-08-30T15:05:29.792Z"
   },
   {
    "duration": 281,
    "start_time": "2024-08-30T15:05:45.862Z"
   },
   {
    "duration": 170,
    "start_time": "2024-08-30T15:05:55.391Z"
   },
   {
    "duration": 175,
    "start_time": "2024-08-30T15:07:11.601Z"
   },
   {
    "duration": 117,
    "start_time": "2024-08-30T15:07:42.727Z"
   },
   {
    "duration": 20,
    "start_time": "2024-08-30T15:19:45.051Z"
   },
   {
    "duration": 22,
    "start_time": "2024-08-30T16:17:52.774Z"
   },
   {
    "duration": 14,
    "start_time": "2024-08-30T16:18:08.330Z"
   },
   {
    "duration": 14,
    "start_time": "2024-08-30T16:18:19.723Z"
   },
   {
    "duration": 15,
    "start_time": "2024-08-30T16:19:18.147Z"
   },
   {
    "duration": 15,
    "start_time": "2024-08-30T16:19:30.843Z"
   },
   {
    "duration": 152,
    "start_time": "2024-08-30T16:21:01.760Z"
   },
   {
    "duration": 151,
    "start_time": "2024-08-30T16:21:29.220Z"
   },
   {
    "duration": 175,
    "start_time": "2024-08-30T16:22:52.113Z"
   },
   {
    "duration": 207,
    "start_time": "2024-08-30T16:23:05.350Z"
   },
   {
    "duration": 166,
    "start_time": "2024-08-30T16:23:21.472Z"
   },
   {
    "duration": 178,
    "start_time": "2024-08-30T16:23:25.953Z"
   },
   {
    "duration": 197,
    "start_time": "2024-08-30T16:23:56.360Z"
   },
   {
    "duration": 325,
    "start_time": "2024-08-30T16:24:04.954Z"
   },
   {
    "duration": 183,
    "start_time": "2024-08-30T16:24:21.109Z"
   },
   {
    "duration": 174,
    "start_time": "2024-08-30T16:24:33.178Z"
   },
   {
    "duration": 145,
    "start_time": "2024-08-30T16:24:40.685Z"
   },
   {
    "duration": 186,
    "start_time": "2024-08-30T16:25:37.713Z"
   },
   {
    "duration": 215,
    "start_time": "2024-08-30T16:26:01.143Z"
   },
   {
    "duration": 156,
    "start_time": "2024-08-30T16:26:21.918Z"
   },
   {
    "duration": 201,
    "start_time": "2024-08-30T16:26:32.078Z"
   },
   {
    "duration": 40,
    "start_time": "2024-08-31T15:41:56.878Z"
   },
   {
    "duration": 1167,
    "start_time": "2024-08-31T15:42:06.766Z"
   },
   {
    "duration": 89,
    "start_time": "2024-08-31T15:42:07.935Z"
   },
   {
    "duration": 160,
    "start_time": "2024-08-31T15:42:08.026Z"
   },
   {
    "duration": 76,
    "start_time": "2024-08-31T15:42:08.187Z"
   },
   {
    "duration": 12,
    "start_time": "2024-08-31T15:42:08.265Z"
   },
   {
    "duration": 19,
    "start_time": "2024-08-31T15:42:08.278Z"
   },
   {
    "duration": 4,
    "start_time": "2024-08-31T15:42:08.299Z"
   },
   {
    "duration": 17,
    "start_time": "2024-08-31T15:42:08.304Z"
   },
   {
    "duration": 15,
    "start_time": "2024-08-31T15:42:08.322Z"
   },
   {
    "duration": 141,
    "start_time": "2024-08-31T15:42:08.338Z"
   },
   {
    "duration": 93,
    "start_time": "2024-08-31T15:42:08.481Z"
   },
   {
    "duration": 144,
    "start_time": "2024-08-31T15:42:08.575Z"
   },
   {
    "duration": 15,
    "start_time": "2024-08-31T15:42:08.720Z"
   },
   {
    "duration": 12,
    "start_time": "2024-08-31T15:42:08.737Z"
   },
   {
    "duration": 162,
    "start_time": "2024-08-31T15:42:08.750Z"
   },
   {
    "duration": 164,
    "start_time": "2024-08-31T15:42:08.913Z"
   },
   {
    "duration": 11,
    "start_time": "2024-08-31T15:42:09.078Z"
   },
   {
    "duration": 131,
    "start_time": "2024-08-31T15:42:09.091Z"
   },
   {
    "duration": 168,
    "start_time": "2024-08-31T15:42:09.224Z"
   },
   {
    "duration": 14,
    "start_time": "2024-08-31T15:42:09.393Z"
   },
   {
    "duration": 19,
    "start_time": "2024-08-31T15:42:26.943Z"
   },
   {
    "duration": 13,
    "start_time": "2024-08-31T15:46:28.002Z"
   },
   {
    "duration": 84,
    "start_time": "2024-08-31T15:46:32.670Z"
   },
   {
    "duration": 12,
    "start_time": "2024-08-31T15:46:43.166Z"
   },
   {
    "duration": 129,
    "start_time": "2024-08-31T15:48:16.556Z"
   },
   {
    "duration": 193,
    "start_time": "2024-08-31T15:48:24.662Z"
   },
   {
    "duration": 151,
    "start_time": "2024-08-31T15:48:47.677Z"
   },
   {
    "duration": 144,
    "start_time": "2024-08-31T15:49:28.446Z"
   },
   {
    "duration": 147,
    "start_time": "2024-08-31T15:50:13.664Z"
   },
   {
    "duration": 145,
    "start_time": "2024-08-31T15:50:21.340Z"
   },
   {
    "duration": 154,
    "start_time": "2024-08-31T15:50:36.327Z"
   },
   {
    "duration": 139,
    "start_time": "2024-08-31T15:51:23.050Z"
   },
   {
    "duration": 24,
    "start_time": "2024-08-31T15:56:46.821Z"
   },
   {
    "duration": 23,
    "start_time": "2024-08-31T15:57:28.335Z"
   },
   {
    "duration": 33,
    "start_time": "2024-08-31T15:57:56.404Z"
   },
   {
    "duration": 48,
    "start_time": "2024-08-31T16:01:09.587Z"
   },
   {
    "duration": 30,
    "start_time": "2024-08-31T16:02:20.617Z"
   },
   {
    "duration": 22,
    "start_time": "2024-08-31T16:12:02.947Z"
   },
   {
    "duration": 29,
    "start_time": "2024-08-31T16:12:17.775Z"
   },
   {
    "duration": 3,
    "start_time": "2024-08-31T16:15:02.232Z"
   },
   {
    "duration": 28,
    "start_time": "2024-08-31T16:16:10.538Z"
   },
   {
    "duration": 26,
    "start_time": "2024-08-31T16:21:40.265Z"
   },
   {
    "duration": 22,
    "start_time": "2024-08-31T16:22:53.897Z"
   },
   {
    "duration": 20,
    "start_time": "2024-08-31T16:27:29.263Z"
   },
   {
    "duration": 14,
    "start_time": "2024-08-31T16:29:44.771Z"
   },
   {
    "duration": 15,
    "start_time": "2024-08-31T16:30:35.974Z"
   },
   {
    "duration": 24,
    "start_time": "2024-08-31T16:32:52.170Z"
   },
   {
    "duration": 23,
    "start_time": "2024-08-31T16:33:35.686Z"
   },
   {
    "duration": 23,
    "start_time": "2024-08-31T16:34:18.429Z"
   },
   {
    "duration": 22,
    "start_time": "2024-08-31T16:35:37.798Z"
   },
   {
    "duration": 22,
    "start_time": "2024-08-31T16:36:24.089Z"
   },
   {
    "duration": 227,
    "start_time": "2024-08-31T16:45:12.129Z"
   },
   {
    "duration": 21,
    "start_time": "2024-08-31T16:45:40.604Z"
   },
   {
    "duration": 95,
    "start_time": "2024-08-31T16:45:55.578Z"
   },
   {
    "duration": 158,
    "start_time": "2024-08-31T16:46:05.372Z"
   },
   {
    "duration": 95,
    "start_time": "2024-08-31T16:47:09.973Z"
   },
   {
    "duration": 111,
    "start_time": "2024-08-31T16:47:18.823Z"
   },
   {
    "duration": 119,
    "start_time": "2024-08-31T16:49:17.534Z"
   },
   {
    "duration": 105,
    "start_time": "2024-08-31T16:52:00.685Z"
   },
   {
    "duration": 1387,
    "start_time": "2024-08-31T19:57:23.466Z"
   },
   {
    "duration": 101,
    "start_time": "2024-08-31T19:57:24.856Z"
   },
   {
    "duration": 171,
    "start_time": "2024-08-31T19:57:24.959Z"
   },
   {
    "duration": 80,
    "start_time": "2024-08-31T19:57:25.132Z"
   },
   {
    "duration": 16,
    "start_time": "2024-08-31T19:57:25.216Z"
   },
   {
    "duration": 12,
    "start_time": "2024-08-31T19:57:25.234Z"
   },
   {
    "duration": 7,
    "start_time": "2024-08-31T19:57:25.247Z"
   },
   {
    "duration": 5,
    "start_time": "2024-08-31T19:57:25.256Z"
   },
   {
    "duration": 6,
    "start_time": "2024-08-31T19:57:25.263Z"
   },
   {
    "duration": 204,
    "start_time": "2024-08-31T19:57:25.306Z"
   },
   {
    "duration": 126,
    "start_time": "2024-08-31T19:57:25.512Z"
   },
   {
    "duration": 184,
    "start_time": "2024-08-31T19:57:25.639Z"
   },
   {
    "duration": 18,
    "start_time": "2024-08-31T19:57:25.825Z"
   },
   {
    "duration": 16,
    "start_time": "2024-08-31T19:57:25.846Z"
   },
   {
    "duration": 242,
    "start_time": "2024-08-31T19:57:25.863Z"
   },
   {
    "duration": 212,
    "start_time": "2024-08-31T19:57:26.107Z"
   },
   {
    "duration": 14,
    "start_time": "2024-08-31T19:57:26.321Z"
   },
   {
    "duration": 188,
    "start_time": "2024-08-31T19:57:26.337Z"
   },
   {
    "duration": 200,
    "start_time": "2024-08-31T19:57:26.527Z"
   },
   {
    "duration": 21,
    "start_time": "2024-08-31T19:57:26.729Z"
   },
   {
    "duration": 65,
    "start_time": "2024-08-31T19:57:26.751Z"
   },
   {
    "duration": 243,
    "start_time": "2024-08-31T19:57:26.818Z"
   },
   {
    "duration": 283,
    "start_time": "2024-08-31T19:57:27.062Z"
   },
   {
    "duration": 16,
    "start_time": "2024-08-31T19:57:27.347Z"
   },
   {
    "duration": 218,
    "start_time": "2024-08-31T19:57:27.365Z"
   },
   {
    "duration": 195,
    "start_time": "2024-08-31T19:57:27.585Z"
   },
   {
    "duration": 33,
    "start_time": "2024-08-31T19:57:27.781Z"
   },
   {
    "duration": 144,
    "start_time": "2024-08-31T19:57:27.816Z"
   },
   {
    "duration": 114,
    "start_time": "2024-08-31T19:57:27.962Z"
   },
   {
    "duration": 148,
    "start_time": "2024-08-31T19:57:50.994Z"
   },
   {
    "duration": 148,
    "start_time": "2024-08-31T19:58:04.987Z"
   },
   {
    "duration": 164,
    "start_time": "2024-08-31T19:58:39.112Z"
   },
   {
    "duration": 197,
    "start_time": "2024-08-31T19:59:04.856Z"
   },
   {
    "duration": 137,
    "start_time": "2024-08-31T19:59:16.789Z"
   },
   {
    "duration": 1321,
    "start_time": "2024-09-09T16:27:49.000Z"
   },
   {
    "duration": 128,
    "start_time": "2024-09-09T16:27:50.323Z"
   },
   {
    "duration": 178,
    "start_time": "2024-09-09T16:27:50.452Z"
   },
   {
    "duration": 79,
    "start_time": "2024-09-09T16:27:50.631Z"
   },
   {
    "duration": 20,
    "start_time": "2024-09-09T16:27:50.713Z"
   },
   {
    "duration": 10,
    "start_time": "2024-09-09T16:27:50.735Z"
   },
   {
    "duration": 7,
    "start_time": "2024-09-09T16:27:50.747Z"
   },
   {
    "duration": 6,
    "start_time": "2024-09-09T16:27:50.755Z"
   },
   {
    "duration": 6,
    "start_time": "2024-09-09T16:27:50.762Z"
   },
   {
    "duration": 175,
    "start_time": "2024-09-09T16:27:50.790Z"
   },
   {
    "duration": 120,
    "start_time": "2024-09-09T16:27:50.966Z"
   },
   {
    "duration": 171,
    "start_time": "2024-09-09T16:27:51.089Z"
   },
   {
    "duration": 27,
    "start_time": "2024-09-09T16:27:51.262Z"
   },
   {
    "duration": 15,
    "start_time": "2024-09-09T16:27:51.292Z"
   },
   {
    "duration": 177,
    "start_time": "2024-09-09T16:27:51.308Z"
   },
   {
    "duration": 196,
    "start_time": "2024-09-09T16:27:51.489Z"
   },
   {
    "duration": 19,
    "start_time": "2024-09-09T16:27:51.689Z"
   },
   {
    "duration": 186,
    "start_time": "2024-09-09T16:27:51.709Z"
   },
   {
    "duration": 217,
    "start_time": "2024-09-09T16:27:51.896Z"
   },
   {
    "duration": 20,
    "start_time": "2024-09-09T16:27:52.117Z"
   },
   {
    "duration": 18,
    "start_time": "2024-09-09T16:27:52.138Z"
   },
   {
    "duration": 212,
    "start_time": "2024-09-09T16:27:52.158Z"
   },
   {
    "duration": 256,
    "start_time": "2024-09-09T16:27:52.372Z"
   },
   {
    "duration": 14,
    "start_time": "2024-09-09T16:27:52.630Z"
   },
   {
    "duration": 197,
    "start_time": "2024-09-09T16:27:52.646Z"
   },
   {
    "duration": 180,
    "start_time": "2024-09-09T16:27:52.845Z"
   },
   {
    "duration": 23,
    "start_time": "2024-09-09T16:27:53.027Z"
   },
   {
    "duration": 139,
    "start_time": "2024-09-09T16:27:53.052Z"
   },
   {
    "duration": 162,
    "start_time": "2024-09-09T16:27:53.192Z"
   },
   {
    "duration": 138,
    "start_time": "2024-09-09T16:27:53.356Z"
   },
   {
    "duration": 50,
    "start_time": "2024-09-09T18:10:28.313Z"
   },
   {
    "duration": 1312,
    "start_time": "2024-09-09T18:10:37.497Z"
   },
   {
    "duration": 117,
    "start_time": "2024-09-09T18:10:38.810Z"
   },
   {
    "duration": 176,
    "start_time": "2024-09-09T18:10:38.928Z"
   },
   {
    "duration": 77,
    "start_time": "2024-09-09T18:10:39.106Z"
   },
   {
    "duration": 14,
    "start_time": "2024-09-09T18:10:39.185Z"
   },
   {
    "duration": 27,
    "start_time": "2024-09-09T18:10:39.200Z"
   },
   {
    "duration": 5,
    "start_time": "2024-09-09T18:10:39.228Z"
   },
   {
    "duration": 12,
    "start_time": "2024-09-09T18:10:39.235Z"
   },
   {
    "duration": 7,
    "start_time": "2024-09-09T18:10:39.249Z"
   },
   {
    "duration": 190,
    "start_time": "2024-09-09T18:10:39.258Z"
   },
   {
    "duration": 121,
    "start_time": "2024-09-09T18:10:39.450Z"
   },
   {
    "duration": 209,
    "start_time": "2024-09-09T18:10:39.572Z"
   },
   {
    "duration": 18,
    "start_time": "2024-09-09T18:10:39.783Z"
   },
   {
    "duration": 15,
    "start_time": "2024-09-09T18:10:39.802Z"
   },
   {
    "duration": 193,
    "start_time": "2024-09-09T18:10:39.818Z"
   },
   {
    "duration": 221,
    "start_time": "2024-09-09T18:10:40.012Z"
   },
   {
    "duration": 19,
    "start_time": "2024-09-09T18:10:40.235Z"
   },
   {
    "duration": 172,
    "start_time": "2024-09-09T18:10:40.256Z"
   },
   {
    "duration": 199,
    "start_time": "2024-09-09T18:10:40.429Z"
   },
   {
    "duration": 20,
    "start_time": "2024-09-09T18:10:40.630Z"
   },
   {
    "duration": 18,
    "start_time": "2024-09-09T18:10:40.651Z"
   },
   {
    "duration": 288,
    "start_time": "2024-09-09T18:10:40.670Z"
   },
   {
    "duration": 182,
    "start_time": "2024-09-09T18:10:40.959Z"
   },
   {
    "duration": 14,
    "start_time": "2024-09-09T18:10:41.143Z"
   },
   {
    "duration": 193,
    "start_time": "2024-09-09T18:10:41.158Z"
   },
   {
    "duration": 179,
    "start_time": "2024-09-09T18:10:41.352Z"
   },
   {
    "duration": 28,
    "start_time": "2024-09-09T18:10:41.532Z"
   },
   {
    "duration": 156,
    "start_time": "2024-09-09T18:10:41.563Z"
   },
   {
    "duration": 156,
    "start_time": "2024-09-09T18:10:41.721Z"
   },
   {
    "duration": 152,
    "start_time": "2024-09-09T18:10:41.879Z"
   },
   {
    "duration": 183,
    "start_time": "2024-09-09T18:11:03.029Z"
   },
   {
    "duration": 172,
    "start_time": "2024-09-09T18:11:09.219Z"
   },
   {
    "duration": 4,
    "start_time": "2024-09-09T18:59:34.768Z"
   },
   {
    "duration": 9,
    "start_time": "2024-09-09T19:05:38.504Z"
   },
   {
    "duration": 154,
    "start_time": "2024-09-09T19:06:28.122Z"
   },
   {
    "duration": 5,
    "start_time": "2024-09-09T19:06:47.843Z"
   },
   {
    "duration": 5,
    "start_time": "2024-09-09T19:07:12.634Z"
   },
   {
    "duration": 10,
    "start_time": "2024-09-09T19:13:52.348Z"
   },
   {
    "duration": 4,
    "start_time": "2024-09-09T19:14:52.462Z"
   },
   {
    "duration": 5,
    "start_time": "2024-09-09T19:32:02.616Z"
   },
   {
    "duration": 97,
    "start_time": "2024-09-09T19:33:34.772Z"
   },
   {
    "duration": 12,
    "start_time": "2024-09-09T19:33:58.617Z"
   },
   {
    "duration": 11,
    "start_time": "2024-09-09T19:44:07.684Z"
   },
   {
    "duration": 9,
    "start_time": "2024-09-09T19:44:25.938Z"
   },
   {
    "duration": 5,
    "start_time": "2024-09-09T19:45:00.130Z"
   },
   {
    "duration": 6,
    "start_time": "2024-09-09T19:45:02.613Z"
   },
   {
    "duration": 10,
    "start_time": "2024-09-09T19:47:40.672Z"
   },
   {
    "duration": 200,
    "start_time": "2024-09-09T20:12:38.299Z"
   },
   {
    "duration": 60,
    "start_time": "2024-09-09T22:17:23.471Z"
   },
   {
    "duration": 46,
    "start_time": "2024-09-09T22:17:41.446Z"
   },
   {
    "duration": 1368,
    "start_time": "2024-09-09T22:42:23.766Z"
   },
   {
    "duration": 129,
    "start_time": "2024-09-09T22:42:25.136Z"
   },
   {
    "duration": 202,
    "start_time": "2024-09-09T22:42:25.267Z"
   },
   {
    "duration": 89,
    "start_time": "2024-09-09T22:42:25.471Z"
   },
   {
    "duration": 16,
    "start_time": "2024-09-09T22:42:25.561Z"
   },
   {
    "duration": 11,
    "start_time": "2024-09-09T22:42:25.579Z"
   },
   {
    "duration": 7,
    "start_time": "2024-09-09T22:42:25.591Z"
   },
   {
    "duration": 13,
    "start_time": "2024-09-09T22:42:25.600Z"
   },
   {
    "duration": 7,
    "start_time": "2024-09-09T22:42:25.615Z"
   },
   {
    "duration": 8,
    "start_time": "2024-09-09T22:42:25.625Z"
   },
   {
    "duration": 5,
    "start_time": "2024-09-09T22:42:25.635Z"
   },
   {
    "duration": 8,
    "start_time": "2024-09-09T22:42:25.642Z"
   },
   {
    "duration": 5,
    "start_time": "2024-09-09T22:42:25.652Z"
   },
   {
    "duration": 214,
    "start_time": "2024-09-09T22:42:25.658Z"
   },
   {
    "duration": 131,
    "start_time": "2024-09-09T22:42:25.873Z"
   },
   {
    "duration": 182,
    "start_time": "2024-09-09T22:42:26.006Z"
   },
   {
    "duration": 24,
    "start_time": "2024-09-09T22:42:26.189Z"
   },
   {
    "duration": 276,
    "start_time": "2024-09-09T22:42:26.215Z"
   },
   {
    "duration": 208,
    "start_time": "2024-09-09T22:42:26.497Z"
   },
   {
    "duration": 21,
    "start_time": "2024-09-09T22:42:26.707Z"
   },
   {
    "duration": 18,
    "start_time": "2024-09-09T22:42:26.730Z"
   },
   {
    "duration": 231,
    "start_time": "2024-09-09T22:42:26.749Z"
   },
   {
    "duration": 200,
    "start_time": "2024-09-09T22:42:26.981Z"
   },
   {
    "duration": 25,
    "start_time": "2024-09-09T22:42:27.183Z"
   },
   {
    "duration": 284,
    "start_time": "2024-09-09T22:42:27.210Z"
   },
   {
    "duration": 196,
    "start_time": "2024-09-09T22:42:27.497Z"
   },
   {
    "duration": 27,
    "start_time": "2024-09-09T22:42:27.694Z"
   },
   {
    "duration": 149,
    "start_time": "2024-09-09T22:42:27.725Z"
   },
   {
    "duration": 22,
    "start_time": "2024-09-09T22:42:27.876Z"
   },
   {
    "duration": 6,
    "start_time": "2024-09-09T22:42:27.899Z"
   },
   {
    "duration": 32,
    "start_time": "2024-09-09T22:42:27.907Z"
   },
   {
    "duration": 8,
    "start_time": "2024-09-09T22:42:27.941Z"
   },
   {
    "duration": 12,
    "start_time": "2024-09-09T22:42:27.951Z"
   },
   {
    "duration": 5,
    "start_time": "2024-09-09T22:42:55.182Z"
   },
   {
    "duration": 5,
    "start_time": "2024-09-09T22:43:37.752Z"
   },
   {
    "duration": 5,
    "start_time": "2024-09-09T22:43:56.980Z"
   },
   {
    "duration": 5,
    "start_time": "2024-09-09T22:45:54.170Z"
   },
   {
    "duration": 1224,
    "start_time": "2024-09-09T23:14:15.571Z"
   },
   {
    "duration": 49,
    "start_time": "2024-09-09T23:14:16.797Z"
   },
   {
    "duration": 52,
    "start_time": "2024-09-09T23:14:16.847Z"
   },
   {
    "duration": 33,
    "start_time": "2024-09-09T23:14:16.900Z"
   },
   {
    "duration": 15,
    "start_time": "2024-09-09T23:14:16.936Z"
   },
   {
    "duration": 22,
    "start_time": "2024-09-09T23:14:16.953Z"
   },
   {
    "duration": 17,
    "start_time": "2024-09-09T23:14:16.977Z"
   },
   {
    "duration": 34,
    "start_time": "2024-09-09T23:14:16.996Z"
   },
   {
    "duration": 29,
    "start_time": "2024-09-09T23:14:17.032Z"
   },
   {
    "duration": 31,
    "start_time": "2024-09-09T23:14:17.062Z"
   },
   {
    "duration": 12,
    "start_time": "2024-09-09T23:14:17.094Z"
   },
   {
    "duration": 18,
    "start_time": "2024-09-09T23:14:17.108Z"
   },
   {
    "duration": 4,
    "start_time": "2024-09-09T23:14:17.129Z"
   },
   {
    "duration": 189,
    "start_time": "2024-09-09T23:14:17.135Z"
   },
   {
    "duration": 140,
    "start_time": "2024-09-09T23:14:17.326Z"
   },
   {
    "duration": 192,
    "start_time": "2024-09-09T23:14:17.467Z"
   },
   {
    "duration": 18,
    "start_time": "2024-09-09T23:14:17.661Z"
   },
   {
    "duration": 223,
    "start_time": "2024-09-09T23:14:17.681Z"
   },
   {
    "duration": 205,
    "start_time": "2024-09-09T23:14:17.905Z"
   },
   {
    "duration": 22,
    "start_time": "2024-09-09T23:14:18.111Z"
   },
   {
    "duration": 29,
    "start_time": "2024-09-09T23:14:18.134Z"
   },
   {
    "duration": 220,
    "start_time": "2024-09-09T23:14:18.165Z"
   },
   {
    "duration": 210,
    "start_time": "2024-09-09T23:14:18.387Z"
   },
   {
    "duration": 25,
    "start_time": "2024-09-09T23:14:18.600Z"
   },
   {
    "duration": 306,
    "start_time": "2024-09-09T23:14:18.634Z"
   },
   {
    "duration": 203,
    "start_time": "2024-09-09T23:14:18.945Z"
   },
   {
    "duration": 26,
    "start_time": "2024-09-09T23:14:19.150Z"
   },
   {
    "duration": 142,
    "start_time": "2024-09-09T23:14:19.177Z"
   },
   {
    "duration": 5,
    "start_time": "2024-09-09T23:14:19.320Z"
   },
   {
    "duration": 10,
    "start_time": "2024-09-09T23:14:19.327Z"
   },
   {
    "duration": 31,
    "start_time": "2024-09-09T23:14:19.338Z"
   },
   {
    "duration": 21,
    "start_time": "2024-09-09T23:14:19.371Z"
   },
   {
    "duration": 24,
    "start_time": "2024-09-09T23:14:19.394Z"
   },
   {
    "duration": 1284,
    "start_time": "2024-09-10T09:23:40.829Z"
   },
   {
    "duration": 132,
    "start_time": "2024-09-10T09:23:42.114Z"
   },
   {
    "duration": 148,
    "start_time": "2024-09-10T09:23:42.247Z"
   },
   {
    "duration": 78,
    "start_time": "2024-09-10T09:23:42.397Z"
   },
   {
    "duration": 12,
    "start_time": "2024-09-10T09:23:42.477Z"
   },
   {
    "duration": 8,
    "start_time": "2024-09-10T09:23:42.491Z"
   },
   {
    "duration": 5,
    "start_time": "2024-09-10T09:23:42.500Z"
   },
   {
    "duration": 4,
    "start_time": "2024-09-10T09:23:42.506Z"
   },
   {
    "duration": 9,
    "start_time": "2024-09-10T09:23:42.511Z"
   },
   {
    "duration": 8,
    "start_time": "2024-09-10T09:23:42.521Z"
   },
   {
    "duration": 5,
    "start_time": "2024-09-10T09:23:42.550Z"
   },
   {
    "duration": 6,
    "start_time": "2024-09-10T09:23:42.556Z"
   },
   {
    "duration": 4,
    "start_time": "2024-09-10T09:23:42.563Z"
   },
   {
    "duration": 163,
    "start_time": "2024-09-10T09:23:42.569Z"
   },
   {
    "duration": 104,
    "start_time": "2024-09-10T09:23:42.734Z"
   },
   {
    "duration": 148,
    "start_time": "2024-09-10T09:23:42.840Z"
   },
   {
    "duration": 16,
    "start_time": "2024-09-10T09:23:42.990Z"
   },
   {
    "duration": 178,
    "start_time": "2024-09-10T09:23:43.007Z"
   },
   {
    "duration": 170,
    "start_time": "2024-09-10T09:23:43.186Z"
   },
   {
    "duration": 17,
    "start_time": "2024-09-10T09:23:43.357Z"
   },
   {
    "duration": 15,
    "start_time": "2024-09-10T09:23:43.375Z"
   },
   {
    "duration": 184,
    "start_time": "2024-09-10T09:23:43.391Z"
   },
   {
    "duration": 168,
    "start_time": "2024-09-10T09:23:43.576Z"
   },
   {
    "duration": 14,
    "start_time": "2024-09-10T09:23:43.745Z"
   },
   {
    "duration": 214,
    "start_time": "2024-09-10T09:23:43.760Z"
   },
   {
    "duration": 154,
    "start_time": "2024-09-10T09:23:43.975Z"
   },
   {
    "duration": 29,
    "start_time": "2024-09-10T09:23:44.130Z"
   },
   {
    "duration": 128,
    "start_time": "2024-09-10T09:23:44.161Z"
   },
   {
    "duration": 5,
    "start_time": "2024-09-10T09:23:44.290Z"
   },
   {
    "duration": 4,
    "start_time": "2024-09-10T09:23:44.296Z"
   },
   {
    "duration": 8,
    "start_time": "2024-09-10T09:23:44.301Z"
   },
   {
    "duration": 15,
    "start_time": "2024-09-10T09:23:44.310Z"
   },
   {
    "duration": 10,
    "start_time": "2024-09-10T09:23:44.326Z"
   },
   {
    "duration": 8,
    "start_time": "2024-09-10T11:03:43.202Z"
   },
   {
    "duration": 1054,
    "start_time": "2024-09-10T11:09:40.855Z"
   },
   {
    "duration": 42,
    "start_time": "2024-09-10T11:09:41.911Z"
   },
   {
    "duration": 38,
    "start_time": "2024-09-10T11:09:41.955Z"
   },
   {
    "duration": 24,
    "start_time": "2024-09-10T11:09:41.994Z"
   },
   {
    "duration": 41,
    "start_time": "2024-09-10T11:09:42.020Z"
   },
   {
    "duration": 8,
    "start_time": "2024-09-10T11:09:42.063Z"
   },
   {
    "duration": 4,
    "start_time": "2024-09-10T11:09:42.072Z"
   },
   {
    "duration": 5,
    "start_time": "2024-09-10T11:09:42.078Z"
   },
   {
    "duration": 4,
    "start_time": "2024-09-10T11:09:42.084Z"
   },
   {
    "duration": 7,
    "start_time": "2024-09-10T11:09:42.089Z"
   },
   {
    "duration": 4,
    "start_time": "2024-09-10T11:09:42.098Z"
   },
   {
    "duration": 6,
    "start_time": "2024-09-10T11:09:42.104Z"
   },
   {
    "duration": 40,
    "start_time": "2024-09-10T11:09:42.111Z"
   },
   {
    "duration": 155,
    "start_time": "2024-09-10T11:09:42.154Z"
   },
   {
    "duration": 100,
    "start_time": "2024-09-10T11:09:42.310Z"
   },
   {
    "duration": 152,
    "start_time": "2024-09-10T11:09:42.411Z"
   },
   {
    "duration": 16,
    "start_time": "2024-09-10T11:09:42.564Z"
   },
   {
    "duration": 182,
    "start_time": "2024-09-10T11:09:42.582Z"
   },
   {
    "duration": 165,
    "start_time": "2024-09-10T11:09:42.766Z"
   },
   {
    "duration": 21,
    "start_time": "2024-09-10T11:09:42.933Z"
   },
   {
    "duration": 14,
    "start_time": "2024-09-10T11:09:42.956Z"
   },
   {
    "duration": 181,
    "start_time": "2024-09-10T11:09:42.971Z"
   },
   {
    "duration": 168,
    "start_time": "2024-09-10T11:09:43.153Z"
   },
   {
    "duration": 13,
    "start_time": "2024-09-10T11:09:43.322Z"
   },
   {
    "duration": 221,
    "start_time": "2024-09-10T11:09:43.336Z"
   },
   {
    "duration": 154,
    "start_time": "2024-09-10T11:09:43.559Z"
   },
   {
    "duration": 22,
    "start_time": "2024-09-10T11:09:43.714Z"
   },
   {
    "duration": 121,
    "start_time": "2024-09-10T11:09:43.751Z"
   },
   {
    "duration": 5,
    "start_time": "2024-09-10T11:09:43.874Z"
   },
   {
    "duration": 5,
    "start_time": "2024-09-10T11:09:43.880Z"
   },
   {
    "duration": 4,
    "start_time": "2024-09-10T11:09:43.887Z"
   },
   {
    "duration": 5,
    "start_time": "2024-09-10T11:09:43.892Z"
   },
   {
    "duration": 9,
    "start_time": "2024-09-10T11:09:43.898Z"
   },
   {
    "duration": 1433,
    "start_time": "2024-09-11T10:57:14.581Z"
   },
   {
    "duration": 131,
    "start_time": "2024-09-11T10:57:16.016Z"
   },
   {
    "duration": 197,
    "start_time": "2024-09-11T10:57:16.148Z"
   },
   {
    "duration": 88,
    "start_time": "2024-09-11T10:57:16.346Z"
   },
   {
    "duration": 16,
    "start_time": "2024-09-11T10:57:16.436Z"
   },
   {
    "duration": 6,
    "start_time": "2024-09-11T10:57:16.454Z"
   },
   {
    "duration": 25,
    "start_time": "2024-09-11T10:57:16.462Z"
   },
   {
    "duration": 7,
    "start_time": "2024-09-11T10:57:16.489Z"
   },
   {
    "duration": 9,
    "start_time": "2024-09-11T10:57:16.509Z"
   },
   {
    "duration": 16,
    "start_time": "2024-09-11T10:57:16.520Z"
   },
   {
    "duration": 29,
    "start_time": "2024-09-11T10:57:16.538Z"
   },
   {
    "duration": 10,
    "start_time": "2024-09-11T10:57:16.568Z"
   },
   {
    "duration": 8,
    "start_time": "2024-09-11T10:57:16.579Z"
   },
   {
    "duration": 4,
    "start_time": "2024-09-11T10:57:16.590Z"
   },
   {
    "duration": 201,
    "start_time": "2024-09-11T10:57:16.595Z"
   },
   {
    "duration": 154,
    "start_time": "2024-09-11T10:57:16.797Z"
   },
   {
    "duration": 211,
    "start_time": "2024-09-11T10:57:16.952Z"
   },
   {
    "duration": 19,
    "start_time": "2024-09-11T10:57:17.165Z"
   },
   {
    "duration": 359,
    "start_time": "2024-09-11T10:57:17.185Z"
   },
   {
    "duration": 238,
    "start_time": "2024-09-11T10:57:17.546Z"
   },
   {
    "duration": 42,
    "start_time": "2024-09-11T10:57:17.786Z"
   },
   {
    "duration": 18,
    "start_time": "2024-09-11T10:57:17.830Z"
   },
   {
    "duration": 272,
    "start_time": "2024-09-11T10:57:17.850Z"
   },
   {
    "duration": 291,
    "start_time": "2024-09-11T10:57:18.124Z"
   },
   {
    "duration": 21,
    "start_time": "2024-09-11T10:57:18.417Z"
   },
   {
    "duration": 216,
    "start_time": "2024-09-11T10:57:18.440Z"
   },
   {
    "duration": 233,
    "start_time": "2024-09-11T10:57:18.658Z"
   },
   {
    "duration": 42,
    "start_time": "2024-09-11T10:57:18.893Z"
   },
   {
    "duration": 145,
    "start_time": "2024-09-11T10:57:18.937Z"
   },
   {
    "duration": 5,
    "start_time": "2024-09-11T10:57:19.084Z"
   },
   {
    "duration": 20,
    "start_time": "2024-09-11T10:57:19.091Z"
   },
   {
    "duration": 21,
    "start_time": "2024-09-11T10:57:19.114Z"
   },
   {
    "duration": 7,
    "start_time": "2024-09-11T10:57:19.136Z"
   },
   {
    "duration": 40,
    "start_time": "2024-09-11T10:57:19.144Z"
   },
   {
    "duration": 164,
    "start_time": "2024-09-11T11:02:03.890Z"
   },
   {
    "duration": 175,
    "start_time": "2024-09-11T11:02:18.514Z"
   },
   {
    "duration": 172,
    "start_time": "2024-09-11T11:04:15.661Z"
   },
   {
    "duration": 126,
    "start_time": "2024-09-11T11:05:03.271Z"
   },
   {
    "duration": 224,
    "start_time": "2024-09-11T11:08:42.781Z"
   },
   {
    "duration": 208,
    "start_time": "2024-09-11T11:09:23.650Z"
   },
   {
    "duration": 192,
    "start_time": "2024-09-11T11:10:01.048Z"
   },
   {
    "duration": 233,
    "start_time": "2024-09-11T11:15:44.751Z"
   },
   {
    "duration": 134,
    "start_time": "2024-09-11T11:18:41.275Z"
   },
   {
    "duration": 152,
    "start_time": "2024-09-11T11:18:55.466Z"
   },
   {
    "duration": 110,
    "start_time": "2024-09-11T11:22:35.851Z"
   },
   {
    "duration": 212,
    "start_time": "2024-09-11T11:24:51.365Z"
   },
   {
    "duration": 222,
    "start_time": "2024-09-11T11:25:58.816Z"
   },
   {
    "duration": 10,
    "start_time": "2024-09-11T11:26:44.714Z"
   },
   {
    "duration": 120,
    "start_time": "2024-09-11T11:27:01.760Z"
   },
   {
    "duration": 129,
    "start_time": "2024-09-11T11:27:41.352Z"
   },
   {
    "duration": 155,
    "start_time": "2024-09-11T11:28:08.705Z"
   },
   {
    "duration": 141,
    "start_time": "2024-09-11T11:28:24.657Z"
   },
   {
    "duration": 155,
    "start_time": "2024-09-11T11:28:30.086Z"
   },
   {
    "duration": 137,
    "start_time": "2024-09-11T11:28:55.944Z"
   },
   {
    "duration": 138,
    "start_time": "2024-09-11T11:29:20.358Z"
   },
   {
    "duration": 205,
    "start_time": "2024-09-11T11:32:07.597Z"
   },
   {
    "duration": 198,
    "start_time": "2024-09-11T11:32:19.652Z"
   },
   {
    "duration": 182,
    "start_time": "2024-09-11T11:32:45.117Z"
   },
   {
    "duration": 300,
    "start_time": "2024-09-11T11:33:47.213Z"
   },
   {
    "duration": 229,
    "start_time": "2024-09-11T11:34:03.289Z"
   },
   {
    "duration": 221,
    "start_time": "2024-09-11T11:34:32.165Z"
   },
   {
    "duration": 211,
    "start_time": "2024-09-11T11:34:49.894Z"
   },
   {
    "duration": 4,
    "start_time": "2024-09-11T11:35:51.866Z"
   },
   {
    "duration": 15,
    "start_time": "2024-09-11T11:37:59.777Z"
   },
   {
    "duration": 247,
    "start_time": "2024-09-11T11:40:09.154Z"
   },
   {
    "duration": 266,
    "start_time": "2024-09-11T11:41:02.974Z"
   },
   {
    "duration": 286,
    "start_time": "2024-09-11T11:41:17.067Z"
   },
   {
    "duration": 368,
    "start_time": "2024-09-11T11:42:09.928Z"
   },
   {
    "duration": 5,
    "start_time": "2024-09-11T11:44:47.815Z"
   },
   {
    "duration": 1167,
    "start_time": "2024-09-11T23:39:52.830Z"
   },
   {
    "duration": 137,
    "start_time": "2024-09-11T23:39:53.999Z"
   },
   {
    "duration": 217,
    "start_time": "2024-09-11T23:39:54.137Z"
   },
   {
    "duration": 95,
    "start_time": "2024-09-11T23:39:54.355Z"
   },
   {
    "duration": 13,
    "start_time": "2024-09-11T23:39:54.452Z"
   },
   {
    "duration": 7,
    "start_time": "2024-09-11T23:39:54.466Z"
   },
   {
    "duration": 10,
    "start_time": "2024-09-11T23:39:54.475Z"
   },
   {
    "duration": 6,
    "start_time": "2024-09-11T23:39:54.486Z"
   },
   {
    "duration": 15,
    "start_time": "2024-09-11T23:39:54.494Z"
   },
   {
    "duration": 5,
    "start_time": "2024-09-11T23:39:54.510Z"
   },
   {
    "duration": 8,
    "start_time": "2024-09-11T23:39:54.516Z"
   },
   {
    "duration": 5,
    "start_time": "2024-09-11T23:39:54.526Z"
   },
   {
    "duration": 7,
    "start_time": "2024-09-11T23:39:54.532Z"
   },
   {
    "duration": 4,
    "start_time": "2024-09-11T23:39:54.541Z"
   },
   {
    "duration": 194,
    "start_time": "2024-09-11T23:39:54.547Z"
   },
   {
    "duration": 128,
    "start_time": "2024-09-11T23:39:54.742Z"
   },
   {
    "duration": 167,
    "start_time": "2024-09-11T23:39:54.872Z"
   },
   {
    "duration": 16,
    "start_time": "2024-09-11T23:39:55.041Z"
   },
   {
    "duration": 199,
    "start_time": "2024-09-11T23:39:55.059Z"
   },
   {
    "duration": 203,
    "start_time": "2024-09-11T23:39:55.260Z"
   },
   {
    "duration": 19,
    "start_time": "2024-09-11T23:39:55.465Z"
   },
   {
    "duration": 27,
    "start_time": "2024-09-11T23:39:55.486Z"
   },
   {
    "duration": 26,
    "start_time": "2024-09-11T23:39:55.514Z"
   },
   {
    "duration": 187,
    "start_time": "2024-09-11T23:39:55.542Z"
   },
   {
    "duration": 170,
    "start_time": "2024-09-11T23:39:55.731Z"
   },
   {
    "duration": 17,
    "start_time": "2024-09-11T23:39:55.902Z"
   },
   {
    "duration": 314,
    "start_time": "2024-09-11T23:39:55.920Z"
   },
   {
    "duration": 161,
    "start_time": "2024-09-11T23:39:56.236Z"
   },
   {
    "duration": 28,
    "start_time": "2024-09-11T23:39:56.398Z"
   },
   {
    "duration": 125,
    "start_time": "2024-09-11T23:39:56.427Z"
   },
   {
    "duration": 5,
    "start_time": "2024-09-11T23:39:56.553Z"
   },
   {
    "duration": 14,
    "start_time": "2024-09-11T23:39:56.559Z"
   },
   {
    "duration": 8,
    "start_time": "2024-09-11T23:39:56.574Z"
   },
   {
    "duration": 10,
    "start_time": "2024-09-11T23:39:56.583Z"
   },
   {
    "duration": 30,
    "start_time": "2024-09-11T23:39:56.594Z"
   },
   {
    "duration": 171,
    "start_time": "2024-09-12T00:14:09.685Z"
   },
   {
    "duration": 130,
    "start_time": "2024-09-12T00:17:02.920Z"
   },
   {
    "duration": 56,
    "start_time": "2024-09-12T00:17:38.337Z"
   },
   {
    "duration": 176,
    "start_time": "2024-09-12T00:17:57.756Z"
   },
   {
    "duration": 267,
    "start_time": "2024-09-12T00:18:33.190Z"
   },
   {
    "duration": 276,
    "start_time": "2024-09-12T00:19:07.085Z"
   },
   {
    "duration": 183,
    "start_time": "2024-09-12T00:19:17.474Z"
   },
   {
    "duration": 228,
    "start_time": "2024-09-12T00:20:52.245Z"
   },
   {
    "duration": 231,
    "start_time": "2024-09-12T00:21:05.227Z"
   },
   {
    "duration": 226,
    "start_time": "2024-09-12T00:21:18.156Z"
   },
   {
    "duration": 313,
    "start_time": "2024-09-12T00:21:56.231Z"
   },
   {
    "duration": 230,
    "start_time": "2024-09-12T00:22:21.057Z"
   },
   {
    "duration": 221,
    "start_time": "2024-09-12T00:22:43.672Z"
   },
   {
    "duration": 239,
    "start_time": "2024-09-12T00:22:52.031Z"
   },
   {
    "duration": 217,
    "start_time": "2024-09-12T00:23:01.588Z"
   },
   {
    "duration": 221,
    "start_time": "2024-09-12T00:24:58.605Z"
   },
   {
    "duration": 312,
    "start_time": "2024-09-12T00:26:28.635Z"
   },
   {
    "duration": 228,
    "start_time": "2024-09-12T00:27:37.781Z"
   },
   {
    "duration": 224,
    "start_time": "2024-09-12T00:28:21.648Z"
   },
   {
    "duration": 30,
    "start_time": "2024-09-12T00:29:29.343Z"
   },
   {
    "duration": 1121,
    "start_time": "2024-09-12T00:29:59.130Z"
   },
   {
    "duration": 9,
    "start_time": "2024-09-12T00:30:12.354Z"
   },
   {
    "duration": 21,
    "start_time": "2024-09-12T00:31:20.584Z"
   },
   {
    "duration": 12,
    "start_time": "2024-09-12T00:31:35.645Z"
   },
   {
    "duration": 10,
    "start_time": "2024-09-12T00:31:42.854Z"
   },
   {
    "duration": 12,
    "start_time": "2024-09-12T00:31:55.825Z"
   },
   {
    "duration": 10,
    "start_time": "2024-09-12T00:32:17.861Z"
   },
   {
    "duration": 10,
    "start_time": "2024-09-12T00:32:41.458Z"
   },
   {
    "duration": 10,
    "start_time": "2024-09-12T00:32:57.453Z"
   },
   {
    "duration": 1286,
    "start_time": "2024-09-12T08:46:07.950Z"
   },
   {
    "duration": 125,
    "start_time": "2024-09-12T08:46:09.238Z"
   },
   {
    "duration": 180,
    "start_time": "2024-09-12T08:46:09.365Z"
   },
   {
    "duration": 83,
    "start_time": "2024-09-12T08:46:09.547Z"
   },
   {
    "duration": 15,
    "start_time": "2024-09-12T08:46:09.632Z"
   },
   {
    "duration": 30,
    "start_time": "2024-09-12T08:46:09.648Z"
   },
   {
    "duration": 34,
    "start_time": "2024-09-12T08:46:09.680Z"
   },
   {
    "duration": 6,
    "start_time": "2024-09-12T08:46:09.716Z"
   },
   {
    "duration": 25,
    "start_time": "2024-09-12T08:46:09.723Z"
   },
   {
    "duration": 25,
    "start_time": "2024-09-12T08:46:09.751Z"
   },
   {
    "duration": 24,
    "start_time": "2024-09-12T08:46:09.778Z"
   },
   {
    "duration": 9,
    "start_time": "2024-09-12T08:46:09.804Z"
   },
   {
    "duration": 15,
    "start_time": "2024-09-12T08:46:09.814Z"
   },
   {
    "duration": 10,
    "start_time": "2024-09-12T08:46:09.830Z"
   },
   {
    "duration": 185,
    "start_time": "2024-09-12T08:46:09.841Z"
   },
   {
    "duration": 148,
    "start_time": "2024-09-12T08:46:10.028Z"
   },
   {
    "duration": 185,
    "start_time": "2024-09-12T08:46:10.178Z"
   },
   {
    "duration": 17,
    "start_time": "2024-09-12T08:46:10.365Z"
   },
   {
    "duration": 240,
    "start_time": "2024-09-12T08:46:10.383Z"
   },
   {
    "duration": 218,
    "start_time": "2024-09-12T08:46:10.625Z"
   },
   {
    "duration": 20,
    "start_time": "2024-09-12T08:46:10.845Z"
   },
   {
    "duration": 11,
    "start_time": "2024-09-12T08:46:10.867Z"
   },
   {
    "duration": 43,
    "start_time": "2024-09-12T08:46:10.880Z"
   },
   {
    "duration": 18,
    "start_time": "2024-09-12T08:46:10.924Z"
   },
   {
    "duration": 12,
    "start_time": "2024-09-12T08:46:10.944Z"
   },
   {
    "duration": 299,
    "start_time": "2024-09-12T08:46:10.957Z"
   },
   {
    "duration": 13,
    "start_time": "2024-09-12T08:46:11.258Z"
   },
   {
    "duration": 350,
    "start_time": "2024-09-12T08:46:11.274Z"
   },
   {
    "duration": 23,
    "start_time": "2024-09-12T08:46:11.626Z"
   },
   {
    "duration": 146,
    "start_time": "2024-09-12T08:46:11.651Z"
   },
   {
    "duration": 10,
    "start_time": "2024-09-12T08:46:11.798Z"
   },
   {
    "duration": 6,
    "start_time": "2024-09-12T08:46:11.810Z"
   },
   {
    "duration": 15,
    "start_time": "2024-09-12T08:46:11.817Z"
   },
   {
    "duration": 6,
    "start_time": "2024-09-12T08:46:11.833Z"
   },
   {
    "duration": 10,
    "start_time": "2024-09-12T08:46:11.841Z"
   },
   {
    "duration": 1120,
    "start_time": "2024-09-12T10:44:45.237Z"
   },
   {
    "duration": 47,
    "start_time": "2024-09-12T10:44:46.360Z"
   },
   {
    "duration": 43,
    "start_time": "2024-09-12T10:44:46.409Z"
   },
   {
    "duration": 27,
    "start_time": "2024-09-12T10:44:46.454Z"
   },
   {
    "duration": 14,
    "start_time": "2024-09-12T10:44:46.484Z"
   },
   {
    "duration": 6,
    "start_time": "2024-09-12T10:44:46.507Z"
   },
   {
    "duration": 41,
    "start_time": "2024-09-12T10:44:46.515Z"
   },
   {
    "duration": 8,
    "start_time": "2024-09-12T10:44:46.558Z"
   },
   {
    "duration": 6,
    "start_time": "2024-09-12T10:44:46.568Z"
   },
   {
    "duration": 16,
    "start_time": "2024-09-12T10:44:46.575Z"
   },
   {
    "duration": 24,
    "start_time": "2024-09-12T10:44:46.592Z"
   },
   {
    "duration": 5,
    "start_time": "2024-09-12T10:44:46.617Z"
   },
   {
    "duration": 13,
    "start_time": "2024-09-12T10:44:46.623Z"
   },
   {
    "duration": 4,
    "start_time": "2024-09-12T10:44:46.639Z"
   },
   {
    "duration": 195,
    "start_time": "2024-09-12T10:44:46.644Z"
   },
   {
    "duration": 137,
    "start_time": "2024-09-12T10:44:46.841Z"
   },
   {
    "duration": 188,
    "start_time": "2024-09-12T10:44:46.980Z"
   },
   {
    "duration": 18,
    "start_time": "2024-09-12T10:44:47.170Z"
   },
   {
    "duration": 259,
    "start_time": "2024-09-12T10:44:47.190Z"
   },
   {
    "duration": 218,
    "start_time": "2024-09-12T10:44:47.451Z"
   },
   {
    "duration": 21,
    "start_time": "2024-09-12T10:44:47.671Z"
   },
   {
    "duration": 22,
    "start_time": "2024-09-12T10:44:47.694Z"
   },
   {
    "duration": 61,
    "start_time": "2024-09-12T10:44:47.718Z"
   },
   {
    "duration": 20,
    "start_time": "2024-09-12T10:44:47.780Z"
   },
   {
    "duration": 13,
    "start_time": "2024-09-12T10:44:47.802Z"
   },
   {
    "duration": 304,
    "start_time": "2024-09-12T10:44:47.816Z"
   },
   {
    "duration": 14,
    "start_time": "2024-09-12T10:44:48.121Z"
   },
   {
    "duration": 368,
    "start_time": "2024-09-12T10:44:48.136Z"
   },
   {
    "duration": 25,
    "start_time": "2024-09-12T10:44:48.507Z"
   },
   {
    "duration": 143,
    "start_time": "2024-09-12T10:44:48.533Z"
   },
   {
    "duration": 6,
    "start_time": "2024-09-12T10:44:48.678Z"
   },
   {
    "duration": 5,
    "start_time": "2024-09-12T10:44:48.685Z"
   },
   {
    "duration": 19,
    "start_time": "2024-09-12T10:44:48.691Z"
   },
   {
    "duration": 6,
    "start_time": "2024-09-12T10:44:48.712Z"
   },
   {
    "duration": 12,
    "start_time": "2024-09-12T10:44:48.720Z"
   },
   {
    "duration": 1366,
    "start_time": "2024-09-12T20:47:53.610Z"
   },
   {
    "duration": 93,
    "start_time": "2024-09-12T20:47:54.978Z"
   },
   {
    "duration": 174,
    "start_time": "2024-09-12T20:47:55.074Z"
   },
   {
    "duration": 80,
    "start_time": "2024-09-12T20:47:55.249Z"
   },
   {
    "duration": 16,
    "start_time": "2024-09-12T20:47:55.331Z"
   },
   {
    "duration": 6,
    "start_time": "2024-09-12T20:47:55.349Z"
   },
   {
    "duration": 13,
    "start_time": "2024-09-12T20:47:55.356Z"
   },
   {
    "duration": 7,
    "start_time": "2024-09-12T20:47:55.371Z"
   },
   {
    "duration": 9,
    "start_time": "2024-09-12T20:47:55.380Z"
   },
   {
    "duration": 6,
    "start_time": "2024-09-12T20:47:55.420Z"
   },
   {
    "duration": 10,
    "start_time": "2024-09-12T20:47:55.428Z"
   },
   {
    "duration": 5,
    "start_time": "2024-09-12T20:47:55.440Z"
   },
   {
    "duration": 8,
    "start_time": "2024-09-12T20:47:55.447Z"
   },
   {
    "duration": 5,
    "start_time": "2024-09-12T20:47:55.457Z"
   },
   {
    "duration": 229,
    "start_time": "2024-09-12T20:47:55.464Z"
   },
   {
    "duration": 167,
    "start_time": "2024-09-12T20:47:55.695Z"
   },
   {
    "duration": 206,
    "start_time": "2024-09-12T20:47:55.864Z"
   },
   {
    "duration": 20,
    "start_time": "2024-09-12T20:47:56.072Z"
   },
   {
    "duration": 252,
    "start_time": "2024-09-12T20:47:56.094Z"
   },
   {
    "duration": 224,
    "start_time": "2024-09-12T20:47:56.348Z"
   },
   {
    "duration": 21,
    "start_time": "2024-09-12T20:47:56.574Z"
   },
   {
    "duration": 28,
    "start_time": "2024-09-12T20:47:56.597Z"
   },
   {
    "duration": 18,
    "start_time": "2024-09-12T20:47:56.627Z"
   },
   {
    "duration": 15,
    "start_time": "2024-09-12T20:47:56.647Z"
   },
   {
    "duration": 12,
    "start_time": "2024-09-12T20:47:56.664Z"
   },
   {
    "duration": 319,
    "start_time": "2024-09-12T20:47:56.678Z"
   },
   {
    "duration": 22,
    "start_time": "2024-09-12T20:47:56.999Z"
   },
   {
    "duration": 363,
    "start_time": "2024-09-12T20:47:57.023Z"
   },
   {
    "duration": 40,
    "start_time": "2024-09-12T20:47:57.389Z"
   },
   {
    "duration": 139,
    "start_time": "2024-09-12T20:47:57.431Z"
   },
   {
    "duration": 6,
    "start_time": "2024-09-12T20:47:57.572Z"
   },
   {
    "duration": 19,
    "start_time": "2024-09-12T20:47:57.579Z"
   },
   {
    "duration": 15,
    "start_time": "2024-09-12T20:47:57.599Z"
   },
   {
    "duration": 7,
    "start_time": "2024-09-12T20:47:57.615Z"
   },
   {
    "duration": 11,
    "start_time": "2024-09-12T20:47:57.624Z"
   },
   {
    "duration": 1411,
    "start_time": "2024-09-13T12:05:40.707Z"
   },
   {
    "duration": 122,
    "start_time": "2024-09-13T12:05:42.120Z"
   },
   {
    "duration": 151,
    "start_time": "2024-09-13T12:05:42.247Z"
   },
   {
    "duration": 80,
    "start_time": "2024-09-13T12:05:42.400Z"
   },
   {
    "duration": 14,
    "start_time": "2024-09-13T12:05:42.482Z"
   },
   {
    "duration": 19,
    "start_time": "2024-09-13T12:05:42.498Z"
   },
   {
    "duration": 11,
    "start_time": "2024-09-13T12:05:42.519Z"
   },
   {
    "duration": 5,
    "start_time": "2024-09-13T12:05:42.532Z"
   },
   {
    "duration": 6,
    "start_time": "2024-09-13T12:05:42.540Z"
   },
   {
    "duration": 30,
    "start_time": "2024-09-13T12:05:42.547Z"
   },
   {
    "duration": 13,
    "start_time": "2024-09-13T12:05:42.578Z"
   },
   {
    "duration": 5,
    "start_time": "2024-09-13T12:05:42.593Z"
   },
   {
    "duration": 9,
    "start_time": "2024-09-13T12:05:42.599Z"
   },
   {
    "duration": 5,
    "start_time": "2024-09-13T12:05:42.609Z"
   },
   {
    "duration": 223,
    "start_time": "2024-09-13T12:05:42.615Z"
   },
   {
    "duration": 148,
    "start_time": "2024-09-13T12:05:42.839Z"
   },
   {
    "duration": 200,
    "start_time": "2024-09-13T12:05:42.989Z"
   },
   {
    "duration": 18,
    "start_time": "2024-09-13T12:05:43.191Z"
   },
   {
    "duration": 230,
    "start_time": "2024-09-13T12:05:43.211Z"
   },
   {
    "duration": 217,
    "start_time": "2024-09-13T12:05:43.442Z"
   },
   {
    "duration": 30,
    "start_time": "2024-09-13T12:05:43.661Z"
   },
   {
    "duration": 10,
    "start_time": "2024-09-13T12:05:43.693Z"
   },
   {
    "duration": 18,
    "start_time": "2024-09-13T12:05:43.704Z"
   },
   {
    "duration": 19,
    "start_time": "2024-09-13T12:05:43.723Z"
   },
   {
    "duration": 38,
    "start_time": "2024-09-13T12:05:43.744Z"
   },
   {
    "duration": 286,
    "start_time": "2024-09-13T12:05:43.783Z"
   },
   {
    "duration": 13,
    "start_time": "2024-09-13T12:05:44.076Z"
   },
   {
    "duration": 361,
    "start_time": "2024-09-13T12:05:44.090Z"
   },
   {
    "duration": 36,
    "start_time": "2024-09-13T12:05:44.453Z"
   },
   {
    "duration": 134,
    "start_time": "2024-09-13T12:05:44.491Z"
   },
   {
    "duration": 5,
    "start_time": "2024-09-13T12:05:44.626Z"
   },
   {
    "duration": 15,
    "start_time": "2024-09-13T12:05:44.633Z"
   },
   {
    "duration": 18,
    "start_time": "2024-09-13T12:05:44.650Z"
   },
   {
    "duration": 8,
    "start_time": "2024-09-13T12:05:44.669Z"
   },
   {
    "duration": 21,
    "start_time": "2024-09-13T12:05:44.679Z"
   },
   {
    "duration": 1048,
    "start_time": "2024-09-13T21:12:19.091Z"
   },
   {
    "duration": 42,
    "start_time": "2024-09-13T21:12:20.141Z"
   },
   {
    "duration": 38,
    "start_time": "2024-09-13T21:12:20.184Z"
   },
   {
    "duration": 24,
    "start_time": "2024-09-13T21:12:20.224Z"
   },
   {
    "duration": 13,
    "start_time": "2024-09-13T21:12:20.249Z"
   },
   {
    "duration": 12,
    "start_time": "2024-09-13T21:12:20.263Z"
   },
   {
    "duration": 9,
    "start_time": "2024-09-13T21:12:20.277Z"
   },
   {
    "duration": 5,
    "start_time": "2024-09-13T21:12:20.287Z"
   },
   {
    "duration": 5,
    "start_time": "2024-09-13T21:12:20.294Z"
   },
   {
    "duration": 19,
    "start_time": "2024-09-13T21:12:20.301Z"
   },
   {
    "duration": 13,
    "start_time": "2024-09-13T21:12:20.321Z"
   },
   {
    "duration": 8,
    "start_time": "2024-09-13T21:12:20.335Z"
   },
   {
    "duration": 14,
    "start_time": "2024-09-13T21:12:20.344Z"
   },
   {
    "duration": 4,
    "start_time": "2024-09-13T21:12:20.359Z"
   },
   {
    "duration": 164,
    "start_time": "2024-09-13T21:12:20.375Z"
   },
   {
    "duration": 137,
    "start_time": "2024-09-13T21:12:20.540Z"
   },
   {
    "duration": 166,
    "start_time": "2024-09-13T21:12:20.678Z"
   },
   {
    "duration": 16,
    "start_time": "2024-09-13T21:12:20.846Z"
   },
   {
    "duration": 194,
    "start_time": "2024-09-13T21:12:20.876Z"
   },
   {
    "duration": 176,
    "start_time": "2024-09-13T21:12:21.071Z"
   },
   {
    "duration": 27,
    "start_time": "2024-09-13T21:12:21.249Z"
   },
   {
    "duration": 9,
    "start_time": "2024-09-13T21:12:21.277Z"
   },
   {
    "duration": 36,
    "start_time": "2024-09-13T21:12:21.287Z"
   },
   {
    "duration": 19,
    "start_time": "2024-09-13T21:12:21.324Z"
   },
   {
    "duration": 11,
    "start_time": "2024-09-13T21:12:21.345Z"
   },
   {
    "duration": 233,
    "start_time": "2024-09-13T21:12:21.357Z"
   },
   {
    "duration": 11,
    "start_time": "2024-09-13T21:12:21.591Z"
   },
   {
    "duration": 345,
    "start_time": "2024-09-13T21:12:21.605Z"
   },
   {
    "duration": 32,
    "start_time": "2024-09-13T21:12:21.952Z"
   },
   {
    "duration": 117,
    "start_time": "2024-09-13T21:12:21.986Z"
   },
   {
    "duration": 5,
    "start_time": "2024-09-13T21:12:22.104Z"
   },
   {
    "duration": 11,
    "start_time": "2024-09-13T21:12:22.110Z"
   },
   {
    "duration": 21,
    "start_time": "2024-09-13T21:12:22.122Z"
   },
   {
    "duration": 13,
    "start_time": "2024-09-13T21:12:22.144Z"
   },
   {
    "duration": 31,
    "start_time": "2024-09-13T21:12:22.158Z"
   }
  ],
  "kernelspec": {
   "display_name": "Python 3 (ipykernel)",
   "language": "python",
   "name": "python3"
  },
  "language_info": {
   "codemirror_mode": {
    "name": "ipython",
    "version": 3
   },
   "file_extension": ".py",
   "mimetype": "text/x-python",
   "name": "python",
   "nbconvert_exporter": "python",
   "pygments_lexer": "ipython3",
   "version": "3.9.5"
  },
  "toc": {
   "base_numbering": 1,
   "nav_menu": {},
   "number_sections": true,
   "sideBar": true,
   "skip_h1_title": true,
   "title_cell": "Table of Contents",
   "title_sidebar": "Contents",
   "toc_cell": false,
   "toc_position": {},
   "toc_section_display": true,
   "toc_window_display": true
  }
 },
 "nbformat": 4,
 "nbformat_minor": 5
}
