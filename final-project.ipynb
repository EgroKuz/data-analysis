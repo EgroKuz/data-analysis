{
 "cells": [
  {
   "cell_type": "markdown",
   "metadata": {},
   "source": [
    "# Выпускной проект"
   ]
  },
  {
   "cell_type": "markdown",
   "metadata": {},
   "source": [
    "Цель: проанализировать клиентов регионального банка и выделить сегменты клиентов, которые склонны уходить из банка."
   ]
  },
  {
   "cell_type": "markdown",
   "metadata": {},
   "source": [
    "План\n",
    "- Загрузка данных\n",
    "- Предобработка\n",
    "- Исследование данных\n",
    "- Проверка гипотез\n",
    "- Составление промежуточного вывода о показателях влияющих на отток\n",
    "- Сегментация на основе предыдущего пункта\n",
    "- Выводы и рекомендации по сегментам для заказчика"
   ]
  },
  {
   "cell_type": "markdown",
   "metadata": {},
   "source": [
    "## Загрузка данных"
   ]
  },
  {
   "cell_type": "code",
   "execution_count": 1,
   "metadata": {},
   "outputs": [],
   "source": [
    "import pandas as pd\n",
    "import matplotlib.pyplot as plt\n",
    "import seaborn as sns\n",
    "import numpy as np\n",
    "from scipy import stats as st\n",
    "sns.set_palette('viridis')"
   ]
  },
  {
   "cell_type": "code",
   "execution_count": 2,
   "metadata": {},
   "outputs": [
    {
     "name": "stdout",
     "output_type": "stream",
     "text": [
      "<class 'pandas.core.frame.DataFrame'>\n",
      "RangeIndex: 10000 entries, 0 to 9999\n",
      "Data columns (total 12 columns):\n",
      " #   Column         Non-Null Count  Dtype  \n",
      "---  ------         --------------  -----  \n",
      " 0   USERID         10000 non-null  int64  \n",
      " 1   score          10000 non-null  float64\n",
      " 2   city           10000 non-null  object \n",
      " 3   gender         10000 non-null  object \n",
      " 4   age            9974 non-null   float64\n",
      " 5   equity         10000 non-null  int64  \n",
      " 6   balance        7705 non-null   float64\n",
      " 7   products       10000 non-null  int64  \n",
      " 8   credit_card    10000 non-null  int64  \n",
      " 9   last_activity  10000 non-null  int64  \n",
      " 10  EST_SALARY     10000 non-null  float64\n",
      " 11  churn          10000 non-null  int64  \n",
      "dtypes: float64(4), int64(6), object(2)\n",
      "memory usage: 937.6+ KB\n"
     ]
    },
    {
     "data": {
      "text/plain": [
       "None"
      ]
     },
     "metadata": {},
     "output_type": "display_data"
    },
    {
     "data": {
      "text/html": [
       "<div>\n",
       "<style scoped>\n",
       "    .dataframe tbody tr th:only-of-type {\n",
       "        vertical-align: middle;\n",
       "    }\n",
       "\n",
       "    .dataframe tbody tr th {\n",
       "        vertical-align: top;\n",
       "    }\n",
       "\n",
       "    .dataframe thead th {\n",
       "        text-align: right;\n",
       "    }\n",
       "</style>\n",
       "<table border=\"1\" class=\"dataframe\">\n",
       "  <thead>\n",
       "    <tr style=\"text-align: right;\">\n",
       "      <th></th>\n",
       "      <th>USERID</th>\n",
       "      <th>score</th>\n",
       "      <th>city</th>\n",
       "      <th>gender</th>\n",
       "      <th>age</th>\n",
       "      <th>equity</th>\n",
       "      <th>balance</th>\n",
       "      <th>products</th>\n",
       "      <th>credit_card</th>\n",
       "      <th>last_activity</th>\n",
       "      <th>EST_SALARY</th>\n",
       "      <th>churn</th>\n",
       "    </tr>\n",
       "  </thead>\n",
       "  <tbody>\n",
       "    <tr>\n",
       "      <th>0</th>\n",
       "      <td>183012</td>\n",
       "      <td>850.0</td>\n",
       "      <td>Рыбинск</td>\n",
       "      <td>Ж</td>\n",
       "      <td>25.0</td>\n",
       "      <td>1</td>\n",
       "      <td>59214.82</td>\n",
       "      <td>2</td>\n",
       "      <td>0</td>\n",
       "      <td>1</td>\n",
       "      <td>75719.14</td>\n",
       "      <td>1</td>\n",
       "    </tr>\n",
       "    <tr>\n",
       "      <th>1</th>\n",
       "      <td>146556</td>\n",
       "      <td>861.0</td>\n",
       "      <td>Рыбинск</td>\n",
       "      <td>Ж</td>\n",
       "      <td>37.0</td>\n",
       "      <td>5</td>\n",
       "      <td>850594.33</td>\n",
       "      <td>3</td>\n",
       "      <td>1</td>\n",
       "      <td>0</td>\n",
       "      <td>86621.77</td>\n",
       "      <td>0</td>\n",
       "    </tr>\n",
       "    <tr>\n",
       "      <th>2</th>\n",
       "      <td>120722</td>\n",
       "      <td>892.0</td>\n",
       "      <td>Рыбинск</td>\n",
       "      <td>Ж</td>\n",
       "      <td>30.0</td>\n",
       "      <td>0</td>\n",
       "      <td>NaN</td>\n",
       "      <td>1</td>\n",
       "      <td>1</td>\n",
       "      <td>1</td>\n",
       "      <td>107683.34</td>\n",
       "      <td>0</td>\n",
       "    </tr>\n",
       "    <tr>\n",
       "      <th>3</th>\n",
       "      <td>225363</td>\n",
       "      <td>866.0</td>\n",
       "      <td>Ярославль</td>\n",
       "      <td>Ж</td>\n",
       "      <td>51.0</td>\n",
       "      <td>5</td>\n",
       "      <td>1524746.26</td>\n",
       "      <td>2</td>\n",
       "      <td>0</td>\n",
       "      <td>1</td>\n",
       "      <td>174423.53</td>\n",
       "      <td>1</td>\n",
       "    </tr>\n",
       "    <tr>\n",
       "      <th>4</th>\n",
       "      <td>157978</td>\n",
       "      <td>730.0</td>\n",
       "      <td>Ярославль</td>\n",
       "      <td>М</td>\n",
       "      <td>34.0</td>\n",
       "      <td>5</td>\n",
       "      <td>174.00</td>\n",
       "      <td>1</td>\n",
       "      <td>1</td>\n",
       "      <td>0</td>\n",
       "      <td>67353.16</td>\n",
       "      <td>1</td>\n",
       "    </tr>\n",
       "    <tr>\n",
       "      <th>5</th>\n",
       "      <td>202305</td>\n",
       "      <td>856.0</td>\n",
       "      <td>Рыбинск</td>\n",
       "      <td>М</td>\n",
       "      <td>56.0</td>\n",
       "      <td>4</td>\n",
       "      <td>863687.24</td>\n",
       "      <td>3</td>\n",
       "      <td>1</td>\n",
       "      <td>0</td>\n",
       "      <td>156619.80</td>\n",
       "      <td>0</td>\n",
       "    </tr>\n",
       "    <tr>\n",
       "      <th>6</th>\n",
       "      <td>177259</td>\n",
       "      <td>807.0</td>\n",
       "      <td>Ярославль</td>\n",
       "      <td>Ж</td>\n",
       "      <td>39.0</td>\n",
       "      <td>3</td>\n",
       "      <td>405042.44</td>\n",
       "      <td>3</td>\n",
       "      <td>0</td>\n",
       "      <td>1</td>\n",
       "      <td>103838.32</td>\n",
       "      <td>0</td>\n",
       "    </tr>\n",
       "    <tr>\n",
       "      <th>7</th>\n",
       "      <td>218868</td>\n",
       "      <td>825.0</td>\n",
       "      <td>Ярославль</td>\n",
       "      <td>Ж</td>\n",
       "      <td>38.0</td>\n",
       "      <td>4</td>\n",
       "      <td>458145.40</td>\n",
       "      <td>2</td>\n",
       "      <td>1</td>\n",
       "      <td>1</td>\n",
       "      <td>68085.48</td>\n",
       "      <td>0</td>\n",
       "    </tr>\n",
       "    <tr>\n",
       "      <th>8</th>\n",
       "      <td>211686</td>\n",
       "      <td>923.0</td>\n",
       "      <td>Ярославль</td>\n",
       "      <td>М</td>\n",
       "      <td>54.0</td>\n",
       "      <td>5</td>\n",
       "      <td>1206337.87</td>\n",
       "      <td>2</td>\n",
       "      <td>1</td>\n",
       "      <td>0</td>\n",
       "      <td>155371.79</td>\n",
       "      <td>0</td>\n",
       "    </tr>\n",
       "    <tr>\n",
       "      <th>9</th>\n",
       "      <td>133130</td>\n",
       "      <td>906.0</td>\n",
       "      <td>Ярославль</td>\n",
       "      <td>Ж</td>\n",
       "      <td>67.0</td>\n",
       "      <td>0</td>\n",
       "      <td>NaN</td>\n",
       "      <td>1</td>\n",
       "      <td>0</td>\n",
       "      <td>1</td>\n",
       "      <td>238055.53</td>\n",
       "      <td>0</td>\n",
       "    </tr>\n",
       "    <tr>\n",
       "      <th>10</th>\n",
       "      <td>148929</td>\n",
       "      <td>927.0</td>\n",
       "      <td>Ростов</td>\n",
       "      <td>М</td>\n",
       "      <td>52.0</td>\n",
       "      <td>0</td>\n",
       "      <td>NaN</td>\n",
       "      <td>1</td>\n",
       "      <td>1</td>\n",
       "      <td>1</td>\n",
       "      <td>196820.07</td>\n",
       "      <td>0</td>\n",
       "    </tr>\n",
       "    <tr>\n",
       "      <th>11</th>\n",
       "      <td>172184</td>\n",
       "      <td>921.0</td>\n",
       "      <td>Ростов</td>\n",
       "      <td>М</td>\n",
       "      <td>41.0</td>\n",
       "      <td>0</td>\n",
       "      <td>NaN</td>\n",
       "      <td>1</td>\n",
       "      <td>1</td>\n",
       "      <td>1</td>\n",
       "      <td>217469.48</td>\n",
       "      <td>0</td>\n",
       "    </tr>\n",
       "    <tr>\n",
       "      <th>12</th>\n",
       "      <td>132970</td>\n",
       "      <td>845.0</td>\n",
       "      <td>Ярославль</td>\n",
       "      <td>Ж</td>\n",
       "      <td>31.0</td>\n",
       "      <td>3</td>\n",
       "      <td>591928.52</td>\n",
       "      <td>2</td>\n",
       "      <td>1</td>\n",
       "      <td>1</td>\n",
       "      <td>112697.16</td>\n",
       "      <td>1</td>\n",
       "    </tr>\n",
       "    <tr>\n",
       "      <th>13</th>\n",
       "      <td>166357</td>\n",
       "      <td>837.0</td>\n",
       "      <td>Рыбинск</td>\n",
       "      <td>Ж</td>\n",
       "      <td>28.0</td>\n",
       "      <td>4</td>\n",
       "      <td>302249.22</td>\n",
       "      <td>2</td>\n",
       "      <td>0</td>\n",
       "      <td>1</td>\n",
       "      <td>30950.94</td>\n",
       "      <td>0</td>\n",
       "    </tr>\n",
       "    <tr>\n",
       "      <th>14</th>\n",
       "      <td>172138</td>\n",
       "      <td>815.0</td>\n",
       "      <td>Ярославль</td>\n",
       "      <td>М</td>\n",
       "      <td>35.0</td>\n",
       "      <td>5</td>\n",
       "      <td>547499.87</td>\n",
       "      <td>2</td>\n",
       "      <td>1</td>\n",
       "      <td>1</td>\n",
       "      <td>105883.26</td>\n",
       "      <td>0</td>\n",
       "    </tr>\n",
       "    <tr>\n",
       "      <th>15</th>\n",
       "      <td>120260</td>\n",
       "      <td>731.0</td>\n",
       "      <td>Рыбинск</td>\n",
       "      <td>М</td>\n",
       "      <td>42.0</td>\n",
       "      <td>3</td>\n",
       "      <td>1480548.47</td>\n",
       "      <td>3</td>\n",
       "      <td>1</td>\n",
       "      <td>0</td>\n",
       "      <td>160974.43</td>\n",
       "      <td>0</td>\n",
       "    </tr>\n",
       "    <tr>\n",
       "      <th>16</th>\n",
       "      <td>123335</td>\n",
       "      <td>829.0</td>\n",
       "      <td>Ярославль</td>\n",
       "      <td>М</td>\n",
       "      <td>45.0</td>\n",
       "      <td>5</td>\n",
       "      <td>507842.84</td>\n",
       "      <td>1</td>\n",
       "      <td>1</td>\n",
       "      <td>1</td>\n",
       "      <td>169330.64</td>\n",
       "      <td>0</td>\n",
       "    </tr>\n",
       "    <tr>\n",
       "      <th>17</th>\n",
       "      <td>214277</td>\n",
       "      <td>793.0</td>\n",
       "      <td>Ярославль</td>\n",
       "      <td>М</td>\n",
       "      <td>53.0</td>\n",
       "      <td>3</td>\n",
       "      <td>627034.50</td>\n",
       "      <td>2</td>\n",
       "      <td>1</td>\n",
       "      <td>0</td>\n",
       "      <td>183430.19</td>\n",
       "      <td>0</td>\n",
       "    </tr>\n",
       "    <tr>\n",
       "      <th>18</th>\n",
       "      <td>136651</td>\n",
       "      <td>876.0</td>\n",
       "      <td>Ярославль</td>\n",
       "      <td>М</td>\n",
       "      <td>40.0</td>\n",
       "      <td>5</td>\n",
       "      <td>2307947.36</td>\n",
       "      <td>2</td>\n",
       "      <td>0</td>\n",
       "      <td>0</td>\n",
       "      <td>287010.61</td>\n",
       "      <td>0</td>\n",
       "    </tr>\n",
       "    <tr>\n",
       "      <th>19</th>\n",
       "      <td>127034</td>\n",
       "      <td>922.0</td>\n",
       "      <td>Рыбинск</td>\n",
       "      <td>Ж</td>\n",
       "      <td>53.0</td>\n",
       "      <td>0</td>\n",
       "      <td>NaN</td>\n",
       "      <td>1</td>\n",
       "      <td>0</td>\n",
       "      <td>0</td>\n",
       "      <td>147094.82</td>\n",
       "      <td>0</td>\n",
       "    </tr>\n",
       "  </tbody>\n",
       "</table>\n",
       "</div>"
      ],
      "text/plain": [
       "    USERID  score       city gender   age  equity     balance  products  \\\n",
       "0   183012  850.0    Рыбинск      Ж  25.0       1    59214.82         2   \n",
       "1   146556  861.0    Рыбинск      Ж  37.0       5   850594.33         3   \n",
       "2   120722  892.0    Рыбинск      Ж  30.0       0         NaN         1   \n",
       "3   225363  866.0  Ярославль      Ж  51.0       5  1524746.26         2   \n",
       "4   157978  730.0  Ярославль      М  34.0       5      174.00         1   \n",
       "5   202305  856.0    Рыбинск      М  56.0       4   863687.24         3   \n",
       "6   177259  807.0  Ярославль      Ж  39.0       3   405042.44         3   \n",
       "7   218868  825.0  Ярославль      Ж  38.0       4   458145.40         2   \n",
       "8   211686  923.0  Ярославль      М  54.0       5  1206337.87         2   \n",
       "9   133130  906.0  Ярославль      Ж  67.0       0         NaN         1   \n",
       "10  148929  927.0     Ростов      М  52.0       0         NaN         1   \n",
       "11  172184  921.0     Ростов      М  41.0       0         NaN         1   \n",
       "12  132970  845.0  Ярославль      Ж  31.0       3   591928.52         2   \n",
       "13  166357  837.0    Рыбинск      Ж  28.0       4   302249.22         2   \n",
       "14  172138  815.0  Ярославль      М  35.0       5   547499.87         2   \n",
       "15  120260  731.0    Рыбинск      М  42.0       3  1480548.47         3   \n",
       "16  123335  829.0  Ярославль      М  45.0       5   507842.84         1   \n",
       "17  214277  793.0  Ярославль      М  53.0       3   627034.50         2   \n",
       "18  136651  876.0  Ярославль      М  40.0       5  2307947.36         2   \n",
       "19  127034  922.0    Рыбинск      Ж  53.0       0         NaN         1   \n",
       "\n",
       "    credit_card  last_activity  EST_SALARY  churn  \n",
       "0             0              1    75719.14      1  \n",
       "1             1              0    86621.77      0  \n",
       "2             1              1   107683.34      0  \n",
       "3             0              1   174423.53      1  \n",
       "4             1              0    67353.16      1  \n",
       "5             1              0   156619.80      0  \n",
       "6             0              1   103838.32      0  \n",
       "7             1              1    68085.48      0  \n",
       "8             1              0   155371.79      0  \n",
       "9             0              1   238055.53      0  \n",
       "10            1              1   196820.07      0  \n",
       "11            1              1   217469.48      0  \n",
       "12            1              1   112697.16      1  \n",
       "13            0              1    30950.94      0  \n",
       "14            1              1   105883.26      0  \n",
       "15            1              0   160974.43      0  \n",
       "16            1              1   169330.64      0  \n",
       "17            1              0   183430.19      0  \n",
       "18            0              0   287010.61      0  \n",
       "19            0              0   147094.82      0  "
      ]
     },
     "execution_count": 2,
     "metadata": {},
     "output_type": "execute_result"
    }
   ],
   "source": [
    "data = pd.read_csv('/datasets/bank_scrooge.csv')\n",
    "display(data.info())\n",
    "data.head(20)"
   ]
  },
  {
   "cell_type": "code",
   "execution_count": 3,
   "metadata": {},
   "outputs": [
    {
     "data": {
      "image/png": "[encoded data removed]",
      "text/plain": [
       "<Figure size 1080x1080 with 12 Axes>"
      ]
     },
     "metadata": {
      "needs_background": "light"
     },
     "output_type": "display_data"
    }
   ],
   "source": [
    "axes = data.hist(figsize=(15, 15))\n",
    "for ax in axes.flatten():\n",
    "    ax.set_xlabel(ax.get_title())\n",
    "    ax.set_ylabel('Частота')  \n",
    "    ax.set_title(f'Гистограмма для {ax.get_title()}')"
   ]
  },
  {
   "cell_type": "code",
   "execution_count": 4,
   "metadata": {},
   "outputs": [
    {
     "data": {
      "text/plain": [
       "USERID              0\n",
       "score               0\n",
       "city                0\n",
       "gender              0\n",
       "age                26\n",
       "equity              0\n",
       "balance          2295\n",
       "products            0\n",
       "credit_card         0\n",
       "last_activity       0\n",
       "EST_SALARY          0\n",
       "churn               0\n",
       "dtype: int64"
      ]
     },
     "execution_count": 4,
     "metadata": {},
     "output_type": "execute_result"
    }
   ],
   "source": [
    "data.isna().sum()"
   ]
  },
  {
   "cell_type": "markdown",
   "metadata": {},
   "source": [
    "Вывод: В полученных данных есть пустые значения. Названия столбцов следует привести к нижнему регистру. Встречаются выбросы."
   ]
  },
  {
   "cell_type": "markdown",
   "metadata": {},
   "source": [
    "## Предобработка"
   ]
  },
  {
   "cell_type": "code",
   "execution_count": 5,
   "metadata": {},
   "outputs": [],
   "source": [
    "data.columns = data.columns.str.lower()"
   ]
  },
  {
   "cell_type": "markdown",
   "metadata": {},
   "source": [
    "Приводим названия столбцов к нижнему регистру."
   ]
  },
  {
   "cell_type": "code",
   "execution_count": 6,
   "metadata": {},
   "outputs": [],
   "source": [
    "data = data.dropna(subset=['age'])"
   ]
  },
  {
   "cell_type": "markdown",
   "metadata": {},
   "source": [
    "Пропусков всего 26. Смело избавляемся от них."
   ]
  },
  {
   "cell_type": "code",
   "execution_count": 7,
   "metadata": {},
   "outputs": [
    {
     "data": {
      "text/plain": [
       "2"
      ]
     },
     "execution_count": 7,
     "metadata": {},
     "output_type": "execute_result"
    }
   ],
   "source": [
    "data[['userid', 'age', 'gender']].duplicated().sum()"
   ]
  },
  {
   "cell_type": "code",
   "execution_count": 8,
   "metadata": {},
   "outputs": [],
   "source": [
    "data = data.loc[data[['userid', 'age', 'gender']].duplicated()==False]"
   ]
  },
  {
   "cell_type": "code",
   "execution_count": 9,
   "metadata": {},
   "outputs": [
    {
     "data": {
      "text/plain": [
       "array(['Рыбинск', 'Ярославль', 'Ростов'], dtype=object)"
      ]
     },
     "execution_count": 9,
     "metadata": {},
     "output_type": "execute_result"
    }
   ],
   "source": [
    "data['city'].unique()"
   ]
  },
  {
   "cell_type": "markdown",
   "metadata": {},
   "source": [
    "Обнаружено 2 дупликата. Удалим их."
   ]
  },
  {
   "cell_type": "code",
   "execution_count": 10,
   "metadata": {},
   "outputs": [
    {
     "data": {
      "text/plain": [
       "86.0"
      ]
     },
     "metadata": {},
     "output_type": "display_data"
    },
    {
     "data": {
      "text/plain": [
       "18.0"
      ]
     },
     "metadata": {},
     "output_type": "display_data"
    }
   ],
   "source": [
    "display(data['age'].max())\n",
    "display(data['age'].min())"
   ]
  },
  {
   "cell_type": "markdown",
   "metadata": {},
   "source": [
    "Аномалий не обнаружено."
   ]
  },
  {
   "cell_type": "code",
   "execution_count": 11,
   "metadata": {
    "scrolled": false
   },
   "outputs": [
    {
     "data": {
      "image/png": "[encoded data removed]",
      "text/plain": [
       "<Figure size 576x576 with 1 Axes>"
      ]
     },
     "metadata": {
      "needs_background": "light"
     },
     "output_type": "display_data"
    }
   ],
   "source": [
    "plt.figure(figsize=(8, 8))\n",
    "balance_boxplot = sns.boxplot(y='balance', data=data)\n",
    "balance_boxplot.set_ylim(0, 3000000);"
   ]
  },
  {
   "cell_type": "code",
   "execution_count": 12,
   "metadata": {
    "scrolled": false
   },
   "outputs": [
    {
     "data": {
      "image/png": "[encoded data removed]",
      "text/plain": [
       "<Figure size 576x576 with 1 Axes>"
      ]
     },
     "metadata": {
      "needs_background": "light"
     },
     "output_type": "display_data"
    }
   ],
   "source": [
    "plt.figure(figsize=(8, 8))\n",
    "salary_boxplot = sns.boxplot(y='est_salary', data=data)\n",
    "salary_boxplot.set_ylim(0, 500000);"
   ]
  },
  {
   "cell_type": "markdown",
   "metadata": {},
   "source": [
    "Встречаются выбросы в столбцах с доходом и балансом."
   ]
  },
  {
   "cell_type": "markdown",
   "metadata": {},
   "source": [
    "Вывод: Встретились пропуски в возрасте и в балансе на счету. Удалили пропуски для возраста, а баланс не трогаем, чтобы не исказить данные. Удалили 2 дупликата. Аномалии не обнаружены."
   ]
  },
  {
   "cell_type": "markdown",
   "metadata": {},
   "source": [
    "## Исследование данных"
   ]
  },
  {
   "cell_type": "markdown",
   "metadata": {},
   "source": [
    "### Гистограммы распределения плотности вероятности"
   ]
  },
  {
   "cell_type": "code",
   "execution_count": 13,
   "metadata": {},
   "outputs": [
    {
     "data": {
      "image/png": "[encoded data removed]",
      "text/plain": [
       "<Figure size 864x432 with 1 Axes>"
      ]
     },
     "metadata": {
      "needs_background": "light"
     },
     "output_type": "display_data"
    }
   ],
   "source": [
    "plt.figure(figsize=(12, 6))\n",
    "score_hist = sns.histplot(data=data, x='score', hue='churn', stat='density', common_norm=False, palette='viridis')\n",
    "score_hist.set_title('Распределение плотности вероятности для кредитного скоринга')\n",
    "score_hist.set_ylabel('Плотность')\n",
    "score_hist.set_xlabel('Оценка кредитного скоринга');"
   ]
  },
  {
   "cell_type": "markdown",
   "metadata": {},
   "source": [
    "Вывод: Более склонны к уходу клиенты, у которых оценка кредитного скоринга от 820 до 940. Пик достигается примерно на 860."
   ]
  },
  {
   "cell_type": "code",
   "execution_count": 14,
   "metadata": {},
   "outputs": [
    {
     "data": {
      "image/png": "[encoded data removed]",
      "text/plain": [
       "<Figure size 864x432 with 1 Axes>"
      ]
     },
     "metadata": {
      "needs_background": "light"
     },
     "output_type": "display_data"
    }
   ],
   "source": [
    "plt.figure(figsize=(12, 6))\n",
    "age_hist = sns.histplot(data=data, x='age', hue='churn', stat='density',\\\n",
    "                        bins=40, common_norm=False, palette='viridis')\n",
    "age_hist.set_title('Распределение плотности вероятности для возраста')\n",
    "age_hist.set_ylabel('Плотность')\n",
    "age_hist.set_xlabel('Возраст');"
   ]
  },
  {
   "cell_type": "markdown",
   "metadata": {},
   "source": [
    "Вывод: Клиенты от 25 до 35 и от 50 до 60, чаще уходят из банка."
   ]
  },
  {
   "cell_type": "code",
   "execution_count": 15,
   "metadata": {},
   "outputs": [
    {
     "data": {
      "image/png": "[encoded data removed]",
      "text/plain": [
       "<Figure size 864x432 with 1 Axes>"
      ]
     },
     "metadata": {
      "needs_background": "light"
     },
     "output_type": "display_data"
    }
   ],
   "source": [
    "plt.figure(figsize=(12, 6))\n",
    "equity_hist = sns.histplot(data=data, x='equity', hue='churn', stat='density',\\\n",
    "                           bins=9, common_norm=False, palette='viridis')\n",
    "equity_hist.set_title('Распределение плотности вероятности по кол-ву собтвенности')\n",
    "equity_hist.set_ylabel('Плотность')\n",
    "equity_hist.set_xlabel('Оценка кол-ва собственности');"
   ]
  },
  {
   "cell_type": "markdown",
   "metadata": {},
   "source": [
    "Вывод: При оценке кол-ва собственности от 3 вероятность ухода клиента больше."
   ]
  },
  {
   "cell_type": "code",
   "execution_count": 16,
   "metadata": {},
   "outputs": [
    {
     "data": {
      "image/png": "[encoded data removed]",
      "text/plain": [
       "<Figure size 720x432 with 1 Axes>"
      ]
     },
     "metadata": {
      "needs_background": "light"
     },
     "output_type": "display_data"
    }
   ],
   "source": [
    "plt.figure(figsize=(10, 6))\n",
    "products_hist = sns.histplot(data=data, x='products', hue='churn', stat='density',\\\n",
    "                             bins=5, common_norm=False, palette='viridis')\n",
    "products_hist.set_title('Распределение плотности вероятности по кол-ву продуктов')\n",
    "products_hist.set_ylabel('Плотность')\n",
    "products_hist.set_xlabel('Кол-во продуктов');"
   ]
  },
  {
   "cell_type": "markdown",
   "metadata": {},
   "source": [
    "Вывод: При оценке кол-ва продуктов от 2 вероятность ухода клиента больше."
   ]
  },
  {
   "cell_type": "code",
   "execution_count": 17,
   "metadata": {},
   "outputs": [
    {
     "data": {
      "image/png": "[encoded data removed]",
      "text/plain": [
       "<Figure size 864x432 with 1 Axes>"
      ]
     },
     "metadata": {
      "needs_background": "light"
     },
     "output_type": "display_data"
    }
   ],
   "source": [
    "plt.figure(figsize=(12, 6))\n",
    "salary_hist = sns.histplot(data=data, x='est_salary', hue='churn',\\\n",
    "                            stat='density', common_norm=False, palette='viridis')\n",
    "salary_hist.set_title('Распределение плотности вероятности по доходам')\n",
    "salary_hist.set_ylabel('Плотность')\n",
    "salary_hist.set_xlabel('Доход')\n",
    "salary_hist.set_xlim(0, 350000);"
   ]
  },
  {
   "cell_type": "markdown",
   "metadata": {},
   "source": [
    "Вывод: При доходе от 100тыс.р. клиенты более склоны к уходу."
   ]
  },
  {
   "cell_type": "code",
   "execution_count": 18,
   "metadata": {},
   "outputs": [
    {
     "data": {
      "image/png": "[encoded data removed]",
      "text/plain": [
       "<Figure size 864x432 with 1 Axes>"
      ]
     },
     "metadata": {
      "needs_background": "light"
     },
     "output_type": "display_data"
    }
   ],
   "source": [
    "balance_data = data.query('balance >= 0')\n",
    "\n",
    "plt.figure(figsize=(12, 6))\n",
    "balance_hist = sns.histplot(data=balance_data, x='balance', hue='churn',\\\n",
    "                            stat='density', common_norm=False, palette='viridis')\n",
    "balance_hist.set_title('Распределение плотности вероятности по балансу')\n",
    "balance_hist.set_ylabel('Плотность')\n",
    "balance_hist.set_xlabel('Баланс на счете')\n",
    "balance_hist.set_xlim(0, 3000000);"
   ]
  },
  {
   "cell_type": "markdown",
   "metadata": {},
   "source": [
    "Вывод: При балансе на счете от 700тыс.р. клиенты более склоны к уходу."
   ]
  },
  {
   "cell_type": "markdown",
   "metadata": {},
   "source": [
    "### Корреляционная матрица"
   ]
  },
  {
   "cell_type": "code",
   "execution_count": 19,
   "metadata": {},
   "outputs": [
    {
     "data": {
      "image/png": "[encoded data removed]",
      "text/plain": [
       "<Figure size 1008x504 with 2 Axes>"
      ]
     },
     "metadata": {
      "needs_background": "light"
     },
     "output_type": "display_data"
    }
   ],
   "source": [
    "data_corr = data.drop(['userid', 'city', 'gender', 'credit_card', 'last_activity'], axis=1)\n",
    "\n",
    "plt.figure(figsize=(14, 7))\n",
    "sns.heatmap(data=data_corr.corr(), annot=True, fmt='.0%', linewidths=1, vmin=-1, vmax=1, cmap='viridis')\n",
    "plt.title('Тепловая карта корреляции');"
   ]
  },
  {
   "cell_type": "markdown",
   "metadata": {},
   "source": [
    "Вывод: Средняя зависимость наблюдается между кол-вом собственности и кол-вом продуктов клиента (43%). Есть довольно слабая зависимость между кол-вом продуктов и оттоком, кол-вом собственности и оттоком (27% и 30% соответственно)."
   ]
  },
  {
   "cell_type": "markdown",
   "metadata": {},
   "source": [
    "<b>Общий вывод:</b> В основном чем больше у клиентов доходов, имущества, баланса и продуктов тем больше шанс, что он уйдет. Также высокий процент ухода у пользователей с кредитным скорингом от 820 до 940 и возрастом от 25 до 35 и от 50 до 60.\n",
    "Есть небольшая зависимость между кол-вом продуктов и оттоком (27%), кол-вом собственности и оттоком (30%)."
   ]
  },
  {
   "cell_type": "markdown",
   "metadata": {},
   "source": [
    "## Проверка гипотез"
   ]
  },
  {
   "cell_type": "markdown",
   "metadata": {},
   "source": [
    "### Первая гипотеза: Различие дохода между ушедшими клиентами и оставшимися"
   ]
  },
  {
   "cell_type": "markdown",
   "metadata": {},
   "source": [
    "Нулевая гипотеза: разницы между ушедшими клиентами и оставшимися в доходах нет. Альтернативная гипотеза: разница есть."
   ]
  },
  {
   "cell_type": "code",
   "execution_count": 20,
   "metadata": {},
   "outputs": [],
   "source": [
    "left_data = data.query('churn == 1')\n",
    "stayed_data = data.query('churn == 0')"
   ]
  },
  {
   "cell_type": "code",
   "execution_count": 21,
   "metadata": {},
   "outputs": [
    {
     "name": "stdout",
     "output_type": "stream",
     "text": [
      "p-value: 0.8667175285359087\n",
      "Нет оснований отвергнуть нулевую гипотезу\n"
     ]
    }
   ],
   "source": [
    "alpha = 0.05\n",
    "salary_results = st.ttest_ind(left_data['est_salary'], stayed_data['est_salary'])\n",
    "print('p-value:', salary_results.pvalue)\n",
    "if salary_results.pvalue < alpha:\n",
    "    print('Отвергаем нулевую гипотезу')\n",
    "else:\n",
    "    print('Нет оснований отвергнуть нулевую гипотезу')"
   ]
  },
  {
   "cell_type": "markdown",
   "metadata": {},
   "source": [
    "### Вторая гипотеза: Различие баланса между ушедшими клиентами и оставшимися"
   ]
  },
  {
   "cell_type": "markdown",
   "metadata": {},
   "source": [
    "Нулевая гипотеза: разницы между ушедшими клиентами и оставшимися в балансе нет. Альтернативная гипотеза: разница есть."
   ]
  },
  {
   "cell_type": "code",
   "execution_count": 22,
   "metadata": {},
   "outputs": [],
   "source": [
    "left_balance_data = balance_data.query('churn == 1')\n",
    "stayed_balance_data = balance_data.query('churn == 0')"
   ]
  },
  {
   "cell_type": "code",
   "execution_count": 23,
   "metadata": {},
   "outputs": [
    {
     "name": "stdout",
     "output_type": "stream",
     "text": [
      "p-value: 4.441165423249354e-14\n",
      "Отвергаем нулевую гипотезу\n"
     ]
    }
   ],
   "source": [
    "alpha = 0.05\n",
    "balance_results = st.ttest_ind(stayed_balance_data['balance'], left_balance_data['balance'])\n",
    "print('p-value:', balance_results.pvalue)\n",
    "if balance_results.pvalue < alpha:\n",
    "    print('Отвергаем нулевую гипотезу')\n",
    "else:\n",
    "    print('Нет оснований отвергнуть нулевую гипотезу')"
   ]
  },
  {
   "cell_type": "markdown",
   "metadata": {},
   "source": [
    "<b>Общий вывод:</b> Первую гипотезу мы не отвергаем, поэтому есть основания говорить, что доходы не отличаются. Вторую же гипотезу отклоняем в пользу альтернативной, что дает право говорить, что баланс у оставшихся клиентов отличается от ушедших."
   ]
  },
  {
   "cell_type": "markdown",
   "metadata": {},
   "source": [
    "## Промежуточный вывод о показателях влияющих на отток"
   ]
  },
  {
   "cell_type": "markdown",
   "metadata": {},
   "source": [
    "Основными показателями влияющих на отток можно считать: баланс на счете, доход, кол-во имущества и продуктов банка, а также возраст. Клиенты от 25 до 35 и от 50 до 60, чаще уходят из банка. При доходе от 100 тыс.р. и балансе от 700 тыс.р. клиенты более склоны к уходу. При оценке кол-ва продуктов от 2 и оценке кол-ва собственности от 3 вероятность ухода клиента выше. Также можно сегментировать по полу и городу."
   ]
  },
  {
   "cell_type": "markdown",
   "metadata": {},
   "source": [
    "## Сегментация"
   ]
  },
  {
   "cell_type": "markdown",
   "metadata": {},
   "source": [
    "Будем считать, что если в сегменте больше 30% клиентов ушло, то это нужный нам сегмент."
   ]
  },
  {
   "cell_type": "code",
   "execution_count": 24,
   "metadata": {},
   "outputs": [],
   "source": [
    "def city_seg(df):\n",
    "    for city in df['city'].unique():\n",
    "        if df[df['city'] == city]['churn'].mean() > 0.3 and len(df[df['city'] == city]) > 500:\n",
    "            print('Сегмент', city, df[df['city'] == city]['churn'].mean(), len(df[df['city'] == city]))"
   ]
  },
  {
   "cell_type": "code",
   "execution_count": 25,
   "metadata": {},
   "outputs": [],
   "source": [
    "def gender_seg(df):\n",
    "    for gender in df['gender'].unique():\n",
    "        if df[df['gender'] == gender]['churn'].mean() > 0.3 and len(df[df['gender'] == gender]) > 500:\n",
    "            print('Сегмент', gender, df[df['gender'] == gender]['churn'].mean(), len(df[df['gender'] == gender]))"
   ]
  },
  {
   "cell_type": "code",
   "execution_count": 26,
   "metadata": {},
   "outputs": [],
   "source": [
    "def seg(df):\n",
    "    if df['churn'].mean() > 0.3 and len(df) > 500:\n",
    "        print('Нужный сегмент:', df['churn'].mean(), len(df))"
   ]
  },
  {
   "cell_type": "markdown",
   "metadata": {},
   "source": [
    "Добавили функции для упрощения"
   ]
  },
  {
   "cell_type": "markdown",
   "metadata": {},
   "source": [
    "### Баланс"
   ]
  },
  {
   "cell_type": "code",
   "execution_count": 27,
   "metadata": {},
   "outputs": [
    {
     "name": "stdout",
     "output_type": "stream",
     "text": [
      "Нужный сегмент: 0.39737108190091003 1978\n"
     ]
    }
   ],
   "source": [
    "seg(data.query('balance > 700000 and est_salary > 100000'))"
   ]
  },
  {
   "cell_type": "code",
   "execution_count": 28,
   "metadata": {},
   "outputs": [
    {
     "name": "stdout",
     "output_type": "stream",
     "text": [
      "Нужный сегмент: 0.34741606940777064 2651\n"
     ]
    }
   ],
   "source": [
    "seg(data.query('balance > 700000 and equity > 2'))"
   ]
  },
  {
   "cell_type": "code",
   "execution_count": 29,
   "metadata": {},
   "outputs": [
    {
     "name": "stdout",
     "output_type": "stream",
     "text": [
      "Нужный сегмент: 0.3637440758293839 2532\n"
     ]
    }
   ],
   "source": [
    "seg(data.query('balance > 700000 and products >= 2')) "
   ]
  },
  {
   "cell_type": "code",
   "execution_count": 30,
   "metadata": {},
   "outputs": [
    {
     "name": "stdout",
     "output_type": "stream",
     "text": [
      "Нужный сегмент: 0.45577211394302847 1334\n"
     ]
    }
   ],
   "source": [
    "seg(data.query('balance > 700000 and (25 <= age <= 35 or 50 <= age <= 60)'))"
   ]
  },
  {
   "cell_type": "code",
   "execution_count": 31,
   "metadata": {},
   "outputs": [
    {
     "name": "stdout",
     "output_type": "stream",
     "text": [
      "Нужный сегмент: 0.4019704433497537 2030\n"
     ]
    }
   ],
   "source": [
    "seg(data.query('balance > 700000 and (820 <= score <= 940)'))"
   ]
  },
  {
   "cell_type": "code",
   "execution_count": 32,
   "metadata": {},
   "outputs": [
    {
     "name": "stdout",
     "output_type": "stream",
     "text": [
      "Сегмент Ярославль 0.3730747290359384 1753\n"
     ]
    }
   ],
   "source": [
    "city_seg(data.query('balance > 700000'))"
   ]
  },
  {
   "cell_type": "code",
   "execution_count": 33,
   "metadata": {},
   "outputs": [
    {
     "name": "stdout",
     "output_type": "stream",
     "text": [
      "Сегмент М 0.4434544208361892 1459\n"
     ]
    }
   ],
   "source": [
    "gender_seg(data.query('balance > 700000'))"
   ]
  },
  {
   "cell_type": "markdown",
   "metadata": {},
   "source": [
    "Ключевые сегменты для баланса на счете от 700 тыс.р.:\n",
    "- доход от 100 тыс.р. (40%)\n",
    "- оценка кол-ва имущества от 3 (35%)\n",
    "- оценка кол-ва продуктов от 2 (36%)\n",
    "- возраст 25-35 и 50-60 (46%)\n",
    "- кредитный скоринг (40%)\n",
    "- города: Ярославль и Ростов (37% и 32%)\n",
    "- мужчины (44%)"
   ]
  },
  {
   "cell_type": "markdown",
   "metadata": {},
   "source": [
    "### Доход"
   ]
  },
  {
   "cell_type": "code",
   "execution_count": 34,
   "metadata": {},
   "outputs": [
    {
     "name": "stdout",
     "output_type": "stream",
     "text": [
      "Нужный сегмент: 0.322099805573558 3086\n"
     ]
    }
   ],
   "source": [
    "seg(data.query('est_salary > 100000 and equity > 2'))"
   ]
  },
  {
   "cell_type": "code",
   "execution_count": 35,
   "metadata": {},
   "outputs": [],
   "source": [
    "seg(data.query('est_salary > 100000 and products >= 2'))"
   ]
  },
  {
   "cell_type": "code",
   "execution_count": 36,
   "metadata": {},
   "outputs": [],
   "source": [
    "seg(data.query('est_salary > 100000 and (25 <= age <= 35 or 50 <= age <= 60)'))"
   ]
  },
  {
   "cell_type": "code",
   "execution_count": 37,
   "metadata": {},
   "outputs": [],
   "source": [
    "seg(data.query('est_salary > 100000 and (820 <= score <= 940)'))"
   ]
  },
  {
   "cell_type": "code",
   "execution_count": 38,
   "metadata": {},
   "outputs": [],
   "source": [
    "city_seg(data.query('est_salary > 100000'))"
   ]
  },
  {
   "cell_type": "code",
   "execution_count": 39,
   "metadata": {},
   "outputs": [],
   "source": [
    "gender_seg(data.query('est_salary > 100000'))"
   ]
  },
  {
   "cell_type": "markdown",
   "metadata": {},
   "source": [
    "Ключевые сегменты для дохода от 100 тыс.р.:\n",
    "- баланс от 700 тыс.р. (40%)\n",
    "- оценка кол-ва имущества от 3 (32%)"
   ]
  },
  {
   "cell_type": "markdown",
   "metadata": {},
   "source": [
    "### Кол-во имущества"
   ]
  },
  {
   "cell_type": "code",
   "execution_count": 40,
   "metadata": {},
   "outputs": [],
   "source": [
    "seg(data.query('equity > 2 and products >= 2'))"
   ]
  },
  {
   "cell_type": "code",
   "execution_count": 41,
   "metadata": {},
   "outputs": [
    {
     "name": "stdout",
     "output_type": "stream",
     "text": [
      "Нужный сегмент: 0.3392727272727273 2750\n"
     ]
    }
   ],
   "source": [
    "seg(data.query('equity > 2 and (25 <= age <= 35 or 50 <= age <= 60)'))"
   ]
  },
  {
   "cell_type": "code",
   "execution_count": 42,
   "metadata": {},
   "outputs": [
    {
     "name": "stdout",
     "output_type": "stream",
     "text": [
      "Нужный сегмент: 0.3274725274725275 3640\n"
     ]
    }
   ],
   "source": [
    "seg(data.query('equity > 2 and (820 <= score <= 940)'))"
   ]
  },
  {
   "cell_type": "code",
   "execution_count": 43,
   "metadata": {},
   "outputs": [],
   "source": [
    "city_seg(data.query('equity > 2'))"
   ]
  },
  {
   "cell_type": "code",
   "execution_count": 44,
   "metadata": {},
   "outputs": [
    {
     "name": "stdout",
     "output_type": "stream",
     "text": [
      "Сегмент М 0.3547322083639032 2726\n"
     ]
    }
   ],
   "source": [
    "gender_seg(data.query('equity > 2'))"
   ]
  },
  {
   "cell_type": "markdown",
   "metadata": {},
   "source": [
    "Ключевые сегменты для оценки кол-ва имущества от 3:\n",
    "- доход от 100 тыс.р. (32%)\n",
    "- возраст 25-35 и 50-60 (34%)\n",
    "- кредитный скоринг (32%)\n",
    "- мужчины (35%)"
   ]
  },
  {
   "cell_type": "markdown",
   "metadata": {},
   "source": [
    "### Кол-во продуктов"
   ]
  },
  {
   "cell_type": "code",
   "execution_count": 45,
   "metadata": {},
   "outputs": [
    {
     "name": "stdout",
     "output_type": "stream",
     "text": [
      "Нужный сегмент: 0.3045078196872125 3261\n"
     ]
    }
   ],
   "source": [
    "seg(data.query('products >= 2 and (25 <= age <= 35 or 50 <= age <= 60)'))"
   ]
  },
  {
   "cell_type": "code",
   "execution_count": 46,
   "metadata": {},
   "outputs": [
    {
     "name": "stdout",
     "output_type": "stream",
     "text": [
      "Нужный сегмент: 0.30499122146977675 3987\n"
     ]
    }
   ],
   "source": [
    "seg(data.query('products >= 2 and (820 <= score <= 940)'))"
   ]
  },
  {
   "cell_type": "code",
   "execution_count": 47,
   "metadata": {},
   "outputs": [],
   "source": [
    "city_seg(data.query('products >= 2'))"
   ]
  },
  {
   "cell_type": "code",
   "execution_count": 48,
   "metadata": {},
   "outputs": [
    {
     "name": "stdout",
     "output_type": "stream",
     "text": [
      "Сегмент М 0.3168440826549781 3194\n"
     ]
    }
   ],
   "source": [
    "gender_seg(data.query('products >= 2'))"
   ]
  },
  {
   "cell_type": "markdown",
   "metadata": {},
   "source": [
    "Ключевые сегменты для оценки кол-ва продуктов банка от 2:\n",
    "- баланс от 700 тыс.р. (36%)\n",
    "- возраст 25-35 и 50-60 (30%)\n",
    "- кредитный скоринг (30%)\n",
    "- мужчины (31%)"
   ]
  },
  {
   "cell_type": "markdown",
   "metadata": {},
   "source": [
    "### Возраст"
   ]
  },
  {
   "cell_type": "code",
   "execution_count": 49,
   "metadata": {},
   "outputs": [],
   "source": [
    "seg(data.query('(25 <= age <= 35 or 50 <= age <= 60) and (820 <= score <= 940)'))"
   ]
  },
  {
   "cell_type": "code",
   "execution_count": 50,
   "metadata": {},
   "outputs": [],
   "source": [
    "city_seg(data.query('25 <= age <= 35 or 50 <= age <= 60'))"
   ]
  },
  {
   "cell_type": "code",
   "execution_count": 51,
   "metadata": {},
   "outputs": [],
   "source": [
    "gender_seg(data.query('25 <= age <= 35 or 50 <= age <= 60'))"
   ]
  },
  {
   "cell_type": "markdown",
   "metadata": {},
   "source": [
    "Ключевые сегменты для возраста:\n",
    "- баланс от 700 тыс.р. (46%)\n",
    "- оценка кол-ва имущества от 3 (35%)\n",
    "- оценка кол-ва продуктов от 2 (36%)"
   ]
  },
  {
   "cell_type": "markdown",
   "metadata": {},
   "source": [
    "## Выводы и рекомендации"
   ]
  },
  {
   "cell_type": "markdown",
   "metadata": {},
   "source": [
    "Нужно было проанализировать клиентов банка и выделить сегменты склонных уходить клиентов. В полученных данных встретились пустые значения, которые не трогали, чтобы ничего не исказить. Также выяснилось, что в основном чем больше у клиента доходов, имущества, баланса и продуктов тем больше шанс, что он уйдет. Также часто уходят пользователи с кредитным скорингом от 820 до 940 и возрастом 25-35 и от 50 до 60. Основные потери клиентов видны во всех сегментах, связанных с балансом от 700 тыс.р. Возможно пользователей не устраивает, что их баланс простаивает, возможно нет каких-либо интересных предложений по вкладам и т.д. Также высокие показатели у сегментов, связанных с кол-вом продуктов и имуществом. Возможно здесь такая же проблема, клиенты недовольны качеством продуктов."
   ]
  },
  {
   "cell_type": "markdown",
   "metadata": {},
   "source": [
    "# Ссылка на презентацию"
   ]
  },
  {
   "cell_type": "markdown",
   "metadata": {},
   "source": [
    "Презентация: https://disk.yandex.ru/i/XCJjdctSIg5qLg"
   ]
  },
  {
   "cell_type": "code",
   "execution_count": null,
   "metadata": {},
   "outputs": [],
   "source": []
  }
 ],
 "metadata": {
  "ExecuteTimeLog": [
   {
    "duration": 1392,
    "start_time": "2025-02-22T16:40:47.351Z"
   },
   {
    "duration": 137,
    "start_time": "2025-02-22T16:41:27.087Z"
   },
   {
    "duration": 62,
    "start_time": "2025-02-22T16:42:25.245Z"
   },
   {
    "duration": 64,
    "start_time": "2025-02-22T16:43:05.471Z"
   },
   {
    "duration": 1581,
    "start_time": "2025-02-22T16:43:29.087Z"
   },
   {
    "duration": 7,
    "start_time": "2025-02-22T16:44:26.299Z"
   },
   {
    "duration": 4,
    "start_time": "2025-02-22T16:46:13.369Z"
   },
   {
    "duration": 16,
    "start_time": "2025-02-22T16:46:50.557Z"
   },
   {
    "duration": 8,
    "start_time": "2025-02-22T16:46:59.352Z"
   },
   {
    "duration": 4,
    "start_time": "2025-02-22T16:47:16.380Z"
   },
   {
    "duration": 1132,
    "start_time": "2025-02-22T16:55:36.390Z"
   },
   {
    "duration": 9,
    "start_time": "2025-02-22T16:55:59.151Z"
   },
   {
    "duration": 66,
    "start_time": "2025-02-22T16:57:11.310Z"
   },
   {
    "duration": 8,
    "start_time": "2025-02-22T16:57:17.075Z"
   },
   {
    "duration": 11,
    "start_time": "2025-02-22T16:57:58.599Z"
   },
   {
    "duration": 5,
    "start_time": "2025-02-22T16:58:28.494Z"
   },
   {
    "duration": 372,
    "start_time": "2025-02-22T16:59:15.701Z"
   },
   {
    "duration": 442,
    "start_time": "2025-02-22T16:59:30.561Z"
   },
   {
    "duration": 13,
    "start_time": "2025-02-22T17:00:23.399Z"
   },
   {
    "duration": 1506,
    "start_time": "2025-02-23T14:25:20.697Z"
   },
   {
    "duration": 83,
    "start_time": "2025-02-23T14:25:22.205Z"
   },
   {
    "duration": 1549,
    "start_time": "2025-02-23T14:25:22.290Z"
   },
   {
    "duration": 8,
    "start_time": "2025-02-23T14:25:23.841Z"
   },
   {
    "duration": 3,
    "start_time": "2025-02-23T14:25:23.851Z"
   },
   {
    "duration": 7,
    "start_time": "2025-02-23T14:25:23.856Z"
   },
   {
    "duration": 23,
    "start_time": "2025-02-23T14:25:23.864Z"
   },
   {
    "duration": 9,
    "start_time": "2025-02-23T14:25:23.889Z"
   },
   {
    "duration": 11,
    "start_time": "2025-02-23T14:25:23.899Z"
   },
   {
    "duration": 110,
    "start_time": "2025-02-23T14:42:50.615Z"
   },
   {
    "duration": 3,
    "start_time": "2025-02-23T14:42:59.611Z"
   },
   {
    "duration": 304,
    "start_time": "2025-02-23T14:43:03.336Z"
   },
   {
    "duration": 10,
    "start_time": "2025-02-23T14:43:35.343Z"
   },
   {
    "duration": 407,
    "start_time": "2025-02-23T14:44:04.610Z"
   },
   {
    "duration": 320,
    "start_time": "2025-02-23T14:45:10.925Z"
   },
   {
    "duration": 211,
    "start_time": "2025-02-23T14:45:54.506Z"
   },
   {
    "duration": 316,
    "start_time": "2025-02-23T14:46:04.324Z"
   },
   {
    "duration": 343,
    "start_time": "2025-02-23T14:48:01.213Z"
   },
   {
    "duration": 294,
    "start_time": "2025-02-23T14:48:20.456Z"
   },
   {
    "duration": 6,
    "start_time": "2025-02-23T14:50:11.630Z"
   },
   {
    "duration": 412,
    "start_time": "2025-02-23T14:50:16.736Z"
   },
   {
    "duration": 306,
    "start_time": "2025-02-23T14:51:36.394Z"
   },
   {
    "duration": 4,
    "start_time": "2025-02-23T14:51:46.116Z"
   },
   {
    "duration": 309,
    "start_time": "2025-02-23T14:51:51.923Z"
   },
   {
    "duration": 319,
    "start_time": "2025-02-23T14:52:10.543Z"
   },
   {
    "duration": 299,
    "start_time": "2025-02-23T14:52:17.328Z"
   },
   {
    "duration": 11,
    "start_time": "2025-02-23T14:54:20.666Z"
   },
   {
    "duration": 4,
    "start_time": "2025-02-23T14:54:23.942Z"
   },
   {
    "duration": 1265,
    "start_time": "2025-02-23T14:56:45.683Z"
   },
   {
    "duration": 73,
    "start_time": "2025-02-23T14:56:46.950Z"
   },
   {
    "duration": 1562,
    "start_time": "2025-02-23T14:56:47.024Z"
   },
   {
    "duration": 13,
    "start_time": "2025-02-23T14:56:48.587Z"
   },
   {
    "duration": 5,
    "start_time": "2025-02-23T14:56:48.602Z"
   },
   {
    "duration": 18,
    "start_time": "2025-02-23T14:56:48.609Z"
   },
   {
    "duration": 10,
    "start_time": "2025-02-23T14:56:48.629Z"
   },
   {
    "duration": 28,
    "start_time": "2025-02-23T14:56:48.640Z"
   },
   {
    "duration": 30,
    "start_time": "2025-02-23T14:56:48.670Z"
   },
   {
    "duration": 324,
    "start_time": "2025-02-23T14:56:48.702Z"
   },
   {
    "duration": 423,
    "start_time": "2025-02-23T14:57:15.687Z"
   },
   {
    "duration": 249,
    "start_time": "2025-02-23T14:58:25.237Z"
   },
   {
    "duration": 6862,
    "start_time": "2025-02-23T14:59:05.928Z"
   },
   {
    "duration": 129,
    "start_time": "2025-02-23T15:00:47.773Z"
   },
   {
    "duration": 95,
    "start_time": "2025-02-23T15:03:40.196Z"
   },
   {
    "duration": 115,
    "start_time": "2025-02-23T15:03:47.092Z"
   },
   {
    "duration": 96,
    "start_time": "2025-02-23T15:04:03.436Z"
   },
   {
    "duration": 101,
    "start_time": "2025-02-23T15:04:43.013Z"
   },
   {
    "duration": 96,
    "start_time": "2025-02-23T15:06:04.363Z"
   },
   {
    "duration": 259,
    "start_time": "2025-02-23T15:06:08.361Z"
   },
   {
    "duration": 6751,
    "start_time": "2025-02-23T15:06:29.519Z"
   },
   {
    "duration": 2,
    "start_time": "2025-02-23T15:08:26.270Z"
   },
   {
    "duration": 637,
    "start_time": "2025-02-23T15:09:29.992Z"
   },
   {
    "duration": 308,
    "start_time": "2025-02-23T15:10:43.156Z"
   },
   {
    "duration": 353,
    "start_time": "2025-02-23T15:10:54.838Z"
   },
   {
    "duration": 350,
    "start_time": "2025-02-23T15:17:20.983Z"
   },
   {
    "duration": 321,
    "start_time": "2025-02-23T15:17:50.100Z"
   },
   {
    "duration": 301,
    "start_time": "2025-02-23T15:18:38.700Z"
   },
   {
    "duration": 308,
    "start_time": "2025-02-23T15:19:08.636Z"
   },
   {
    "duration": 245,
    "start_time": "2025-02-23T15:19:10.432Z"
   },
   {
    "duration": 360,
    "start_time": "2025-02-23T15:19:12.790Z"
   },
   {
    "duration": 247,
    "start_time": "2025-02-23T15:21:09.220Z"
   },
   {
    "duration": 320,
    "start_time": "2025-02-23T15:21:22.722Z"
   },
   {
    "duration": 621,
    "start_time": "2025-02-23T15:21:54.879Z"
   },
   {
    "duration": 249,
    "start_time": "2025-02-23T15:22:23.528Z"
   },
   {
    "duration": 333,
    "start_time": "2025-02-23T15:22:37.272Z"
   },
   {
    "duration": 338,
    "start_time": "2025-02-23T15:22:53.702Z"
   },
   {
    "duration": 356,
    "start_time": "2025-02-23T15:24:56.778Z"
   },
   {
    "duration": 335,
    "start_time": "2025-02-23T15:25:32.407Z"
   },
   {
    "duration": 365,
    "start_time": "2025-02-23T15:25:37.658Z"
   },
   {
    "duration": 272,
    "start_time": "2025-02-23T15:27:14.628Z"
   },
   {
    "duration": 281,
    "start_time": "2025-02-23T15:27:32.673Z"
   },
   {
    "duration": 1336,
    "start_time": "2025-02-25T16:16:55.468Z"
   },
   {
    "duration": 56,
    "start_time": "2025-02-25T16:16:56.806Z"
   },
   {
    "duration": 1251,
    "start_time": "2025-02-25T16:16:56.863Z"
   },
   {
    "duration": 7,
    "start_time": "2025-02-25T16:16:58.116Z"
   },
   {
    "duration": 35,
    "start_time": "2025-02-25T16:16:58.125Z"
   },
   {
    "duration": 9,
    "start_time": "2025-02-25T16:16:58.161Z"
   },
   {
    "duration": 7,
    "start_time": "2025-02-25T16:16:58.172Z"
   },
   {
    "duration": 16,
    "start_time": "2025-02-25T16:16:58.181Z"
   },
   {
    "duration": 5,
    "start_time": "2025-02-25T16:16:58.199Z"
   },
   {
    "duration": 153,
    "start_time": "2025-02-25T16:16:58.205Z"
   },
   {
    "duration": 364,
    "start_time": "2025-02-25T16:16:58.360Z"
   },
   {
    "duration": 301,
    "start_time": "2025-02-25T16:16:58.726Z"
   },
   {
    "duration": 222,
    "start_time": "2025-02-25T16:16:59.029Z"
   },
   {
    "duration": 2,
    "start_time": "2025-02-25T16:16:59.253Z"
   },
   {
    "duration": 332,
    "start_time": "2025-02-25T16:16:59.257Z"
   },
   {
    "duration": 94,
    "start_time": "2025-02-25T16:17:13.308Z"
   },
   {
    "duration": 351,
    "start_time": "2025-02-25T16:17:51.721Z"
   },
   {
    "duration": 114,
    "start_time": "2025-02-25T16:20:05.162Z"
   },
   {
    "duration": 109,
    "start_time": "2025-02-25T16:20:37.876Z"
   },
   {
    "duration": 216,
    "start_time": "2025-02-25T16:20:50.076Z"
   },
   {
    "duration": 112,
    "start_time": "2025-02-25T16:20:57.179Z"
   },
   {
    "duration": 109,
    "start_time": "2025-02-25T16:21:00.336Z"
   },
   {
    "duration": 106,
    "start_time": "2025-02-25T16:21:10.866Z"
   },
   {
    "duration": 102,
    "start_time": "2025-02-25T16:21:28.976Z"
   },
   {
    "duration": 109,
    "start_time": "2025-02-25T16:21:46.045Z"
   },
   {
    "duration": 3,
    "start_time": "2025-02-25T16:34:32.300Z"
   },
   {
    "duration": 3,
    "start_time": "2025-02-25T16:34:32.888Z"
   },
   {
    "duration": 8368,
    "start_time": "2025-02-25T16:37:01.393Z"
   },
   {
    "duration": 3,
    "start_time": "2025-02-25T16:37:30.376Z"
   },
   {
    "duration": 8386,
    "start_time": "2025-02-25T16:37:33.149Z"
   },
   {
    "duration": 17,
    "start_time": "2025-02-25T16:38:30.079Z"
   },
   {
    "duration": 4,
    "start_time": "2025-02-25T16:39:13.964Z"
   },
   {
    "duration": 209,
    "start_time": "2025-02-25T16:40:28.333Z"
   },
   {
    "duration": 4,
    "start_time": "2025-02-25T16:40:35.720Z"
   },
   {
    "duration": 6,
    "start_time": "2025-02-25T16:41:25.088Z"
   },
   {
    "duration": 7,
    "start_time": "2025-02-25T16:41:43.451Z"
   },
   {
    "duration": 5,
    "start_time": "2025-02-25T16:41:53.968Z"
   },
   {
    "duration": 6,
    "start_time": "2025-02-25T16:42:00.656Z"
   },
   {
    "duration": 8531,
    "start_time": "2025-02-25T16:44:18.192Z"
   },
   {
    "duration": 7173,
    "start_time": "2025-02-25T16:46:30.115Z"
   },
   {
    "duration": 7044,
    "start_time": "2025-02-25T16:48:07.352Z"
   },
   {
    "duration": 4,
    "start_time": "2025-02-25T16:49:02.001Z"
   },
   {
    "duration": 5956,
    "start_time": "2025-02-25T16:49:03.605Z"
   },
   {
    "duration": 26,
    "start_time": "2025-02-25T16:50:43.739Z"
   },
   {
    "duration": 16,
    "start_time": "2025-02-25T16:57:46.630Z"
   },
   {
    "duration": 14,
    "start_time": "2025-02-25T16:58:07.559Z"
   },
   {
    "duration": 716,
    "start_time": "2025-02-25T16:58:11.185Z"
   },
   {
    "duration": 722,
    "start_time": "2025-02-25T16:59:00.933Z"
   },
   {
    "duration": 902,
    "start_time": "2025-02-25T16:59:51.376Z"
   },
   {
    "duration": 817,
    "start_time": "2025-02-25T17:00:09.361Z"
   },
   {
    "duration": 800,
    "start_time": "2025-02-25T17:00:28.269Z"
   },
   {
    "duration": 812,
    "start_time": "2025-02-25T17:00:59.803Z"
   },
   {
    "duration": 742,
    "start_time": "2025-02-25T17:02:09.183Z"
   },
   {
    "duration": 747,
    "start_time": "2025-02-25T17:02:23.193Z"
   },
   {
    "duration": 3,
    "start_time": "2025-02-25T17:09:04.027Z"
   },
   {
    "duration": 9,
    "start_time": "2025-02-25T18:03:46.832Z"
   },
   {
    "duration": 6,
    "start_time": "2025-02-25T18:04:39.900Z"
   },
   {
    "duration": 5,
    "start_time": "2025-02-25T18:07:47.567Z"
   },
   {
    "duration": 6737,
    "start_time": "2025-02-25T19:02:06.985Z"
   },
   {
    "duration": 6,
    "start_time": "2025-02-25T19:07:51.721Z"
   },
   {
    "duration": 54,
    "start_time": "2025-02-25T19:07:54.893Z"
   },
   {
    "duration": 1494,
    "start_time": "2025-02-25T19:07:55.059Z"
   },
   {
    "duration": 8,
    "start_time": "2025-02-25T19:07:56.562Z"
   },
   {
    "duration": 3,
    "start_time": "2025-02-25T19:08:02.981Z"
   },
   {
    "duration": 7,
    "start_time": "2025-02-25T19:08:03.158Z"
   },
   {
    "duration": 8,
    "start_time": "2025-02-25T19:08:03.273Z"
   },
   {
    "duration": 8,
    "start_time": "2025-02-25T19:08:03.479Z"
   },
   {
    "duration": 5,
    "start_time": "2025-02-25T19:08:03.591Z"
   },
   {
    "duration": 112,
    "start_time": "2025-02-25T19:08:03.774Z"
   },
   {
    "duration": 114,
    "start_time": "2025-02-25T19:08:03.954Z"
   },
   {
    "duration": 342,
    "start_time": "2025-02-25T19:08:04.890Z"
   },
   {
    "duration": 536,
    "start_time": "2025-02-25T19:08:05.234Z"
   },
   {
    "duration": 306,
    "start_time": "2025-02-25T19:08:05.772Z"
   },
   {
    "duration": 354,
    "start_time": "2025-02-25T19:08:06.079Z"
   },
   {
    "duration": 356,
    "start_time": "2025-02-25T19:08:19.758Z"
   },
   {
    "duration": 853,
    "start_time": "2025-02-25T19:09:25.729Z"
   },
   {
    "duration": 1276,
    "start_time": "2025-02-25T19:09:43.829Z"
   },
   {
    "duration": 68,
    "start_time": "2025-02-25T19:09:45.106Z"
   },
   {
    "duration": 1554,
    "start_time": "2025-02-25T19:09:45.175Z"
   },
   {
    "duration": 6,
    "start_time": "2025-02-25T19:09:46.731Z"
   },
   {
    "duration": 76,
    "start_time": "2025-02-25T19:09:46.752Z"
   },
   {
    "duration": 21,
    "start_time": "2025-02-25T19:09:46.830Z"
   },
   {
    "duration": 35,
    "start_time": "2025-02-25T19:09:46.854Z"
   },
   {
    "duration": 21,
    "start_time": "2025-02-25T19:09:46.891Z"
   },
   {
    "duration": 22,
    "start_time": "2025-02-25T19:09:46.914Z"
   },
   {
    "duration": 128,
    "start_time": "2025-02-25T19:09:46.937Z"
   },
   {
    "duration": 121,
    "start_time": "2025-02-25T19:09:47.067Z"
   },
   {
    "duration": 440,
    "start_time": "2025-02-25T19:09:47.190Z"
   },
   {
    "duration": 356,
    "start_time": "2025-02-25T19:09:47.632Z"
   },
   {
    "duration": 305,
    "start_time": "2025-02-25T19:09:47.992Z"
   },
   {
    "duration": 379,
    "start_time": "2025-02-25T19:09:48.299Z"
   },
   {
    "duration": 9,
    "start_time": "2025-02-25T19:09:48.680Z"
   },
   {
    "duration": 7,
    "start_time": "2025-02-25T19:09:48.691Z"
   },
   {
    "duration": 6626,
    "start_time": "2025-02-25T19:09:48.699Z"
   },
   {
    "duration": 9779,
    "start_time": "2025-02-25T19:09:55.326Z"
   },
   {
    "duration": 932,
    "start_time": "2025-02-25T19:10:05.107Z"
   },
   {
    "duration": 15,
    "start_time": "2025-02-25T19:10:06.042Z"
   },
   {
    "duration": 105,
    "start_time": "2025-02-25T19:10:06.060Z"
   },
   {
    "duration": 928,
    "start_time": "2025-02-25T19:10:52.263Z"
   },
   {
    "duration": 865,
    "start_time": "2025-02-25T19:14:11.416Z"
   },
   {
    "duration": 5,
    "start_time": "2025-02-25T19:23:23.934Z"
   },
   {
    "duration": 9,
    "start_time": "2025-02-25T19:24:27.888Z"
   },
   {
    "duration": 6,
    "start_time": "2025-02-25T19:24:28.766Z"
   },
   {
    "duration": 10,
    "start_time": "2025-02-25T19:26:11.759Z"
   },
   {
    "duration": 6,
    "start_time": "2025-02-25T19:26:12.281Z"
   },
   {
    "duration": 8,
    "start_time": "2025-02-25T19:26:15.499Z"
   },
   {
    "duration": 6,
    "start_time": "2025-02-25T19:26:16.286Z"
   },
   {
    "duration": 14,
    "start_time": "2025-02-25T19:28:06.088Z"
   },
   {
    "duration": 14,
    "start_time": "2025-02-25T19:30:12.913Z"
   },
   {
    "duration": 7,
    "start_time": "2025-02-25T19:31:01.771Z"
   },
   {
    "duration": 4,
    "start_time": "2025-02-25T19:31:03.718Z"
   },
   {
    "duration": 7,
    "start_time": "2025-02-25T19:31:24.458Z"
   },
   {
    "duration": 6,
    "start_time": "2025-02-25T19:31:56.542Z"
   },
   {
    "duration": 6,
    "start_time": "2025-02-25T19:35:01.683Z"
   },
   {
    "duration": 46,
    "start_time": "2025-02-25T21:52:51.309Z"
   },
   {
    "duration": 1301,
    "start_time": "2025-02-25T21:52:57.468Z"
   },
   {
    "duration": 72,
    "start_time": "2025-02-25T21:52:58.771Z"
   },
   {
    "duration": 1367,
    "start_time": "2025-02-25T21:52:58.845Z"
   },
   {
    "duration": 103,
    "start_time": "2025-02-25T21:53:00.214Z"
   },
   {
    "duration": 112,
    "start_time": "2025-02-25T21:53:00.319Z"
   },
   {
    "duration": 0,
    "start_time": "2025-02-25T21:53:00.433Z"
   },
   {
    "duration": 0,
    "start_time": "2025-02-25T21:53:00.435Z"
   },
   {
    "duration": 0,
    "start_time": "2025-02-25T21:53:00.436Z"
   },
   {
    "duration": 0,
    "start_time": "2025-02-25T21:53:00.437Z"
   },
   {
    "duration": 0,
    "start_time": "2025-02-25T21:53:00.438Z"
   },
   {
    "duration": 0,
    "start_time": "2025-02-25T21:53:00.439Z"
   },
   {
    "duration": 0,
    "start_time": "2025-02-25T21:53:00.448Z"
   },
   {
    "duration": 0,
    "start_time": "2025-02-25T21:53:00.450Z"
   },
   {
    "duration": 0,
    "start_time": "2025-02-25T21:53:00.451Z"
   },
   {
    "duration": 0,
    "start_time": "2025-02-25T21:53:00.452Z"
   },
   {
    "duration": 0,
    "start_time": "2025-02-25T21:53:00.453Z"
   },
   {
    "duration": 0,
    "start_time": "2025-02-25T21:53:00.454Z"
   },
   {
    "duration": 0,
    "start_time": "2025-02-25T21:53:00.455Z"
   },
   {
    "duration": 0,
    "start_time": "2025-02-25T21:53:00.457Z"
   },
   {
    "duration": 0,
    "start_time": "2025-02-25T21:53:00.458Z"
   },
   {
    "duration": 0,
    "start_time": "2025-02-25T21:53:00.459Z"
   },
   {
    "duration": 0,
    "start_time": "2025-02-25T21:53:00.460Z"
   },
   {
    "duration": 0,
    "start_time": "2025-02-25T21:53:00.461Z"
   },
   {
    "duration": 0,
    "start_time": "2025-02-25T21:53:00.462Z"
   },
   {
    "duration": 0,
    "start_time": "2025-02-25T21:53:00.464Z"
   },
   {
    "duration": 1228,
    "start_time": "2025-02-25T21:54:06.341Z"
   },
   {
    "duration": 59,
    "start_time": "2025-02-25T21:54:07.571Z"
   },
   {
    "duration": 1380,
    "start_time": "2025-02-25T21:54:07.632Z"
   },
   {
    "duration": 7,
    "start_time": "2025-02-25T21:54:09.014Z"
   },
   {
    "duration": 150,
    "start_time": "2025-02-25T21:54:09.023Z"
   },
   {
    "duration": 15,
    "start_time": "2025-02-25T21:54:09.174Z"
   },
   {
    "duration": 13,
    "start_time": "2025-02-25T21:54:09.191Z"
   },
   {
    "duration": 111,
    "start_time": "2025-02-25T21:54:09.206Z"
   },
   {
    "duration": 105,
    "start_time": "2025-02-25T21:54:09.318Z"
   },
   {
    "duration": 7,
    "start_time": "2025-02-25T21:54:09.425Z"
   },
   {
    "duration": 16,
    "start_time": "2025-02-25T21:54:09.433Z"
   },
   {
    "duration": 17,
    "start_time": "2025-02-25T21:54:09.450Z"
   },
   {
    "duration": 389,
    "start_time": "2025-02-25T21:54:09.468Z"
   },
   {
    "duration": 326,
    "start_time": "2025-02-25T21:54:09.859Z"
   },
   {
    "duration": 261,
    "start_time": "2025-02-25T21:54:10.187Z"
   },
   {
    "duration": 338,
    "start_time": "2025-02-25T21:54:10.449Z"
   },
   {
    "duration": 4,
    "start_time": "2025-02-25T21:54:10.789Z"
   },
   {
    "duration": 14,
    "start_time": "2025-02-25T21:54:10.795Z"
   },
   {
    "duration": 5715,
    "start_time": "2025-02-25T21:54:10.811Z"
   },
   {
    "duration": 8522,
    "start_time": "2025-02-25T21:54:16.528Z"
   },
   {
    "duration": 820,
    "start_time": "2025-02-25T21:54:25.052Z"
   },
   {
    "duration": 8,
    "start_time": "2025-02-25T21:54:25.874Z"
   },
   {
    "duration": 36,
    "start_time": "2025-02-25T21:54:25.884Z"
   },
   {
    "duration": 11,
    "start_time": "2025-02-25T21:54:25.922Z"
   },
   {
    "duration": 30,
    "start_time": "2025-02-25T21:54:25.934Z"
   },
   {
    "duration": 5,
    "start_time": "2025-02-25T21:55:06.740Z"
   },
   {
    "duration": 5,
    "start_time": "2025-02-25T21:55:33.688Z"
   },
   {
    "duration": 810,
    "start_time": "2025-02-25T22:05:33.789Z"
   },
   {
    "duration": 716,
    "start_time": "2025-02-25T22:06:30.623Z"
   },
   {
    "duration": 816,
    "start_time": "2025-02-25T22:06:44.513Z"
   },
   {
    "duration": 636,
    "start_time": "2025-02-25T22:07:44.560Z"
   },
   {
    "duration": 830,
    "start_time": "2025-02-25T22:07:49.557Z"
   },
   {
    "duration": 751,
    "start_time": "2025-02-25T22:08:43.315Z"
   },
   {
    "duration": 6973,
    "start_time": "2025-02-25T22:09:13.960Z"
   },
   {
    "duration": 7467,
    "start_time": "2025-02-25T22:09:52.946Z"
   },
   {
    "duration": 7508,
    "start_time": "2025-02-25T22:10:26.796Z"
   },
   {
    "duration": 981,
    "start_time": "2025-02-25T22:11:24.233Z"
   },
   {
    "duration": 6556,
    "start_time": "2025-02-25T22:11:31.429Z"
   },
   {
    "duration": 626,
    "start_time": "2025-02-25T22:21:52.914Z"
   },
   {
    "duration": 89,
    "start_time": "2025-02-25T22:28:33.615Z"
   },
   {
    "duration": 875,
    "start_time": "2025-02-25T22:28:55.919Z"
   },
   {
    "duration": 187,
    "start_time": "2025-02-25T22:29:54.811Z"
   },
   {
    "duration": 224,
    "start_time": "2025-02-25T22:30:26.272Z"
   },
   {
    "duration": 204,
    "start_time": "2025-02-25T22:30:37.011Z"
   },
   {
    "duration": 307,
    "start_time": "2025-02-25T22:31:55.156Z"
   },
   {
    "duration": 619,
    "start_time": "2025-02-25T22:33:33.759Z"
   },
   {
    "duration": 98,
    "start_time": "2025-02-25T22:54:36.966Z"
   },
   {
    "duration": 13,
    "start_time": "2025-02-25T23:03:26.527Z"
   },
   {
    "duration": 15,
    "start_time": "2025-02-25T23:04:35.370Z"
   },
   {
    "duration": 14,
    "start_time": "2025-02-25T23:05:23.248Z"
   },
   {
    "duration": 14,
    "start_time": "2025-02-25T23:05:35.241Z"
   },
   {
    "duration": 15,
    "start_time": "2025-02-25T23:05:59.954Z"
   },
   {
    "duration": 12,
    "start_time": "2025-02-25T23:08:25.458Z"
   },
   {
    "duration": 12,
    "start_time": "2025-02-25T23:08:27.256Z"
   },
   {
    "duration": 39,
    "start_time": "2025-02-25T23:12:21.035Z"
   },
   {
    "duration": 3,
    "start_time": "2025-02-25T23:21:03.564Z"
   },
   {
    "duration": 115,
    "start_time": "2025-02-25T23:21:05.260Z"
   },
   {
    "duration": 22,
    "start_time": "2025-02-25T23:24:05.861Z"
   },
   {
    "duration": 3,
    "start_time": "2025-02-25T23:25:46.072Z"
   },
   {
    "duration": 21,
    "start_time": "2025-02-25T23:25:47.058Z"
   },
   {
    "duration": 975,
    "start_time": "2025-02-25T23:25:52.615Z"
   },
   {
    "duration": 4,
    "start_time": "2025-02-25T23:27:31.924Z"
   },
   {
    "duration": 24,
    "start_time": "2025-02-25T23:27:33.935Z"
   },
   {
    "duration": 23,
    "start_time": "2025-02-25T23:28:22.758Z"
   },
   {
    "duration": 4,
    "start_time": "2025-02-25T23:29:31.985Z"
   },
   {
    "duration": 10,
    "start_time": "2025-02-25T23:29:33.414Z"
   },
   {
    "duration": 9,
    "start_time": "2025-02-25T23:29:34.816Z"
   },
   {
    "duration": 3,
    "start_time": "2025-02-25T23:31:20.281Z"
   },
   {
    "duration": 10,
    "start_time": "2025-02-25T23:31:20.421Z"
   },
   {
    "duration": 4,
    "start_time": "2025-02-25T23:31:45.723Z"
   },
   {
    "duration": 18,
    "start_time": "2025-02-25T23:31:46.542Z"
   },
   {
    "duration": 10,
    "start_time": "2025-02-25T23:31:47.999Z"
   },
   {
    "duration": 4,
    "start_time": "2025-02-25T23:32:25.793Z"
   },
   {
    "duration": 9,
    "start_time": "2025-02-25T23:32:55.931Z"
   },
   {
    "duration": 8,
    "start_time": "2025-02-25T23:32:56.074Z"
   },
   {
    "duration": 9,
    "start_time": "2025-02-25T23:35:02.845Z"
   },
   {
    "duration": 9,
    "start_time": "2025-02-25T23:35:17.538Z"
   },
   {
    "duration": 9,
    "start_time": "2025-02-25T23:35:21.238Z"
   },
   {
    "duration": 10,
    "start_time": "2025-02-25T23:38:13.900Z"
   },
   {
    "duration": 9,
    "start_time": "2025-02-25T23:38:14.564Z"
   },
   {
    "duration": 9,
    "start_time": "2025-02-25T23:39:31.477Z"
   },
   {
    "duration": 9,
    "start_time": "2025-02-25T23:39:32.109Z"
   },
   {
    "duration": 9,
    "start_time": "2025-02-25T23:41:20.532Z"
   },
   {
    "duration": 8,
    "start_time": "2025-02-25T23:41:21.128Z"
   },
   {
    "duration": 8,
    "start_time": "2025-02-25T23:43:45.933Z"
   },
   {
    "duration": 10,
    "start_time": "2025-02-25T23:44:07.845Z"
   },
   {
    "duration": 4,
    "start_time": "2025-02-25T23:44:52.637Z"
   },
   {
    "duration": 11,
    "start_time": "2025-02-25T23:44:53.147Z"
   },
   {
    "duration": 10,
    "start_time": "2025-02-25T23:44:53.378Z"
   },
   {
    "duration": 10,
    "start_time": "2025-02-25T23:44:54.309Z"
   },
   {
    "duration": 8,
    "start_time": "2025-02-25T23:44:54.504Z"
   },
   {
    "duration": 9,
    "start_time": "2025-02-25T23:44:54.920Z"
   },
   {
    "duration": 9,
    "start_time": "2025-02-25T23:44:55.136Z"
   },
   {
    "duration": 10,
    "start_time": "2025-02-25T23:44:56.865Z"
   },
   {
    "duration": 8,
    "start_time": "2025-02-25T23:44:59.260Z"
   },
   {
    "duration": 10,
    "start_time": "2025-02-25T23:44:59.819Z"
   },
   {
    "duration": 10,
    "start_time": "2025-02-25T23:48:22.767Z"
   },
   {
    "duration": 3,
    "start_time": "2025-02-25T23:48:33.996Z"
   },
   {
    "duration": 9,
    "start_time": "2025-02-25T23:48:34.532Z"
   },
   {
    "duration": 10,
    "start_time": "2025-02-25T23:48:34.687Z"
   },
   {
    "duration": 11,
    "start_time": "2025-02-25T23:48:35.042Z"
   },
   {
    "duration": 10,
    "start_time": "2025-02-25T23:48:35.202Z"
   },
   {
    "duration": 11,
    "start_time": "2025-02-25T23:48:36.046Z"
   },
   {
    "duration": 8,
    "start_time": "2025-02-25T23:48:36.900Z"
   },
   {
    "duration": 10,
    "start_time": "2025-02-25T23:48:37.867Z"
   },
   {
    "duration": 8,
    "start_time": "2025-02-25T23:48:38.069Z"
   },
   {
    "duration": 12,
    "start_time": "2025-02-25T23:48:38.703Z"
   },
   {
    "duration": 12,
    "start_time": "2025-02-25T23:48:41.644Z"
   },
   {
    "duration": 4,
    "start_time": "2025-02-25T23:48:48.910Z"
   },
   {
    "duration": 12,
    "start_time": "2025-02-25T23:48:49.240Z"
   },
   {
    "duration": 10,
    "start_time": "2025-02-25T23:48:49.385Z"
   },
   {
    "duration": 10,
    "start_time": "2025-02-25T23:48:49.720Z"
   },
   {
    "duration": 10,
    "start_time": "2025-02-25T23:48:50.000Z"
   },
   {
    "duration": 9,
    "start_time": "2025-02-25T23:48:50.360Z"
   },
   {
    "duration": 9,
    "start_time": "2025-02-25T23:48:50.700Z"
   },
   {
    "duration": 11,
    "start_time": "2025-02-25T23:48:51.190Z"
   },
   {
    "duration": 9,
    "start_time": "2025-02-25T23:48:51.604Z"
   },
   {
    "duration": 11,
    "start_time": "2025-02-25T23:48:54.115Z"
   },
   {
    "duration": 9,
    "start_time": "2025-02-25T23:48:58.076Z"
   },
   {
    "duration": 3,
    "start_time": "2025-02-25T23:49:05.528Z"
   },
   {
    "duration": 10,
    "start_time": "2025-02-25T23:49:05.845Z"
   },
   {
    "duration": 9,
    "start_time": "2025-02-25T23:49:05.991Z"
   },
   {
    "duration": 9,
    "start_time": "2025-02-25T23:49:06.284Z"
   },
   {
    "duration": 9,
    "start_time": "2025-02-25T23:49:06.397Z"
   },
   {
    "duration": 10,
    "start_time": "2025-02-25T23:49:06.758Z"
   },
   {
    "duration": 10,
    "start_time": "2025-02-25T23:49:06.919Z"
   },
   {
    "duration": 9,
    "start_time": "2025-02-25T23:49:07.222Z"
   },
   {
    "duration": 9,
    "start_time": "2025-02-25T23:49:07.374Z"
   },
   {
    "duration": 11,
    "start_time": "2025-02-25T23:49:07.681Z"
   },
   {
    "duration": 9,
    "start_time": "2025-02-25T23:50:51.951Z"
   },
   {
    "duration": 4,
    "start_time": "2025-02-25T23:51:31.900Z"
   },
   {
    "duration": 9,
    "start_time": "2025-02-25T23:51:34.969Z"
   },
   {
    "duration": 9,
    "start_time": "2025-02-25T23:51:35.593Z"
   },
   {
    "duration": 8,
    "start_time": "2025-02-25T23:55:27.961Z"
   },
   {
    "duration": 8,
    "start_time": "2025-02-25T23:55:47.256Z"
   },
   {
    "duration": 8,
    "start_time": "2025-02-25T23:56:28.109Z"
   },
   {
    "duration": 9,
    "start_time": "2025-02-25T23:56:31.774Z"
   },
   {
    "duration": 7,
    "start_time": "2025-02-25T23:56:33.492Z"
   },
   {
    "duration": 7,
    "start_time": "2025-02-25T23:57:15.496Z"
   },
   {
    "duration": 9,
    "start_time": "2025-02-25T23:57:17.178Z"
   },
   {
    "duration": 10,
    "start_time": "2025-02-25T23:58:00.936Z"
   },
   {
    "duration": 11,
    "start_time": "2025-02-25T23:58:19.497Z"
   },
   {
    "duration": 3,
    "start_time": "2025-02-26T00:05:26.685Z"
   },
   {
    "duration": 7,
    "start_time": "2025-02-26T00:06:39.504Z"
   },
   {
    "duration": 7,
    "start_time": "2025-02-26T00:07:18.156Z"
   },
   {
    "duration": 7,
    "start_time": "2025-02-26T00:08:20.321Z"
   },
   {
    "duration": 7,
    "start_time": "2025-02-26T00:08:57.685Z"
   },
   {
    "duration": 8,
    "start_time": "2025-02-26T00:10:02.186Z"
   },
   {
    "duration": 7,
    "start_time": "2025-02-26T00:10:39.685Z"
   },
   {
    "duration": 4,
    "start_time": "2025-02-26T00:11:35.500Z"
   },
   {
    "duration": 7,
    "start_time": "2025-02-26T00:11:36.079Z"
   },
   {
    "duration": 6,
    "start_time": "2025-02-26T00:11:36.236Z"
   },
   {
    "duration": 7,
    "start_time": "2025-02-26T00:11:36.394Z"
   },
   {
    "duration": 8,
    "start_time": "2025-02-26T00:11:36.568Z"
   },
   {
    "duration": 8,
    "start_time": "2025-02-26T00:11:42.080Z"
   },
   {
    "duration": 8,
    "start_time": "2025-02-26T00:13:53.043Z"
   },
   {
    "duration": 7,
    "start_time": "2025-02-26T00:15:10.453Z"
   },
   {
    "duration": 7,
    "start_time": "2025-02-26T00:15:13.784Z"
   },
   {
    "duration": 7,
    "start_time": "2025-02-26T00:15:52.719Z"
   },
   {
    "duration": 7,
    "start_time": "2025-02-26T00:15:53.488Z"
   },
   {
    "duration": 2,
    "start_time": "2025-02-26T00:16:05.396Z"
   },
   {
    "duration": 8,
    "start_time": "2025-02-26T00:16:06.451Z"
   },
   {
    "duration": 7,
    "start_time": "2025-02-26T00:16:06.635Z"
   },
   {
    "duration": 7,
    "start_time": "2025-02-26T00:16:07.048Z"
   },
   {
    "duration": 10,
    "start_time": "2025-02-26T00:16:07.344Z"
   },
   {
    "duration": 8,
    "start_time": "2025-02-26T00:16:07.758Z"
   },
   {
    "duration": 6,
    "start_time": "2025-02-26T00:16:08.562Z"
   },
   {
    "duration": 7,
    "start_time": "2025-02-26T00:16:08.978Z"
   },
   {
    "duration": 7,
    "start_time": "2025-02-26T00:16:10.366Z"
   },
   {
    "duration": 8,
    "start_time": "2025-02-26T00:16:10.539Z"
   },
   {
    "duration": 7,
    "start_time": "2025-02-26T00:17:53.269Z"
   },
   {
    "duration": 10,
    "start_time": "2025-02-26T00:18:23.968Z"
   },
   {
    "duration": 12,
    "start_time": "2025-02-26T00:18:25.094Z"
   },
   {
    "duration": 6,
    "start_time": "2025-02-26T00:18:28.030Z"
   },
   {
    "duration": 8,
    "start_time": "2025-02-26T00:20:48.586Z"
   },
   {
    "duration": 9,
    "start_time": "2025-02-26T00:21:43.047Z"
   },
   {
    "duration": 8,
    "start_time": "2025-02-26T00:21:43.652Z"
   },
   {
    "duration": 1290,
    "start_time": "2025-02-26T00:26:51.017Z"
   },
   {
    "duration": 63,
    "start_time": "2025-02-26T00:26:52.309Z"
   },
   {
    "duration": 1479,
    "start_time": "2025-02-26T00:26:52.374Z"
   },
   {
    "duration": 9,
    "start_time": "2025-02-26T00:26:53.854Z"
   },
   {
    "duration": 74,
    "start_time": "2025-02-26T00:26:53.865Z"
   },
   {
    "duration": 8,
    "start_time": "2025-02-26T00:26:53.941Z"
   },
   {
    "duration": 9,
    "start_time": "2025-02-26T00:26:53.951Z"
   },
   {
    "duration": 8,
    "start_time": "2025-02-26T00:26:53.962Z"
   },
   {
    "duration": 6,
    "start_time": "2025-02-26T00:26:53.971Z"
   },
   {
    "duration": 6,
    "start_time": "2025-02-26T00:26:53.978Z"
   },
   {
    "duration": 143,
    "start_time": "2025-02-26T00:26:53.986Z"
   },
   {
    "duration": 121,
    "start_time": "2025-02-26T00:26:54.131Z"
   },
   {
    "duration": 441,
    "start_time": "2025-02-26T00:26:54.254Z"
   },
   {
    "duration": 354,
    "start_time": "2025-02-26T00:26:54.699Z"
   },
   {
    "duration": 247,
    "start_time": "2025-02-26T00:26:55.055Z"
   },
   {
    "duration": 225,
    "start_time": "2025-02-26T00:26:55.304Z"
   },
   {
    "duration": 736,
    "start_time": "2025-02-26T00:26:55.531Z"
   },
   {
    "duration": 6243,
    "start_time": "2025-02-26T00:26:56.270Z"
   },
   {
    "duration": 660,
    "start_time": "2025-02-26T00:27:02.515Z"
   },
   {
    "duration": 8,
    "start_time": "2025-02-26T00:27:03.177Z"
   },
   {
    "duration": 47,
    "start_time": "2025-02-26T00:27:03.187Z"
   },
   {
    "duration": 59,
    "start_time": "2025-02-26T00:27:03.236Z"
   },
   {
    "duration": 29,
    "start_time": "2025-02-26T00:27:03.297Z"
   },
   {
    "duration": 32,
    "start_time": "2025-02-26T00:27:03.327Z"
   },
   {
    "duration": 34,
    "start_time": "2025-02-26T00:27:03.361Z"
   },
   {
    "duration": 27,
    "start_time": "2025-02-26T00:27:03.397Z"
   },
   {
    "duration": 100,
    "start_time": "2025-02-26T00:27:03.426Z"
   },
   {
    "duration": 272,
    "start_time": "2025-02-26T00:27:03.528Z"
   },
   {
    "duration": 188,
    "start_time": "2025-02-26T00:27:03.802Z"
   },
   {
    "duration": 46,
    "start_time": "2025-02-26T00:27:03.992Z"
   },
   {
    "duration": 14,
    "start_time": "2025-02-26T00:27:04.039Z"
   },
   {
    "duration": 38,
    "start_time": "2025-02-26T00:27:04.054Z"
   },
   {
    "duration": 30,
    "start_time": "2025-02-26T00:27:04.094Z"
   },
   {
    "duration": 29,
    "start_time": "2025-02-26T00:27:04.126Z"
   },
   {
    "duration": 50,
    "start_time": "2025-02-26T00:27:04.157Z"
   },
   {
    "duration": 60,
    "start_time": "2025-02-26T00:27:04.209Z"
   },
   {
    "duration": 44,
    "start_time": "2025-02-26T00:27:04.271Z"
   },
   {
    "duration": 20,
    "start_time": "2025-02-26T00:27:04.316Z"
   },
   {
    "duration": 27,
    "start_time": "2025-02-26T00:27:04.337Z"
   },
   {
    "duration": 52,
    "start_time": "2025-02-26T00:27:04.366Z"
   },
   {
    "duration": 203,
    "start_time": "2025-02-26T00:27:04.422Z"
   },
   {
    "duration": 115,
    "start_time": "2025-02-26T00:27:04.627Z"
   },
   {
    "duration": 76,
    "start_time": "2025-02-26T00:27:04.743Z"
   },
   {
    "duration": 65,
    "start_time": "2025-02-26T00:27:04.821Z"
   },
   {
    "duration": 46,
    "start_time": "2025-02-26T00:27:04.888Z"
   },
   {
    "duration": 17,
    "start_time": "2025-02-26T00:27:04.936Z"
   },
   {
    "duration": 60,
    "start_time": "2025-02-26T00:27:04.955Z"
   },
   {
    "duration": 13,
    "start_time": "2025-02-26T00:27:05.017Z"
   },
   {
    "duration": 15,
    "start_time": "2025-02-26T00:27:05.031Z"
   },
   {
    "duration": 51,
    "start_time": "2025-02-26T00:27:05.047Z"
   },
   {
    "duration": 26,
    "start_time": "2025-02-26T00:27:05.100Z"
   },
   {
    "duration": 3,
    "start_time": "2025-02-26T00:52:58.645Z"
   },
   {
    "duration": 4,
    "start_time": "2025-02-26T00:52:58.988Z"
   },
   {
    "duration": 3,
    "start_time": "2025-02-26T00:52:59.149Z"
   },
   {
    "duration": 7,
    "start_time": "2025-02-26T00:52:59.566Z"
   },
   {
    "duration": 7,
    "start_time": "2025-02-26T00:52:59.718Z"
   },
   {
    "duration": 8,
    "start_time": "2025-02-26T00:53:00.010Z"
   },
   {
    "duration": 9,
    "start_time": "2025-02-26T00:53:00.265Z"
   },
   {
    "duration": 8,
    "start_time": "2025-02-26T00:53:00.419Z"
   },
   {
    "duration": 13,
    "start_time": "2025-02-26T00:53:00.555Z"
   },
   {
    "duration": 27,
    "start_time": "2025-02-26T00:53:00.685Z"
   },
   {
    "duration": 7,
    "start_time": "2025-02-26T00:53:00.947Z"
   },
   {
    "duration": 6,
    "start_time": "2025-02-26T00:53:01.092Z"
   },
   {
    "duration": 8,
    "start_time": "2025-02-26T00:53:01.243Z"
   },
   {
    "duration": 7,
    "start_time": "2025-02-26T00:53:01.387Z"
   },
   {
    "duration": 9,
    "start_time": "2025-02-26T00:53:01.528Z"
   },
   {
    "duration": 10,
    "start_time": "2025-02-26T00:53:01.695Z"
   },
   {
    "duration": 7,
    "start_time": "2025-02-26T00:53:02.125Z"
   },
   {
    "duration": 8,
    "start_time": "2025-02-26T00:53:02.297Z"
   },
   {
    "duration": 7,
    "start_time": "2025-02-26T00:53:02.446Z"
   },
   {
    "duration": 9,
    "start_time": "2025-02-26T00:53:02.621Z"
   },
   {
    "duration": 91,
    "start_time": "2025-02-26T00:53:02.768Z"
   },
   {
    "duration": 9,
    "start_time": "2025-02-26T00:53:03.080Z"
   },
   {
    "duration": 8,
    "start_time": "2025-02-26T00:53:03.264Z"
   },
   {
    "duration": 10,
    "start_time": "2025-02-26T00:53:03.408Z"
   },
   {
    "duration": 11,
    "start_time": "2025-02-26T00:53:03.596Z"
   },
   {
    "duration": 8,
    "start_time": "2025-02-26T00:53:03.924Z"
   },
   {
    "duration": 10,
    "start_time": "2025-02-26T00:53:04.101Z"
   },
   {
    "duration": 9,
    "start_time": "2025-02-26T00:53:04.259Z"
   },
   {
    "duration": 1341,
    "start_time": "2025-02-27T17:25:58.630Z"
   },
   {
    "duration": 229,
    "start_time": "2025-02-27T17:25:59.973Z"
   },
   {
    "duration": 1296,
    "start_time": "2025-02-27T17:26:00.204Z"
   },
   {
    "duration": 7,
    "start_time": "2025-02-27T17:26:01.502Z"
   },
   {
    "duration": 31,
    "start_time": "2025-02-27T17:26:01.511Z"
   },
   {
    "duration": 25,
    "start_time": "2025-02-27T17:26:01.544Z"
   },
   {
    "duration": 68,
    "start_time": "2025-02-27T17:26:01.571Z"
   },
   {
    "duration": 13,
    "start_time": "2025-02-27T17:26:01.641Z"
   },
   {
    "duration": 32,
    "start_time": "2025-02-27T17:26:01.655Z"
   },
   {
    "duration": 74,
    "start_time": "2025-02-27T17:26:01.688Z"
   },
   {
    "duration": 111,
    "start_time": "2025-02-27T17:26:01.764Z"
   },
   {
    "duration": 107,
    "start_time": "2025-02-27T17:26:01.877Z"
   },
   {
    "duration": 382,
    "start_time": "2025-02-27T17:26:01.986Z"
   },
   {
    "duration": 309,
    "start_time": "2025-02-27T17:26:02.372Z"
   },
   {
    "duration": 200,
    "start_time": "2025-02-27T17:26:02.682Z"
   },
   {
    "duration": 188,
    "start_time": "2025-02-27T17:26:02.884Z"
   },
   {
    "duration": 610,
    "start_time": "2025-02-27T17:26:03.074Z"
   },
   {
    "duration": 5610,
    "start_time": "2025-02-27T17:26:03.686Z"
   },
   {
    "duration": 668,
    "start_time": "2025-02-27T17:26:09.297Z"
   },
   {
    "duration": 7,
    "start_time": "2025-02-27T17:26:09.967Z"
   },
   {
    "duration": 115,
    "start_time": "2025-02-27T17:26:09.975Z"
   },
   {
    "duration": 31,
    "start_time": "2025-02-27T17:26:10.091Z"
   },
   {
    "duration": 23,
    "start_time": "2025-02-27T17:26:10.125Z"
   },
   {
    "duration": 46,
    "start_time": "2025-02-27T17:26:10.150Z"
   },
   {
    "duration": 45,
    "start_time": "2025-02-27T17:26:10.198Z"
   },
   {
    "duration": 14,
    "start_time": "2025-02-27T17:26:10.245Z"
   },
   {
    "duration": 13,
    "start_time": "2025-02-27T17:26:10.260Z"
   },
   {
    "duration": 232,
    "start_time": "2025-02-27T17:26:10.275Z"
   },
   {
    "duration": 79,
    "start_time": "2025-02-27T17:26:10.509Z"
   },
   {
    "duration": 27,
    "start_time": "2025-02-27T17:26:10.590Z"
   },
   {
    "duration": 46,
    "start_time": "2025-02-27T17:26:10.619Z"
   },
   {
    "duration": 24,
    "start_time": "2025-02-27T17:26:10.666Z"
   },
   {
    "duration": 17,
    "start_time": "2025-02-27T17:26:10.692Z"
   },
   {
    "duration": 11,
    "start_time": "2025-02-27T17:26:10.711Z"
   },
   {
    "duration": 24,
    "start_time": "2025-02-27T17:26:10.724Z"
   },
   {
    "duration": 10,
    "start_time": "2025-02-27T17:26:10.750Z"
   },
   {
    "duration": 21,
    "start_time": "2025-02-27T17:26:10.762Z"
   },
   {
    "duration": 21,
    "start_time": "2025-02-27T17:26:10.785Z"
   },
   {
    "duration": 98,
    "start_time": "2025-02-27T17:26:10.807Z"
   },
   {
    "duration": 80,
    "start_time": "2025-02-27T17:26:10.906Z"
   },
   {
    "duration": 30,
    "start_time": "2025-02-27T17:26:10.990Z"
   },
   {
    "duration": 89,
    "start_time": "2025-02-27T17:26:11.022Z"
   },
   {
    "duration": 12,
    "start_time": "2025-02-27T17:26:11.113Z"
   },
   {
    "duration": 10,
    "start_time": "2025-02-27T17:26:11.126Z"
   },
   {
    "duration": 19,
    "start_time": "2025-02-27T17:26:11.138Z"
   },
   {
    "duration": 11,
    "start_time": "2025-02-27T17:26:11.159Z"
   },
   {
    "duration": 17,
    "start_time": "2025-02-27T17:26:11.172Z"
   },
   {
    "duration": 10,
    "start_time": "2025-02-27T17:26:11.190Z"
   },
   {
    "duration": 7,
    "start_time": "2025-02-27T17:26:11.202Z"
   },
   {
    "duration": 16,
    "start_time": "2025-02-27T17:26:11.210Z"
   },
   {
    "duration": 10,
    "start_time": "2025-02-27T17:26:11.227Z"
   },
   {
    "duration": 4,
    "start_time": "2025-02-27T17:31:27.133Z"
   },
   {
    "duration": 3,
    "start_time": "2025-02-27T17:31:27.433Z"
   },
   {
    "duration": 3,
    "start_time": "2025-02-27T17:31:27.843Z"
   },
   {
    "duration": 7,
    "start_time": "2025-02-27T17:31:30.048Z"
   },
   {
    "duration": 8,
    "start_time": "2025-02-27T17:31:30.217Z"
   },
   {
    "duration": 7,
    "start_time": "2025-02-27T17:31:30.402Z"
   },
   {
    "duration": 9,
    "start_time": "2025-02-27T17:31:30.926Z"
   },
   {
    "duration": 72,
    "start_time": "2025-02-27T17:31:30.945Z"
   },
   {
    "duration": 26,
    "start_time": "2025-02-27T17:31:31.019Z"
   },
   {
    "duration": 109,
    "start_time": "2025-02-27T17:31:31.046Z"
   },
   {
    "duration": 0,
    "start_time": "2025-02-27T17:31:31.157Z"
   },
   {
    "duration": 0,
    "start_time": "2025-02-27T17:31:31.158Z"
   },
   {
    "duration": 28,
    "start_time": "2025-02-27T17:31:31.161Z"
   },
   {
    "duration": 33,
    "start_time": "2025-02-27T17:31:31.191Z"
   },
   {
    "duration": 18,
    "start_time": "2025-02-27T17:31:31.226Z"
   },
   {
    "duration": 8,
    "start_time": "2025-02-27T17:31:31.257Z"
   },
   {
    "duration": 6,
    "start_time": "2025-02-27T17:31:31.395Z"
   },
   {
    "duration": 41,
    "start_time": "2025-02-27T17:31:31.403Z"
   },
   {
    "duration": 25,
    "start_time": "2025-02-27T17:31:31.445Z"
   },
   {
    "duration": 39,
    "start_time": "2025-02-27T17:31:31.472Z"
   },
   {
    "duration": 28,
    "start_time": "2025-02-27T17:31:31.512Z"
   },
   {
    "duration": 16,
    "start_time": "2025-02-27T17:31:31.544Z"
   },
   {
    "duration": 8,
    "start_time": "2025-02-27T17:31:31.592Z"
   },
   {
    "duration": 10,
    "start_time": "2025-02-27T17:31:31.622Z"
   },
   {
    "duration": 23,
    "start_time": "2025-02-27T17:31:31.649Z"
   },
   {
    "duration": 3,
    "start_time": "2025-02-27T17:31:59.825Z"
   },
   {
    "duration": 3,
    "start_time": "2025-02-27T17:32:00.236Z"
   },
   {
    "duration": 9,
    "start_time": "2025-02-27T17:32:00.735Z"
   },
   {
    "duration": 7,
    "start_time": "2025-02-27T17:32:01.268Z"
   },
   {
    "duration": 7,
    "start_time": "2025-02-27T17:32:01.292Z"
   },
   {
    "duration": 8,
    "start_time": "2025-02-27T17:32:01.328Z"
   },
   {
    "duration": 7,
    "start_time": "2025-02-27T17:32:01.343Z"
   },
   {
    "duration": 32,
    "start_time": "2025-02-27T17:32:01.373Z"
   },
   {
    "duration": 11,
    "start_time": "2025-02-27T17:32:01.407Z"
   },
   {
    "duration": 7,
    "start_time": "2025-02-27T17:32:01.502Z"
   },
   {
    "duration": 5,
    "start_time": "2025-02-27T17:32:01.594Z"
   },
   {
    "duration": 8,
    "start_time": "2025-02-27T17:32:01.651Z"
   },
   {
    "duration": 33,
    "start_time": "2025-02-27T17:32:01.661Z"
   },
   {
    "duration": 10,
    "start_time": "2025-02-27T17:32:01.699Z"
   },
   {
    "duration": 14,
    "start_time": "2025-02-27T17:32:01.711Z"
   },
   {
    "duration": 7,
    "start_time": "2025-02-27T17:32:01.739Z"
   },
   {
    "duration": 9,
    "start_time": "2025-02-27T17:32:01.776Z"
   },
   {
    "duration": 8,
    "start_time": "2025-02-27T17:32:01.816Z"
   },
   {
    "duration": 10,
    "start_time": "2025-02-27T17:32:01.860Z"
   },
   {
    "duration": 12,
    "start_time": "2025-02-27T17:32:01.895Z"
   },
   {
    "duration": 9,
    "start_time": "2025-02-27T17:32:02.005Z"
   },
   {
    "duration": 25,
    "start_time": "2025-02-27T17:32:02.116Z"
   },
   {
    "duration": 10,
    "start_time": "2025-02-27T17:32:02.557Z"
   },
   {
    "duration": 12,
    "start_time": "2025-02-27T17:32:02.654Z"
   },
   {
    "duration": 7,
    "start_time": "2025-02-27T17:32:03.091Z"
   },
   {
    "duration": 10,
    "start_time": "2025-02-27T17:32:03.245Z"
   },
   {
    "duration": 9,
    "start_time": "2025-02-27T17:32:04.862Z"
   },
   {
    "duration": 3,
    "start_time": "2025-02-27T17:35:25.942Z"
   },
   {
    "duration": 4,
    "start_time": "2025-02-27T17:35:26.525Z"
   },
   {
    "duration": 3,
    "start_time": "2025-02-27T17:35:26.785Z"
   },
   {
    "duration": 6,
    "start_time": "2025-02-27T17:35:27.912Z"
   },
   {
    "duration": 7,
    "start_time": "2025-02-27T17:35:28.402Z"
   },
   {
    "duration": 59,
    "start_time": "2025-02-27T17:35:28.428Z"
   },
   {
    "duration": 14,
    "start_time": "2025-02-27T17:35:28.489Z"
   },
   {
    "duration": 75,
    "start_time": "2025-02-27T17:35:28.526Z"
   },
   {
    "duration": 36,
    "start_time": "2025-02-27T17:35:28.602Z"
   },
   {
    "duration": 10,
    "start_time": "2025-02-27T17:35:28.639Z"
   },
   {
    "duration": 6,
    "start_time": "2025-02-27T17:35:28.679Z"
   },
   {
    "duration": 16,
    "start_time": "2025-02-27T17:35:28.704Z"
   },
   {
    "duration": 11,
    "start_time": "2025-02-27T17:35:28.724Z"
   },
   {
    "duration": 6,
    "start_time": "2025-02-27T17:35:28.770Z"
   },
   {
    "duration": 8,
    "start_time": "2025-02-27T17:35:28.786Z"
   },
   {
    "duration": 8,
    "start_time": "2025-02-27T17:35:28.817Z"
   },
   {
    "duration": 6,
    "start_time": "2025-02-27T17:35:28.933Z"
   },
   {
    "duration": 76,
    "start_time": "2025-02-27T17:35:28.941Z"
   },
   {
    "duration": 12,
    "start_time": "2025-02-27T17:35:29.018Z"
   },
   {
    "duration": 26,
    "start_time": "2025-02-27T17:35:29.031Z"
   },
   {
    "duration": 122,
    "start_time": "2025-02-27T17:35:29.059Z"
   },
   {
    "duration": 13,
    "start_time": "2025-02-27T17:35:29.183Z"
   },
   {
    "duration": 8,
    "start_time": "2025-02-27T17:35:29.197Z"
   },
   {
    "duration": 18,
    "start_time": "2025-02-27T17:35:29.207Z"
   },
   {
    "duration": 18,
    "start_time": "2025-02-27T17:35:29.227Z"
   },
   {
    "duration": 7,
    "start_time": "2025-02-27T17:35:29.339Z"
   },
   {
    "duration": 109,
    "start_time": "2025-02-27T17:35:29.348Z"
   },
   {
    "duration": 25,
    "start_time": "2025-02-27T17:35:29.458Z"
   },
   {
    "duration": 216,
    "start_time": "2025-02-27T17:51:35.316Z"
   },
   {
    "duration": 1326,
    "start_time": "2025-02-27T18:09:14.168Z"
   },
   {
    "duration": 71,
    "start_time": "2025-02-27T18:09:15.496Z"
   },
   {
    "duration": 1431,
    "start_time": "2025-02-27T18:09:15.569Z"
   },
   {
    "duration": 8,
    "start_time": "2025-02-27T18:09:17.002Z"
   },
   {
    "duration": 109,
    "start_time": "2025-02-27T18:09:17.012Z"
   },
   {
    "duration": 51,
    "start_time": "2025-02-27T18:09:17.123Z"
   },
   {
    "duration": 8,
    "start_time": "2025-02-27T18:09:17.176Z"
   },
   {
    "duration": 15,
    "start_time": "2025-02-27T18:09:17.185Z"
   },
   {
    "duration": 5,
    "start_time": "2025-02-27T18:09:17.201Z"
   },
   {
    "duration": 6,
    "start_time": "2025-02-27T18:09:17.207Z"
   },
   {
    "duration": 164,
    "start_time": "2025-02-27T18:09:17.215Z"
   },
   {
    "duration": 114,
    "start_time": "2025-02-27T18:09:17.382Z"
   },
   {
    "duration": 387,
    "start_time": "2025-02-27T18:09:17.497Z"
   },
   {
    "duration": 300,
    "start_time": "2025-02-27T18:09:17.887Z"
   },
   {
    "duration": 241,
    "start_time": "2025-02-27T18:09:18.189Z"
   },
   {
    "duration": 196,
    "start_time": "2025-02-27T18:09:18.431Z"
   },
   {
    "duration": 641,
    "start_time": "2025-02-27T18:09:18.628Z"
   },
   {
    "duration": 5506,
    "start_time": "2025-02-27T18:09:19.270Z"
   },
   {
    "duration": 569,
    "start_time": "2025-02-27T18:09:24.778Z"
   },
   {
    "duration": 7,
    "start_time": "2025-02-27T18:09:25.349Z"
   },
   {
    "duration": 5,
    "start_time": "2025-02-27T18:09:25.357Z"
   },
   {
    "duration": 8,
    "start_time": "2025-02-27T18:09:25.363Z"
   },
   {
    "duration": 4,
    "start_time": "2025-02-27T18:09:25.373Z"
   },
   {
    "duration": 3,
    "start_time": "2025-02-27T18:09:25.379Z"
   },
   {
    "duration": 4,
    "start_time": "2025-02-27T18:09:25.383Z"
   },
   {
    "duration": 3,
    "start_time": "2025-02-27T18:09:25.388Z"
   },
   {
    "duration": 263,
    "start_time": "2025-02-27T18:09:25.392Z"
   },
   {
    "duration": 6,
    "start_time": "2025-02-27T18:09:25.657Z"
   },
   {
    "duration": 7,
    "start_time": "2025-02-27T18:09:25.664Z"
   },
   {
    "duration": 9,
    "start_time": "2025-02-27T18:09:25.672Z"
   },
   {
    "duration": 7,
    "start_time": "2025-02-27T18:09:25.682Z"
   },
   {
    "duration": 11,
    "start_time": "2025-02-27T18:09:25.691Z"
   },
   {
    "duration": 46,
    "start_time": "2025-02-27T18:09:25.703Z"
   },
   {
    "duration": 8,
    "start_time": "2025-02-27T18:09:25.752Z"
   },
   {
    "duration": 30,
    "start_time": "2025-02-27T18:09:25.761Z"
   },
   {
    "duration": 27,
    "start_time": "2025-02-27T18:09:25.793Z"
   },
   {
    "duration": 7,
    "start_time": "2025-02-27T18:09:25.822Z"
   },
   {
    "duration": 11,
    "start_time": "2025-02-27T18:09:25.831Z"
   },
   {
    "duration": 7,
    "start_time": "2025-02-27T18:09:25.844Z"
   },
   {
    "duration": 6,
    "start_time": "2025-02-27T18:09:25.853Z"
   },
   {
    "duration": 8,
    "start_time": "2025-02-27T18:09:25.863Z"
   },
   {
    "duration": 6,
    "start_time": "2025-02-27T18:09:25.872Z"
   },
   {
    "duration": 11,
    "start_time": "2025-02-27T18:09:25.880Z"
   },
   {
    "duration": 10,
    "start_time": "2025-02-27T18:09:25.892Z"
   },
   {
    "duration": 7,
    "start_time": "2025-02-27T18:09:25.904Z"
   },
   {
    "duration": 39,
    "start_time": "2025-02-27T18:09:25.912Z"
   },
   {
    "duration": 9,
    "start_time": "2025-02-27T18:09:25.953Z"
   },
   {
    "duration": 13,
    "start_time": "2025-02-27T18:09:25.963Z"
   },
   {
    "duration": 7,
    "start_time": "2025-02-27T18:09:25.977Z"
   },
   {
    "duration": 19,
    "start_time": "2025-02-27T18:09:25.985Z"
   },
   {
    "duration": 21,
    "start_time": "2025-02-27T18:09:26.005Z"
   }
  ],
  "kernelspec": {
   "display_name": "Python 3 (ipykernel)",
   "language": "python",
   "name": "python3"
  },
  "language_info": {
   "codemirror_mode": {
    "name": "ipython",
    "version": 3
   },
   "file_extension": ".py",
   "mimetype": "text/x-python",
   "name": "python",
   "nbconvert_exporter": "python",
   "pygments_lexer": "ipython3",
   "version": "3.9.5"
  },
  "toc": {
   "base_numbering": 1,
   "nav_menu": {},
   "number_sections": true,
   "sideBar": true,
   "skip_h1_title": true,
   "title_cell": "Table of Contents",
   "title_sidebar": "Contents",
   "toc_cell": false,
   "toc_position": {
    "height": "calc(100% - 180px)",
    "left": "10px",
    "top": "150px",
    "width": "307.195px"
   },
   "toc_section_display": true,
   "toc_window_display": true
  }
 },
 "nbformat": 4,
 "nbformat_minor": 2
}
