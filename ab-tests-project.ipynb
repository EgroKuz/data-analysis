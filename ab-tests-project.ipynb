{
 "cells": [
  {
   "cell_type": "markdown",
   "metadata": {},
   "source": [
    "# Проект: принятие решений в бизнесе"
   ]
  },
  {
   "cell_type": "markdown",
   "metadata": {},
   "source": [
    "Цель заключается в приоритизации гипотез, полученных от отдела маркетинга, в запуске A/B-теста и анализе результатов."
   ]
  },
  {
   "cell_type": "markdown",
   "metadata": {},
   "source": [
    "План:\n",
    "- Приоритизация гипотез\n",
    "- Анализ A/B-теста\n",
    "- Вывод"
   ]
  },
  {
   "cell_type": "markdown",
   "metadata": {},
   "source": [
    "## Приоритизация гипотез"
   ]
  },
  {
   "cell_type": "code",
   "execution_count": 1,
   "metadata": {},
   "outputs": [],
   "source": [
    "import pandas as pd\n",
    "import matplotlib.pyplot as plt\n",
    "import seaborn\n",
    "import numpy as np\n",
    "from scipy import stats as st"
   ]
  },
  {
   "cell_type": "code",
   "execution_count": 2,
   "metadata": {},
   "outputs": [
    {
     "data": {
      "text/html": [
       "<div>\n",
       "<style scoped>\n",
       "    .dataframe tbody tr th:only-of-type {\n",
       "        vertical-align: middle;\n",
       "    }\n",
       "\n",
       "    .dataframe tbody tr th {\n",
       "        vertical-align: top;\n",
       "    }\n",
       "\n",
       "    .dataframe thead th {\n",
       "        text-align: right;\n",
       "    }\n",
       "</style>\n",
       "<table border=\"1\" class=\"dataframe\">\n",
       "  <thead>\n",
       "    <tr style=\"text-align: right;\">\n",
       "      <th></th>\n",
       "      <th>Hypothesis</th>\n",
       "      <th>Reach</th>\n",
       "      <th>Impact</th>\n",
       "      <th>Confidence</th>\n",
       "      <th>Efforts</th>\n",
       "    </tr>\n",
       "  </thead>\n",
       "  <tbody>\n",
       "    <tr>\n",
       "      <th>0</th>\n",
       "      <td>Добавить два новых канала привлечения трафика,...</td>\n",
       "      <td>3</td>\n",
       "      <td>10</td>\n",
       "      <td>8</td>\n",
       "      <td>6</td>\n",
       "    </tr>\n",
       "    <tr>\n",
       "      <th>1</th>\n",
       "      <td>Запустить собственную службу доставки, что сок...</td>\n",
       "      <td>2</td>\n",
       "      <td>5</td>\n",
       "      <td>4</td>\n",
       "      <td>10</td>\n",
       "    </tr>\n",
       "    <tr>\n",
       "      <th>2</th>\n",
       "      <td>Добавить блоки рекомендаций товаров на сайт ин...</td>\n",
       "      <td>8</td>\n",
       "      <td>3</td>\n",
       "      <td>7</td>\n",
       "      <td>3</td>\n",
       "    </tr>\n",
       "    <tr>\n",
       "      <th>3</th>\n",
       "      <td>Изменить структура категорий, что увеличит кон...</td>\n",
       "      <td>8</td>\n",
       "      <td>3</td>\n",
       "      <td>3</td>\n",
       "      <td>8</td>\n",
       "    </tr>\n",
       "    <tr>\n",
       "      <th>4</th>\n",
       "      <td>Изменить цвет фона главной страницы, чтобы уве...</td>\n",
       "      <td>3</td>\n",
       "      <td>1</td>\n",
       "      <td>1</td>\n",
       "      <td>1</td>\n",
       "    </tr>\n",
       "    <tr>\n",
       "      <th>5</th>\n",
       "      <td>Добавить страницу отзывов клиентов о магазине,...</td>\n",
       "      <td>3</td>\n",
       "      <td>2</td>\n",
       "      <td>2</td>\n",
       "      <td>3</td>\n",
       "    </tr>\n",
       "    <tr>\n",
       "      <th>6</th>\n",
       "      <td>Показать на главной странице баннеры с актуаль...</td>\n",
       "      <td>5</td>\n",
       "      <td>3</td>\n",
       "      <td>8</td>\n",
       "      <td>3</td>\n",
       "    </tr>\n",
       "    <tr>\n",
       "      <th>7</th>\n",
       "      <td>Добавить форму подписки на все основные страни...</td>\n",
       "      <td>10</td>\n",
       "      <td>7</td>\n",
       "      <td>8</td>\n",
       "      <td>5</td>\n",
       "    </tr>\n",
       "    <tr>\n",
       "      <th>8</th>\n",
       "      <td>Запустить акцию, дающую скидку на товар в день...</td>\n",
       "      <td>1</td>\n",
       "      <td>9</td>\n",
       "      <td>9</td>\n",
       "      <td>5</td>\n",
       "    </tr>\n",
       "  </tbody>\n",
       "</table>\n",
       "</div>"
      ],
      "text/plain": [
       "                                          Hypothesis  Reach  Impact  \\\n",
       "0  Добавить два новых канала привлечения трафика,...      3      10   \n",
       "1  Запустить собственную службу доставки, что сок...      2       5   \n",
       "2  Добавить блоки рекомендаций товаров на сайт ин...      8       3   \n",
       "3  Изменить структура категорий, что увеличит кон...      8       3   \n",
       "4  Изменить цвет фона главной страницы, чтобы уве...      3       1   \n",
       "5  Добавить страницу отзывов клиентов о магазине,...      3       2   \n",
       "6  Показать на главной странице баннеры с актуаль...      5       3   \n",
       "7  Добавить форму подписки на все основные страни...     10       7   \n",
       "8  Запустить акцию, дающую скидку на товар в день...      1       9   \n",
       "\n",
       "   Confidence  Efforts  \n",
       "0           8        6  \n",
       "1           4       10  \n",
       "2           7        3  \n",
       "3           3        8  \n",
       "4           1        1  \n",
       "5           2        3  \n",
       "6           8        3  \n",
       "7           8        5  \n",
       "8           9        5  "
      ]
     },
     "execution_count": 2,
     "metadata": {},
     "output_type": "execute_result"
    }
   ],
   "source": [
    "hypothesis = pd.read_csv('/datasets/hypothesis.csv')\n",
    "hypothesis"
   ]
  },
  {
   "cell_type": "code",
   "execution_count": 3,
   "metadata": {},
   "outputs": [
    {
     "name": "stdout",
     "output_type": "stream",
     "text": [
      "<class 'pandas.core.frame.DataFrame'>\n",
      "RangeIndex: 9 entries, 0 to 8\n",
      "Data columns (total 5 columns):\n",
      " #   Column      Non-Null Count  Dtype \n",
      "---  ------      --------------  ----- \n",
      " 0   Hypothesis  9 non-null      object\n",
      " 1   Reach       9 non-null      int64 \n",
      " 2   Impact      9 non-null      int64 \n",
      " 3   Confidence  9 non-null      int64 \n",
      " 4   Efforts     9 non-null      int64 \n",
      "dtypes: int64(4), object(1)\n",
      "memory usage: 488.0+ bytes\n"
     ]
    }
   ],
   "source": [
    "hypothesis.info()"
   ]
  },
  {
   "cell_type": "code",
   "execution_count": 4,
   "metadata": {},
   "outputs": [],
   "source": [
    "hypothesis.columns = hypothesis.columns.str.lower()"
   ]
  },
  {
   "cell_type": "markdown",
   "metadata": {},
   "source": [
    "Приведем название колонок к змеиному регистру."
   ]
  },
  {
   "cell_type": "code",
   "execution_count": 5,
   "metadata": {},
   "outputs": [
    {
     "data": {
      "text/html": [
       "<div>\n",
       "<style scoped>\n",
       "    .dataframe tbody tr th:only-of-type {\n",
       "        vertical-align: middle;\n",
       "    }\n",
       "\n",
       "    .dataframe tbody tr th {\n",
       "        vertical-align: top;\n",
       "    }\n",
       "\n",
       "    .dataframe thead th {\n",
       "        text-align: right;\n",
       "    }\n",
       "</style>\n",
       "<table border=\"1\" class=\"dataframe\">\n",
       "  <thead>\n",
       "    <tr style=\"text-align: right;\">\n",
       "      <th></th>\n",
       "      <th>hypothesis</th>\n",
       "      <th>reach</th>\n",
       "      <th>impact</th>\n",
       "      <th>confidence</th>\n",
       "      <th>efforts</th>\n",
       "      <th>ice</th>\n",
       "    </tr>\n",
       "  </thead>\n",
       "  <tbody>\n",
       "    <tr>\n",
       "      <th>8</th>\n",
       "      <td>Запустить акцию, дающую скидку на товар в день...</td>\n",
       "      <td>1</td>\n",
       "      <td>9</td>\n",
       "      <td>9</td>\n",
       "      <td>5</td>\n",
       "      <td>16.20</td>\n",
       "    </tr>\n",
       "    <tr>\n",
       "      <th>0</th>\n",
       "      <td>Добавить два новых канала привлечения трафика,...</td>\n",
       "      <td>3</td>\n",
       "      <td>10</td>\n",
       "      <td>8</td>\n",
       "      <td>6</td>\n",
       "      <td>13.33</td>\n",
       "    </tr>\n",
       "    <tr>\n",
       "      <th>7</th>\n",
       "      <td>Добавить форму подписки на все основные страни...</td>\n",
       "      <td>10</td>\n",
       "      <td>7</td>\n",
       "      <td>8</td>\n",
       "      <td>5</td>\n",
       "      <td>11.20</td>\n",
       "    </tr>\n",
       "    <tr>\n",
       "      <th>6</th>\n",
       "      <td>Показать на главной странице баннеры с актуаль...</td>\n",
       "      <td>5</td>\n",
       "      <td>3</td>\n",
       "      <td>8</td>\n",
       "      <td>3</td>\n",
       "      <td>8.00</td>\n",
       "    </tr>\n",
       "    <tr>\n",
       "      <th>2</th>\n",
       "      <td>Добавить блоки рекомендаций товаров на сайт ин...</td>\n",
       "      <td>8</td>\n",
       "      <td>3</td>\n",
       "      <td>7</td>\n",
       "      <td>3</td>\n",
       "      <td>7.00</td>\n",
       "    </tr>\n",
       "    <tr>\n",
       "      <th>1</th>\n",
       "      <td>Запустить собственную службу доставки, что сок...</td>\n",
       "      <td>2</td>\n",
       "      <td>5</td>\n",
       "      <td>4</td>\n",
       "      <td>10</td>\n",
       "      <td>2.00</td>\n",
       "    </tr>\n",
       "    <tr>\n",
       "      <th>5</th>\n",
       "      <td>Добавить страницу отзывов клиентов о магазине,...</td>\n",
       "      <td>3</td>\n",
       "      <td>2</td>\n",
       "      <td>2</td>\n",
       "      <td>3</td>\n",
       "      <td>1.33</td>\n",
       "    </tr>\n",
       "    <tr>\n",
       "      <th>3</th>\n",
       "      <td>Изменить структура категорий, что увеличит кон...</td>\n",
       "      <td>8</td>\n",
       "      <td>3</td>\n",
       "      <td>3</td>\n",
       "      <td>8</td>\n",
       "      <td>1.12</td>\n",
       "    </tr>\n",
       "    <tr>\n",
       "      <th>4</th>\n",
       "      <td>Изменить цвет фона главной страницы, чтобы уве...</td>\n",
       "      <td>3</td>\n",
       "      <td>1</td>\n",
       "      <td>1</td>\n",
       "      <td>1</td>\n",
       "      <td>1.00</td>\n",
       "    </tr>\n",
       "  </tbody>\n",
       "</table>\n",
       "</div>"
      ],
      "text/plain": [
       "                                          hypothesis  reach  impact  \\\n",
       "8  Запустить акцию, дающую скидку на товар в день...      1       9   \n",
       "0  Добавить два новых канала привлечения трафика,...      3      10   \n",
       "7  Добавить форму подписки на все основные страни...     10       7   \n",
       "6  Показать на главной странице баннеры с актуаль...      5       3   \n",
       "2  Добавить блоки рекомендаций товаров на сайт ин...      8       3   \n",
       "1  Запустить собственную службу доставки, что сок...      2       5   \n",
       "5  Добавить страницу отзывов клиентов о магазине,...      3       2   \n",
       "3  Изменить структура категорий, что увеличит кон...      8       3   \n",
       "4  Изменить цвет фона главной страницы, чтобы уве...      3       1   \n",
       "\n",
       "   confidence  efforts    ice  \n",
       "8           9        5  16.20  \n",
       "0           8        6  13.33  \n",
       "7           8        5  11.20  \n",
       "6           8        3   8.00  \n",
       "2           7        3   7.00  \n",
       "1           4       10   2.00  \n",
       "5           2        3   1.33  \n",
       "3           3        8   1.12  \n",
       "4           1        1   1.00  "
      ]
     },
     "execution_count": 5,
     "metadata": {},
     "output_type": "execute_result"
    }
   ],
   "source": [
    "hypothesis['ice'] = round(hypothesis['impact'] * hypothesis['confidence'] / hypothesis['efforts'], 2)\n",
    "hypothesis.sort_values(by='ice', ascending=False)"
   ]
  },
  {
   "cell_type": "code",
   "execution_count": 6,
   "metadata": {},
   "outputs": [
    {
     "data": {
      "text/html": [
       "<div>\n",
       "<style scoped>\n",
       "    .dataframe tbody tr th:only-of-type {\n",
       "        vertical-align: middle;\n",
       "    }\n",
       "\n",
       "    .dataframe tbody tr th {\n",
       "        vertical-align: top;\n",
       "    }\n",
       "\n",
       "    .dataframe thead th {\n",
       "        text-align: right;\n",
       "    }\n",
       "</style>\n",
       "<table border=\"1\" class=\"dataframe\">\n",
       "  <thead>\n",
       "    <tr style=\"text-align: right;\">\n",
       "      <th></th>\n",
       "      <th>hypothesis</th>\n",
       "      <th>reach</th>\n",
       "      <th>impact</th>\n",
       "      <th>confidence</th>\n",
       "      <th>efforts</th>\n",
       "      <th>ice</th>\n",
       "      <th>rice</th>\n",
       "    </tr>\n",
       "  </thead>\n",
       "  <tbody>\n",
       "    <tr>\n",
       "      <th>7</th>\n",
       "      <td>Добавить форму подписки на все основные страни...</td>\n",
       "      <td>10</td>\n",
       "      <td>7</td>\n",
       "      <td>8</td>\n",
       "      <td>5</td>\n",
       "      <td>11.20</td>\n",
       "      <td>112.0</td>\n",
       "    </tr>\n",
       "    <tr>\n",
       "      <th>2</th>\n",
       "      <td>Добавить блоки рекомендаций товаров на сайт ин...</td>\n",
       "      <td>8</td>\n",
       "      <td>3</td>\n",
       "      <td>7</td>\n",
       "      <td>3</td>\n",
       "      <td>7.00</td>\n",
       "      <td>56.0</td>\n",
       "    </tr>\n",
       "    <tr>\n",
       "      <th>0</th>\n",
       "      <td>Добавить два новых канала привлечения трафика,...</td>\n",
       "      <td>3</td>\n",
       "      <td>10</td>\n",
       "      <td>8</td>\n",
       "      <td>6</td>\n",
       "      <td>13.33</td>\n",
       "      <td>40.0</td>\n",
       "    </tr>\n",
       "    <tr>\n",
       "      <th>6</th>\n",
       "      <td>Показать на главной странице баннеры с актуаль...</td>\n",
       "      <td>5</td>\n",
       "      <td>3</td>\n",
       "      <td>8</td>\n",
       "      <td>3</td>\n",
       "      <td>8.00</td>\n",
       "      <td>40.0</td>\n",
       "    </tr>\n",
       "    <tr>\n",
       "      <th>8</th>\n",
       "      <td>Запустить акцию, дающую скидку на товар в день...</td>\n",
       "      <td>1</td>\n",
       "      <td>9</td>\n",
       "      <td>9</td>\n",
       "      <td>5</td>\n",
       "      <td>16.20</td>\n",
       "      <td>16.2</td>\n",
       "    </tr>\n",
       "    <tr>\n",
       "      <th>3</th>\n",
       "      <td>Изменить структура категорий, что увеличит кон...</td>\n",
       "      <td>8</td>\n",
       "      <td>3</td>\n",
       "      <td>3</td>\n",
       "      <td>8</td>\n",
       "      <td>1.12</td>\n",
       "      <td>9.0</td>\n",
       "    </tr>\n",
       "    <tr>\n",
       "      <th>1</th>\n",
       "      <td>Запустить собственную службу доставки, что сок...</td>\n",
       "      <td>2</td>\n",
       "      <td>5</td>\n",
       "      <td>4</td>\n",
       "      <td>10</td>\n",
       "      <td>2.00</td>\n",
       "      <td>4.0</td>\n",
       "    </tr>\n",
       "    <tr>\n",
       "      <th>5</th>\n",
       "      <td>Добавить страницу отзывов клиентов о магазине,...</td>\n",
       "      <td>3</td>\n",
       "      <td>2</td>\n",
       "      <td>2</td>\n",
       "      <td>3</td>\n",
       "      <td>1.33</td>\n",
       "      <td>4.0</td>\n",
       "    </tr>\n",
       "    <tr>\n",
       "      <th>4</th>\n",
       "      <td>Изменить цвет фона главной страницы, чтобы уве...</td>\n",
       "      <td>3</td>\n",
       "      <td>1</td>\n",
       "      <td>1</td>\n",
       "      <td>1</td>\n",
       "      <td>1.00</td>\n",
       "      <td>3.0</td>\n",
       "    </tr>\n",
       "  </tbody>\n",
       "</table>\n",
       "</div>"
      ],
      "text/plain": [
       "                                          hypothesis  reach  impact  \\\n",
       "7  Добавить форму подписки на все основные страни...     10       7   \n",
       "2  Добавить блоки рекомендаций товаров на сайт ин...      8       3   \n",
       "0  Добавить два новых канала привлечения трафика,...      3      10   \n",
       "6  Показать на главной странице баннеры с актуаль...      5       3   \n",
       "8  Запустить акцию, дающую скидку на товар в день...      1       9   \n",
       "3  Изменить структура категорий, что увеличит кон...      8       3   \n",
       "1  Запустить собственную службу доставки, что сок...      2       5   \n",
       "5  Добавить страницу отзывов клиентов о магазине,...      3       2   \n",
       "4  Изменить цвет фона главной страницы, чтобы уве...      3       1   \n",
       "\n",
       "   confidence  efforts    ice   rice  \n",
       "7           8        5  11.20  112.0  \n",
       "2           7        3   7.00   56.0  \n",
       "0           8        6  13.33   40.0  \n",
       "6           8        3   8.00   40.0  \n",
       "8           9        5  16.20   16.2  \n",
       "3           3        8   1.12    9.0  \n",
       "1           4       10   2.00    4.0  \n",
       "5           2        3   1.33    4.0  \n",
       "4           1        1   1.00    3.0  "
      ]
     },
     "execution_count": 6,
     "metadata": {},
     "output_type": "execute_result"
    }
   ],
   "source": [
    "hypothesis['rice'] = round(hypothesis['reach'] * hypothesis['impact'] * hypothesis['confidence'] / hypothesis['efforts'], 2)\n",
    "hypothesis.sort_values(by='rice', ascending=False)"
   ]
  },
  {
   "cell_type": "markdown",
   "metadata": {},
   "source": [
    "Вывод: При применении способа ICE топ-3 занимали гипотезы с индификатором 8, 0, 7, так как у них были высокие показатели Impact, Confidence. При применении способа RICE Топ-3 занимали гипотезы с индификатором 7, 2, 0, так как у них высокий показатель Reach, чего не было у предыдущих гипотез. Разница между RICE и ICE заключается в том, что R (Reach-охват) является модификацией ICE, которая добавляет оценку скольких пользователей затронет это изменение. Поэтому поменялось лидерство при применении второго способа."
   ]
  },
  {
   "cell_type": "markdown",
   "metadata": {},
   "source": [
    "## Анализ A/B-теста"
   ]
  },
  {
   "cell_type": "code",
   "execution_count": 7,
   "metadata": {},
   "outputs": [],
   "source": [
    "orders = pd.read_csv('/datasets/orders.csv')\n",
    "visitors = pd.read_csv('/datasets/visitors.csv')"
   ]
  },
  {
   "cell_type": "code",
   "execution_count": 8,
   "metadata": {},
   "outputs": [
    {
     "name": "stdout",
     "output_type": "stream",
     "text": [
      "<class 'pandas.core.frame.DataFrame'>\n",
      "RangeIndex: 1197 entries, 0 to 1196\n",
      "Data columns (total 5 columns):\n",
      " #   Column         Non-Null Count  Dtype \n",
      "---  ------         --------------  ----- \n",
      " 0   transactionId  1197 non-null   int64 \n",
      " 1   visitorId      1197 non-null   int64 \n",
      " 2   date           1197 non-null   object\n",
      " 3   revenue        1197 non-null   int64 \n",
      " 4   group          1197 non-null   object\n",
      "dtypes: int64(3), object(2)\n",
      "memory usage: 46.9+ KB\n",
      "<class 'pandas.core.frame.DataFrame'>\n",
      "RangeIndex: 62 entries, 0 to 61\n",
      "Data columns (total 3 columns):\n",
      " #   Column    Non-Null Count  Dtype \n",
      "---  ------    --------------  ----- \n",
      " 0   date      62 non-null     object\n",
      " 1   group     62 non-null     object\n",
      " 2   visitors  62 non-null     int64 \n",
      "dtypes: int64(1), object(2)\n",
      "memory usage: 1.6+ KB\n"
     ]
    }
   ],
   "source": [
    "orders.info()\n",
    "visitors.info()"
   ]
  },
  {
   "cell_type": "code",
   "execution_count": 9,
   "metadata": {},
   "outputs": [
    {
     "data": {
      "text/html": [
       "<div>\n",
       "<style scoped>\n",
       "    .dataframe tbody tr th:only-of-type {\n",
       "        vertical-align: middle;\n",
       "    }\n",
       "\n",
       "    .dataframe tbody tr th {\n",
       "        vertical-align: top;\n",
       "    }\n",
       "\n",
       "    .dataframe thead th {\n",
       "        text-align: right;\n",
       "    }\n",
       "</style>\n",
       "<table border=\"1\" class=\"dataframe\">\n",
       "  <thead>\n",
       "    <tr style=\"text-align: right;\">\n",
       "      <th></th>\n",
       "      <th>transactionId</th>\n",
       "      <th>visitorId</th>\n",
       "      <th>date</th>\n",
       "      <th>revenue</th>\n",
       "      <th>group</th>\n",
       "    </tr>\n",
       "  </thead>\n",
       "  <tbody>\n",
       "    <tr>\n",
       "      <th>0</th>\n",
       "      <td>3667963787</td>\n",
       "      <td>3312258926</td>\n",
       "      <td>2019-08-15</td>\n",
       "      <td>1650</td>\n",
       "      <td>B</td>\n",
       "    </tr>\n",
       "    <tr>\n",
       "      <th>1</th>\n",
       "      <td>2804400009</td>\n",
       "      <td>3642806036</td>\n",
       "      <td>2019-08-15</td>\n",
       "      <td>730</td>\n",
       "      <td>B</td>\n",
       "    </tr>\n",
       "    <tr>\n",
       "      <th>2</th>\n",
       "      <td>2961555356</td>\n",
       "      <td>4069496402</td>\n",
       "      <td>2019-08-15</td>\n",
       "      <td>400</td>\n",
       "      <td>A</td>\n",
       "    </tr>\n",
       "    <tr>\n",
       "      <th>3</th>\n",
       "      <td>3797467345</td>\n",
       "      <td>1196621759</td>\n",
       "      <td>2019-08-15</td>\n",
       "      <td>9759</td>\n",
       "      <td>B</td>\n",
       "    </tr>\n",
       "    <tr>\n",
       "      <th>4</th>\n",
       "      <td>2282983706</td>\n",
       "      <td>2322279887</td>\n",
       "      <td>2019-08-15</td>\n",
       "      <td>2308</td>\n",
       "      <td>B</td>\n",
       "    </tr>\n",
       "  </tbody>\n",
       "</table>\n",
       "</div>"
      ],
      "text/plain": [
       "   transactionId   visitorId        date  revenue group\n",
       "0     3667963787  3312258926  2019-08-15     1650     B\n",
       "1     2804400009  3642806036  2019-08-15      730     B\n",
       "2     2961555356  4069496402  2019-08-15      400     A\n",
       "3     3797467345  1196621759  2019-08-15     9759     B\n",
       "4     2282983706  2322279887  2019-08-15     2308     B"
      ]
     },
     "metadata": {},
     "output_type": "display_data"
    },
    {
     "data": {
      "text/html": [
       "<div>\n",
       "<style scoped>\n",
       "    .dataframe tbody tr th:only-of-type {\n",
       "        vertical-align: middle;\n",
       "    }\n",
       "\n",
       "    .dataframe tbody tr th {\n",
       "        vertical-align: top;\n",
       "    }\n",
       "\n",
       "    .dataframe thead th {\n",
       "        text-align: right;\n",
       "    }\n",
       "</style>\n",
       "<table border=\"1\" class=\"dataframe\">\n",
       "  <thead>\n",
       "    <tr style=\"text-align: right;\">\n",
       "      <th></th>\n",
       "      <th>date</th>\n",
       "      <th>group</th>\n",
       "      <th>visitors</th>\n",
       "    </tr>\n",
       "  </thead>\n",
       "  <tbody>\n",
       "    <tr>\n",
       "      <th>0</th>\n",
       "      <td>2019-08-01</td>\n",
       "      <td>A</td>\n",
       "      <td>719</td>\n",
       "    </tr>\n",
       "    <tr>\n",
       "      <th>1</th>\n",
       "      <td>2019-08-02</td>\n",
       "      <td>A</td>\n",
       "      <td>619</td>\n",
       "    </tr>\n",
       "    <tr>\n",
       "      <th>2</th>\n",
       "      <td>2019-08-03</td>\n",
       "      <td>A</td>\n",
       "      <td>507</td>\n",
       "    </tr>\n",
       "    <tr>\n",
       "      <th>3</th>\n",
       "      <td>2019-08-04</td>\n",
       "      <td>A</td>\n",
       "      <td>717</td>\n",
       "    </tr>\n",
       "    <tr>\n",
       "      <th>4</th>\n",
       "      <td>2019-08-05</td>\n",
       "      <td>A</td>\n",
       "      <td>756</td>\n",
       "    </tr>\n",
       "  </tbody>\n",
       "</table>\n",
       "</div>"
      ],
      "text/plain": [
       "         date group  visitors\n",
       "0  2019-08-01     A       719\n",
       "1  2019-08-02     A       619\n",
       "2  2019-08-03     A       507\n",
       "3  2019-08-04     A       717\n",
       "4  2019-08-05     A       756"
      ]
     },
     "metadata": {},
     "output_type": "display_data"
    }
   ],
   "source": [
    "display(orders.head())\n",
    "display(visitors.head())"
   ]
  },
  {
   "cell_type": "code",
   "execution_count": 10,
   "metadata": {},
   "outputs": [
    {
     "data": {
      "text/plain": [
       "transactionId    0\n",
       "visitorId        0\n",
       "date             0\n",
       "revenue          0\n",
       "group            0\n",
       "dtype: int64"
      ]
     },
     "metadata": {},
     "output_type": "display_data"
    },
    {
     "data": {
      "text/plain": [
       "date        0\n",
       "group       0\n",
       "visitors    0\n",
       "dtype: int64"
      ]
     },
     "metadata": {},
     "output_type": "display_data"
    }
   ],
   "source": [
    "display(orders.isna().sum())\n",
    "display(visitors.isna().sum())"
   ]
  },
  {
   "cell_type": "code",
   "execution_count": 11,
   "metadata": {},
   "outputs": [
    {
     "data": {
      "text/plain": [
       "0"
      ]
     },
     "metadata": {},
     "output_type": "display_data"
    },
    {
     "data": {
      "text/plain": [
       "0"
      ]
     },
     "metadata": {},
     "output_type": "display_data"
    }
   ],
   "source": [
    "display(orders.duplicated().sum())\n",
    "display(visitors.duplicated().sum())"
   ]
  },
  {
   "cell_type": "code",
   "execution_count": 12,
   "metadata": {},
   "outputs": [],
   "source": [
    "orders['date'] = pd.to_datetime(orders['date'])\n",
    "visitors['date'] = pd.to_datetime(visitors['date'])"
   ]
  },
  {
   "cell_type": "code",
   "execution_count": 13,
   "metadata": {},
   "outputs": [],
   "source": [
    "date_group = orders[['date', 'group']].drop_duplicates()"
   ]
  },
  {
   "cell_type": "code",
   "execution_count": 14,
   "metadata": {},
   "outputs": [],
   "source": [
    "orders_agg = date_group.apply(lambda x: orders[np.logical_and(orders['date'] <= x['date'], orders['group'] == x['group'])]\\\n",
    ".agg({'date' : 'max', 'group' : 'max', 'transactionId' : 'nunique', 'visitorId' : 'nunique', 'revenue' : 'sum'}), axis=1)\\\n",
    ".sort_values(by=['date','group'])\n",
    "\n",
    "visitors_agg = date_group.apply(lambda x: visitors[np.logical_and(visitors['date'] <= x['date'], visitors['group'] == x['group'])]\\\n",
    ".agg({'date' : 'max', 'group' : 'max', 'visitors' : 'sum'}), axis=1)\\\n",
    ".sort_values(by=['date','group'])"
   ]
  },
  {
   "cell_type": "code",
   "execution_count": 15,
   "metadata": {},
   "outputs": [
    {
     "data": {
      "text/html": [
       "<div>\n",
       "<style scoped>\n",
       "    .dataframe tbody tr th:only-of-type {\n",
       "        vertical-align: middle;\n",
       "    }\n",
       "\n",
       "    .dataframe tbody tr th {\n",
       "        vertical-align: top;\n",
       "    }\n",
       "\n",
       "    .dataframe thead th {\n",
       "        text-align: right;\n",
       "    }\n",
       "</style>\n",
       "<table border=\"1\" class=\"dataframe\">\n",
       "  <thead>\n",
       "    <tr style=\"text-align: right;\">\n",
       "      <th></th>\n",
       "      <th>date</th>\n",
       "      <th>group</th>\n",
       "      <th>transactions</th>\n",
       "      <th>buyers</th>\n",
       "      <th>revenue</th>\n",
       "      <th>visitors</th>\n",
       "    </tr>\n",
       "  </thead>\n",
       "  <tbody>\n",
       "    <tr>\n",
       "      <th>0</th>\n",
       "      <td>2019-08-01</td>\n",
       "      <td>A</td>\n",
       "      <td>24</td>\n",
       "      <td>20</td>\n",
       "      <td>148579</td>\n",
       "      <td>719</td>\n",
       "    </tr>\n",
       "    <tr>\n",
       "      <th>1</th>\n",
       "      <td>2019-08-01</td>\n",
       "      <td>B</td>\n",
       "      <td>21</td>\n",
       "      <td>20</td>\n",
       "      <td>101217</td>\n",
       "      <td>713</td>\n",
       "    </tr>\n",
       "    <tr>\n",
       "      <th>2</th>\n",
       "      <td>2019-08-02</td>\n",
       "      <td>A</td>\n",
       "      <td>44</td>\n",
       "      <td>38</td>\n",
       "      <td>242401</td>\n",
       "      <td>1338</td>\n",
       "    </tr>\n",
       "    <tr>\n",
       "      <th>3</th>\n",
       "      <td>2019-08-02</td>\n",
       "      <td>B</td>\n",
       "      <td>45</td>\n",
       "      <td>43</td>\n",
       "      <td>266748</td>\n",
       "      <td>1294</td>\n",
       "    </tr>\n",
       "    <tr>\n",
       "      <th>4</th>\n",
       "      <td>2019-08-03</td>\n",
       "      <td>A</td>\n",
       "      <td>68</td>\n",
       "      <td>62</td>\n",
       "      <td>354874</td>\n",
       "      <td>1845</td>\n",
       "    </tr>\n",
       "    <tr>\n",
       "      <th>5</th>\n",
       "      <td>2019-08-03</td>\n",
       "      <td>B</td>\n",
       "      <td>61</td>\n",
       "      <td>59</td>\n",
       "      <td>380996</td>\n",
       "      <td>1803</td>\n",
       "    </tr>\n",
       "    <tr>\n",
       "      <th>6</th>\n",
       "      <td>2019-08-04</td>\n",
       "      <td>A</td>\n",
       "      <td>84</td>\n",
       "      <td>77</td>\n",
       "      <td>425699</td>\n",
       "      <td>2562</td>\n",
       "    </tr>\n",
       "    <tr>\n",
       "      <th>7</th>\n",
       "      <td>2019-08-04</td>\n",
       "      <td>B</td>\n",
       "      <td>78</td>\n",
       "      <td>75</td>\n",
       "      <td>489567</td>\n",
       "      <td>2573</td>\n",
       "    </tr>\n",
       "    <tr>\n",
       "      <th>8</th>\n",
       "      <td>2019-08-05</td>\n",
       "      <td>A</td>\n",
       "      <td>109</td>\n",
       "      <td>100</td>\n",
       "      <td>549917</td>\n",
       "      <td>3318</td>\n",
       "    </tr>\n",
       "    <tr>\n",
       "      <th>9</th>\n",
       "      <td>2019-08-05</td>\n",
       "      <td>B</td>\n",
       "      <td>101</td>\n",
       "      <td>98</td>\n",
       "      <td>581995</td>\n",
       "      <td>3280</td>\n",
       "    </tr>\n",
       "    <tr>\n",
       "      <th>10</th>\n",
       "      <td>2019-08-06</td>\n",
       "      <td>A</td>\n",
       "      <td>127</td>\n",
       "      <td>114</td>\n",
       "      <td>598401</td>\n",
       "      <td>3985</td>\n",
       "    </tr>\n",
       "    <tr>\n",
       "      <th>11</th>\n",
       "      <td>2019-08-06</td>\n",
       "      <td>B</td>\n",
       "      <td>129</td>\n",
       "      <td>123</td>\n",
       "      <td>824337</td>\n",
       "      <td>3935</td>\n",
       "    </tr>\n",
       "    <tr>\n",
       "      <th>12</th>\n",
       "      <td>2019-08-07</td>\n",
       "      <td>A</td>\n",
       "      <td>145</td>\n",
       "      <td>131</td>\n",
       "      <td>740818</td>\n",
       "      <td>4629</td>\n",
       "    </tr>\n",
       "    <tr>\n",
       "      <th>13</th>\n",
       "      <td>2019-08-07</td>\n",
       "      <td>B</td>\n",
       "      <td>153</td>\n",
       "      <td>146</td>\n",
       "      <td>1049671</td>\n",
       "      <td>4644</td>\n",
       "    </tr>\n",
       "    <tr>\n",
       "      <th>14</th>\n",
       "      <td>2019-08-08</td>\n",
       "      <td>A</td>\n",
       "      <td>161</td>\n",
       "      <td>146</td>\n",
       "      <td>837097</td>\n",
       "      <td>5239</td>\n",
       "    </tr>\n",
       "    <tr>\n",
       "      <th>15</th>\n",
       "      <td>2019-08-08</td>\n",
       "      <td>B</td>\n",
       "      <td>180</td>\n",
       "      <td>171</td>\n",
       "      <td>1270589</td>\n",
       "      <td>5298</td>\n",
       "    </tr>\n",
       "    <tr>\n",
       "      <th>16</th>\n",
       "      <td>2019-08-09</td>\n",
       "      <td>A</td>\n",
       "      <td>177</td>\n",
       "      <td>159</td>\n",
       "      <td>1025603</td>\n",
       "      <td>5856</td>\n",
       "    </tr>\n",
       "    <tr>\n",
       "      <th>17</th>\n",
       "      <td>2019-08-09</td>\n",
       "      <td>B</td>\n",
       "      <td>205</td>\n",
       "      <td>193</td>\n",
       "      <td>1431401</td>\n",
       "      <td>5908</td>\n",
       "    </tr>\n",
       "    <tr>\n",
       "      <th>18</th>\n",
       "      <td>2019-08-10</td>\n",
       "      <td>A</td>\n",
       "      <td>193</td>\n",
       "      <td>175</td>\n",
       "      <td>1236098</td>\n",
       "      <td>6262</td>\n",
       "    </tr>\n",
       "    <tr>\n",
       "      <th>19</th>\n",
       "      <td>2019-08-10</td>\n",
       "      <td>B</td>\n",
       "      <td>228</td>\n",
       "      <td>215</td>\n",
       "      <td>1539203</td>\n",
       "      <td>6277</td>\n",
       "    </tr>\n",
       "  </tbody>\n",
       "</table>\n",
       "</div>"
      ],
      "text/plain": [
       "         date group  transactions  buyers  revenue  visitors\n",
       "0  2019-08-01     A            24      20   148579       719\n",
       "1  2019-08-01     B            21      20   101217       713\n",
       "2  2019-08-02     A            44      38   242401      1338\n",
       "3  2019-08-02     B            45      43   266748      1294\n",
       "4  2019-08-03     A            68      62   354874      1845\n",
       "5  2019-08-03     B            61      59   380996      1803\n",
       "6  2019-08-04     A            84      77   425699      2562\n",
       "7  2019-08-04     B            78      75   489567      2573\n",
       "8  2019-08-05     A           109     100   549917      3318\n",
       "9  2019-08-05     B           101      98   581995      3280\n",
       "10 2019-08-06     A           127     114   598401      3985\n",
       "11 2019-08-06     B           129     123   824337      3935\n",
       "12 2019-08-07     A           145     131   740818      4629\n",
       "13 2019-08-07     B           153     146  1049671      4644\n",
       "14 2019-08-08     A           161     146   837097      5239\n",
       "15 2019-08-08     B           180     171  1270589      5298\n",
       "16 2019-08-09     A           177     159  1025603      5856\n",
       "17 2019-08-09     B           205     193  1431401      5908\n",
       "18 2019-08-10     A           193     175  1236098      6262\n",
       "19 2019-08-10     B           228     215  1539203      6277"
      ]
     },
     "execution_count": 15,
     "metadata": {},
     "output_type": "execute_result"
    }
   ],
   "source": [
    "cummulative_data = orders_agg.merge(visitors_agg, left_on=['date', 'group'], right_on=['date', 'group'])\n",
    "cummulative_data.columns = [\n",
    "    'date',\n",
    "    'group',\n",
    "    'transactions',\n",
    "    'buyers',\n",
    "    'revenue',\n",
    "    'visitors',\n",
    "]\n",
    "cummulative_data.head(20)"
   ]
  },
  {
   "cell_type": "markdown",
   "metadata": {},
   "source": [
    "### График кумулятивной выручки по группам"
   ]
  },
  {
   "cell_type": "code",
   "execution_count": 16,
   "metadata": {},
   "outputs": [],
   "source": [
    "cummulative_a = cummulative_data[cummulative_data['group']=='A']\n",
    "cummulative_b = cummulative_data[cummulative_data['group']=='B']"
   ]
  },
  {
   "cell_type": "code",
   "execution_count": 17,
   "metadata": {},
   "outputs": [
    {
     "data": {
      "image/png": "[encoded data removed]",
      "text/plain": [
       "<Figure size 864x432 with 1 Axes>"
      ]
     },
     "metadata": {
      "needs_background": "light"
     },
     "output_type": "display_data"
    }
   ],
   "source": [
    "plt.figure(figsize=(12, 6))\n",
    "plt.title('График кумулятивной выручки')\n",
    "plt.xlabel('Дата')\n",
    "plt.ylabel('Выручка (в млн.)')\n",
    "plt.plot(cummulative_a['date'], cummulative_a['revenue'], label='A')\n",
    "plt.plot(cummulative_b['date'], cummulative_b['revenue'], label='B')\n",
    "plt.legend();"
   ]
  },
  {
   "cell_type": "markdown",
   "metadata": {},
   "source": [
    "Вывод: Выручка стабильно растет, но группа B приносит больше прибыли. Возможно, в группу B в начале второй половины появились крупные заказы."
   ]
  },
  {
   "cell_type": "markdown",
   "metadata": {},
   "source": [
    "### График кумулятивного среднего чека по группам"
   ]
  },
  {
   "cell_type": "code",
   "execution_count": 18,
   "metadata": {},
   "outputs": [
    {
     "data": {
      "image/png": "[encoded data removed]",
      "text/plain": [
       "<Figure size 864x432 with 1 Axes>"
      ]
     },
     "metadata": {
      "needs_background": "light"
     },
     "output_type": "display_data"
    }
   ],
   "source": [
    "plt.figure(figsize=(12, 6))\n",
    "plt.title('График кумулятивного среднего чека')\n",
    "plt.xlabel('Дата')\n",
    "plt.ylabel('Сумма среднего чека')\n",
    "plt.plot(cummulative_a['date'], cummulative_a['revenue']/cummulative_a['transactions'], label='A')\n",
    "plt.plot(cummulative_b['date'], cummulative_b['revenue']/cummulative_b['transactions'], label='B')\n",
    "plt.legend();"
   ]
  },
  {
   "cell_type": "markdown",
   "metadata": {},
   "source": [
    "Вывод: Сначала в группе A средний чек упал и позже увеличился к концу первой половины, а в группе B - постепенно увеличивался. В начале второй половины видно, что в группе B появились крупные заказы. Средний чек уменьшается у группы B и увеличивается у группы A к концу."
   ]
  },
  {
   "cell_type": "markdown",
   "metadata": {},
   "source": [
    "### График относительного изменения кумулятивного среднего чека группы B к группе A"
   ]
  },
  {
   "cell_type": "code",
   "execution_count": 19,
   "metadata": {},
   "outputs": [],
   "source": [
    "cummulative_ab = cummulative_a.merge(cummulative_b, left_on='date', right_on='date', how='left', suffixes=['_a', '_b'])"
   ]
  },
  {
   "cell_type": "code",
   "execution_count": 20,
   "metadata": {},
   "outputs": [
    {
     "data": {
      "image/png": "[encoded data removed]",
      "text/plain": [
       "<Figure size 864x432 with 1 Axes>"
      ]
     },
     "metadata": {
      "needs_background": "light"
     },
     "output_type": "display_data"
    }
   ],
   "source": [
    "plt.figure(figsize=(12, 6))\n",
    "plt.title('График относительного изменения кумулятивного среднего чека')\n",
    "plt.xlabel('Дата')\n",
    "plt.plot(cummulative_ab['date'], (cummulative_ab['revenue_a'] / cummulative_ab['transactions_a']) / (cummulative_ab['revenue_b'] / cummulative_ab['transactions_b'])-1)\n",
    "plt.axhline(y=0, color='black', linestyle='--');"
   ]
  },
  {
   "cell_type": "markdown",
   "metadata": {},
   "source": [
    "Вывод: В нескольких точках графика различия в группах скачат, но несмотря на это у группы B больше показатели среднего чека. Хотя ближе к концу разница уменьшается."
   ]
  },
  {
   "cell_type": "markdown",
   "metadata": {},
   "source": [
    "### График кумулятивного среднего количества заказов на посетителя по группам"
   ]
  },
  {
   "cell_type": "code",
   "execution_count": 21,
   "metadata": {},
   "outputs": [
    {
     "name": "stderr",
     "output_type": "stream",
     "text": [
      "/opt/conda/lib/python3.9/site-packages/pandas/core/indexing.py:1597: SettingWithCopyWarning: \n",
      "A value is trying to be set on a copy of a slice from a DataFrame.\n",
      "Try using .loc[row_indexer,col_indexer] = value instead\n",
      "\n",
      "See the caveats in the documentation: https://pandas.pydata.org/pandas-docs/stable/user_guide/indexing.html#returning-a-view-versus-a-copy\n",
      "  self.obj[key] = value\n",
      "/opt/conda/lib/python3.9/site-packages/pandas/core/indexing.py:1676: SettingWithCopyWarning: \n",
      "A value is trying to be set on a copy of a slice from a DataFrame.\n",
      "Try using .loc[row_indexer,col_indexer] = value instead\n",
      "\n",
      "See the caveats in the documentation: https://pandas.pydata.org/pandas-docs/stable/user_guide/indexing.html#returning-a-view-versus-a-copy\n",
      "  self._setitem_single_column(ilocs[0], value, pi)\n"
     ]
    }
   ],
   "source": [
    "cummulative_a.loc[:, 'conversion'] = cummulative_a['transactions'] / cummulative_a['visitors']\n",
    "cummulative_b.loc[:, 'conversion'] = cummulative_b['transactions'] / cummulative_b['visitors']"
   ]
  },
  {
   "cell_type": "code",
   "execution_count": 22,
   "metadata": {},
   "outputs": [
    {
     "data": {
      "image/png": "[encoded data removed]",
      "text/plain": [
       "<Figure size 864x432 with 1 Axes>"
      ]
     },
     "metadata": {
      "needs_background": "light"
     },
     "output_type": "display_data"
    }
   ],
   "source": [
    "plt.figure(figsize=(12, 6))\n",
    "plt.title('График относительного изменения кумулятивного среднего кол-ва заказов')\n",
    "plt.xlabel('Дата')\n",
    "plt.plot(cummulative_a['date'], cummulative_a['conversion'], label='A')\n",
    "plt.plot(cummulative_b['date'], cummulative_b['conversion'], label='B')\n",
    "plt.legend();"
   ]
  },
  {
   "cell_type": "markdown",
   "metadata": {},
   "source": [
    "Вывод: Группы сильно колебались сначала, но затем у группы B среднее количество заказов вырвалось вперёд и зафиксировалось, а у группы A - просело, но тоже зафиксировалось."
   ]
  },
  {
   "cell_type": "markdown",
   "metadata": {},
   "source": [
    "### График относительного изменения кумулятивного среднего количества заказов на посетителя группы B к группе A"
   ]
  },
  {
   "cell_type": "code",
   "execution_count": 23,
   "metadata": {},
   "outputs": [],
   "source": [
    "cummulative_conversion = cummulative_a.merge(cummulative_b, left_on='date', right_on='date', how='left', suffixes=['_a', '_b'])"
   ]
  },
  {
   "cell_type": "code",
   "execution_count": 24,
   "metadata": {
    "scrolled": false
   },
   "outputs": [
    {
     "data": {
      "image/png": "[encoded data removed]",
      "text/plain": [
       "<Figure size 864x432 with 1 Axes>"
      ]
     },
     "metadata": {
      "needs_background": "light"
     },
     "output_type": "display_data"
    }
   ],
   "source": [
    "plt.figure(figsize=(12, 6))\n",
    "plt.title('График относительного изменения кумулятивного среднего кол-ва заказов A к B')\n",
    "plt.xlabel('Дата')\n",
    "plt.plot(cummulative_conversion['date'], cummulative_conversion['conversion_a']/cummulative_conversion['conversion_b']-1)\n",
    "plt.axhline(y=0, color='black', linestyle='--')\n",
    "plt.axis([cummulative_conversion['date'].min(), cummulative_conversion['date'].max(), -0.2, 0.2]);"
   ]
  },
  {
   "cell_type": "markdown",
   "metadata": {},
   "source": [
    "Вывод: В начале были скачки между группами, но позже группа B стала значительно выигрывать у группы A. Показатели установились и можно сделать вывод, что группа B лидирует."
   ]
  },
  {
   "cell_type": "markdown",
   "metadata": {},
   "source": [
    "### Точечный график количества заказов по пользователям"
   ]
  },
  {
   "cell_type": "code",
   "execution_count": 25,
   "metadata": {},
   "outputs": [
    {
     "data": {
      "text/html": [
       "<div>\n",
       "<style scoped>\n",
       "    .dataframe tbody tr th:only-of-type {\n",
       "        vertical-align: middle;\n",
       "    }\n",
       "\n",
       "    .dataframe tbody tr th {\n",
       "        vertical-align: top;\n",
       "    }\n",
       "\n",
       "    .dataframe thead th {\n",
       "        text-align: right;\n",
       "    }\n",
       "</style>\n",
       "<table border=\"1\" class=\"dataframe\">\n",
       "  <thead>\n",
       "    <tr style=\"text-align: right;\">\n",
       "      <th></th>\n",
       "      <th>visitorId</th>\n",
       "      <th>transactions</th>\n",
       "    </tr>\n",
       "  </thead>\n",
       "  <tbody>\n",
       "    <tr>\n",
       "      <th>0</th>\n",
       "      <td>5114589</td>\n",
       "      <td>1</td>\n",
       "    </tr>\n",
       "    <tr>\n",
       "      <th>1</th>\n",
       "      <td>6958315</td>\n",
       "      <td>1</td>\n",
       "    </tr>\n",
       "    <tr>\n",
       "      <th>2</th>\n",
       "      <td>8300375</td>\n",
       "      <td>2</td>\n",
       "    </tr>\n",
       "    <tr>\n",
       "      <th>3</th>\n",
       "      <td>11685486</td>\n",
       "      <td>1</td>\n",
       "    </tr>\n",
       "    <tr>\n",
       "      <th>4</th>\n",
       "      <td>39475350</td>\n",
       "      <td>1</td>\n",
       "    </tr>\n",
       "  </tbody>\n",
       "</table>\n",
       "</div>"
      ],
      "text/plain": [
       "   visitorId  transactions\n",
       "0    5114589             1\n",
       "1    6958315             1\n",
       "2    8300375             2\n",
       "3   11685486             1\n",
       "4   39475350             1"
      ]
     },
     "execution_count": 25,
     "metadata": {},
     "output_type": "execute_result"
    }
   ],
   "source": [
    "transactions_visitors = orders.groupby('visitorId', as_index=False).agg({'transactionId': 'nunique'})\n",
    "transactions_visitors.columns = ['visitorId', 'transactions']\n",
    "transactions_visitors.head()"
   ]
  },
  {
   "cell_type": "code",
   "execution_count": 26,
   "metadata": {},
   "outputs": [
    {
     "data": {
      "image/png": "[encoded data removed]",
      "text/plain": [
       "<Figure size 432x288 with 1 Axes>"
      ]
     },
     "metadata": {
      "needs_background": "light"
     },
     "output_type": "display_data"
    }
   ],
   "source": [
    "x_values = pd.Series(range(0, len(transactions_visitors)))\n",
    "plt.title('Точечный график количества заказов')\n",
    "plt.ylabel('Кол-во заказов')\n",
    "plt.scatter(x_values, transactions_visitors['transactions']);"
   ]
  },
  {
   "cell_type": "markdown",
   "metadata": {},
   "source": [
    "Вывод: Достаточно много пользователей имеют от 2 заказов."
   ]
  },
  {
   "cell_type": "markdown",
   "metadata": {},
   "source": [
    "### Граница для определения аномальных пользователей"
   ]
  },
  {
   "cell_type": "code",
   "execution_count": 27,
   "metadata": {},
   "outputs": [
    {
     "data": {
      "text/plain": [
       "array([2., 4.])"
      ]
     },
     "execution_count": 27,
     "metadata": {},
     "output_type": "execute_result"
    }
   ],
   "source": [
    "np.percentile(transactions_visitors['transactions'], [95, 99])"
   ]
  },
  {
   "cell_type": "markdown",
   "metadata": {},
   "source": [
    "Вывод: 5% пользователей имеют больше 2 заказов и 1% - больше 4. За верхнюю границу возьмем 2 заказа, а остальных отсеем."
   ]
  },
  {
   "cell_type": "markdown",
   "metadata": {},
   "source": [
    "### Точечный график стоимостей заказов"
   ]
  },
  {
   "cell_type": "code",
   "execution_count": 28,
   "metadata": {},
   "outputs": [
    {
     "data": {
      "image/png": "[encoded data removed]",
      "text/plain": [
       "<Figure size 864x432 with 1 Axes>"
      ]
     },
     "metadata": {
      "needs_background": "light"
     },
     "output_type": "display_data"
    }
   ],
   "source": [
    "x_values = pd.Series(range(0, len(orders['revenue'])))\n",
    "plt.figure(figsize=(12, 6))\n",
    "plt.title('Точечный график стоимостей заказов')\n",
    "plt.ylabel('Стоимость заказа')\n",
    "plt.scatter(x_values, orders['revenue']);"
   ]
  },
  {
   "cell_type": "markdown",
   "metadata": {},
   "source": [
    "Вывод: В основном пользователи делают заказы на сумму до 50тыс. денежных единиц. Также в данных присутствует очень крупный заказ, который мог повлиять на результат теста."
   ]
  },
  {
   "cell_type": "markdown",
   "metadata": {},
   "source": [
    "### Граница для определения аномальных заказов"
   ]
  },
  {
   "cell_type": "code",
   "execution_count": 29,
   "metadata": {},
   "outputs": [
    {
     "data": {
      "text/plain": [
       "array([28000. , 58233.2])"
      ]
     },
     "execution_count": 29,
     "metadata": {},
     "output_type": "execute_result"
    }
   ],
   "source": [
    "np.percentile(orders['revenue'], [95, 99])"
   ]
  },
  {
   "cell_type": "markdown",
   "metadata": {},
   "source": [
    "Вывод: 5% заказов имеют сумму больше 28тыс. денежных единиц, 1% - больше 58тыс. За верхнюю границу возьмем 28тыс."
   ]
  },
  {
   "cell_type": "markdown",
   "metadata": {},
   "source": [
    "### Cтатистическая значимость различий в среднем количестве заказов на посетителя между группами по «сырым» данным"
   ]
  },
  {
   "cell_type": "markdown",
   "metadata": {},
   "source": [
    "Сформулируем гипотезы. Нулевая: различий в среднем количестве заказов между группами нет. Альтернативная: различия в среднем между группами есть."
   ]
  },
  {
   "cell_type": "code",
   "execution_count": 30,
   "metadata": {},
   "outputs": [
    {
     "name": "stdout",
     "output_type": "stream",
     "text": [
      "        date  ordersPerDateA  revenuePerDateA  ordersPerDateB  \\\n",
      "0 2019-08-01              24           148579              21   \n",
      "1 2019-08-02              20            93822              24   \n",
      "2 2019-08-03              24           112473              16   \n",
      "3 2019-08-04              16            70825              17   \n",
      "4 2019-08-05              25           124218              23   \n",
      "\n",
      "   revenuePerDateB  ordersCummulativeA  revenueCummulativeA  \\\n",
      "0           101217                  24               148579   \n",
      "1           165531                  44               242401   \n",
      "2           114248                  68               354874   \n",
      "3           108571                  84               425699   \n",
      "4            92428                 109               549917   \n",
      "\n",
      "   ordersCummulativeB  revenueCummulativeB  visitorsPerDateA  \\\n",
      "0                  21               101217               719   \n",
      "1                  45               266748               619   \n",
      "2                  61               380996               507   \n",
      "3                  78               489567               717   \n",
      "4                 101               581995               756   \n",
      "\n",
      "   visitorsPerDateB  visitorsCummulativeA  visitorsCummulativeB  \n",
      "0               713                   719                   713  \n",
      "1               581                  1338                  1294  \n",
      "2               509                  1845                  1803  \n",
      "3               770                  2562                  2573  \n",
      "4               707                  3318                  3280  \n"
     ]
    }
   ],
   "source": [
    "visitorsADaily = visitors[visitors['group'] == 'A'][['date', 'visitors']]\n",
    "visitorsADaily.columns = ['date', 'visitorsPerDateA']\n",
    "\n",
    "visitorsACummulative = visitorsADaily.apply(\n",
    "    lambda x: visitorsADaily[visitorsADaily['date'] <= x['date']].agg(\n",
    "        {'date': 'max', 'visitorsPerDateA': 'sum'}\n",
    "    ),\n",
    "    axis=1,\n",
    ")\n",
    "visitorsACummulative.columns = ['date', 'visitorsCummulativeA']\n",
    "\n",
    "visitorsBDaily = visitors[visitors['group'] == 'B'][['date', 'visitors']]\n",
    "visitorsBDaily.columns = ['date', 'visitorsPerDateB']\n",
    "\n",
    "visitorsBCummulative = visitorsBDaily.apply(\n",
    "    lambda x: visitorsBDaily[visitorsBDaily['date'] <= x['date']].agg(\n",
    "        {'date': 'max', 'visitorsPerDateB': 'sum'}\n",
    "    ),\n",
    "    axis=1,\n",
    ")\n",
    "visitorsBCummulative.columns = ['date', 'visitorsCummulativeB']\n",
    "\n",
    "ordersADaily = (\n",
    "    orders[orders['group'] == 'A'][['date', 'transactionId', 'visitorId', 'revenue']]\n",
    "    .groupby('date', as_index=False)\n",
    "    .agg({'transactionId': pd.Series.nunique, 'revenue': 'sum'})\n",
    ")\n",
    "ordersADaily.columns = ['date', 'ordersPerDateA', 'revenuePerDateA']\n",
    "\n",
    "ordersACummulative = ordersADaily.apply(\n",
    "    lambda x: ordersADaily[ordersADaily['date'] <= x['date']].agg(\n",
    "        {'date': 'max', 'ordersPerDateA': 'sum', 'revenuePerDateA': 'sum'}\n",
    "    ),\n",
    "    axis=1,\n",
    ").sort_values(by=['date'])\n",
    "ordersACummulative.columns = [\n",
    "    'date',\n",
    "    'ordersCummulativeA',\n",
    "    'revenueCummulativeA',\n",
    "]\n",
    "\n",
    "ordersBDaily = (\n",
    "    orders[orders['group'] == 'B'][['date', 'transactionId', 'visitorId', 'revenue']]\n",
    "    .groupby('date', as_index=False)\n",
    "    .agg({'transactionId': pd.Series.nunique, 'revenue': 'sum'})\n",
    ")\n",
    "ordersBDaily.columns = ['date', 'ordersPerDateB', 'revenuePerDateB']\n",
    "\n",
    "ordersBCummulative = ordersBDaily.apply(\n",
    "    lambda x: ordersBDaily[ordersBDaily['date'] <= x['date']].agg(\n",
    "        {'date': 'max', 'ordersPerDateB': 'sum', 'revenuePerDateB': 'sum'}\n",
    "    ),\n",
    "    axis=1,\n",
    ").sort_values(by=['date'])\n",
    "ordersBCummulative.columns = [\n",
    "    'date',\n",
    "    'ordersCummulativeB',\n",
    "    'revenueCummulativeB',\n",
    "]\n",
    "\n",
    "data = (\n",
    "    ordersADaily.merge(\n",
    "        ordersBDaily, left_on='date', right_on='date', how='left'\n",
    "    )\n",
    "    .merge(ordersACummulative, left_on='date', right_on='date', how='left')\n",
    "    .merge(ordersBCummulative, left_on='date', right_on='date', how='left')\n",
    "    .merge(visitorsADaily, left_on='date', right_on='date', how='left')\n",
    "    .merge(visitorsBDaily, left_on='date', right_on='date', how='left')\n",
    "    .merge(visitorsACummulative, left_on='date', right_on='date', how='left')\n",
    "    .merge(visitorsBCummulative, left_on='date', right_on='date', how='left')\n",
    ")\n",
    "\n",
    "print(data.head(5))"
   ]
  },
  {
   "cell_type": "code",
   "execution_count": 31,
   "metadata": {},
   "outputs": [],
   "source": [
    "ordersByUsersA = (\n",
    "    orders[orders['group'] == 'A']\n",
    "    .groupby('visitorId', as_index=False)\n",
    "    .agg({'transactionId': pd.Series.nunique})\n",
    ")\n",
    "ordersByUsersA.columns = ['userId', 'orders']\n",
    "\n",
    "ordersByUsersB = (\n",
    "    orders[orders['group'] == 'B']\n",
    "    .groupby('visitorId', as_index=False)\n",
    "    .agg({'transactionId': pd.Series.nunique})\n",
    ")\n",
    "ordersByUsersB.columns = ['userId', 'orders']\n",
    "\n",
    "sampleA = pd.concat(\n",
    "    [\n",
    "        ordersByUsersA['orders'],\n",
    "        pd.Series(\n",
    "            0,\n",
    "            index=np.arange(data['visitorsPerDateA'].sum() - len(ordersByUsersA['orders'])),\n",
    "            name='orders',\n",
    "        ),\n",
    "    ],\n",
    "    axis=0,\n",
    ")\n",
    "\n",
    "sampleB = pd.concat(\n",
    "    [\n",
    "        ordersByUsersB['orders'],\n",
    "        pd.Series(\n",
    "            0,\n",
    "            index=np.arange(data['visitorsPerDateB'].sum() - len(ordersByUsersB['orders'])),\n",
    "            name='orders',\n",
    "        ),\n",
    "    ],\n",
    "    axis=0,\n",
    ")\n"
   ]
  },
  {
   "cell_type": "code",
   "execution_count": 32,
   "metadata": {},
   "outputs": [
    {
     "name": "stdout",
     "output_type": "stream",
     "text": [
      "0.017\n",
      "0.138\n"
     ]
    }
   ],
   "source": [
    "print(\"{0:.3f}\".format(st.mannwhitneyu(sampleA, sampleB)[1]))\n",
    "\n",
    "print(\"{0:.3f}\".format(sampleB.mean() / sampleA.mean() - 1))"
   ]
  },
  {
   "cell_type": "markdown",
   "metadata": {},
   "source": [
    "Вывод: P-value меньше 5%. Можно сделать вывод, что различия между группами есть. В группе B на 13.8% больше кол-во заказов."
   ]
  },
  {
   "cell_type": "markdown",
   "metadata": {},
   "source": [
    "### Статистическая значимость различий в среднем чеке заказа между группами по «сырым» данным"
   ]
  },
  {
   "cell_type": "code",
   "execution_count": 33,
   "metadata": {},
   "outputs": [
    {
     "name": "stdout",
     "output_type": "stream",
     "text": [
      "0.729\n",
      "0.259\n"
     ]
    }
   ],
   "source": [
    "print('{0:.3f}'.format(st.mannwhitneyu(orders[orders['group']=='A']['revenue'], orders[orders['group']=='B']['revenue'])[1]))\n",
    "print('{0:.3f}'.format(orders[orders['group']=='B']['revenue'].mean()/orders[orders['group']=='A']['revenue'].mean()-1))"
   ]
  },
  {
   "cell_type": "markdown",
   "metadata": {},
   "source": [
    "Вывод: P-value много больше 5%. Причин отвергать нулевую гипотезу и считать, что в среднем чеке есть различия, нет. Впрочем, средний чек группы B больше среднего чека группы A (на 25.9%)."
   ]
  },
  {
   "cell_type": "markdown",
   "metadata": {},
   "source": [
    "### Cтатистическая значимость различий в среднем количестве заказов на посетителя между группами по «очищенным» данным"
   ]
  },
  {
   "cell_type": "code",
   "execution_count": 34,
   "metadata": {},
   "outputs": [],
   "source": [
    "ordersByUsersAFiltered = ordersByUsersA[ordersByUsersA['orders'] <= 2]\n",
    "ordersByUsersBFiltered = ordersByUsersB[ordersByUsersB['orders'] <= 2]\n",
    "\n",
    "sampleAFiltered = pd.concat(\n",
    "    [\n",
    "        ordersByUsersAFiltered['orders'],\n",
    "        pd.Series(\n",
    "            0,\n",
    "            index=np.arange(data['visitorsPerDateA'].sum() - len(ordersByUsersAFiltered['orders'])),\n",
    "            name='orders',\n",
    "        ),\n",
    "    ],\n",
    "    axis=0,\n",
    ")\n",
    "\n",
    "sampleBFiltered = pd.concat(\n",
    "    [\n",
    "        ordersByUsersBFiltered['orders'],\n",
    "        pd.Series(\n",
    "            0,\n",
    "            index=np.arange(data['visitorsPerDateB'].sum() - len(ordersByUsersBFiltered['orders'])),\n",
    "            name='orders',\n",
    "        ),\n",
    "    ],\n",
    "    axis=0,\n",
    ")"
   ]
  },
  {
   "cell_type": "code",
   "execution_count": 35,
   "metadata": {},
   "outputs": [
    {
     "name": "stdout",
     "output_type": "stream",
     "text": [
      "0.013\n",
      "0.168\n"
     ]
    }
   ],
   "source": [
    "print('{0:.3f}'.format(st.mannwhitneyu(sampleAFiltered, sampleBFiltered)[1]))\n",
    "print('{0:.3f}'.format(sampleBFiltered.mean()/sampleAFiltered.mean()-1))"
   ]
  },
  {
   "cell_type": "markdown",
   "metadata": {},
   "source": [
    "Вывод: Результаты почти не изменились. Разница между группами увеличилась до 16.8%."
   ]
  },
  {
   "cell_type": "markdown",
   "metadata": {},
   "source": [
    "### Статистическая значимость различий в среднем чеке заказа между группами по «очищенным» данным"
   ]
  },
  {
   "cell_type": "code",
   "execution_count": 41,
   "metadata": {},
   "outputs": [],
   "source": [
    "usersWithManyOrders = pd.concat(\n",
    "    [\n",
    "        ordersByUsersA[ordersByUsersA['orders'] > 2]['userId'],\n",
    "        ordersByUsersB[ordersByUsersB['orders'] > 2]['userId'],\n",
    "    ],\n",
    "    axis=0,\n",
    ")\n",
    "usersWithExpensiveOrders = orders[orders['revenue'] > 28000]['visitorId']\n",
    "abnormalUsers = (\n",
    "    pd.concat([usersWithManyOrders, usersWithExpensiveOrders], axis=0)\n",
    "    .drop_duplicates()\n",
    "    .sort_values()\n",
    ")"
   ]
  },
  {
   "cell_type": "code",
   "execution_count": 39,
   "metadata": {},
   "outputs": [
    {
     "name": "stdout",
     "output_type": "stream",
     "text": [
      "0.738\n",
      "-0.020\n"
     ]
    }
   ],
   "source": [
    "print(\n",
    "    '{0:.3f}'.format(\n",
    "        st.mannwhitneyu(\n",
    "            orders[\n",
    "                np.logical_and(\n",
    "                    orders['group'] == 'A',\n",
    "                    np.logical_not(orders['visitorId'].isin(abnormalUsers)),\n",
    "                )\n",
    "            ]['revenue'],\n",
    "            orders[\n",
    "                np.logical_and(\n",
    "                    orders['group'] == 'B',\n",
    "                    np.logical_not(orders['visitorId'].isin(abnormalUsers)),\n",
    "                )\n",
    "            ]['revenue'],\n",
    "        )[1]\n",
    "    )\n",
    ")\n",
    "\n",
    "print(\n",
    "    \"{0:.3f}\".format(\n",
    "        orders[\n",
    "            np.logical_and(\n",
    "                orders['group'] == 'B',\n",
    "                np.logical_not(orders['visitorId'].isin(abnormalUsers)),\n",
    "            )\n",
    "        ]['revenue'].mean()\n",
    "        / orders[\n",
    "            np.logical_and(\n",
    "                orders['group'] == 'A',\n",
    "                np.logical_not(orders['visitorId'].isin(abnormalUsers)),\n",
    "            )\n",
    "        ]['revenue'].mean()\n",
    "        - 1\n",
    "    )\n",
    ")"
   ]
  },
  {
   "cell_type": "markdown",
   "metadata": {},
   "source": [
    "Вывод: P-value немного увеличился, а разница между группами поменялась с 16.8% до -2%. Видимо, аномальные значения относились к группе B, и при очищении разница изменилась."
   ]
  },
  {
   "cell_type": "markdown",
   "metadata": {},
   "source": [
    "## Вывод"
   ]
  },
  {
   "cell_type": "markdown",
   "metadata": {},
   "source": [
    "Имеющиеся факты:\n",
    "- Есть небольшие различия по среднему количеству заказов между группами и по «сырым», и по данным после фильтрации аномалий;\n",
    "- Нет статистически значимого различия по среднему чеку между группами ни по «сырым», ни по данным после фильтрации аномалий;\n",
    "- График различия среднего чека между группами сообщает, что результаты группы B лучше группы A, но есть тенденции к ухудшению показателей группы B;\n",
    "- График различия среднего кол-ва заказов говорит о том, что результаты группы B лучше группы A на 10-15%"
   ]
  },
  {
   "cell_type": "markdown",
   "metadata": {},
   "source": [
    "Решение: Исходя из обнаруженных фактов, тест следует завершить и признать его успешным, так как один из показателей показал разницу в пользу группы B (среднее кол-во закаказов больше на 13-16%)."
   ]
  },
  {
   "cell_type": "code",
   "execution_count": null,
   "metadata": {},
   "outputs": [],
   "source": []
  }
 ],
 "metadata": {
  "ExecuteTimeLog": [
   {
    "duration": 1386,
    "start_time": "2024-11-28T10:52:16.388Z"
   },
   {
    "duration": 72,
    "start_time": "2024-11-28T10:53:08.803Z"
   },
   {
    "duration": 34,
    "start_time": "2024-11-28T10:53:27.788Z"
   },
   {
    "duration": 12,
    "start_time": "2024-11-28T10:54:03.877Z"
   },
   {
    "duration": 7,
    "start_time": "2024-11-28T10:57:15.961Z"
   },
   {
    "duration": 6,
    "start_time": "2024-11-28T10:59:33.526Z"
   },
   {
    "duration": 3,
    "start_time": "2024-11-28T11:08:44.903Z"
   },
   {
    "duration": 11,
    "start_time": "2024-11-28T11:09:19.532Z"
   },
   {
    "duration": 11,
    "start_time": "2024-11-28T11:11:51.596Z"
   },
   {
    "duration": 4,
    "start_time": "2024-11-28T11:13:04.420Z"
   },
   {
    "duration": 32,
    "start_time": "2024-11-28T11:13:11.147Z"
   },
   {
    "duration": 1328,
    "start_time": "2024-11-28T11:14:50.752Z"
   },
   {
    "duration": 1248,
    "start_time": "2024-11-28T11:15:18.218Z"
   },
   {
    "duration": 39,
    "start_time": "2024-11-28T11:15:19.468Z"
   },
   {
    "duration": 12,
    "start_time": "2024-11-28T11:15:19.508Z"
   },
   {
    "duration": 5,
    "start_time": "2024-11-28T11:15:19.521Z"
   },
   {
    "duration": 14,
    "start_time": "2024-11-28T11:15:19.528Z"
   },
   {
    "duration": 13,
    "start_time": "2024-11-28T11:15:19.543Z"
   },
   {
    "duration": 173,
    "start_time": "2024-11-28T11:17:29.236Z"
   },
   {
    "duration": 17,
    "start_time": "2024-11-28T11:18:02.444Z"
   },
   {
    "duration": 9,
    "start_time": "2024-11-28T11:18:51.563Z"
   },
   {
    "duration": 8,
    "start_time": "2024-11-28T11:19:13.785Z"
   },
   {
    "duration": 13,
    "start_time": "2024-11-28T11:37:27.548Z"
   },
   {
    "duration": 48,
    "start_time": "2024-11-28T17:42:47.665Z"
   },
   {
    "duration": 1435,
    "start_time": "2024-11-28T17:43:02.179Z"
   },
   {
    "duration": 82,
    "start_time": "2024-11-28T17:43:03.617Z"
   },
   {
    "duration": 11,
    "start_time": "2024-11-28T17:43:03.701Z"
   },
   {
    "duration": 13,
    "start_time": "2024-11-28T17:43:03.714Z"
   },
   {
    "duration": 35,
    "start_time": "2024-11-28T17:43:03.730Z"
   },
   {
    "duration": 15,
    "start_time": "2024-11-28T17:43:03.767Z"
   },
   {
    "duration": 161,
    "start_time": "2024-11-28T17:43:03.783Z"
   },
   {
    "duration": 16,
    "start_time": "2024-11-28T17:43:03.946Z"
   },
   {
    "duration": 17,
    "start_time": "2024-11-28T17:43:03.964Z"
   },
   {
    "duration": 10,
    "start_time": "2024-11-28T17:43:03.983Z"
   },
   {
    "duration": 8,
    "start_time": "2024-11-28T17:43:03.995Z"
   },
   {
    "duration": 29,
    "start_time": "2024-11-28T17:43:04.005Z"
   },
   {
    "duration": 14,
    "start_time": "2024-11-28T17:44:16.915Z"
   },
   {
    "duration": 1024,
    "start_time": "2024-11-28T17:53:10.833Z"
   },
   {
    "duration": 117,
    "start_time": "2024-11-28T17:57:45.030Z"
   },
   {
    "duration": 23,
    "start_time": "2024-11-28T18:00:42.226Z"
   },
   {
    "duration": 24,
    "start_time": "2024-11-28T18:01:37.639Z"
   },
   {
    "duration": 171,
    "start_time": "2024-11-28T18:03:39.252Z"
   },
   {
    "duration": 8,
    "start_time": "2024-11-28T18:06:09.797Z"
   },
   {
    "duration": 8,
    "start_time": "2024-11-28T18:06:26.122Z"
   },
   {
    "duration": 10,
    "start_time": "2024-11-28T18:12:44.296Z"
   },
   {
    "duration": 9,
    "start_time": "2024-11-28T18:13:05.106Z"
   },
   {
    "duration": 269,
    "start_time": "2024-11-28T18:13:20.426Z"
   },
   {
    "duration": 235,
    "start_time": "2024-11-28T18:13:30.256Z"
   },
   {
    "duration": 239,
    "start_time": "2024-11-28T18:14:48.184Z"
   },
   {
    "duration": 259,
    "start_time": "2024-11-28T18:14:56.403Z"
   },
   {
    "duration": 247,
    "start_time": "2024-11-28T18:15:18.811Z"
   },
   {
    "duration": 306,
    "start_time": "2024-11-28T18:16:41.674Z"
   },
   {
    "duration": 14,
    "start_time": "2024-11-28T18:17:32.796Z"
   },
   {
    "duration": 15,
    "start_time": "2024-11-28T18:27:20.489Z"
   },
   {
    "duration": 265,
    "start_time": "2024-11-28T18:27:23.874Z"
   },
   {
    "duration": 275,
    "start_time": "2024-11-28T18:28:02.845Z"
   },
   {
    "duration": 5,
    "start_time": "2024-11-28T18:34:54.988Z"
   },
   {
    "duration": 344,
    "start_time": "2024-11-28T18:35:37.894Z"
   },
   {
    "duration": 266,
    "start_time": "2024-11-28T18:36:21.487Z"
   },
   {
    "duration": 12,
    "start_time": "2024-11-28T18:38:21.363Z"
   },
   {
    "duration": 8,
    "start_time": "2024-11-28T18:39:44.375Z"
   },
   {
    "duration": 253,
    "start_time": "2024-11-28T18:40:07.599Z"
   },
   {
    "duration": 230,
    "start_time": "2024-11-28T18:40:15.018Z"
   },
   {
    "duration": 438,
    "start_time": "2024-11-28T18:40:53.140Z"
   },
   {
    "duration": 379,
    "start_time": "2024-11-28T18:42:52.940Z"
   },
   {
    "duration": 381,
    "start_time": "2024-11-28T18:43:02.647Z"
   },
   {
    "duration": 361,
    "start_time": "2024-11-28T18:44:47.881Z"
   },
   {
    "duration": 272,
    "start_time": "2024-11-28T18:45:30.880Z"
   },
   {
    "duration": 270,
    "start_time": "2024-11-28T18:46:47.313Z"
   },
   {
    "duration": 342,
    "start_time": "2024-11-28T18:58:16.027Z"
   },
   {
    "duration": 428,
    "start_time": "2024-11-28T19:00:04.466Z"
   },
   {
    "duration": 341,
    "start_time": "2024-11-28T19:00:42.546Z"
   },
   {
    "duration": 10,
    "start_time": "2024-11-28T19:01:06.738Z"
   },
   {
    "duration": 1174,
    "start_time": "2024-11-28T19:02:38.510Z"
   },
   {
    "duration": 37,
    "start_time": "2024-11-28T19:02:39.687Z"
   },
   {
    "duration": 13,
    "start_time": "2024-11-28T19:02:39.726Z"
   },
   {
    "duration": 4,
    "start_time": "2024-11-28T19:02:39.741Z"
   },
   {
    "duration": 20,
    "start_time": "2024-11-28T19:02:39.747Z"
   },
   {
    "duration": 14,
    "start_time": "2024-11-28T19:02:39.768Z"
   },
   {
    "duration": 53,
    "start_time": "2024-11-28T19:02:39.784Z"
   },
   {
    "duration": 19,
    "start_time": "2024-11-28T19:02:39.839Z"
   },
   {
    "duration": 14,
    "start_time": "2024-11-28T19:02:39.860Z"
   },
   {
    "duration": 9,
    "start_time": "2024-11-28T19:02:39.878Z"
   },
   {
    "duration": 9,
    "start_time": "2024-11-28T19:02:39.889Z"
   },
   {
    "duration": 6,
    "start_time": "2024-11-28T19:02:39.900Z"
   },
   {
    "duration": 314,
    "start_time": "2024-11-28T19:02:39.908Z"
   },
   {
    "duration": 16,
    "start_time": "2024-11-28T19:02:40.224Z"
   },
   {
    "duration": 23,
    "start_time": "2024-11-28T19:02:40.242Z"
   },
   {
    "duration": 315,
    "start_time": "2024-11-28T19:02:40.267Z"
   },
   {
    "duration": 324,
    "start_time": "2024-11-28T19:02:40.584Z"
   },
   {
    "duration": 6,
    "start_time": "2024-11-28T19:02:40.910Z"
   },
   {
    "duration": 359,
    "start_time": "2024-11-28T19:02:40.918Z"
   },
   {
    "duration": 8,
    "start_time": "2024-11-28T19:02:41.279Z"
   },
   {
    "duration": 4,
    "start_time": "2024-11-28T19:02:41.288Z"
   },
   {
    "duration": 6,
    "start_time": "2024-11-28T19:03:22.976Z"
   },
   {
    "duration": 4,
    "start_time": "2024-11-28T19:03:57.047Z"
   },
   {
    "duration": 4,
    "start_time": "2024-11-28T19:04:17.196Z"
   },
   {
    "duration": 5,
    "start_time": "2024-11-28T19:04:26.515Z"
   },
   {
    "duration": 368,
    "start_time": "2024-11-28T19:07:27.581Z"
   },
   {
    "duration": 269,
    "start_time": "2024-11-28T19:07:50.990Z"
   },
   {
    "duration": 277,
    "start_time": "2024-11-28T19:07:55.484Z"
   },
   {
    "duration": 278,
    "start_time": "2024-11-28T19:08:52.579Z"
   },
   {
    "duration": 6,
    "start_time": "2024-11-28T19:09:32.676Z"
   },
   {
    "duration": 9,
    "start_time": "2024-11-28T19:13:24.548Z"
   },
   {
    "duration": 8,
    "start_time": "2024-11-28T19:13:32.523Z"
   },
   {
    "duration": 342,
    "start_time": "2024-11-28T19:15:07.031Z"
   },
   {
    "duration": 246,
    "start_time": "2024-11-28T19:15:19.050Z"
   },
   {
    "duration": 381,
    "start_time": "2024-11-28T19:15:57.166Z"
   },
   {
    "duration": 338,
    "start_time": "2024-11-28T19:18:13.295Z"
   },
   {
    "duration": 1330,
    "start_time": "2024-11-29T09:36:51.388Z"
   },
   {
    "duration": 109,
    "start_time": "2024-11-29T09:36:52.720Z"
   },
   {
    "duration": 10,
    "start_time": "2024-11-29T09:36:52.831Z"
   },
   {
    "duration": 22,
    "start_time": "2024-11-29T09:36:52.843Z"
   },
   {
    "duration": 17,
    "start_time": "2024-11-29T09:36:52.867Z"
   },
   {
    "duration": 49,
    "start_time": "2024-11-29T09:36:52.886Z"
   },
   {
    "duration": 162,
    "start_time": "2024-11-29T09:36:52.937Z"
   },
   {
    "duration": 17,
    "start_time": "2024-11-29T09:36:53.101Z"
   },
   {
    "duration": 16,
    "start_time": "2024-11-29T09:36:53.120Z"
   },
   {
    "duration": 9,
    "start_time": "2024-11-29T09:36:53.139Z"
   },
   {
    "duration": 8,
    "start_time": "2024-11-29T09:36:53.150Z"
   },
   {
    "duration": 6,
    "start_time": "2024-11-29T09:36:53.160Z"
   },
   {
    "duration": 276,
    "start_time": "2024-11-29T09:36:53.167Z"
   },
   {
    "duration": 15,
    "start_time": "2024-11-29T09:36:53.444Z"
   },
   {
    "duration": 6,
    "start_time": "2024-11-29T09:36:53.460Z"
   },
   {
    "duration": 295,
    "start_time": "2024-11-29T09:36:53.468Z"
   },
   {
    "duration": 284,
    "start_time": "2024-11-29T09:36:53.765Z"
   },
   {
    "duration": 6,
    "start_time": "2024-11-29T09:36:54.051Z"
   },
   {
    "duration": 384,
    "start_time": "2024-11-29T09:36:54.059Z"
   },
   {
    "duration": 5,
    "start_time": "2024-11-29T09:36:54.445Z"
   },
   {
    "duration": 280,
    "start_time": "2024-11-29T09:36:54.451Z"
   },
   {
    "duration": 6,
    "start_time": "2024-11-29T09:36:54.732Z"
   },
   {
    "duration": 382,
    "start_time": "2024-11-29T09:36:54.740Z"
   },
   {
    "duration": 16,
    "start_time": "2024-11-29T09:47:42.207Z"
   },
   {
    "duration": 95,
    "start_time": "2024-11-29T09:48:48.082Z"
   },
   {
    "duration": 108,
    "start_time": "2024-11-29T09:48:57.071Z"
   },
   {
    "duration": 5,
    "start_time": "2024-11-29T09:52:42.151Z"
   },
   {
    "duration": 197,
    "start_time": "2024-11-29T09:56:50.009Z"
   },
   {
    "duration": 4,
    "start_time": "2024-11-29T09:59:05.910Z"
   },
   {
    "duration": 1149,
    "start_time": "2024-11-29T10:08:15.486Z"
   },
   {
    "duration": 37,
    "start_time": "2024-11-29T10:08:16.637Z"
   },
   {
    "duration": 10,
    "start_time": "2024-11-29T10:08:16.676Z"
   },
   {
    "duration": 15,
    "start_time": "2024-11-29T10:08:16.688Z"
   },
   {
    "duration": 25,
    "start_time": "2024-11-29T10:08:16.705Z"
   },
   {
    "duration": 35,
    "start_time": "2024-11-29T10:08:16.731Z"
   },
   {
    "duration": 66,
    "start_time": "2024-11-29T10:08:16.767Z"
   },
   {
    "duration": 15,
    "start_time": "2024-11-29T10:08:16.835Z"
   },
   {
    "duration": 18,
    "start_time": "2024-11-29T10:08:16.852Z"
   },
   {
    "duration": 11,
    "start_time": "2024-11-29T10:08:16.871Z"
   },
   {
    "duration": 11,
    "start_time": "2024-11-29T10:08:16.883Z"
   },
   {
    "duration": 5,
    "start_time": "2024-11-29T10:08:16.896Z"
   },
   {
    "duration": 253,
    "start_time": "2024-11-29T10:08:16.902Z"
   },
   {
    "duration": 12,
    "start_time": "2024-11-29T10:08:17.158Z"
   },
   {
    "duration": 5,
    "start_time": "2024-11-29T10:08:17.172Z"
   },
   {
    "duration": 332,
    "start_time": "2024-11-29T10:08:17.178Z"
   },
   {
    "duration": 278,
    "start_time": "2024-11-29T10:08:17.512Z"
   },
   {
    "duration": 6,
    "start_time": "2024-11-29T10:08:17.792Z"
   },
   {
    "duration": 395,
    "start_time": "2024-11-29T10:08:17.799Z"
   },
   {
    "duration": 5,
    "start_time": "2024-11-29T10:08:18.195Z"
   },
   {
    "duration": 295,
    "start_time": "2024-11-29T10:08:18.202Z"
   },
   {
    "duration": 7,
    "start_time": "2024-11-29T10:08:18.498Z"
   },
   {
    "duration": 404,
    "start_time": "2024-11-29T10:08:18.506Z"
   },
   {
    "duration": 13,
    "start_time": "2024-11-29T10:08:18.912Z"
   },
   {
    "duration": 111,
    "start_time": "2024-11-29T10:08:18.926Z"
   },
   {
    "duration": 4,
    "start_time": "2024-11-29T10:08:19.039Z"
   },
   {
    "duration": 129,
    "start_time": "2024-11-29T10:08:19.044Z"
   },
   {
    "duration": 4,
    "start_time": "2024-11-29T10:08:19.174Z"
   },
   {
    "duration": 184,
    "start_time": "2024-11-29T10:08:19.179Z"
   },
   {
    "duration": 99,
    "start_time": "2024-11-29T10:09:05.252Z"
   },
   {
    "duration": 94,
    "start_time": "2024-11-29T10:11:12.718Z"
   },
   {
    "duration": 197,
    "start_time": "2024-11-29T10:11:51.366Z"
   },
   {
    "duration": 1347,
    "start_time": "2024-11-29T18:33:39.448Z"
   },
   {
    "duration": 81,
    "start_time": "2024-11-29T18:33:40.798Z"
   },
   {
    "duration": 12,
    "start_time": "2024-11-29T18:33:40.881Z"
   },
   {
    "duration": 3,
    "start_time": "2024-11-29T18:33:40.895Z"
   },
   {
    "duration": 18,
    "start_time": "2024-11-29T18:33:40.900Z"
   },
   {
    "duration": 15,
    "start_time": "2024-11-29T18:33:40.920Z"
   },
   {
    "duration": 165,
    "start_time": "2024-11-29T18:33:40.937Z"
   },
   {
    "duration": 23,
    "start_time": "2024-11-29T18:33:41.104Z"
   },
   {
    "duration": 22,
    "start_time": "2024-11-29T18:33:41.129Z"
   },
   {
    "duration": 23,
    "start_time": "2024-11-29T18:33:41.153Z"
   },
   {
    "duration": 9,
    "start_time": "2024-11-29T18:33:41.178Z"
   },
   {
    "duration": 11,
    "start_time": "2024-11-29T18:33:41.188Z"
   },
   {
    "duration": 277,
    "start_time": "2024-11-29T18:33:41.201Z"
   },
   {
    "duration": 13,
    "start_time": "2024-11-29T18:33:41.482Z"
   },
   {
    "duration": 40,
    "start_time": "2024-11-29T18:33:41.496Z"
   },
   {
    "duration": 310,
    "start_time": "2024-11-29T18:33:41.537Z"
   },
   {
    "duration": 300,
    "start_time": "2024-11-29T18:33:41.849Z"
   },
   {
    "duration": 8,
    "start_time": "2024-11-29T18:33:42.152Z"
   },
   {
    "duration": 457,
    "start_time": "2024-11-29T18:33:42.161Z"
   },
   {
    "duration": 6,
    "start_time": "2024-11-29T18:33:42.619Z"
   },
   {
    "duration": 305,
    "start_time": "2024-11-29T18:33:42.627Z"
   },
   {
    "duration": 6,
    "start_time": "2024-11-29T18:33:42.934Z"
   },
   {
    "duration": 370,
    "start_time": "2024-11-29T18:33:42.942Z"
   },
   {
    "duration": 11,
    "start_time": "2024-11-29T18:33:43.313Z"
   },
   {
    "duration": 119,
    "start_time": "2024-11-29T18:33:43.325Z"
   },
   {
    "duration": 5,
    "start_time": "2024-11-29T18:33:43.445Z"
   },
   {
    "duration": 143,
    "start_time": "2024-11-29T18:33:43.451Z"
   },
   {
    "duration": 5,
    "start_time": "2024-11-29T18:33:43.596Z"
   },
   {
    "duration": 304,
    "start_time": "2024-11-29T18:33:43.603Z"
   },
   {
    "duration": 250,
    "start_time": "2024-11-29T18:43:24.192Z"
   },
   {
    "duration": 161,
    "start_time": "2024-11-29T18:44:12.274Z"
   },
   {
    "duration": 11,
    "start_time": "2024-11-29T18:45:37.463Z"
   },
   {
    "duration": 11,
    "start_time": "2024-11-29T18:45:44.848Z"
   },
   {
    "duration": 16,
    "start_time": "2024-11-29T18:58:22.322Z"
   },
   {
    "duration": 17,
    "start_time": "2024-11-29T18:58:30.203Z"
   },
   {
    "duration": 31,
    "start_time": "2024-11-29T18:58:46.884Z"
   },
   {
    "duration": 1477,
    "start_time": "2024-11-29T19:03:25.024Z"
   },
   {
    "duration": 1487,
    "start_time": "2024-11-29T19:04:17.748Z"
   },
   {
    "duration": 12,
    "start_time": "2024-11-29T19:04:37.616Z"
   },
   {
    "duration": 17,
    "start_time": "2024-11-29T19:06:58.131Z"
   },
   {
    "duration": 18,
    "start_time": "2024-11-29T19:07:10.369Z"
   },
   {
    "duration": 284,
    "start_time": "2024-11-29T20:26:33.589Z"
   },
   {
    "duration": 135,
    "start_time": "2024-11-29T21:04:37.451Z"
   },
   {
    "duration": 131,
    "start_time": "2024-11-29T21:11:18.131Z"
   },
   {
    "duration": 26,
    "start_time": "2024-11-29T21:11:19.699Z"
   },
   {
    "duration": 25,
    "start_time": "2024-11-29T21:11:58.670Z"
   },
   {
    "duration": 8,
    "start_time": "2024-11-29T21:12:03.180Z"
   },
   {
    "duration": 14,
    "start_time": "2024-11-29T21:12:33.198Z"
   },
   {
    "duration": 378,
    "start_time": "2024-11-29T21:13:54.535Z"
   },
   {
    "duration": 144,
    "start_time": "2024-11-29T21:14:35.628Z"
   },
   {
    "duration": 355,
    "start_time": "2024-11-29T21:15:00.053Z"
   },
   {
    "duration": 6,
    "start_time": "2024-11-29T21:19:15.743Z"
   },
   {
    "duration": 16,
    "start_time": "2024-11-29T21:20:04.802Z"
   },
   {
    "duration": 1097,
    "start_time": "2024-11-29T21:20:24.114Z"
   },
   {
    "duration": 36,
    "start_time": "2024-11-29T21:20:25.213Z"
   },
   {
    "duration": 11,
    "start_time": "2024-11-29T21:20:25.250Z"
   },
   {
    "duration": 4,
    "start_time": "2024-11-29T21:20:25.262Z"
   },
   {
    "duration": 12,
    "start_time": "2024-11-29T21:20:25.269Z"
   },
   {
    "duration": 11,
    "start_time": "2024-11-29T21:20:25.282Z"
   },
   {
    "duration": 53,
    "start_time": "2024-11-29T21:20:25.294Z"
   },
   {
    "duration": 16,
    "start_time": "2024-11-29T21:20:25.348Z"
   },
   {
    "duration": 12,
    "start_time": "2024-11-29T21:20:25.366Z"
   },
   {
    "duration": 8,
    "start_time": "2024-11-29T21:20:25.379Z"
   },
   {
    "duration": 7,
    "start_time": "2024-11-29T21:20:25.388Z"
   },
   {
    "duration": 21,
    "start_time": "2024-11-29T21:20:25.397Z"
   },
   {
    "duration": 5,
    "start_time": "2024-11-29T21:20:25.420Z"
   },
   {
    "duration": 334,
    "start_time": "2024-11-29T21:20:25.428Z"
   },
   {
    "duration": 19,
    "start_time": "2024-11-29T21:20:25.764Z"
   },
   {
    "duration": 6,
    "start_time": "2024-11-29T21:20:25.785Z"
   },
   {
    "duration": 330,
    "start_time": "2024-11-29T21:20:25.792Z"
   },
   {
    "duration": 205,
    "start_time": "2024-11-29T21:20:26.124Z"
   },
   {
    "duration": 8,
    "start_time": "2024-11-29T21:20:26.331Z"
   },
   {
    "duration": 284,
    "start_time": "2024-11-29T21:20:26.340Z"
   },
   {
    "duration": 6,
    "start_time": "2024-11-29T21:20:26.625Z"
   },
   {
    "duration": 219,
    "start_time": "2024-11-29T21:20:26.632Z"
   },
   {
    "duration": 6,
    "start_time": "2024-11-29T21:20:26.853Z"
   },
   {
    "duration": 271,
    "start_time": "2024-11-29T21:20:26.861Z"
   },
   {
    "duration": 10,
    "start_time": "2024-11-29T21:20:27.134Z"
   },
   {
    "duration": 122,
    "start_time": "2024-11-29T21:20:27.146Z"
   },
   {
    "duration": 5,
    "start_time": "2024-11-29T21:20:27.270Z"
   },
   {
    "duration": 159,
    "start_time": "2024-11-29T21:20:27.277Z"
   },
   {
    "duration": 5,
    "start_time": "2024-11-29T21:20:27.438Z"
   },
   {
    "duration": 323,
    "start_time": "2024-11-29T21:20:27.445Z"
   },
   {
    "duration": 138,
    "start_time": "2024-11-29T21:20:27.770Z"
   },
   {
    "duration": 29,
    "start_time": "2024-11-29T21:20:27.910Z"
   },
   {
    "duration": 10,
    "start_time": "2024-11-29T21:20:27.940Z"
   },
   {
    "duration": 7,
    "start_time": "2024-11-29T21:20:27.952Z"
   },
   {
    "duration": 25,
    "start_time": "2024-11-29T21:20:27.961Z"
   },
   {
    "duration": 35,
    "start_time": "2024-11-29T21:20:27.987Z"
   },
   {
    "duration": 18,
    "start_time": "2024-11-29T21:20:28.024Z"
   },
   {
    "duration": 205,
    "start_time": "2024-11-29T21:23:40.286Z"
   },
   {
    "duration": 194,
    "start_time": "2024-11-29T21:24:23.214Z"
   },
   {
    "duration": 107,
    "start_time": "2024-11-29T21:25:26.303Z"
   },
   {
    "duration": 121,
    "start_time": "2024-11-29T21:25:53.951Z"
   },
   {
    "duration": 246,
    "start_time": "2024-11-29T21:27:07.692Z"
   },
   {
    "duration": 155,
    "start_time": "2024-11-29T21:27:21.544Z"
   },
   {
    "duration": 1504,
    "start_time": "2024-11-30T14:12:34.538Z"
   },
   {
    "duration": 93,
    "start_time": "2024-11-30T14:12:36.044Z"
   },
   {
    "duration": 12,
    "start_time": "2024-11-30T14:12:36.139Z"
   },
   {
    "duration": 13,
    "start_time": "2024-11-30T14:12:36.153Z"
   },
   {
    "duration": 33,
    "start_time": "2024-11-30T14:12:36.167Z"
   },
   {
    "duration": 56,
    "start_time": "2024-11-30T14:12:36.202Z"
   },
   {
    "duration": 159,
    "start_time": "2024-11-30T14:12:36.260Z"
   },
   {
    "duration": 20,
    "start_time": "2024-11-30T14:12:36.421Z"
   },
   {
    "duration": 33,
    "start_time": "2024-11-30T14:12:36.443Z"
   },
   {
    "duration": 34,
    "start_time": "2024-11-30T14:12:36.480Z"
   },
   {
    "duration": 26,
    "start_time": "2024-11-30T14:12:36.516Z"
   },
   {
    "duration": 20,
    "start_time": "2024-11-30T14:12:36.544Z"
   },
   {
    "duration": 13,
    "start_time": "2024-11-30T14:12:36.566Z"
   },
   {
    "duration": 344,
    "start_time": "2024-11-30T14:12:36.580Z"
   },
   {
    "duration": 14,
    "start_time": "2024-11-30T14:12:36.926Z"
   },
   {
    "duration": 7,
    "start_time": "2024-11-30T14:12:36.951Z"
   },
   {
    "duration": 358,
    "start_time": "2024-11-30T14:12:36.961Z"
   },
   {
    "duration": 267,
    "start_time": "2024-11-30T14:12:37.321Z"
   },
   {
    "duration": 7,
    "start_time": "2024-11-30T14:12:37.591Z"
   },
   {
    "duration": 379,
    "start_time": "2024-11-30T14:12:37.599Z"
   },
   {
    "duration": 11,
    "start_time": "2024-11-30T14:12:37.981Z"
   },
   {
    "duration": 1420,
    "start_time": "2024-11-30T14:12:37.993Z"
   },
   {
    "duration": 0,
    "start_time": "2024-11-30T14:12:39.415Z"
   },
   {
    "duration": 0,
    "start_time": "2024-11-30T14:12:39.417Z"
   },
   {
    "duration": 0,
    "start_time": "2024-11-30T14:12:39.418Z"
   },
   {
    "duration": 0,
    "start_time": "2024-11-30T14:12:39.420Z"
   },
   {
    "duration": 0,
    "start_time": "2024-11-30T14:12:39.421Z"
   },
   {
    "duration": 0,
    "start_time": "2024-11-30T14:12:39.422Z"
   },
   {
    "duration": 0,
    "start_time": "2024-11-30T14:12:39.424Z"
   },
   {
    "duration": 0,
    "start_time": "2024-11-30T14:12:39.425Z"
   },
   {
    "duration": 0,
    "start_time": "2024-11-30T14:12:39.426Z"
   },
   {
    "duration": 0,
    "start_time": "2024-11-30T14:12:39.452Z"
   },
   {
    "duration": 0,
    "start_time": "2024-11-30T14:12:39.455Z"
   },
   {
    "duration": 0,
    "start_time": "2024-11-30T14:12:39.457Z"
   },
   {
    "duration": 0,
    "start_time": "2024-11-30T14:12:39.458Z"
   },
   {
    "duration": 0,
    "start_time": "2024-11-30T14:12:39.460Z"
   },
   {
    "duration": 0,
    "start_time": "2024-11-30T14:12:39.461Z"
   },
   {
    "duration": 1198,
    "start_time": "2024-11-30T14:13:59.688Z"
   },
   {
    "duration": 6,
    "start_time": "2024-11-30T14:15:48.718Z"
   },
   {
    "duration": 1192,
    "start_time": "2024-11-30T14:15:58.349Z"
   },
   {
    "duration": 6,
    "start_time": "2024-11-30T14:16:29.664Z"
   },
   {
    "duration": 6,
    "start_time": "2024-11-30T14:17:58.781Z"
   },
   {
    "duration": 263,
    "start_time": "2024-11-30T14:18:08.717Z"
   },
   {
    "duration": 1324,
    "start_time": "2024-11-30T14:23:24.018Z"
   },
   {
    "duration": 38,
    "start_time": "2024-11-30T14:23:25.344Z"
   },
   {
    "duration": 10,
    "start_time": "2024-11-30T14:23:25.384Z"
   },
   {
    "duration": 7,
    "start_time": "2024-11-30T14:23:25.395Z"
   },
   {
    "duration": 14,
    "start_time": "2024-11-30T14:23:25.405Z"
   },
   {
    "duration": 14,
    "start_time": "2024-11-30T14:23:25.421Z"
   },
   {
    "duration": 56,
    "start_time": "2024-11-30T14:23:25.437Z"
   },
   {
    "duration": 16,
    "start_time": "2024-11-30T14:23:25.494Z"
   },
   {
    "duration": 21,
    "start_time": "2024-11-30T14:23:25.511Z"
   },
   {
    "duration": 9,
    "start_time": "2024-11-30T14:23:25.533Z"
   },
   {
    "duration": 9,
    "start_time": "2024-11-30T14:23:25.543Z"
   },
   {
    "duration": 6,
    "start_time": "2024-11-30T14:23:25.554Z"
   },
   {
    "duration": 7,
    "start_time": "2024-11-30T14:23:25.561Z"
   },
   {
    "duration": 329,
    "start_time": "2024-11-30T14:23:25.572Z"
   },
   {
    "duration": 14,
    "start_time": "2024-11-30T14:23:25.903Z"
   },
   {
    "duration": 18,
    "start_time": "2024-11-30T14:23:25.918Z"
   },
   {
    "duration": 346,
    "start_time": "2024-11-30T14:23:25.938Z"
   },
   {
    "duration": 237,
    "start_time": "2024-11-30T14:23:26.286Z"
   },
   {
    "duration": 6,
    "start_time": "2024-11-30T14:23:26.525Z"
   },
   {
    "duration": 376,
    "start_time": "2024-11-30T14:23:26.533Z"
   },
   {
    "duration": 8,
    "start_time": "2024-11-30T14:23:26.910Z"
   },
   {
    "duration": 297,
    "start_time": "2024-11-30T14:23:26.919Z"
   },
   {
    "duration": 6,
    "start_time": "2024-11-30T14:23:27.218Z"
   },
   {
    "duration": 380,
    "start_time": "2024-11-30T14:23:27.226Z"
   },
   {
    "duration": 11,
    "start_time": "2024-11-30T14:23:27.607Z"
   },
   {
    "duration": 164,
    "start_time": "2024-11-30T14:23:27.619Z"
   },
   {
    "duration": 6,
    "start_time": "2024-11-30T14:23:27.785Z"
   },
   {
    "duration": 246,
    "start_time": "2024-11-30T14:23:27.793Z"
   },
   {
    "duration": 5,
    "start_time": "2024-11-30T14:23:28.041Z"
   },
   {
    "duration": 360,
    "start_time": "2024-11-30T14:23:28.053Z"
   },
   {
    "duration": 170,
    "start_time": "2024-11-30T14:23:28.415Z"
   },
   {
    "duration": 26,
    "start_time": "2024-11-30T14:23:28.587Z"
   },
   {
    "duration": 11,
    "start_time": "2024-11-30T14:23:28.614Z"
   },
   {
    "duration": 26,
    "start_time": "2024-11-30T14:23:28.626Z"
   },
   {
    "duration": 34,
    "start_time": "2024-11-30T14:23:28.655Z"
   },
   {
    "duration": 7,
    "start_time": "2024-11-30T14:23:28.691Z"
   },
   {
    "duration": 14,
    "start_time": "2024-11-30T14:23:28.700Z"
   },
   {
    "duration": 115,
    "start_time": "2024-11-30T14:25:01.959Z"
   },
   {
    "duration": 15,
    "start_time": "2024-11-30T14:25:24.626Z"
   },
   {
    "duration": 16,
    "start_time": "2024-11-30T14:45:35.877Z"
   },
   {
    "duration": 7,
    "start_time": "2024-11-30T14:45:57.377Z"
   }
  ],
  "kernelspec": {
   "display_name": "Python 3 (ipykernel)",
   "language": "python",
   "name": "python3"
  },
  "language_info": {
   "codemirror_mode": {
    "name": "ipython",
    "version": 3
   },
   "file_extension": ".py",
   "mimetype": "text/x-python",
   "name": "python",
   "nbconvert_exporter": "python",
   "pygments_lexer": "ipython3",
   "version": "3.9.5"
  },
  "toc": {
   "base_numbering": 1,
   "nav_menu": {},
   "number_sections": true,
   "sideBar": true,
   "skip_h1_title": true,
   "title_cell": "Table of Contents",
   "title_sidebar": "Contents",
   "toc_cell": false,
   "toc_position": {},
   "toc_section_display": true,
   "toc_window_display": true
  }
 },
 "nbformat": 4,
 "nbformat_minor": 2
}
