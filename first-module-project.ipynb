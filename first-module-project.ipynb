{
 "cells": [
  {
   "cell_type": "markdown",
   "metadata": {},
   "source": [
    "# Сборный проект 1"
   ]
  },
  {
   "cell_type": "markdown",
   "metadata": {},
   "source": [
    "Цель заключается в исследовании данных и проверки гипотез для интернет-магазина компьютерных игр \"Стримчик\". Нужно выявить закономерности определяющие успешность игры из открытого источника исторических данных о продажах игр."
   ]
  },
  {
   "cell_type": "markdown",
   "metadata": {},
   "source": [
    "План:\n",
    "- Загрузка данных\n",
    "- Предобработка \n",
    "- Исследование данных\n",
    "- Выявление портрета пользователя каждого региона\n",
    "- Проверка гипотез\n",
    "- Составление вывода"
   ]
  },
  {
   "cell_type": "markdown",
   "metadata": {},
   "source": [
    "## Загрузка данных"
   ]
  },
  {
   "cell_type": "code",
   "execution_count": 1,
   "metadata": {},
   "outputs": [],
   "source": [
    "import pandas as pd\n",
    "import matplotlib.pyplot as plt\n",
    "import seaborn\n",
    "import numpy as np\n",
    "from scipy import stats as st"
   ]
  },
  {
   "cell_type": "code",
   "execution_count": 2,
   "metadata": {},
   "outputs": [
    {
     "name": "stdout",
     "output_type": "stream",
     "text": [
      "<class 'pandas.core.frame.DataFrame'>\n",
      "RangeIndex: 16715 entries, 0 to 16714\n",
      "Data columns (total 11 columns):\n",
      " #   Column           Non-Null Count  Dtype  \n",
      "---  ------           --------------  -----  \n",
      " 0   Name             16713 non-null  object \n",
      " 1   Platform         16715 non-null  object \n",
      " 2   Year_of_Release  16446 non-null  float64\n",
      " 3   Genre            16713 non-null  object \n",
      " 4   NA_sales         16715 non-null  float64\n",
      " 5   EU_sales         16715 non-null  float64\n",
      " 6   JP_sales         16715 non-null  float64\n",
      " 7   Other_sales      16715 non-null  float64\n",
      " 8   Critic_Score     8137 non-null   float64\n",
      " 9   User_Score       10014 non-null  object \n",
      " 10  Rating           9949 non-null   object \n",
      "dtypes: float64(6), object(5)\n",
      "memory usage: 1.4+ MB\n"
     ]
    },
    {
     "data": {
      "text/plain": [
       "None"
      ]
     },
     "metadata": {},
     "output_type": "display_data"
    },
    {
     "data": {
      "text/html": [
       "<div>\n",
       "<style scoped>\n",
       "    .dataframe tbody tr th:only-of-type {\n",
       "        vertical-align: middle;\n",
       "    }\n",
       "\n",
       "    .dataframe tbody tr th {\n",
       "        vertical-align: top;\n",
       "    }\n",
       "\n",
       "    .dataframe thead th {\n",
       "        text-align: right;\n",
       "    }\n",
       "</style>\n",
       "<table border=\"1\" class=\"dataframe\">\n",
       "  <thead>\n",
       "    <tr style=\"text-align: right;\">\n",
       "      <th></th>\n",
       "      <th>Name</th>\n",
       "      <th>Platform</th>\n",
       "      <th>Year_of_Release</th>\n",
       "      <th>Genre</th>\n",
       "      <th>NA_sales</th>\n",
       "      <th>EU_sales</th>\n",
       "      <th>JP_sales</th>\n",
       "      <th>Other_sales</th>\n",
       "      <th>Critic_Score</th>\n",
       "      <th>User_Score</th>\n",
       "      <th>Rating</th>\n",
       "    </tr>\n",
       "  </thead>\n",
       "  <tbody>\n",
       "    <tr>\n",
       "      <th>0</th>\n",
       "      <td>Wii Sports</td>\n",
       "      <td>Wii</td>\n",
       "      <td>2006.0</td>\n",
       "      <td>Sports</td>\n",
       "      <td>41.36</td>\n",
       "      <td>28.96</td>\n",
       "      <td>3.77</td>\n",
       "      <td>8.45</td>\n",
       "      <td>76.0</td>\n",
       "      <td>8</td>\n",
       "      <td>E</td>\n",
       "    </tr>\n",
       "    <tr>\n",
       "      <th>1</th>\n",
       "      <td>Super Mario Bros.</td>\n",
       "      <td>NES</td>\n",
       "      <td>1985.0</td>\n",
       "      <td>Platform</td>\n",
       "      <td>29.08</td>\n",
       "      <td>3.58</td>\n",
       "      <td>6.81</td>\n",
       "      <td>0.77</td>\n",
       "      <td>NaN</td>\n",
       "      <td>NaN</td>\n",
       "      <td>NaN</td>\n",
       "    </tr>\n",
       "    <tr>\n",
       "      <th>2</th>\n",
       "      <td>Mario Kart Wii</td>\n",
       "      <td>Wii</td>\n",
       "      <td>2008.0</td>\n",
       "      <td>Racing</td>\n",
       "      <td>15.68</td>\n",
       "      <td>12.76</td>\n",
       "      <td>3.79</td>\n",
       "      <td>3.29</td>\n",
       "      <td>82.0</td>\n",
       "      <td>8.3</td>\n",
       "      <td>E</td>\n",
       "    </tr>\n",
       "    <tr>\n",
       "      <th>3</th>\n",
       "      <td>Wii Sports Resort</td>\n",
       "      <td>Wii</td>\n",
       "      <td>2009.0</td>\n",
       "      <td>Sports</td>\n",
       "      <td>15.61</td>\n",
       "      <td>10.93</td>\n",
       "      <td>3.28</td>\n",
       "      <td>2.95</td>\n",
       "      <td>80.0</td>\n",
       "      <td>8</td>\n",
       "      <td>E</td>\n",
       "    </tr>\n",
       "    <tr>\n",
       "      <th>4</th>\n",
       "      <td>Pokemon Red/Pokemon Blue</td>\n",
       "      <td>GB</td>\n",
       "      <td>1996.0</td>\n",
       "      <td>Role-Playing</td>\n",
       "      <td>11.27</td>\n",
       "      <td>8.89</td>\n",
       "      <td>10.22</td>\n",
       "      <td>1.00</td>\n",
       "      <td>NaN</td>\n",
       "      <td>NaN</td>\n",
       "      <td>NaN</td>\n",
       "    </tr>\n",
       "    <tr>\n",
       "      <th>5</th>\n",
       "      <td>Tetris</td>\n",
       "      <td>GB</td>\n",
       "      <td>1989.0</td>\n",
       "      <td>Puzzle</td>\n",
       "      <td>23.20</td>\n",
       "      <td>2.26</td>\n",
       "      <td>4.22</td>\n",
       "      <td>0.58</td>\n",
       "      <td>NaN</td>\n",
       "      <td>NaN</td>\n",
       "      <td>NaN</td>\n",
       "    </tr>\n",
       "    <tr>\n",
       "      <th>6</th>\n",
       "      <td>New Super Mario Bros.</td>\n",
       "      <td>DS</td>\n",
       "      <td>2006.0</td>\n",
       "      <td>Platform</td>\n",
       "      <td>11.28</td>\n",
       "      <td>9.14</td>\n",
       "      <td>6.50</td>\n",
       "      <td>2.88</td>\n",
       "      <td>89.0</td>\n",
       "      <td>8.5</td>\n",
       "      <td>E</td>\n",
       "    </tr>\n",
       "    <tr>\n",
       "      <th>7</th>\n",
       "      <td>Wii Play</td>\n",
       "      <td>Wii</td>\n",
       "      <td>2006.0</td>\n",
       "      <td>Misc</td>\n",
       "      <td>13.96</td>\n",
       "      <td>9.18</td>\n",
       "      <td>2.93</td>\n",
       "      <td>2.84</td>\n",
       "      <td>58.0</td>\n",
       "      <td>6.6</td>\n",
       "      <td>E</td>\n",
       "    </tr>\n",
       "    <tr>\n",
       "      <th>8</th>\n",
       "      <td>New Super Mario Bros. Wii</td>\n",
       "      <td>Wii</td>\n",
       "      <td>2009.0</td>\n",
       "      <td>Platform</td>\n",
       "      <td>14.44</td>\n",
       "      <td>6.94</td>\n",
       "      <td>4.70</td>\n",
       "      <td>2.24</td>\n",
       "      <td>87.0</td>\n",
       "      <td>8.4</td>\n",
       "      <td>E</td>\n",
       "    </tr>\n",
       "    <tr>\n",
       "      <th>9</th>\n",
       "      <td>Duck Hunt</td>\n",
       "      <td>NES</td>\n",
       "      <td>1984.0</td>\n",
       "      <td>Shooter</td>\n",
       "      <td>26.93</td>\n",
       "      <td>0.63</td>\n",
       "      <td>0.28</td>\n",
       "      <td>0.47</td>\n",
       "      <td>NaN</td>\n",
       "      <td>NaN</td>\n",
       "      <td>NaN</td>\n",
       "    </tr>\n",
       "    <tr>\n",
       "      <th>10</th>\n",
       "      <td>Nintendogs</td>\n",
       "      <td>DS</td>\n",
       "      <td>2005.0</td>\n",
       "      <td>Simulation</td>\n",
       "      <td>9.05</td>\n",
       "      <td>10.95</td>\n",
       "      <td>1.93</td>\n",
       "      <td>2.74</td>\n",
       "      <td>NaN</td>\n",
       "      <td>NaN</td>\n",
       "      <td>NaN</td>\n",
       "    </tr>\n",
       "    <tr>\n",
       "      <th>11</th>\n",
       "      <td>Mario Kart DS</td>\n",
       "      <td>DS</td>\n",
       "      <td>2005.0</td>\n",
       "      <td>Racing</td>\n",
       "      <td>9.71</td>\n",
       "      <td>7.47</td>\n",
       "      <td>4.13</td>\n",
       "      <td>1.90</td>\n",
       "      <td>91.0</td>\n",
       "      <td>8.6</td>\n",
       "      <td>E</td>\n",
       "    </tr>\n",
       "    <tr>\n",
       "      <th>12</th>\n",
       "      <td>Pokemon Gold/Pokemon Silver</td>\n",
       "      <td>GB</td>\n",
       "      <td>1999.0</td>\n",
       "      <td>Role-Playing</td>\n",
       "      <td>9.00</td>\n",
       "      <td>6.18</td>\n",
       "      <td>7.20</td>\n",
       "      <td>0.71</td>\n",
       "      <td>NaN</td>\n",
       "      <td>NaN</td>\n",
       "      <td>NaN</td>\n",
       "    </tr>\n",
       "    <tr>\n",
       "      <th>13</th>\n",
       "      <td>Wii Fit</td>\n",
       "      <td>Wii</td>\n",
       "      <td>2007.0</td>\n",
       "      <td>Sports</td>\n",
       "      <td>8.92</td>\n",
       "      <td>8.03</td>\n",
       "      <td>3.60</td>\n",
       "      <td>2.15</td>\n",
       "      <td>80.0</td>\n",
       "      <td>7.7</td>\n",
       "      <td>E</td>\n",
       "    </tr>\n",
       "    <tr>\n",
       "      <th>14</th>\n",
       "      <td>Kinect Adventures!</td>\n",
       "      <td>X360</td>\n",
       "      <td>2010.0</td>\n",
       "      <td>Misc</td>\n",
       "      <td>15.00</td>\n",
       "      <td>4.89</td>\n",
       "      <td>0.24</td>\n",
       "      <td>1.69</td>\n",
       "      <td>61.0</td>\n",
       "      <td>6.3</td>\n",
       "      <td>E</td>\n",
       "    </tr>\n",
       "    <tr>\n",
       "      <th>15</th>\n",
       "      <td>Wii Fit Plus</td>\n",
       "      <td>Wii</td>\n",
       "      <td>2009.0</td>\n",
       "      <td>Sports</td>\n",
       "      <td>9.01</td>\n",
       "      <td>8.49</td>\n",
       "      <td>2.53</td>\n",
       "      <td>1.77</td>\n",
       "      <td>80.0</td>\n",
       "      <td>7.4</td>\n",
       "      <td>E</td>\n",
       "    </tr>\n",
       "    <tr>\n",
       "      <th>16</th>\n",
       "      <td>Grand Theft Auto V</td>\n",
       "      <td>PS3</td>\n",
       "      <td>2013.0</td>\n",
       "      <td>Action</td>\n",
       "      <td>7.02</td>\n",
       "      <td>9.09</td>\n",
       "      <td>0.98</td>\n",
       "      <td>3.96</td>\n",
       "      <td>97.0</td>\n",
       "      <td>8.2</td>\n",
       "      <td>M</td>\n",
       "    </tr>\n",
       "    <tr>\n",
       "      <th>17</th>\n",
       "      <td>Grand Theft Auto: San Andreas</td>\n",
       "      <td>PS2</td>\n",
       "      <td>2004.0</td>\n",
       "      <td>Action</td>\n",
       "      <td>9.43</td>\n",
       "      <td>0.40</td>\n",
       "      <td>0.41</td>\n",
       "      <td>10.57</td>\n",
       "      <td>95.0</td>\n",
       "      <td>9</td>\n",
       "      <td>M</td>\n",
       "    </tr>\n",
       "    <tr>\n",
       "      <th>18</th>\n",
       "      <td>Super Mario World</td>\n",
       "      <td>SNES</td>\n",
       "      <td>1990.0</td>\n",
       "      <td>Platform</td>\n",
       "      <td>12.78</td>\n",
       "      <td>3.75</td>\n",
       "      <td>3.54</td>\n",
       "      <td>0.55</td>\n",
       "      <td>NaN</td>\n",
       "      <td>NaN</td>\n",
       "      <td>NaN</td>\n",
       "    </tr>\n",
       "    <tr>\n",
       "      <th>19</th>\n",
       "      <td>Brain Age: Train Your Brain in Minutes a Day</td>\n",
       "      <td>DS</td>\n",
       "      <td>2005.0</td>\n",
       "      <td>Misc</td>\n",
       "      <td>4.74</td>\n",
       "      <td>9.20</td>\n",
       "      <td>4.16</td>\n",
       "      <td>2.04</td>\n",
       "      <td>77.0</td>\n",
       "      <td>7.9</td>\n",
       "      <td>E</td>\n",
       "    </tr>\n",
       "  </tbody>\n",
       "</table>\n",
       "</div>"
      ],
      "text/plain": [
       "                                            Name Platform  Year_of_Release  \\\n",
       "0                                     Wii Sports      Wii           2006.0   \n",
       "1                              Super Mario Bros.      NES           1985.0   \n",
       "2                                 Mario Kart Wii      Wii           2008.0   \n",
       "3                              Wii Sports Resort      Wii           2009.0   \n",
       "4                       Pokemon Red/Pokemon Blue       GB           1996.0   \n",
       "5                                         Tetris       GB           1989.0   \n",
       "6                          New Super Mario Bros.       DS           2006.0   \n",
       "7                                       Wii Play      Wii           2006.0   \n",
       "8                      New Super Mario Bros. Wii      Wii           2009.0   \n",
       "9                                      Duck Hunt      NES           1984.0   \n",
       "10                                    Nintendogs       DS           2005.0   \n",
       "11                                 Mario Kart DS       DS           2005.0   \n",
       "12                   Pokemon Gold/Pokemon Silver       GB           1999.0   \n",
       "13                                       Wii Fit      Wii           2007.0   \n",
       "14                            Kinect Adventures!     X360           2010.0   \n",
       "15                                  Wii Fit Plus      Wii           2009.0   \n",
       "16                            Grand Theft Auto V      PS3           2013.0   \n",
       "17                 Grand Theft Auto: San Andreas      PS2           2004.0   \n",
       "18                             Super Mario World     SNES           1990.0   \n",
       "19  Brain Age: Train Your Brain in Minutes a Day       DS           2005.0   \n",
       "\n",
       "           Genre  NA_sales  EU_sales  JP_sales  Other_sales  Critic_Score  \\\n",
       "0         Sports     41.36     28.96      3.77         8.45          76.0   \n",
       "1       Platform     29.08      3.58      6.81         0.77           NaN   \n",
       "2         Racing     15.68     12.76      3.79         3.29          82.0   \n",
       "3         Sports     15.61     10.93      3.28         2.95          80.0   \n",
       "4   Role-Playing     11.27      8.89     10.22         1.00           NaN   \n",
       "5         Puzzle     23.20      2.26      4.22         0.58           NaN   \n",
       "6       Platform     11.28      9.14      6.50         2.88          89.0   \n",
       "7           Misc     13.96      9.18      2.93         2.84          58.0   \n",
       "8       Platform     14.44      6.94      4.70         2.24          87.0   \n",
       "9        Shooter     26.93      0.63      0.28         0.47           NaN   \n",
       "10    Simulation      9.05     10.95      1.93         2.74           NaN   \n",
       "11        Racing      9.71      7.47      4.13         1.90          91.0   \n",
       "12  Role-Playing      9.00      6.18      7.20         0.71           NaN   \n",
       "13        Sports      8.92      8.03      3.60         2.15          80.0   \n",
       "14          Misc     15.00      4.89      0.24         1.69          61.0   \n",
       "15        Sports      9.01      8.49      2.53         1.77          80.0   \n",
       "16        Action      7.02      9.09      0.98         3.96          97.0   \n",
       "17        Action      9.43      0.40      0.41        10.57          95.0   \n",
       "18      Platform     12.78      3.75      3.54         0.55           NaN   \n",
       "19          Misc      4.74      9.20      4.16         2.04          77.0   \n",
       "\n",
       "   User_Score Rating  \n",
       "0           8      E  \n",
       "1         NaN    NaN  \n",
       "2         8.3      E  \n",
       "3           8      E  \n",
       "4         NaN    NaN  \n",
       "5         NaN    NaN  \n",
       "6         8.5      E  \n",
       "7         6.6      E  \n",
       "8         8.4      E  \n",
       "9         NaN    NaN  \n",
       "10        NaN    NaN  \n",
       "11        8.6      E  \n",
       "12        NaN    NaN  \n",
       "13        7.7      E  \n",
       "14        6.3      E  \n",
       "15        7.4      E  \n",
       "16        8.2      M  \n",
       "17          9      M  \n",
       "18        NaN    NaN  \n",
       "19        7.9      E  "
      ]
     },
     "execution_count": 2,
     "metadata": {},
     "output_type": "execute_result"
    }
   ],
   "source": [
    "data = pd.read_csv('/datasets/games.csv')\n",
    "display(data.info())\n",
    "data.head(20)"
   ]
  },
  {
   "cell_type": "code",
   "execution_count": 3,
   "metadata": {
    "scrolled": false
   },
   "outputs": [
    {
     "data": {
      "image/png": "[encoded data removed]",
      "text/plain": [
       "<Figure size 1080x1080 with 6 Axes>"
      ]
     },
     "metadata": {
      "needs_background": "light"
     },
     "output_type": "display_data"
    }
   ],
   "source": [
    "axes = data.hist(figsize=(15, 15))\n",
    "for ax in axes.flatten():\n",
    "    ax.set_xlabel(ax.get_title())\n",
    "    ax.set_ylabel('Частота')  \n",
    "    ax.set_title(f'Гистограмма для {ax.get_title()}')"
   ]
  },
  {
   "cell_type": "code",
   "execution_count": 5,
   "metadata": {},
   "outputs": [
    {
     "data": {
      "text/plain": [
       "Name                  2\n",
       "Platform              0\n",
       "Year_of_Release     269\n",
       "Genre                 2\n",
       "NA_sales              0\n",
       "EU_sales              0\n",
       "JP_sales              0\n",
       "Other_sales           0\n",
       "Critic_Score       8578\n",
       "User_Score         6701\n",
       "Rating             6766\n",
       "dtype: int64"
      ]
     },
     "execution_count": 5,
     "metadata": {},
     "output_type": "execute_result"
    }
   ],
   "source": [
    "data.isna().sum()"
   ]
  },
  {
   "cell_type": "markdown",
   "metadata": {},
   "source": [
    "<div class=\"alert alert-info\">\n",
    "Вывод: В полученных данных есть пустые значения. Названия столбцов следует привести к нижнему регистру. "
   ]
  },
  {
   "cell_type": "markdown",
   "metadata": {},
   "source": [
    "## Предобработка"
   ]
  },
  {
   "cell_type": "markdown",
   "metadata": {},
   "source": [
    "Переименуем столбцы."
   ]
  },
  {
   "cell_type": "code",
   "execution_count": 6,
   "metadata": {},
   "outputs": [],
   "source": [
    "data.columns = ['name', 'platform', 'year_of_release', 'genre', 'na_sales', 'eu_sales', 'jp_sales', 'other_sales', 'critic_score', 'user_score', 'rating']"
   ]
  },
  {
   "cell_type": "markdown",
   "metadata": {},
   "source": [
    "### Пропуски"
   ]
  },
  {
   "cell_type": "markdown",
   "metadata": {},
   "source": [
    "2 значения не повлияют на исследование, поэтому смело удаляем."
   ]
  },
  {
   "cell_type": "code",
   "execution_count": 7,
   "metadata": {},
   "outputs": [],
   "source": [
    "data = data.dropna(subset=['name'])"
   ]
  },
  {
   "cell_type": "markdown",
   "metadata": {},
   "source": [
    "Заполним пропуски в рейтинге и дате релиза значениями, которые встречаются у игры на разных платформах."
   ]
  },
  {
   "cell_type": "code",
   "execution_count": 8,
   "metadata": {},
   "outputs": [],
   "source": [
    "#def fill_year(row):\n",
    "#    try:\n",
    " #       mode = row['year_of_release'].mode().item()\n",
    "  #      row['year_of_release'] = row['year_of_release'].fillna(mode)\n",
    "   #     return row\n",
    "    #except:\n",
    "     #   return row\n",
    "    \n",
    "#data=data.groupby('name').apply(fill_year).reset_index(drop=True)\n",
    "data = data.dropna(subset=['year_of_release'])"
   ]
  },
  {
   "cell_type": "code",
   "execution_count": 9,
   "metadata": {},
   "outputs": [],
   "source": [
    "#def fill_rating(row):\n",
    " #   try:\n",
    "  #      mode = row['rating'].mode().item()\n",
    "   #     row['rating'] = row['rating'].fillna(mode)\n",
    "    #    return row\n",
    "    #except:\n",
    "     #   return row\n",
    "    \n",
    "#data=data.groupby('name').apply(fill_rating).reset_index(drop=True)"
   ]
  },
  {
   "cell_type": "markdown",
   "metadata": {},
   "source": [
    "Заполним оставшиеся пропуски значениями-триггерами, так как удалить их нельзя (потеряем слишком много данных) и заменить на исскуственные значения не получится. В столбце оценки игроков есть значение tbd (to be determined), т.е. оценка для игры еще не определена."
   ]
  },
  {
   "cell_type": "code",
   "execution_count": 10,
   "metadata": {},
   "outputs": [],
   "source": [
    "data['critic_score'] = data['critic_score'].fillna(111).astype(int)\n",
    "data['year_of_release'] = data['year_of_release'].fillna(0).astype(int)\n",
    "data['rating'] = data['rating'].fillna('no rating')\n",
    "\n",
    "data['user_score'] = data['user_score'].fillna('tbd')\n",
    "data.loc[data['user_score'] == 'tbd', 'user_score'] = 11\n",
    "data['user_score'] = pd.to_numeric(data['user_score'], errors='raise')"
   ]
  },
  {
   "cell_type": "markdown",
   "metadata": {},
   "source": [
    "Заменим тип данных у даты релиза и оценки критиков на int для удобства восприятия. А для оценки игроков поменяем на float."
   ]
  },
  {
   "cell_type": "code",
   "execution_count": 11,
   "metadata": {},
   "outputs": [
    {
     "data": {
      "text/plain": [
       "name               0\n",
       "platform           0\n",
       "year_of_release    0\n",
       "genre              0\n",
       "na_sales           0\n",
       "eu_sales           0\n",
       "jp_sales           0\n",
       "other_sales        0\n",
       "critic_score       0\n",
       "user_score         0\n",
       "rating             0\n",
       "dtype: int64"
      ]
     },
     "execution_count": 11,
     "metadata": {},
     "output_type": "execute_result"
    }
   ],
   "source": [
    "data.isna().sum()"
   ]
  },
  {
   "cell_type": "markdown",
   "metadata": {},
   "source": [
    "</font><font color='Blue'><b>\n",
    "Пропуски могли возникнуть из-за недостаточной популярности игры, и от этого отсутвуют оценки. Рейтинг мог не ставится для игр, которые выпускались не только для игр NA. </b></font><br>"
   ]
  },
  {
   "cell_type": "markdown",
   "metadata": {},
   "source": [
    "### Дупликаты"
   ]
  },
  {
   "cell_type": "code",
   "execution_count": 12,
   "metadata": {},
   "outputs": [
    {
     "data": {
      "text/plain": [
       "0"
      ]
     },
     "execution_count": 12,
     "metadata": {},
     "output_type": "execute_result"
    }
   ],
   "source": [
    "data.duplicated().sum()"
   ]
  },
  {
   "cell_type": "code",
   "execution_count": 13,
   "metadata": {},
   "outputs": [
    {
     "data": {
      "text/plain": [
       "1"
      ]
     },
     "execution_count": 13,
     "metadata": {},
     "output_type": "execute_result"
    }
   ],
   "source": [
    "data[['name', 'platform', 'year_of_release']].duplicated().sum()"
   ]
  },
  {
   "cell_type": "code",
   "execution_count": 14,
   "metadata": {},
   "outputs": [
    {
     "data": {
      "text/plain": [
       "16443"
      ]
     },
     "execution_count": 14,
     "metadata": {},
     "output_type": "execute_result"
    }
   ],
   "source": [
    "data = data.loc[data[['name', 'platform', 'year_of_release']].duplicated() == False]\n",
    "len(data)"
   ]
  },
  {
   "cell_type": "code",
   "execution_count": 15,
   "metadata": {},
   "outputs": [
    {
     "data": {
      "text/plain": [
       "array(['Sports', 'Platform', 'Racing', 'Role-Playing', 'Puzzle', 'Misc',\n",
       "       'Shooter', 'Simulation', 'Action', 'Fighting', 'Adventure',\n",
       "       'Strategy'], dtype=object)"
      ]
     },
     "execution_count": 15,
     "metadata": {},
     "output_type": "execute_result"
    }
   ],
   "source": [
    "data['genre'].unique()"
   ]
  },
  {
   "cell_type": "code",
   "execution_count": 16,
   "metadata": {},
   "outputs": [
    {
     "data": {
      "text/plain": [
       "array(['Wii', 'NES', 'GB', 'DS', 'X360', 'PS3', 'PS2', 'SNES', 'GBA',\n",
       "       'PS4', '3DS', 'N64', 'PS', 'XB', 'PC', '2600', 'PSP', 'XOne',\n",
       "       'WiiU', 'GC', 'GEN', 'DC', 'PSV', 'SAT', 'SCD', 'WS', 'NG', 'TG16',\n",
       "       '3DO', 'GG', 'PCFX'], dtype=object)"
      ]
     },
     "execution_count": 16,
     "metadata": {},
     "output_type": "execute_result"
    }
   ],
   "source": [
    "data['platform'].unique()"
   ]
  },
  {
   "cell_type": "markdown",
   "metadata": {},
   "source": [
    "</font><font color='Blue'><b>Неявные дубликаты не обнаружены в платформах и жанрах. Встретилось два явных дупликата. Удалили их."
   ]
  },
  {
   "cell_type": "markdown",
   "metadata": {},
   "source": [
    "Добавим колонку продаж по всему миру."
   ]
  },
  {
   "cell_type": "code",
   "execution_count": 17,
   "metadata": {},
   "outputs": [],
   "source": [
    "#data['total_sales'] = data['na_sales'] + data['eu_sales'] + data['jp_sales'] + data['other_sales']\n",
    "data['total_sales'] = data.loc[:,['na_sales','eu_sales', 'jp_sales', 'other_sales']].sum(axis=1)"
   ]
  },
  {
   "cell_type": "code",
   "execution_count": 18,
   "metadata": {},
   "outputs": [
    {
     "data": {
      "text/html": [
       "<div>\n",
       "<style scoped>\n",
       "    .dataframe tbody tr th:only-of-type {\n",
       "        vertical-align: middle;\n",
       "    }\n",
       "\n",
       "    .dataframe tbody tr th {\n",
       "        vertical-align: top;\n",
       "    }\n",
       "\n",
       "    .dataframe thead th {\n",
       "        text-align: right;\n",
       "    }\n",
       "</style>\n",
       "<table border=\"1\" class=\"dataframe\">\n",
       "  <thead>\n",
       "    <tr style=\"text-align: right;\">\n",
       "      <th></th>\n",
       "      <th>name</th>\n",
       "      <th>platform</th>\n",
       "      <th>year_of_release</th>\n",
       "      <th>genre</th>\n",
       "      <th>na_sales</th>\n",
       "      <th>eu_sales</th>\n",
       "      <th>jp_sales</th>\n",
       "      <th>other_sales</th>\n",
       "      <th>critic_score</th>\n",
       "      <th>user_score</th>\n",
       "      <th>rating</th>\n",
       "      <th>total_sales</th>\n",
       "    </tr>\n",
       "  </thead>\n",
       "  <tbody>\n",
       "    <tr>\n",
       "      <th>0</th>\n",
       "      <td>Wii Sports</td>\n",
       "      <td>Wii</td>\n",
       "      <td>2006</td>\n",
       "      <td>Sports</td>\n",
       "      <td>41.36</td>\n",
       "      <td>28.96</td>\n",
       "      <td>3.77</td>\n",
       "      <td>8.45</td>\n",
       "      <td>76</td>\n",
       "      <td>8.0</td>\n",
       "      <td>E</td>\n",
       "      <td>82.54</td>\n",
       "    </tr>\n",
       "    <tr>\n",
       "      <th>1</th>\n",
       "      <td>Super Mario Bros.</td>\n",
       "      <td>NES</td>\n",
       "      <td>1985</td>\n",
       "      <td>Platform</td>\n",
       "      <td>29.08</td>\n",
       "      <td>3.58</td>\n",
       "      <td>6.81</td>\n",
       "      <td>0.77</td>\n",
       "      <td>111</td>\n",
       "      <td>11.0</td>\n",
       "      <td>no rating</td>\n",
       "      <td>40.24</td>\n",
       "    </tr>\n",
       "    <tr>\n",
       "      <th>2</th>\n",
       "      <td>Mario Kart Wii</td>\n",
       "      <td>Wii</td>\n",
       "      <td>2008</td>\n",
       "      <td>Racing</td>\n",
       "      <td>15.68</td>\n",
       "      <td>12.76</td>\n",
       "      <td>3.79</td>\n",
       "      <td>3.29</td>\n",
       "      <td>82</td>\n",
       "      <td>8.3</td>\n",
       "      <td>E</td>\n",
       "      <td>35.52</td>\n",
       "    </tr>\n",
       "    <tr>\n",
       "      <th>3</th>\n",
       "      <td>Wii Sports Resort</td>\n",
       "      <td>Wii</td>\n",
       "      <td>2009</td>\n",
       "      <td>Sports</td>\n",
       "      <td>15.61</td>\n",
       "      <td>10.93</td>\n",
       "      <td>3.28</td>\n",
       "      <td>2.95</td>\n",
       "      <td>80</td>\n",
       "      <td>8.0</td>\n",
       "      <td>E</td>\n",
       "      <td>32.77</td>\n",
       "    </tr>\n",
       "    <tr>\n",
       "      <th>4</th>\n",
       "      <td>Pokemon Red/Pokemon Blue</td>\n",
       "      <td>GB</td>\n",
       "      <td>1996</td>\n",
       "      <td>Role-Playing</td>\n",
       "      <td>11.27</td>\n",
       "      <td>8.89</td>\n",
       "      <td>10.22</td>\n",
       "      <td>1.00</td>\n",
       "      <td>111</td>\n",
       "      <td>11.0</td>\n",
       "      <td>no rating</td>\n",
       "      <td>31.38</td>\n",
       "    </tr>\n",
       "  </tbody>\n",
       "</table>\n",
       "</div>"
      ],
      "text/plain": [
       "                       name platform  year_of_release         genre  na_sales  \\\n",
       "0                Wii Sports      Wii             2006        Sports     41.36   \n",
       "1         Super Mario Bros.      NES             1985      Platform     29.08   \n",
       "2            Mario Kart Wii      Wii             2008        Racing     15.68   \n",
       "3         Wii Sports Resort      Wii             2009        Sports     15.61   \n",
       "4  Pokemon Red/Pokemon Blue       GB             1996  Role-Playing     11.27   \n",
       "\n",
       "   eu_sales  jp_sales  other_sales  critic_score  user_score     rating  \\\n",
       "0     28.96      3.77         8.45            76         8.0          E   \n",
       "1      3.58      6.81         0.77           111        11.0  no rating   \n",
       "2     12.76      3.79         3.29            82         8.3          E   \n",
       "3     10.93      3.28         2.95            80         8.0          E   \n",
       "4      8.89     10.22         1.00           111        11.0  no rating   \n",
       "\n",
       "   total_sales  \n",
       "0        82.54  \n",
       "1        40.24  \n",
       "2        35.52  \n",
       "3        32.77  \n",
       "4        31.38  "
      ]
     },
     "execution_count": 18,
     "metadata": {},
     "output_type": "execute_result"
    }
   ],
   "source": [
    "data.head()"
   ]
  },
  {
   "cell_type": "markdown",
   "metadata": {},
   "source": [
    "<div class=\"alert alert-info\">\n",
    "Вывод: Для удобства были заменены типы данных у даты релиза игры, оценки критиков и игроков, переименованы столбцы. Для дальнейшего исследования добавлен столбец с общими продажами."
   ]
  },
  {
   "cell_type": "code",
   "execution_count": 19,
   "metadata": {},
   "outputs": [
    {
     "name": "stdout",
     "output_type": "stream",
     "text": [
      "<class 'pandas.core.frame.DataFrame'>\n",
      "Int64Index: 16443 entries, 0 to 16714\n",
      "Data columns (total 12 columns):\n",
      " #   Column           Non-Null Count  Dtype  \n",
      "---  ------           --------------  -----  \n",
      " 0   name             16443 non-null  object \n",
      " 1   platform         16443 non-null  object \n",
      " 2   year_of_release  16443 non-null  int64  \n",
      " 3   genre            16443 non-null  object \n",
      " 4   na_sales         16443 non-null  float64\n",
      " 5   eu_sales         16443 non-null  float64\n",
      " 6   jp_sales         16443 non-null  float64\n",
      " 7   other_sales      16443 non-null  float64\n",
      " 8   critic_score     16443 non-null  int64  \n",
      " 9   user_score       16443 non-null  float64\n",
      " 10  rating           16443 non-null  object \n",
      " 11  total_sales      16443 non-null  float64\n",
      "dtypes: float64(6), int64(2), object(4)\n",
      "memory usage: 1.6+ MB\n",
      "None\n",
      "-------------------------\n",
      "name [' Beyblade Burst' ' Fire Emblem Fates' \" Frozen: Olaf's Quest\" ...\n",
      " 'uDraw Studio' 'uDraw Studio: Instant Artist'\n",
      " '¡Shin Chan Flipa en colores!']\n",
      "name : кол-во NaN 0 , процент NaN 0.0 %\n",
      "-------------------------\n",
      "platform ['2600' '3DO' '3DS' 'DC' 'DS' 'GB' 'GBA' 'GC' 'GEN' 'GG' 'N64' 'NES' 'NG'\n",
      " 'PC' 'PCFX' 'PS' 'PS2' 'PS3' 'PS4' 'PSP' 'PSV' 'SAT' 'SCD' 'SNES' 'TG16'\n",
      " 'WS' 'Wii' 'WiiU' 'X360' 'XB' 'XOne']\n",
      "platform : кол-во NaN 0 , процент NaN 0.0 %\n",
      "-------------------------\n",
      "year_of_release [1980 1981 1982 1983 1984 1985 1986 1987 1988 1989 1990 1991 1992 1993\n",
      " 1994 1995 1996 1997 1998 1999 2000 2001 2002 2003 2004 2005 2006 2007\n",
      " 2008 2009 2010 2011 2012 2013 2014 2015 2016]\n",
      "year_of_release : кол-во NaN 0 , процент NaN 0.0 %\n",
      "-------------------------\n",
      "genre ['Action' 'Adventure' 'Fighting' 'Misc' 'Platform' 'Puzzle' 'Racing'\n",
      " 'Role-Playing' 'Shooter' 'Simulation' 'Sports' 'Strategy']\n",
      "genre : кол-во NaN 0 , процент NaN 0.0 %\n",
      "-------------------------\n",
      "critic_score [ 13  17  19  20  21  23  24  25  26  27  28  29  30  31  32  33  34  35\n",
      "  36  37  38  39  40  41  42  43  44  45  46  47  48  49  50  51  52  53\n",
      "  54  55  56  57  58  59  60  61  62  63  64  65  66  67  68  69  70  71\n",
      "  72  73  74  75  76  77  78  79  80  81  82  83  84  85  86  87  88  89\n",
      "  90  91  92  93  94  95  96  97  98 111]\n",
      "critic_score : кол-во NaN 0 , процент NaN 0.0 %\n",
      "-------------------------\n",
      "user_score [ 0.   0.2  0.3  0.5  0.6  0.7  0.9  1.   1.1  1.2  1.3  1.4  1.5  1.6\n",
      "  1.7  1.8  1.9  2.   2.1  2.2  2.3  2.4  2.5  2.6  2.7  2.8  2.9  3.\n",
      "  3.1  3.2  3.3  3.4  3.5  3.6  3.7  3.8  3.9  4.   4.1  4.2  4.3  4.4\n",
      "  4.5  4.6  4.7  4.8  4.9  5.   5.1  5.2  5.3  5.4  5.5  5.6  5.7  5.8\n",
      "  5.9  6.   6.1  6.2  6.3  6.4  6.5  6.6  6.7  6.8  6.9  7.   7.1  7.2\n",
      "  7.3  7.4  7.5  7.6  7.7  7.8  7.9  8.   8.1  8.2  8.3  8.4  8.5  8.6\n",
      "  8.7  8.8  8.9  9.   9.1  9.2  9.3  9.4  9.5  9.6  9.7 11. ]\n",
      "user_score : кол-во NaN 0 , процент NaN 0.0 %\n",
      "-------------------------\n",
      "rating ['AO' 'E' 'E10+' 'EC' 'K-A' 'M' 'RP' 'T' 'no rating']\n",
      "rating : кол-во NaN 0 , процент NaN 0.0 %\n"
     ]
    }
   ],
   "source": [
    "# Комментарий ревьюера\n",
    "# Посмотрим, что осталось\n",
    "temp = data.copy() \n",
    "list_c = ['name', 'platform', 'year_of_release', 'genre', 'critic_score', 'user_score', 'rating']\n",
    "print(temp.info())\n",
    "for col_l in list_c:\n",
    "  print('-'* 25)\n",
    "  print(col_l, temp[col_l].sort_values().unique())\n",
    "  print(col_l,': кол-во NaN',temp[col_l].isna().sum(),\n",
    "        ', процент NaN', round(temp[col_l].isna().mean()*100,2),'%') "
   ]
  },
  {
   "cell_type": "markdown",
   "metadata": {},
   "source": [
    "## Исследовательский анализ"
   ]
  },
  {
   "cell_type": "markdown",
   "metadata": {},
   "source": [
    "### Кол-во игр в год"
   ]
  },
  {
   "cell_type": "markdown",
   "metadata": {},
   "source": [
    "Создадим график, чотбы посмотреть сколько игр выпускалось каждый год."
   ]
  },
  {
   "cell_type": "code",
   "execution_count": 20,
   "metadata": {},
   "outputs": [
    {
     "data": {
      "image/png": "[encoded data removed]",
      "text/plain": [
       "<Figure size 1080x504 with 1 Axes>"
      ]
     },
     "metadata": {
      "needs_background": "light"
     },
     "output_type": "display_data"
    }
   ],
   "source": [
    "#data.query('year_of_release > 0')['year_of_release'].hist(figsize=(15, 7), bins=30);\n",
    "data.query('year_of_release > 0')['year_of_release'].hist(figsize=(15, 7), bins=37);\n",
    "plt.title('Релиз игр в год')\n",
    "plt.xlabel('Год')\n",
    "plt.ylabel('Кол-во игр');"
   ]
  },
  {
   "cell_type": "markdown",
   "metadata": {},
   "source": [
    "До 1995 года игры выходили довольно редко, поэтому эти данные не слишком важны для исследования."
   ]
  },
  {
   "cell_type": "markdown",
   "metadata": {},
   "source": [
    "### Продажи по платформам"
   ]
  },
  {
   "cell_type": "markdown",
   "metadata": {},
   "source": [
    "Посмотрим на продажи по платформам."
   ]
  },
  {
   "cell_type": "code",
   "execution_count": 21,
   "metadata": {},
   "outputs": [
    {
     "data": {
      "text/html": [
       "<div>\n",
       "<style scoped>\n",
       "    .dataframe tbody tr th:only-of-type {\n",
       "        vertical-align: middle;\n",
       "    }\n",
       "\n",
       "    .dataframe tbody tr th {\n",
       "        vertical-align: top;\n",
       "    }\n",
       "\n",
       "    .dataframe thead th {\n",
       "        text-align: right;\n",
       "    }\n",
       "</style>\n",
       "<table border=\"1\" class=\"dataframe\">\n",
       "  <thead>\n",
       "    <tr style=\"text-align: right;\">\n",
       "      <th></th>\n",
       "      <th>total_sales</th>\n",
       "    </tr>\n",
       "    <tr>\n",
       "      <th>platform</th>\n",
       "      <th></th>\n",
       "    </tr>\n",
       "  </thead>\n",
       "  <tbody>\n",
       "    <tr>\n",
       "      <th>PS2</th>\n",
       "      <td>1233.56</td>\n",
       "    </tr>\n",
       "    <tr>\n",
       "      <th>X360</th>\n",
       "      <td>961.24</td>\n",
       "    </tr>\n",
       "    <tr>\n",
       "      <th>PS3</th>\n",
       "      <td>931.33</td>\n",
       "    </tr>\n",
       "    <tr>\n",
       "      <th>Wii</th>\n",
       "      <td>891.18</td>\n",
       "    </tr>\n",
       "    <tr>\n",
       "      <th>DS</th>\n",
       "      <td>802.78</td>\n",
       "    </tr>\n",
       "    <tr>\n",
       "      <th>PS</th>\n",
       "      <td>727.58</td>\n",
       "    </tr>\n",
       "    <tr>\n",
       "      <th>PS4</th>\n",
       "      <td>314.14</td>\n",
       "    </tr>\n",
       "    <tr>\n",
       "      <th>GBA</th>\n",
       "      <td>312.88</td>\n",
       "    </tr>\n",
       "    <tr>\n",
       "      <th>PSP</th>\n",
       "      <td>289.53</td>\n",
       "    </tr>\n",
       "    <tr>\n",
       "      <th>3DS</th>\n",
       "      <td>257.81</td>\n",
       "    </tr>\n",
       "  </tbody>\n",
       "</table>\n",
       "</div>"
      ],
      "text/plain": [
       "          total_sales\n",
       "platform             \n",
       "PS2           1233.56\n",
       "X360           961.24\n",
       "PS3            931.33\n",
       "Wii            891.18\n",
       "DS             802.78\n",
       "PS             727.58\n",
       "PS4            314.14\n",
       "GBA            312.88\n",
       "PSP            289.53\n",
       "3DS            257.81"
      ]
     },
     "metadata": {},
     "output_type": "display_data"
    },
    {
     "data": {
      "image/png": "[encoded data removed]",
      "text/plain": [
       "<Figure size 864x432 with 1 Axes>"
      ]
     },
     "metadata": {
      "needs_background": "light"
     },
     "output_type": "display_data"
    }
   ],
   "source": [
    "platform_data = (data.pivot_table(index='platform', values='total_sales', aggfunc='sum')\n",
    "                 .sort_values(by='total_sales', ascending=False))\n",
    "display(platform_data.head(10))\n",
    "platform_data.head(10).plot(kind='barh', figsize=(12, 6));\n",
    "plt.title('Продажи по платформам')\n",
    "plt.xlabel('Млн. копий')\n",
    "plt.ylabel('Платформа');"
   ]
  },
  {
   "cell_type": "code",
   "execution_count": 22,
   "metadata": {},
   "outputs": [],
   "source": [
    "platforms = ['PS2', 'X360', 'PS3', 'Wii', 'DS']"
   ]
  },
  {
   "cell_type": "code",
   "execution_count": 23,
   "metadata": {},
   "outputs": [
    {
     "data": {
      "image/png": "[encoded data removed]",
      "text/plain": [
       "<Figure size 576x1440 with 5 Axes>"
      ]
     },
     "metadata": {
      "needs_background": "light"
     },
     "output_type": "display_data"
    }
   ],
   "source": [
    "fig, axes = plt.subplots(nrows=len(platforms), ncols=1, figsize=(8, 4 * len(platforms)))\n",
    "\n",
    "for i, p in enumerate(platforms):\n",
    "    ax = axes[i]\n",
    "    data.query('platform == @p and year_of_release > 0')['year_of_release']\\\n",
    "        .hist(ax=ax, alpha=0.7, range=(2000, 2016), bins=16)\n",
    "    ax.set_title(f'Platform: {p}')\n",
    "    ax.set_xlabel('Год')\n",
    "    ax.set_ylabel('Кол-во игр')\n",
    "\n",
    "plt.tight_layout()\n",
    "plt.show()"
   ]
  },
  {
   "cell_type": "code",
   "execution_count": 24,
   "metadata": {},
   "outputs": [
    {
     "data": {
      "text/html": [
       "<div>\n",
       "<style scoped>\n",
       "    .dataframe tbody tr th:only-of-type {\n",
       "        vertical-align: middle;\n",
       "    }\n",
       "\n",
       "    .dataframe tbody tr th {\n",
       "        vertical-align: top;\n",
       "    }\n",
       "\n",
       "    .dataframe thead th {\n",
       "        text-align: right;\n",
       "    }\n",
       "</style>\n",
       "<table border=\"1\" class=\"dataframe\">\n",
       "  <thead>\n",
       "    <tr style=\"text-align: right;\">\n",
       "      <th></th>\n",
       "      <th></th>\n",
       "      <th>year_sales</th>\n",
       "      <th>games_count</th>\n",
       "    </tr>\n",
       "    <tr>\n",
       "      <th>platform</th>\n",
       "      <th>year_of_release</th>\n",
       "      <th></th>\n",
       "      <th></th>\n",
       "    </tr>\n",
       "  </thead>\n",
       "  <tbody>\n",
       "    <tr>\n",
       "      <th rowspan=\"7\" valign=\"top\">X360</th>\n",
       "      <th>2010</th>\n",
       "      <td>170.03</td>\n",
       "      <td>182</td>\n",
       "    </tr>\n",
       "    <tr>\n",
       "      <th>2011</th>\n",
       "      <td>143.84</td>\n",
       "      <td>206</td>\n",
       "    </tr>\n",
       "    <tr>\n",
       "      <th>2012</th>\n",
       "      <td>99.74</td>\n",
       "      <td>106</td>\n",
       "    </tr>\n",
       "    <tr>\n",
       "      <th>2013</th>\n",
       "      <td>88.58</td>\n",
       "      <td>75</td>\n",
       "    </tr>\n",
       "    <tr>\n",
       "      <th>2014</th>\n",
       "      <td>34.74</td>\n",
       "      <td>63</td>\n",
       "    </tr>\n",
       "    <tr>\n",
       "      <th>2015</th>\n",
       "      <td>11.96</td>\n",
       "      <td>35</td>\n",
       "    </tr>\n",
       "    <tr>\n",
       "      <th>2016</th>\n",
       "      <td>1.52</td>\n",
       "      <td>13</td>\n",
       "    </tr>\n",
       "    <tr>\n",
       "      <th rowspan=\"9\" valign=\"top\">XB</th>\n",
       "      <th>2000</th>\n",
       "      <td>0.99</td>\n",
       "      <td>1</td>\n",
       "    </tr>\n",
       "    <tr>\n",
       "      <th>2001</th>\n",
       "      <td>22.26</td>\n",
       "      <td>33</td>\n",
       "    </tr>\n",
       "    <tr>\n",
       "      <th>2002</th>\n",
       "      <td>48.01</td>\n",
       "      <td>158</td>\n",
       "    </tr>\n",
       "    <tr>\n",
       "      <th>2003</th>\n",
       "      <td>55.04</td>\n",
       "      <td>189</td>\n",
       "    </tr>\n",
       "    <tr>\n",
       "      <th>2004</th>\n",
       "      <td>65.42</td>\n",
       "      <td>177</td>\n",
       "    </tr>\n",
       "    <tr>\n",
       "      <th>2005</th>\n",
       "      <td>49.08</td>\n",
       "      <td>179</td>\n",
       "    </tr>\n",
       "    <tr>\n",
       "      <th>2006</th>\n",
       "      <td>10.04</td>\n",
       "      <td>62</td>\n",
       "    </tr>\n",
       "    <tr>\n",
       "      <th>2007</th>\n",
       "      <td>0.55</td>\n",
       "      <td>3</td>\n",
       "    </tr>\n",
       "    <tr>\n",
       "      <th>2008</th>\n",
       "      <td>0.18</td>\n",
       "      <td>1</td>\n",
       "    </tr>\n",
       "    <tr>\n",
       "      <th rowspan=\"4\" valign=\"top\">XOne</th>\n",
       "      <th>2013</th>\n",
       "      <td>18.96</td>\n",
       "      <td>19</td>\n",
       "    </tr>\n",
       "    <tr>\n",
       "      <th>2014</th>\n",
       "      <td>54.07</td>\n",
       "      <td>61</td>\n",
       "    </tr>\n",
       "    <tr>\n",
       "      <th>2015</th>\n",
       "      <td>60.14</td>\n",
       "      <td>80</td>\n",
       "    </tr>\n",
       "    <tr>\n",
       "      <th>2016</th>\n",
       "      <td>26.15</td>\n",
       "      <td>87</td>\n",
       "    </tr>\n",
       "  </tbody>\n",
       "</table>\n",
       "</div>"
      ],
      "text/plain": [
       "                          year_sales  games_count\n",
       "platform year_of_release                         \n",
       "X360     2010                 170.03          182\n",
       "         2011                 143.84          206\n",
       "         2012                  99.74          106\n",
       "         2013                  88.58           75\n",
       "         2014                  34.74           63\n",
       "         2015                  11.96           35\n",
       "         2016                   1.52           13\n",
       "XB       2000                   0.99            1\n",
       "         2001                  22.26           33\n",
       "         2002                  48.01          158\n",
       "         2003                  55.04          189\n",
       "         2004                  65.42          177\n",
       "         2005                  49.08          179\n",
       "         2006                  10.04           62\n",
       "         2007                   0.55            3\n",
       "         2008                   0.18            1\n",
       "XOne     2013                  18.96           19\n",
       "         2014                  54.07           61\n",
       "         2015                  60.14           80\n",
       "         2016                  26.15           87"
      ]
     },
     "execution_count": 24,
     "metadata": {},
     "output_type": "execute_result"
    }
   ],
   "source": [
    "data_stat = (data.query('year_of_release > 0').groupby(['platform', 'year_of_release'])\n",
    "             .agg({'total_sales':'sum', 'year_of_release': 'count'}))\n",
    "data_stat.columns = ['year_sales', 'games_count']\n",
    "data_stat.tail(20)"
   ]
  },
  {
   "cell_type": "markdown",
   "metadata": {},
   "source": [
    "Возьмем актуальный период с 2012 года. За этот промежуток времени можно будет примерно понять где продажи будут падать, а где расти."
   ]
  },
  {
   "cell_type": "code",
   "execution_count": 25,
   "metadata": {},
   "outputs": [
    {
     "data": {
      "text/plain": [
       "7.0"
      ]
     },
     "execution_count": 25,
     "metadata": {},
     "output_type": "execute_result"
    }
   ],
   "source": [
    "# Комментарий ревьюера\n",
    "temp = data[data.year_of_release != 0].copy() \n",
    "time_life = temp.pivot_table(index='platform', values='year_of_release', aggfunc=['min', 'max']).reset_index()\n",
    "time_life['life'] = time_life['max'] - time_life['min'] + 1 # в срок жизни платформы, должны входить границы диапазона, \n",
    "                                                            # поэтому +1\n",
    "time_life['life'].median()"
   ]
  },
  {
   "cell_type": "markdown",
   "metadata": {},
   "source": [
    "</font><font color='Blue'><b> Срок жизни платформы составляет 7 лет."
   ]
  },
  {
   "cell_type": "markdown",
   "metadata": {},
   "source": [
    " ### Актуальный период"
   ]
  },
  {
   "cell_type": "code",
   "execution_count": 26,
   "metadata": {},
   "outputs": [
    {
     "data": {
      "text/plain": [
       "2885"
      ]
     },
     "metadata": {},
     "output_type": "display_data"
    },
    {
     "data": {
      "text/plain": [
       "array(['PS3', 'X360', 'PS4', '3DS', 'DS', 'XOne', 'WiiU', 'Wii', 'PC',\n",
       "       'PSV', 'PSP'], dtype=object)"
      ]
     },
     "metadata": {},
     "output_type": "display_data"
    },
    {
     "data": {
      "text/html": [
       "<div>\n",
       "<style scoped>\n",
       "    .dataframe tbody tr th:only-of-type {\n",
       "        vertical-align: middle;\n",
       "    }\n",
       "\n",
       "    .dataframe tbody tr th {\n",
       "        vertical-align: top;\n",
       "    }\n",
       "\n",
       "    .dataframe thead th {\n",
       "        text-align: right;\n",
       "    }\n",
       "</style>\n",
       "<table border=\"1\" class=\"dataframe\">\n",
       "  <thead>\n",
       "    <tr style=\"text-align: right;\">\n",
       "      <th></th>\n",
       "      <th>name</th>\n",
       "      <th>platform</th>\n",
       "      <th>year_of_release</th>\n",
       "      <th>genre</th>\n",
       "      <th>na_sales</th>\n",
       "      <th>eu_sales</th>\n",
       "      <th>jp_sales</th>\n",
       "      <th>other_sales</th>\n",
       "      <th>critic_score</th>\n",
       "      <th>user_score</th>\n",
       "      <th>rating</th>\n",
       "      <th>total_sales</th>\n",
       "    </tr>\n",
       "  </thead>\n",
       "  <tbody>\n",
       "    <tr>\n",
       "      <th>16</th>\n",
       "      <td>Grand Theft Auto V</td>\n",
       "      <td>PS3</td>\n",
       "      <td>2013</td>\n",
       "      <td>Action</td>\n",
       "      <td>7.02</td>\n",
       "      <td>9.09</td>\n",
       "      <td>0.98</td>\n",
       "      <td>3.96</td>\n",
       "      <td>97</td>\n",
       "      <td>8.2</td>\n",
       "      <td>M</td>\n",
       "      <td>21.05</td>\n",
       "    </tr>\n",
       "    <tr>\n",
       "      <th>23</th>\n",
       "      <td>Grand Theft Auto V</td>\n",
       "      <td>X360</td>\n",
       "      <td>2013</td>\n",
       "      <td>Action</td>\n",
       "      <td>9.66</td>\n",
       "      <td>5.14</td>\n",
       "      <td>0.06</td>\n",
       "      <td>1.41</td>\n",
       "      <td>97</td>\n",
       "      <td>8.1</td>\n",
       "      <td>M</td>\n",
       "      <td>16.27</td>\n",
       "    </tr>\n",
       "    <tr>\n",
       "      <th>31</th>\n",
       "      <td>Call of Duty: Black Ops 3</td>\n",
       "      <td>PS4</td>\n",
       "      <td>2015</td>\n",
       "      <td>Shooter</td>\n",
       "      <td>6.03</td>\n",
       "      <td>5.86</td>\n",
       "      <td>0.36</td>\n",
       "      <td>2.38</td>\n",
       "      <td>111</td>\n",
       "      <td>11.0</td>\n",
       "      <td>no rating</td>\n",
       "      <td>14.63</td>\n",
       "    </tr>\n",
       "    <tr>\n",
       "      <th>33</th>\n",
       "      <td>Pokemon X/Pokemon Y</td>\n",
       "      <td>3DS</td>\n",
       "      <td>2013</td>\n",
       "      <td>Role-Playing</td>\n",
       "      <td>5.28</td>\n",
       "      <td>4.19</td>\n",
       "      <td>4.35</td>\n",
       "      <td>0.78</td>\n",
       "      <td>111</td>\n",
       "      <td>11.0</td>\n",
       "      <td>no rating</td>\n",
       "      <td>14.60</td>\n",
       "    </tr>\n",
       "    <tr>\n",
       "      <th>34</th>\n",
       "      <td>Call of Duty: Black Ops II</td>\n",
       "      <td>PS3</td>\n",
       "      <td>2012</td>\n",
       "      <td>Shooter</td>\n",
       "      <td>4.99</td>\n",
       "      <td>5.73</td>\n",
       "      <td>0.65</td>\n",
       "      <td>2.42</td>\n",
       "      <td>83</td>\n",
       "      <td>5.3</td>\n",
       "      <td>M</td>\n",
       "      <td>13.79</td>\n",
       "    </tr>\n",
       "    <tr>\n",
       "      <th>35</th>\n",
       "      <td>Call of Duty: Black Ops II</td>\n",
       "      <td>X360</td>\n",
       "      <td>2012</td>\n",
       "      <td>Shooter</td>\n",
       "      <td>8.25</td>\n",
       "      <td>4.24</td>\n",
       "      <td>0.07</td>\n",
       "      <td>1.12</td>\n",
       "      <td>83</td>\n",
       "      <td>4.8</td>\n",
       "      <td>M</td>\n",
       "      <td>13.68</td>\n",
       "    </tr>\n",
       "    <tr>\n",
       "      <th>42</th>\n",
       "      <td>Grand Theft Auto V</td>\n",
       "      <td>PS4</td>\n",
       "      <td>2014</td>\n",
       "      <td>Action</td>\n",
       "      <td>3.96</td>\n",
       "      <td>6.31</td>\n",
       "      <td>0.38</td>\n",
       "      <td>1.97</td>\n",
       "      <td>97</td>\n",
       "      <td>8.3</td>\n",
       "      <td>M</td>\n",
       "      <td>12.62</td>\n",
       "    </tr>\n",
       "    <tr>\n",
       "      <th>47</th>\n",
       "      <td>Pokemon Omega Ruby/Pokemon Alpha Sapphire</td>\n",
       "      <td>3DS</td>\n",
       "      <td>2014</td>\n",
       "      <td>Role-Playing</td>\n",
       "      <td>4.35</td>\n",
       "      <td>3.49</td>\n",
       "      <td>3.10</td>\n",
       "      <td>0.74</td>\n",
       "      <td>111</td>\n",
       "      <td>11.0</td>\n",
       "      <td>no rating</td>\n",
       "      <td>11.68</td>\n",
       "    </tr>\n",
       "    <tr>\n",
       "      <th>60</th>\n",
       "      <td>Call of Duty: Ghosts</td>\n",
       "      <td>X360</td>\n",
       "      <td>2013</td>\n",
       "      <td>Shooter</td>\n",
       "      <td>6.73</td>\n",
       "      <td>2.56</td>\n",
       "      <td>0.04</td>\n",
       "      <td>0.91</td>\n",
       "      <td>73</td>\n",
       "      <td>2.6</td>\n",
       "      <td>M</td>\n",
       "      <td>10.24</td>\n",
       "    </tr>\n",
       "    <tr>\n",
       "      <th>62</th>\n",
       "      <td>New Super Mario Bros. 2</td>\n",
       "      <td>3DS</td>\n",
       "      <td>2012</td>\n",
       "      <td>Platform</td>\n",
       "      <td>3.66</td>\n",
       "      <td>3.14</td>\n",
       "      <td>2.47</td>\n",
       "      <td>0.63</td>\n",
       "      <td>78</td>\n",
       "      <td>7.2</td>\n",
       "      <td>E</td>\n",
       "      <td>9.90</td>\n",
       "    </tr>\n",
       "  </tbody>\n",
       "</table>\n",
       "</div>"
      ],
      "text/plain": [
       "                                         name platform  year_of_release  \\\n",
       "16                         Grand Theft Auto V      PS3             2013   \n",
       "23                         Grand Theft Auto V     X360             2013   \n",
       "31                  Call of Duty: Black Ops 3      PS4             2015   \n",
       "33                        Pokemon X/Pokemon Y      3DS             2013   \n",
       "34                 Call of Duty: Black Ops II      PS3             2012   \n",
       "35                 Call of Duty: Black Ops II     X360             2012   \n",
       "42                         Grand Theft Auto V      PS4             2014   \n",
       "47  Pokemon Omega Ruby/Pokemon Alpha Sapphire      3DS             2014   \n",
       "60                       Call of Duty: Ghosts     X360             2013   \n",
       "62                    New Super Mario Bros. 2      3DS             2012   \n",
       "\n",
       "           genre  na_sales  eu_sales  jp_sales  other_sales  critic_score  \\\n",
       "16        Action      7.02      9.09      0.98         3.96            97   \n",
       "23        Action      9.66      5.14      0.06         1.41            97   \n",
       "31       Shooter      6.03      5.86      0.36         2.38           111   \n",
       "33  Role-Playing      5.28      4.19      4.35         0.78           111   \n",
       "34       Shooter      4.99      5.73      0.65         2.42            83   \n",
       "35       Shooter      8.25      4.24      0.07         1.12            83   \n",
       "42        Action      3.96      6.31      0.38         1.97            97   \n",
       "47  Role-Playing      4.35      3.49      3.10         0.74           111   \n",
       "60       Shooter      6.73      2.56      0.04         0.91            73   \n",
       "62      Platform      3.66      3.14      2.47         0.63            78   \n",
       "\n",
       "    user_score     rating  total_sales  \n",
       "16         8.2          M        21.05  \n",
       "23         8.1          M        16.27  \n",
       "31        11.0  no rating        14.63  \n",
       "33        11.0  no rating        14.60  \n",
       "34         5.3          M        13.79  \n",
       "35         4.8          M        13.68  \n",
       "42         8.3          M        12.62  \n",
       "47        11.0  no rating        11.68  \n",
       "60         2.6          M        10.24  \n",
       "62         7.2          E         9.90  "
      ]
     },
     "execution_count": 26,
     "metadata": {},
     "output_type": "execute_result"
    }
   ],
   "source": [
    "#actual_data = data.query('year_of_release > 2005')\n",
    "actual_data = data.query('year_of_release > 2011')\n",
    "display(len(actual_data))\n",
    "display(actual_data['platform'].unique())\n",
    "actual_data.head(10)"
   ]
  },
  {
   "cell_type": "markdown",
   "metadata": {},
   "source": [
    "### Потенциально прибыльные платформы"
   ]
  },
  {
   "cell_type": "code",
   "execution_count": 27,
   "metadata": {},
   "outputs": [
    {
     "data": {
      "text/html": [
       "<div>\n",
       "<style scoped>\n",
       "    .dataframe tbody tr th:only-of-type {\n",
       "        vertical-align: middle;\n",
       "    }\n",
       "\n",
       "    .dataframe tbody tr th {\n",
       "        vertical-align: top;\n",
       "    }\n",
       "\n",
       "    .dataframe thead th {\n",
       "        text-align: right;\n",
       "    }\n",
       "</style>\n",
       "<table border=\"1\" class=\"dataframe\">\n",
       "  <thead>\n",
       "    <tr style=\"text-align: right;\">\n",
       "      <th></th>\n",
       "      <th>total_sales</th>\n",
       "    </tr>\n",
       "    <tr>\n",
       "      <th>platform</th>\n",
       "      <th></th>\n",
       "    </tr>\n",
       "  </thead>\n",
       "  <tbody>\n",
       "    <tr>\n",
       "      <th>PS4</th>\n",
       "      <td>314.14</td>\n",
       "    </tr>\n",
       "    <tr>\n",
       "      <th>PS3</th>\n",
       "      <td>288.78</td>\n",
       "    </tr>\n",
       "    <tr>\n",
       "      <th>X360</th>\n",
       "      <td>236.54</td>\n",
       "    </tr>\n",
       "    <tr>\n",
       "      <th>3DS</th>\n",
       "      <td>194.61</td>\n",
       "    </tr>\n",
       "    <tr>\n",
       "      <th>XOne</th>\n",
       "      <td>159.32</td>\n",
       "    </tr>\n",
       "    <tr>\n",
       "      <th>WiiU</th>\n",
       "      <td>82.19</td>\n",
       "    </tr>\n",
       "    <tr>\n",
       "      <th>PC</th>\n",
       "      <td>62.65</td>\n",
       "    </tr>\n",
       "    <tr>\n",
       "      <th>PSV</th>\n",
       "      <td>49.18</td>\n",
       "    </tr>\n",
       "    <tr>\n",
       "      <th>Wii</th>\n",
       "      <td>35.37</td>\n",
       "    </tr>\n",
       "    <tr>\n",
       "      <th>DS</th>\n",
       "      <td>12.55</td>\n",
       "    </tr>\n",
       "    <tr>\n",
       "      <th>PSP</th>\n",
       "      <td>11.19</td>\n",
       "    </tr>\n",
       "  </tbody>\n",
       "</table>\n",
       "</div>"
      ],
      "text/plain": [
       "          total_sales\n",
       "platform             \n",
       "PS4            314.14\n",
       "PS3            288.78\n",
       "X360           236.54\n",
       "3DS            194.61\n",
       "XOne           159.32\n",
       "WiiU            82.19\n",
       "PC              62.65\n",
       "PSV             49.18\n",
       "Wii             35.37\n",
       "DS              12.55\n",
       "PSP             11.19"
      ]
     },
     "execution_count": 27,
     "metadata": {},
     "output_type": "execute_result"
    }
   ],
   "source": [
    "platform_data = (actual_data.pivot_table(index='platform', values='total_sales', aggfunc='sum')\\\n",
    "                .sort_values(by='total_sales', ascending=False).head(20))\n",
    "platform_data"
   ]
  },
  {
   "cell_type": "markdown",
   "metadata": {},
   "source": [
    "В лидерах по продажам Xbox360, PS3, XboxOne, 3DS, PS4."
   ]
  },
  {
   "cell_type": "code",
   "execution_count": 28,
   "metadata": {},
   "outputs": [
    {
     "data": {
      "text/html": [
       "<div>\n",
       "<style scoped>\n",
       "    .dataframe tbody tr th:only-of-type {\n",
       "        vertical-align: middle;\n",
       "    }\n",
       "\n",
       "    .dataframe tbody tr th {\n",
       "        vertical-align: top;\n",
       "    }\n",
       "\n",
       "    .dataframe thead th {\n",
       "        text-align: right;\n",
       "    }\n",
       "</style>\n",
       "<table border=\"1\" class=\"dataframe\">\n",
       "  <thead>\n",
       "    <tr style=\"text-align: right;\">\n",
       "      <th>year_of_release</th>\n",
       "      <th>2012</th>\n",
       "      <th>2013</th>\n",
       "      <th>2014</th>\n",
       "      <th>2015</th>\n",
       "      <th>2016</th>\n",
       "    </tr>\n",
       "    <tr>\n",
       "      <th>platform</th>\n",
       "      <th></th>\n",
       "      <th></th>\n",
       "      <th></th>\n",
       "      <th></th>\n",
       "      <th></th>\n",
       "    </tr>\n",
       "  </thead>\n",
       "  <tbody>\n",
       "    <tr>\n",
       "      <th>3DS</th>\n",
       "      <td>51.36</td>\n",
       "      <td>56.57</td>\n",
       "      <td>43.76</td>\n",
       "      <td>27.78</td>\n",
       "      <td>15.14</td>\n",
       "    </tr>\n",
       "    <tr>\n",
       "      <th>DS</th>\n",
       "      <td>11.01</td>\n",
       "      <td>1.54</td>\n",
       "      <td>0.00</td>\n",
       "      <td>0.00</td>\n",
       "      <td>0.00</td>\n",
       "    </tr>\n",
       "    <tr>\n",
       "      <th>PC</th>\n",
       "      <td>23.22</td>\n",
       "      <td>12.38</td>\n",
       "      <td>13.28</td>\n",
       "      <td>8.52</td>\n",
       "      <td>5.25</td>\n",
       "    </tr>\n",
       "    <tr>\n",
       "      <th>PS3</th>\n",
       "      <td>107.35</td>\n",
       "      <td>113.25</td>\n",
       "      <td>47.76</td>\n",
       "      <td>16.82</td>\n",
       "      <td>3.60</td>\n",
       "    </tr>\n",
       "    <tr>\n",
       "      <th>PS4</th>\n",
       "      <td>0.00</td>\n",
       "      <td>25.99</td>\n",
       "      <td>100.00</td>\n",
       "      <td>118.90</td>\n",
       "      <td>69.25</td>\n",
       "    </tr>\n",
       "    <tr>\n",
       "      <th>PSP</th>\n",
       "      <td>7.69</td>\n",
       "      <td>3.14</td>\n",
       "      <td>0.24</td>\n",
       "      <td>0.12</td>\n",
       "      <td>0.00</td>\n",
       "    </tr>\n",
       "    <tr>\n",
       "      <th>PSV</th>\n",
       "      <td>16.19</td>\n",
       "      <td>10.59</td>\n",
       "      <td>11.90</td>\n",
       "      <td>6.25</td>\n",
       "      <td>4.25</td>\n",
       "    </tr>\n",
       "    <tr>\n",
       "      <th>Wii</th>\n",
       "      <td>21.71</td>\n",
       "      <td>8.59</td>\n",
       "      <td>3.75</td>\n",
       "      <td>1.14</td>\n",
       "      <td>0.18</td>\n",
       "    </tr>\n",
       "    <tr>\n",
       "      <th>WiiU</th>\n",
       "      <td>17.56</td>\n",
       "      <td>21.65</td>\n",
       "      <td>22.03</td>\n",
       "      <td>16.35</td>\n",
       "      <td>4.60</td>\n",
       "    </tr>\n",
       "    <tr>\n",
       "      <th>X360</th>\n",
       "      <td>99.74</td>\n",
       "      <td>88.58</td>\n",
       "      <td>34.74</td>\n",
       "      <td>11.96</td>\n",
       "      <td>1.52</td>\n",
       "    </tr>\n",
       "    <tr>\n",
       "      <th>XOne</th>\n",
       "      <td>0.00</td>\n",
       "      <td>18.96</td>\n",
       "      <td>54.07</td>\n",
       "      <td>60.14</td>\n",
       "      <td>26.15</td>\n",
       "    </tr>\n",
       "  </tbody>\n",
       "</table>\n",
       "</div>"
      ],
      "text/plain": [
       "year_of_release    2012    2013    2014    2015   2016\n",
       "platform                                              \n",
       "3DS               51.36   56.57   43.76   27.78  15.14\n",
       "DS                11.01    1.54    0.00    0.00   0.00\n",
       "PC                23.22   12.38   13.28    8.52   5.25\n",
       "PS3              107.35  113.25   47.76   16.82   3.60\n",
       "PS4                0.00   25.99  100.00  118.90  69.25\n",
       "PSP                7.69    3.14    0.24    0.12   0.00\n",
       "PSV               16.19   10.59   11.90    6.25   4.25\n",
       "Wii               21.71    8.59    3.75    1.14   0.18\n",
       "WiiU              17.56   21.65   22.03   16.35   4.60\n",
       "X360              99.74   88.58   34.74   11.96   1.52\n",
       "XOne               0.00   18.96   54.07   60.14  26.15"
      ]
     },
     "execution_count": 28,
     "metadata": {},
     "output_type": "execute_result"
    }
   ],
   "source": [
    "adata = actual_data.pivot_table(index='platform', columns='year_of_release', values='total_sales', aggfunc='sum')\n",
    "adata.fillna(0)"
   ]
  },
  {
   "cell_type": "code",
   "execution_count": 29,
   "metadata": {},
   "outputs": [
    {
     "data": {
      "image/png": "[encoded data removed]",
      "text/plain": [
       "<Figure size 864x576 with 2 Axes>"
      ]
     },
     "metadata": {
      "needs_background": "light"
     },
     "output_type": "display_data"
    }
   ],
   "source": [
    "plt.figure(figsize=(12, 8))\n",
    "seaborn.heatmap(adata, cmap='coolwarm', linewidths=0.5, linecolor='gray');\n",
    "plt.title('Продажи по платформам в год')\n",
    "plt.xlabel('Год')\n",
    "plt.ylabel('Платформа');"
   ]
  },
  {
   "cell_type": "markdown",
   "metadata": {},
   "source": [
    "Так как данные за 2016 год неполные, то продажи не стоит точно воспринимать. Потенциально прибыльные платформы XboxOne, PS4, WiiU, 3DS."
   ]
  },
  {
   "cell_type": "markdown",
   "metadata": {},
   "source": [
    "### «Ящик с усами» по глобальным продажам игр"
   ]
  },
  {
   "cell_type": "code",
   "execution_count": 30,
   "metadata": {},
   "outputs": [
    {
     "data": {
      "image/png": "[encoded data removed]",
      "text/plain": [
       "<Figure size 1152x576 with 1 Axes>"
      ]
     },
     "metadata": {
      "needs_background": "light"
     },
     "output_type": "display_data"
    }
   ],
   "source": [
    "plt.figure(figsize=(16, 8))\n",
    "seaborn.boxplot(x='platform',\n",
    "               y='total_sales',\n",
    "               data=actual_data)\n",
    "#plt.ylim(0, 3);\n",
    "plt.title('Продажи по платформам')\n",
    "plt.ylabel('Млн. копий')\n",
    "plt.xlabel('Платформа');"
   ]
  },
  {
   "cell_type": "code",
   "execution_count": 31,
   "metadata": {},
   "outputs": [
    {
     "data": {
      "image/png": "[encoded data removed]",
      "text/plain": [
       "<Figure size 1152x576 with 1 Axes>"
      ]
     },
     "metadata": {
      "needs_background": "light"
     },
     "output_type": "display_data"
    }
   ],
   "source": [
    "plt.figure(figsize=(16, 8))\n",
    "seaborn.boxplot(x='platform',\n",
    "               y='total_sales',\n",
    "               data=actual_data)\n",
    "plt.ylim(0, 2);\n",
    "plt.title('Продажи по платформам')\n",
    "plt.ylabel('Млн. копий')\n",
    "plt.xlabel('Платформа');"
   ]
  },
  {
   "cell_type": "markdown",
   "metadata": {},
   "source": [
    "Продажи по платформам в основном до 2 млн. проданных копий. Медианное значение не выше 0,5 млн копий."
   ]
  },
  {
   "cell_type": "markdown",
   "metadata": {},
   "source": [
    "### Влияние отзывов"
   ]
  },
  {
   "cell_type": "markdown",
   "metadata": {},
   "source": [
    "Посмотрим на зависимость оценок и продаж для Xbox360."
   ]
  },
  {
   "cell_type": "code",
   "execution_count": 32,
   "metadata": {},
   "outputs": [
    {
     "data": {
      "text/plain": [
       "0.3605734888507336"
      ]
     },
     "metadata": {},
     "output_type": "display_data"
    },
    {
     "data": {
      "image/png": "[encoded data removed]",
      "text/plain": [
       "<Figure size 432x288 with 1 Axes>"
      ]
     },
     "metadata": {
      "needs_background": "light"
     },
     "output_type": "display_data"
    }
   ],
   "source": [
    "popular_data = actual_data.query('platform == \"X360\" and critic_score < 111')\n",
    "popular_data.plot(x='critic_score', y='total_sales', kind='scatter', alpha=0.3);\n",
    "display(popular_data['critic_score'].corr(popular_data['total_sales']))\n",
    "plt.title('Зависимость оценки и продаж Xbox360')\n",
    "plt.ylabel('Млн. копий')\n",
    "plt.xlabel('Оценка критиков');"
   ]
  },
  {
   "cell_type": "markdown",
   "metadata": {},
   "source": [
    "Можно сказать, что зависимость есть, но небольшая. Если оценка больше 70, то продажи становятся выше."
   ]
  },
  {
   "cell_type": "code",
   "execution_count": 33,
   "metadata": {},
   "outputs": [
    {
     "data": {
      "text/plain": [
       "0.006163978646213326"
      ]
     },
     "metadata": {},
     "output_type": "display_data"
    },
    {
     "data": {
      "image/png": "[encoded data removed]",
      "text/plain": [
       "<Figure size 432x288 with 1 Axes>"
      ]
     },
     "metadata": {
      "needs_background": "light"
     },
     "output_type": "display_data"
    }
   ],
   "source": [
    "popular_data = actual_data.query('platform == \"X360\" and user_score < 11')\n",
    "popular_data.plot(x='user_score', y='total_sales', kind='scatter', alpha=0.3);\n",
    "display(popular_data['user_score'].corr(popular_data['total_sales']))\n",
    "plt.title('Зависимость оценки и продаж Xbox360')\n",
    "plt.ylabel('Млн. копий')\n",
    "plt.xlabel('Оценка игроков');"
   ]
  },
  {
   "cell_type": "markdown",
   "metadata": {},
   "source": [
    "Можно сказать, что зависимости почти нет."
   ]
  },
  {
   "cell_type": "markdown",
   "metadata": {},
   "source": [
    "Посмотрим на зависимость оценок и продаж для PS4."
   ]
  },
  {
   "cell_type": "code",
   "execution_count": 34,
   "metadata": {},
   "outputs": [
    {
     "data": {
      "text/plain": [
       "0.40656790206178095"
      ]
     },
     "metadata": {},
     "output_type": "display_data"
    },
    {
     "data": {
      "image/png": "[encoded data removed]",
      "text/plain": [
       "<Figure size 432x288 with 1 Axes>"
      ]
     },
     "metadata": {
      "needs_background": "light"
     },
     "output_type": "display_data"
    }
   ],
   "source": [
    "popular_data = actual_data.query('platform == \"PS4\" and critic_score < 111')\n",
    "popular_data.plot(x='critic_score', y='total_sales', kind='scatter', alpha=0.3);\n",
    "display(popular_data['critic_score'].corr(popular_data['total_sales']))\n",
    "plt.title('Зависимость оценки и продаж  PS4')\n",
    "plt.ylabel('Млн. копий')\n",
    "plt.xlabel('Оценка критиков');"
   ]
  },
  {
   "cell_type": "markdown",
   "metadata": {},
   "source": [
    "Можно сказать, что зависимость есть, но небольшая. Если оценка больше 60, то продажи становятся выше."
   ]
  },
  {
   "cell_type": "code",
   "execution_count": 35,
   "metadata": {},
   "outputs": [
    {
     "data": {
      "text/plain": [
       "0.006163978646213326"
      ]
     },
     "metadata": {},
     "output_type": "display_data"
    },
    {
     "data": {
      "image/png": "[encoded data removed]",
      "text/plain": [
       "<Figure size 432x288 with 1 Axes>"
      ]
     },
     "metadata": {
      "needs_background": "light"
     },
     "output_type": "display_data"
    }
   ],
   "source": [
    "popular_data = actual_data.query('platform == \"X360\" and user_score < 11')\n",
    "popular_data.plot(x='user_score', y='total_sales', kind='scatter', alpha=0.3);\n",
    "display(popular_data['user_score'].corr(popular_data['total_sales']))\n",
    "plt.title('Зависимость оценки и продаж PS4')\n",
    "plt.ylabel('Млн. копий')\n",
    "plt.xlabel('Оценка игроков');"
   ]
  },
  {
   "cell_type": "markdown",
   "metadata": {},
   "source": [
    "Можно сказать, что зависимости почти нет."
   ]
  },
  {
   "cell_type": "markdown",
   "metadata": {},
   "source": [
    "Посмотрим на зависимость оценок и продаж для 3DS."
   ]
  },
  {
   "cell_type": "code",
   "execution_count": 36,
   "metadata": {},
   "outputs": [
    {
     "data": {
      "text/plain": [
       "0.3208028695360785"
      ]
     },
     "metadata": {},
     "output_type": "display_data"
    },
    {
     "data": {
      "image/png": "[encoded data removed]",
      "text/plain": [
       "<Figure size 432x288 with 1 Axes>"
      ]
     },
     "metadata": {
      "needs_background": "light"
     },
     "output_type": "display_data"
    }
   ],
   "source": [
    "popular_data = actual_data.query('platform == \"3DS\" and critic_score < 111')\n",
    "popular_data.plot(x='critic_score', y='total_sales', kind='scatter', alpha=0.3);\n",
    "display(popular_data['critic_score'].corr(popular_data['total_sales']))\n",
    "plt.title('Зависимость оценки и продаж  3DS')\n",
    "plt.ylabel('Млн. копий')\n",
    "plt.xlabel('Оценка критиков');"
   ]
  },
  {
   "cell_type": "markdown",
   "metadata": {},
   "source": [
    "Можно сказать, что зависимость есть, но небольшая. Если оценка больше 60, то продажи становятся выше."
   ]
  },
  {
   "cell_type": "code",
   "execution_count": 37,
   "metadata": {},
   "outputs": [
    {
     "data": {
      "text/plain": [
       "0.19758263411038599"
      ]
     },
     "metadata": {},
     "output_type": "display_data"
    },
    {
     "data": {
      "image/png": "[encoded data removed]",
      "text/plain": [
       "<Figure size 432x288 with 1 Axes>"
      ]
     },
     "metadata": {
      "needs_background": "light"
     },
     "output_type": "display_data"
    }
   ],
   "source": [
    "popular_data = actual_data.query('platform == \"3DS\" and user_score < 11')\n",
    "popular_data.plot(x='user_score', y='total_sales', kind='scatter', alpha=0.3);\n",
    "display(popular_data['user_score'].corr(popular_data['total_sales']))\n",
    "plt.title('Зависимость оценки и продаж 3DS')\n",
    "plt.ylabel('Млн. копий')\n",
    "plt.xlabel('Оценка игроков');"
   ]
  },
  {
   "cell_type": "markdown",
   "metadata": {},
   "source": [
    "Можно сказать, что зависимости почти нет."
   ]
  },
  {
   "cell_type": "markdown",
   "metadata": {},
   "source": [
    "Вероятнее всего такая же картина встречается и для других платформ."
   ]
  },
  {
   "cell_type": "markdown",
   "metadata": {},
   "source": [
    "### Распределение игр по жанрам"
   ]
  },
  {
   "cell_type": "markdown",
   "metadata": {},
   "source": [
    "Посмотрим на распределение игр по жанрам."
   ]
  },
  {
   "cell_type": "code",
   "execution_count": 38,
   "metadata": {},
   "outputs": [
    {
     "data": {
      "text/html": [
       "<div>\n",
       "<style scoped>\n",
       "    .dataframe tbody tr th:only-of-type {\n",
       "        vertical-align: middle;\n",
       "    }\n",
       "\n",
       "    .dataframe tbody tr th {\n",
       "        vertical-align: top;\n",
       "    }\n",
       "\n",
       "    .dataframe thead th {\n",
       "        text-align: right;\n",
       "    }\n",
       "</style>\n",
       "<table border=\"1\" class=\"dataframe\">\n",
       "  <thead>\n",
       "    <tr style=\"text-align: right;\">\n",
       "      <th></th>\n",
       "      <th>games_count</th>\n",
       "      <th>all_sales</th>\n",
       "      <th>median</th>\n",
       "    </tr>\n",
       "    <tr>\n",
       "      <th>genre</th>\n",
       "      <th></th>\n",
       "      <th></th>\n",
       "      <th></th>\n",
       "    </tr>\n",
       "  </thead>\n",
       "  <tbody>\n",
       "    <tr>\n",
       "      <th>Shooter</th>\n",
       "      <td>235</td>\n",
       "      <td>304.73</td>\n",
       "      <td>0.440</td>\n",
       "    </tr>\n",
       "    <tr>\n",
       "      <th>Sports</th>\n",
       "      <td>267</td>\n",
       "      <td>181.06</td>\n",
       "      <td>0.240</td>\n",
       "    </tr>\n",
       "    <tr>\n",
       "      <th>Platform</th>\n",
       "      <td>85</td>\n",
       "      <td>61.00</td>\n",
       "      <td>0.210</td>\n",
       "    </tr>\n",
       "    <tr>\n",
       "      <th>Role-Playing</th>\n",
       "      <td>370</td>\n",
       "      <td>192.80</td>\n",
       "      <td>0.140</td>\n",
       "    </tr>\n",
       "    <tr>\n",
       "      <th>Racing</th>\n",
       "      <td>115</td>\n",
       "      <td>53.50</td>\n",
       "      <td>0.140</td>\n",
       "    </tr>\n",
       "    <tr>\n",
       "      <th>Fighting</th>\n",
       "      <td>109</td>\n",
       "      <td>44.49</td>\n",
       "      <td>0.130</td>\n",
       "    </tr>\n",
       "    <tr>\n",
       "      <th>Action</th>\n",
       "      <td>1031</td>\n",
       "      <td>441.12</td>\n",
       "      <td>0.120</td>\n",
       "    </tr>\n",
       "    <tr>\n",
       "      <th>Misc</th>\n",
       "      <td>192</td>\n",
       "      <td>85.04</td>\n",
       "      <td>0.120</td>\n",
       "    </tr>\n",
       "    <tr>\n",
       "      <th>Simulation</th>\n",
       "      <td>80</td>\n",
       "      <td>35.12</td>\n",
       "      <td>0.120</td>\n",
       "    </tr>\n",
       "    <tr>\n",
       "      <th>Strategy</th>\n",
       "      <td>71</td>\n",
       "      <td>13.34</td>\n",
       "      <td>0.080</td>\n",
       "    </tr>\n",
       "    <tr>\n",
       "      <th>Puzzle</th>\n",
       "      <td>28</td>\n",
       "      <td>4.89</td>\n",
       "      <td>0.045</td>\n",
       "    </tr>\n",
       "    <tr>\n",
       "      <th>Adventure</th>\n",
       "      <td>302</td>\n",
       "      <td>29.43</td>\n",
       "      <td>0.030</td>\n",
       "    </tr>\n",
       "  </tbody>\n",
       "</table>\n",
       "</div>"
      ],
      "text/plain": [
       "              games_count  all_sales  median\n",
       "genre                                       \n",
       "Shooter               235     304.73   0.440\n",
       "Sports                267     181.06   0.240\n",
       "Platform               85      61.00   0.210\n",
       "Role-Playing          370     192.80   0.140\n",
       "Racing                115      53.50   0.140\n",
       "Fighting              109      44.49   0.130\n",
       "Action               1031     441.12   0.120\n",
       "Misc                  192      85.04   0.120\n",
       "Simulation             80      35.12   0.120\n",
       "Strategy               71      13.34   0.080\n",
       "Puzzle                 28       4.89   0.045\n",
       "Adventure             302      29.43   0.030"
      ]
     },
     "metadata": {},
     "output_type": "display_data"
    },
    {
     "data": {
      "image/png": "[encoded data removed]",
      "text/plain": [
       "<Figure size 432x288 with 1 Axes>"
      ]
     },
     "metadata": {
      "needs_background": "light"
     },
     "output_type": "display_data"
    }
   ],
   "source": [
    "#genre_data = actual_data.pivot_table(index='genre', values='total_sales', aggfunc=['count', 'sum'])\n",
    "#genre_data.columns = ['games_count', 'all_sales']\n",
    "#display(genre_data.sort_values(by='all_sales', ascending=False))\n",
    "#genre_data.sort_values(by='all_sales')['all_sales'].plot(kind='barh');\n",
    "\n",
    "\n",
    "genre_data = actual_data.pivot_table(index='genre', values='total_sales', aggfunc=['count', 'sum', 'median'])\n",
    "genre_data.columns = ['games_count', 'all_sales', 'median']\n",
    "display(genre_data.sort_values(by='median', ascending=False))\n",
    "genre_data.sort_values(by='median')['median'].plot(kind='barh');\n",
    "plt.title('Продажи по жанрам')\n",
    "plt.xlabel('Млн. копий')\n",
    "plt.ylabel('Жанр');"
   ]
  },
  {
   "cell_type": "markdown",
   "metadata": {},
   "source": [
    "</font><font color='Blue'><b>Самые популярные жанры sports, shooter, platform, role-playing, racing. А самые непопулярные adventure, puzzle, strategy."
   ]
  },
  {
   "cell_type": "markdown",
   "metadata": {},
   "source": [
    "<div class=\"alert alert-info\">\n",
    "Вывод: Активное появление игр начинается с 1995 года. Самые популярными платформами являются Xbox360, PS3, XboxOne, 3DS, PS4. В среднем платформы пользуются спросом примерно 7 лет. Для прогноза на 2017 год взяты данные с 2012 года. Больше всего потенциала у XboxOne, PS4, WiiU, 3DS. Также можно понять, что отзывы на игры не сильно влияют на продажи. Самые популярные жанры: sports, shooter, platform, role-playing, racing."
   ]
  },
  {
   "cell_type": "markdown",
   "metadata": {},
   "source": [
    "## Портрет пользователей по регионам"
   ]
  },
  {
   "cell_type": "markdown",
   "metadata": {},
   "source": [
    "### Платформы"
   ]
  },
  {
   "cell_type": "markdown",
   "metadata": {},
   "source": [
    "Посмотрим популярные платформы в трех регионах и определим различия."
   ]
  },
  {
   "cell_type": "code",
   "execution_count": 39,
   "metadata": {},
   "outputs": [
    {
     "data": {
      "text/html": [
       "<div>\n",
       "<style scoped>\n",
       "    .dataframe tbody tr th:only-of-type {\n",
       "        vertical-align: middle;\n",
       "    }\n",
       "\n",
       "    .dataframe tbody tr th {\n",
       "        vertical-align: top;\n",
       "    }\n",
       "\n",
       "    .dataframe thead th {\n",
       "        text-align: right;\n",
       "    }\n",
       "</style>\n",
       "<table border=\"1\" class=\"dataframe\">\n",
       "  <thead>\n",
       "    <tr style=\"text-align: right;\">\n",
       "      <th></th>\n",
       "      <th>eu_sales</th>\n",
       "    </tr>\n",
       "    <tr>\n",
       "      <th>platform</th>\n",
       "      <th></th>\n",
       "    </tr>\n",
       "  </thead>\n",
       "  <tbody>\n",
       "    <tr>\n",
       "      <th>PS4</th>\n",
       "      <td>141.09</td>\n",
       "    </tr>\n",
       "    <tr>\n",
       "      <th>PS3</th>\n",
       "      <td>106.85</td>\n",
       "    </tr>\n",
       "    <tr>\n",
       "      <th>X360</th>\n",
       "      <td>74.52</td>\n",
       "    </tr>\n",
       "    <tr>\n",
       "      <th>XOne</th>\n",
       "      <td>51.59</td>\n",
       "    </tr>\n",
       "    <tr>\n",
       "      <th>3DS</th>\n",
       "      <td>42.64</td>\n",
       "    </tr>\n",
       "    <tr>\n",
       "      <th>Другие</th>\n",
       "      <td>90.12</td>\n",
       "    </tr>\n",
       "  </tbody>\n",
       "</table>\n",
       "</div>"
      ],
      "text/plain": [
       "          eu_sales\n",
       "platform          \n",
       "PS4         141.09\n",
       "PS3         106.85\n",
       "X360         74.52\n",
       "XOne         51.59\n",
       "3DS          42.64\n",
       "Другие       90.12"
      ]
     },
     "metadata": {},
     "output_type": "display_data"
    },
    {
     "data": {
      "image/png": "[encoded data removed]",
      "text/plain": [
       "<Figure size 432x432 with 1 Axes>"
      ]
     },
     "metadata": {},
     "output_type": "display_data"
    }
   ],
   "source": [
    "eu_platform = (actual_data.pivot_table(index='platform', values='eu_sales', aggfunc='sum')\n",
    "              .sort_values(by='eu_sales', ascending=False).head())\n",
    "eu_platform.loc['Другие'] = (actual_data.pivot_table(index='platform', values='eu_sales', aggfunc='sum')\n",
    "              .sort_values(by='eu_sales', ascending=False).tail(6).sum())\n",
    "display(eu_platform)\n",
    "eu_platform.plot(kind='pie', y='eu_sales', autopct='%1.1f%%', figsize=(6, 6));\n",
    "plt.title('Соотношение продаж по Европе')\n",
    "plt.ylabel('');"
   ]
  },
  {
   "cell_type": "code",
   "execution_count": 40,
   "metadata": {
    "scrolled": false
   },
   "outputs": [
    {
     "data": {
      "text/html": [
       "<div>\n",
       "<style scoped>\n",
       "    .dataframe tbody tr th:only-of-type {\n",
       "        vertical-align: middle;\n",
       "    }\n",
       "\n",
       "    .dataframe tbody tr th {\n",
       "        vertical-align: top;\n",
       "    }\n",
       "\n",
       "    .dataframe thead th {\n",
       "        text-align: right;\n",
       "    }\n",
       "</style>\n",
       "<table border=\"1\" class=\"dataframe\">\n",
       "  <thead>\n",
       "    <tr style=\"text-align: right;\">\n",
       "      <th></th>\n",
       "      <th>na_sales</th>\n",
       "    </tr>\n",
       "    <tr>\n",
       "      <th>platform</th>\n",
       "      <th></th>\n",
       "    </tr>\n",
       "  </thead>\n",
       "  <tbody>\n",
       "    <tr>\n",
       "      <th>X360</th>\n",
       "      <td>140.05</td>\n",
       "    </tr>\n",
       "    <tr>\n",
       "      <th>PS4</th>\n",
       "      <td>108.74</td>\n",
       "    </tr>\n",
       "    <tr>\n",
       "      <th>PS3</th>\n",
       "      <td>103.38</td>\n",
       "    </tr>\n",
       "    <tr>\n",
       "      <th>XOne</th>\n",
       "      <td>93.12</td>\n",
       "    </tr>\n",
       "    <tr>\n",
       "      <th>3DS</th>\n",
       "      <td>55.31</td>\n",
       "    </tr>\n",
       "    <tr>\n",
       "      <th>Другие</th>\n",
       "      <td>90.37</td>\n",
       "    </tr>\n",
       "  </tbody>\n",
       "</table>\n",
       "</div>"
      ],
      "text/plain": [
       "          na_sales\n",
       "platform          \n",
       "X360        140.05\n",
       "PS4         108.74\n",
       "PS3         103.38\n",
       "XOne         93.12\n",
       "3DS          55.31\n",
       "Другие       90.37"
      ]
     },
     "metadata": {},
     "output_type": "display_data"
    },
    {
     "data": {
      "image/png": "[encoded data removed]",
      "text/plain": [
       "<Figure size 432x432 with 1 Axes>"
      ]
     },
     "metadata": {},
     "output_type": "display_data"
    }
   ],
   "source": [
    "na_platform = (actual_data.pivot_table(index='platform', values='na_sales', aggfunc='sum')\n",
    "              .sort_values(by='na_sales', ascending=False).head())\n",
    "na_platform.loc['Другие'] = (actual_data.pivot_table(index='platform', values='na_sales', aggfunc='sum')\n",
    "              .sort_values(by='na_sales', ascending=False).tail(6).sum())\n",
    "display(na_platform)\n",
    "na_platform.plot(kind='pie', y='na_sales', autopct='%1.1f%%', figsize=(6, 6));\n",
    "plt.title('Соотношение продаж по Америке');\n",
    "plt.ylabel('');"
   ]
  },
  {
   "cell_type": "code",
   "execution_count": 41,
   "metadata": {},
   "outputs": [
    {
     "data": {
      "text/html": [
       "<div>\n",
       "<style scoped>\n",
       "    .dataframe tbody tr th:only-of-type {\n",
       "        vertical-align: middle;\n",
       "    }\n",
       "\n",
       "    .dataframe tbody tr th {\n",
       "        vertical-align: top;\n",
       "    }\n",
       "\n",
       "    .dataframe thead th {\n",
       "        text-align: right;\n",
       "    }\n",
       "</style>\n",
       "<table border=\"1\" class=\"dataframe\">\n",
       "  <thead>\n",
       "    <tr style=\"text-align: right;\">\n",
       "      <th></th>\n",
       "      <th>jp_sales</th>\n",
       "    </tr>\n",
       "    <tr>\n",
       "      <th>platform</th>\n",
       "      <th></th>\n",
       "    </tr>\n",
       "  </thead>\n",
       "  <tbody>\n",
       "    <tr>\n",
       "      <th>3DS</th>\n",
       "      <td>87.79</td>\n",
       "    </tr>\n",
       "    <tr>\n",
       "      <th>PS3</th>\n",
       "      <td>35.29</td>\n",
       "    </tr>\n",
       "    <tr>\n",
       "      <th>PSV</th>\n",
       "      <td>21.04</td>\n",
       "    </tr>\n",
       "    <tr>\n",
       "      <th>PS4</th>\n",
       "      <td>15.96</td>\n",
       "    </tr>\n",
       "    <tr>\n",
       "      <th>WiiU</th>\n",
       "      <td>13.01</td>\n",
       "    </tr>\n",
       "    <tr>\n",
       "      <th>Другие</th>\n",
       "      <td>19.49</td>\n",
       "    </tr>\n",
       "  </tbody>\n",
       "</table>\n",
       "</div>"
      ],
      "text/plain": [
       "          jp_sales\n",
       "platform          \n",
       "3DS          87.79\n",
       "PS3          35.29\n",
       "PSV          21.04\n",
       "PS4          15.96\n",
       "WiiU         13.01\n",
       "Другие       19.49"
      ]
     },
     "metadata": {},
     "output_type": "display_data"
    },
    {
     "data": {
      "image/png": "[encoded data removed]",
      "text/plain": [
       "<Figure size 432x432 with 1 Axes>"
      ]
     },
     "metadata": {},
     "output_type": "display_data"
    }
   ],
   "source": [
    "jp_platform = (actual_data.pivot_table(index='platform', values='jp_sales', aggfunc='sum')\n",
    "              .sort_values(by='jp_sales', ascending=False).head())\n",
    "jp_platform.loc['Другие'] = (actual_data.pivot_table(index='platform', values='jp_sales', aggfunc='sum')\n",
    "              .sort_values(by='jp_sales', ascending=False).tail(6).sum())\n",
    "display(jp_platform)\n",
    "jp_platform.plot(kind='pie', y='jp_sales', autopct='%1.1f%%', figsize=(6, 6));\n",
    "plt.title('Соотношение продаж по Японии');\n",
    "plt.ylabel('');"
   ]
  },
  {
   "cell_type": "markdown",
   "metadata": {},
   "source": [
    "- В Европе самые популярные платформы: PS4, PS3, X360, XOne, 3DS \n",
    "- В Америке самые популярные платформы: X360, PS4, PS3, XOne, 3DS\n",
    "- В Японии самые популярные платформы: 3DS, PS3, PSV, PS4, WiiU"
   ]
  },
  {
   "cell_type": "markdown",
   "metadata": {},
   "source": [
    "### Жанры"
   ]
  },
  {
   "cell_type": "markdown",
   "metadata": {},
   "source": [
    "Посмотрим популярные жанры в трех регионах и определим различия."
   ]
  },
  {
   "cell_type": "code",
   "execution_count": 42,
   "metadata": {},
   "outputs": [
    {
     "data": {
      "text/html": [
       "<div>\n",
       "<style scoped>\n",
       "    .dataframe tbody tr th:only-of-type {\n",
       "        vertical-align: middle;\n",
       "    }\n",
       "\n",
       "    .dataframe tbody tr th {\n",
       "        vertical-align: top;\n",
       "    }\n",
       "\n",
       "    .dataframe thead th {\n",
       "        text-align: right;\n",
       "    }\n",
       "</style>\n",
       "<table border=\"1\" class=\"dataframe\">\n",
       "  <thead>\n",
       "    <tr style=\"text-align: right;\">\n",
       "      <th></th>\n",
       "      <th>eu_sales</th>\n",
       "    </tr>\n",
       "    <tr>\n",
       "      <th>genre</th>\n",
       "      <th></th>\n",
       "    </tr>\n",
       "  </thead>\n",
       "  <tbody>\n",
       "    <tr>\n",
       "      <th>Action</th>\n",
       "      <td>159.34</td>\n",
       "    </tr>\n",
       "    <tr>\n",
       "      <th>Shooter</th>\n",
       "      <td>113.47</td>\n",
       "    </tr>\n",
       "    <tr>\n",
       "      <th>Sports</th>\n",
       "      <td>69.08</td>\n",
       "    </tr>\n",
       "    <tr>\n",
       "      <th>Role-Playing</th>\n",
       "      <td>48.53</td>\n",
       "    </tr>\n",
       "    <tr>\n",
       "      <th>Racing</th>\n",
       "      <td>27.29</td>\n",
       "    </tr>\n",
       "    <tr>\n",
       "      <th>Другие</th>\n",
       "      <td>89.10</td>\n",
       "    </tr>\n",
       "  </tbody>\n",
       "</table>\n",
       "</div>"
      ],
      "text/plain": [
       "              eu_sales\n",
       "genre                 \n",
       "Action          159.34\n",
       "Shooter         113.47\n",
       "Sports           69.08\n",
       "Role-Playing     48.53\n",
       "Racing           27.29\n",
       "Другие           89.10"
      ]
     },
     "metadata": {},
     "output_type": "display_data"
    },
    {
     "data": {
      "image/png": "[encoded data removed]",
      "text/plain": [
       "<Figure size 432x432 with 1 Axes>"
      ]
     },
     "metadata": {},
     "output_type": "display_data"
    }
   ],
   "source": [
    "eu_genre = (actual_data.pivot_table(index='genre', values='eu_sales', aggfunc='sum')\n",
    "              .sort_values(by='eu_sales', ascending=False).head())\n",
    "eu_genre.loc['Другие'] = (actual_data.pivot_table(index='genre', values='eu_sales', aggfunc='sum')\n",
    "              .sort_values(by='eu_sales', ascending=False).tail(7).sum())\n",
    "display(eu_genre)\n",
    "eu_genre.plot(kind='pie', y='eu_sales', autopct='%1.1f%%', figsize=(6, 6));\n",
    "plt.title('Соотношение продаж по Европе');\n",
    "plt.ylabel('');"
   ]
  },
  {
   "cell_type": "code",
   "execution_count": 43,
   "metadata": {},
   "outputs": [
    {
     "data": {
      "text/html": [
       "<div>\n",
       "<style scoped>\n",
       "    .dataframe tbody tr th:only-of-type {\n",
       "        vertical-align: middle;\n",
       "    }\n",
       "\n",
       "    .dataframe tbody tr th {\n",
       "        vertical-align: top;\n",
       "    }\n",
       "\n",
       "    .dataframe thead th {\n",
       "        text-align: right;\n",
       "    }\n",
       "</style>\n",
       "<table border=\"1\" class=\"dataframe\">\n",
       "  <thead>\n",
       "    <tr style=\"text-align: right;\">\n",
       "      <th></th>\n",
       "      <th>na_sales</th>\n",
       "    </tr>\n",
       "    <tr>\n",
       "      <th>genre</th>\n",
       "      <th></th>\n",
       "    </tr>\n",
       "  </thead>\n",
       "  <tbody>\n",
       "    <tr>\n",
       "      <th>Action</th>\n",
       "      <td>177.84</td>\n",
       "    </tr>\n",
       "    <tr>\n",
       "      <th>Shooter</th>\n",
       "      <td>144.77</td>\n",
       "    </tr>\n",
       "    <tr>\n",
       "      <th>Sports</th>\n",
       "      <td>81.53</td>\n",
       "    </tr>\n",
       "    <tr>\n",
       "      <th>Role-Playing</th>\n",
       "      <td>64.00</td>\n",
       "    </tr>\n",
       "    <tr>\n",
       "      <th>Misc</th>\n",
       "      <td>38.19</td>\n",
       "    </tr>\n",
       "    <tr>\n",
       "      <th>Другие</th>\n",
       "      <td>84.64</td>\n",
       "    </tr>\n",
       "  </tbody>\n",
       "</table>\n",
       "</div>"
      ],
      "text/plain": [
       "              na_sales\n",
       "genre                 \n",
       "Action          177.84\n",
       "Shooter         144.77\n",
       "Sports           81.53\n",
       "Role-Playing     64.00\n",
       "Misc             38.19\n",
       "Другие           84.64"
      ]
     },
     "metadata": {},
     "output_type": "display_data"
    },
    {
     "data": {
      "image/png": "[encoded data removed]",
      "text/plain": [
       "<Figure size 432x432 with 1 Axes>"
      ]
     },
     "metadata": {},
     "output_type": "display_data"
    }
   ],
   "source": [
    "na_genre = (actual_data.pivot_table(index='genre', values='na_sales', aggfunc='sum')\n",
    "              .sort_values(by='na_sales', ascending=False).head())\n",
    "na_genre.loc['Другие'] = (actual_data.pivot_table(index='genre', values='na_sales', aggfunc='sum')\n",
    "              .sort_values(by='na_sales', ascending=False).tail(7).sum())\n",
    "display(na_genre)\n",
    "na_genre.plot(kind='pie', y='na_sales', autopct='%1.1f%%', figsize=(6, 6));\n",
    "plt.title('Соотношение продаж по Америке');\n",
    "plt.ylabel('');"
   ]
  },
  {
   "cell_type": "code",
   "execution_count": 44,
   "metadata": {},
   "outputs": [
    {
     "data": {
      "text/html": [
       "<div>\n",
       "<style scoped>\n",
       "    .dataframe tbody tr th:only-of-type {\n",
       "        vertical-align: middle;\n",
       "    }\n",
       "\n",
       "    .dataframe tbody tr th {\n",
       "        vertical-align: top;\n",
       "    }\n",
       "\n",
       "    .dataframe thead th {\n",
       "        text-align: right;\n",
       "    }\n",
       "</style>\n",
       "<table border=\"1\" class=\"dataframe\">\n",
       "  <thead>\n",
       "    <tr style=\"text-align: right;\">\n",
       "      <th></th>\n",
       "      <th>jp_sales</th>\n",
       "    </tr>\n",
       "    <tr>\n",
       "      <th>genre</th>\n",
       "      <th></th>\n",
       "    </tr>\n",
       "  </thead>\n",
       "  <tbody>\n",
       "    <tr>\n",
       "      <th>Role-Playing</th>\n",
       "      <td>65.44</td>\n",
       "    </tr>\n",
       "    <tr>\n",
       "      <th>Action</th>\n",
       "      <td>52.80</td>\n",
       "    </tr>\n",
       "    <tr>\n",
       "      <th>Misc</th>\n",
       "      <td>12.86</td>\n",
       "    </tr>\n",
       "    <tr>\n",
       "      <th>Simulation</th>\n",
       "      <td>10.41</td>\n",
       "    </tr>\n",
       "    <tr>\n",
       "      <th>Fighting</th>\n",
       "      <td>9.44</td>\n",
       "    </tr>\n",
       "    <tr>\n",
       "      <th>Другие</th>\n",
       "      <td>41.63</td>\n",
       "    </tr>\n",
       "  </tbody>\n",
       "</table>\n",
       "</div>"
      ],
      "text/plain": [
       "              jp_sales\n",
       "genre                 \n",
       "Role-Playing     65.44\n",
       "Action           52.80\n",
       "Misc             12.86\n",
       "Simulation       10.41\n",
       "Fighting          9.44\n",
       "Другие           41.63"
      ]
     },
     "metadata": {},
     "output_type": "display_data"
    },
    {
     "data": {
      "image/png": "[encoded data removed]",
      "text/plain": [
       "<Figure size 432x432 with 1 Axes>"
      ]
     },
     "metadata": {},
     "output_type": "display_data"
    }
   ],
   "source": [
    "jp_genre = (actual_data.pivot_table(index='genre', values='jp_sales', aggfunc='sum')\n",
    "              .sort_values(by='jp_sales', ascending=False).head())\n",
    "jp_genre.loc['Другие'] = (actual_data.pivot_table(index='genre', values='jp_sales', aggfunc='sum')\n",
    "              .sort_values(by='jp_sales', ascending=False).tail(7).sum())\n",
    "display(jp_genre)\n",
    "jp_genre.plot(kind='pie', y='jp_sales', autopct='%1.1f%%', figsize=(6, 6));\n",
    "plt.title('Соотношение продаж по Японии');\n",
    "plt.ylabel('');"
   ]
  },
  {
   "cell_type": "markdown",
   "metadata": {},
   "source": [
    "- В Европе самые популярные жанры: Action, Sports, Shooter, Misc, Racing\n",
    "- В Америке самые популярные жанры: Action, Sports, Shooter, Misc, Role-Playing\n",
    "- В Японии самые популярные жанры: Role-Playing, Action, Simulation, Misc, Fighting"
   ]
  },
  {
   "cell_type": "markdown",
   "metadata": {},
   "source": [
    "### ESRB"
   ]
  },
  {
   "cell_type": "markdown",
   "metadata": {},
   "source": [
    "Посмотрим популярность игр с разными рейтингами esrb в трех регионах и определим различия."
   ]
  },
  {
   "cell_type": "code",
   "execution_count": 45,
   "metadata": {},
   "outputs": [
    {
     "data": {
      "text/html": [
       "<div>\n",
       "<style scoped>\n",
       "    .dataframe tbody tr th:only-of-type {\n",
       "        vertical-align: middle;\n",
       "    }\n",
       "\n",
       "    .dataframe tbody tr th {\n",
       "        vertical-align: top;\n",
       "    }\n",
       "\n",
       "    .dataframe thead tr th {\n",
       "        text-align: left;\n",
       "    }\n",
       "\n",
       "    .dataframe thead tr:last-of-type th {\n",
       "        text-align: right;\n",
       "    }\n",
       "</style>\n",
       "<table border=\"1\" class=\"dataframe\">\n",
       "  <thead>\n",
       "    <tr>\n",
       "      <th></th>\n",
       "      <th>sum</th>\n",
       "      <th>count</th>\n",
       "    </tr>\n",
       "    <tr>\n",
       "      <th></th>\n",
       "      <th>eu_sales</th>\n",
       "      <th>eu_sales</th>\n",
       "    </tr>\n",
       "    <tr>\n",
       "      <th>rating</th>\n",
       "      <th></th>\n",
       "      <th></th>\n",
       "    </tr>\n",
       "  </thead>\n",
       "  <tbody>\n",
       "    <tr>\n",
       "      <th>E</th>\n",
       "      <td>113.02</td>\n",
       "      <td>394</td>\n",
       "    </tr>\n",
       "    <tr>\n",
       "      <th>E10+</th>\n",
       "      <td>55.37</td>\n",
       "      <td>306</td>\n",
       "    </tr>\n",
       "    <tr>\n",
       "      <th>M</th>\n",
       "      <td>193.96</td>\n",
       "      <td>498</td>\n",
       "    </tr>\n",
       "    <tr>\n",
       "      <th>T</th>\n",
       "      <td>52.96</td>\n",
       "      <td>412</td>\n",
       "    </tr>\n",
       "    <tr>\n",
       "      <th>no rating</th>\n",
       "      <td>91.50</td>\n",
       "      <td>1275</td>\n",
       "    </tr>\n",
       "  </tbody>\n",
       "</table>\n",
       "</div>"
      ],
      "text/plain": [
       "               sum    count\n",
       "          eu_sales eu_sales\n",
       "rating                     \n",
       "E           113.02      394\n",
       "E10+         55.37      306\n",
       "M           193.96      498\n",
       "T            52.96      412\n",
       "no rating    91.50     1275"
      ]
     },
     "metadata": {},
     "output_type": "display_data"
    },
    {
     "data": {
      "image/png": "[encoded data removed]",
      "text/plain": [
       "<Figure size 432x432 with 1 Axes>"
      ]
     },
     "metadata": {},
     "output_type": "display_data"
    }
   ],
   "source": [
    "eu_rating_data = actual_data.pivot_table(index='rating', values='eu_sales', aggfunc=['sum', 'count'])\n",
    "display(eu_rating_data)\n",
    "eu_rating_data.columns = ['eu_sales', 'games_count']\n",
    "eu_rating_data.query('eu_sales > 0').plot(kind='pie', y='eu_sales', autopct='%1.1f%%', figsize=(6, 6));\n",
    "plt.title('Соотношение продаж по Европе');"
   ]
  },
  {
   "cell_type": "code",
   "execution_count": 46,
   "metadata": {},
   "outputs": [
    {
     "data": {
      "text/html": [
       "<div>\n",
       "<style scoped>\n",
       "    .dataframe tbody tr th:only-of-type {\n",
       "        vertical-align: middle;\n",
       "    }\n",
       "\n",
       "    .dataframe tbody tr th {\n",
       "        vertical-align: top;\n",
       "    }\n",
       "\n",
       "    .dataframe thead tr th {\n",
       "        text-align: left;\n",
       "    }\n",
       "\n",
       "    .dataframe thead tr:last-of-type th {\n",
       "        text-align: right;\n",
       "    }\n",
       "</style>\n",
       "<table border=\"1\" class=\"dataframe\">\n",
       "  <thead>\n",
       "    <tr>\n",
       "      <th></th>\n",
       "      <th>sum</th>\n",
       "      <th>count</th>\n",
       "    </tr>\n",
       "    <tr>\n",
       "      <th></th>\n",
       "      <th>na_sales</th>\n",
       "      <th>na_sales</th>\n",
       "    </tr>\n",
       "    <tr>\n",
       "      <th>rating</th>\n",
       "      <th></th>\n",
       "      <th></th>\n",
       "    </tr>\n",
       "  </thead>\n",
       "  <tbody>\n",
       "    <tr>\n",
       "      <th>E</th>\n",
       "      <td>114.37</td>\n",
       "      <td>394</td>\n",
       "    </tr>\n",
       "    <tr>\n",
       "      <th>E10+</th>\n",
       "      <td>75.70</td>\n",
       "      <td>306</td>\n",
       "    </tr>\n",
       "    <tr>\n",
       "      <th>M</th>\n",
       "      <td>231.57</td>\n",
       "      <td>498</td>\n",
       "    </tr>\n",
       "    <tr>\n",
       "      <th>T</th>\n",
       "      <td>66.02</td>\n",
       "      <td>412</td>\n",
       "    </tr>\n",
       "    <tr>\n",
       "      <th>no rating</th>\n",
       "      <td>103.31</td>\n",
       "      <td>1275</td>\n",
       "    </tr>\n",
       "  </tbody>\n",
       "</table>\n",
       "</div>"
      ],
      "text/plain": [
       "               sum    count\n",
       "          na_sales na_sales\n",
       "rating                     \n",
       "E           114.37      394\n",
       "E10+         75.70      306\n",
       "M           231.57      498\n",
       "T            66.02      412\n",
       "no rating   103.31     1275"
      ]
     },
     "metadata": {},
     "output_type": "display_data"
    },
    {
     "data": {
      "image/png": "[encoded data removed]",
      "text/plain": [
       "<Figure size 432x432 with 1 Axes>"
      ]
     },
     "metadata": {},
     "output_type": "display_data"
    }
   ],
   "source": [
    "na_rating_data = actual_data.pivot_table(index='rating', values='na_sales', aggfunc=['sum', 'count'])\n",
    "display(na_rating_data)\n",
    "na_rating_data.columns = ['na_sales', 'games_count']\n",
    "na_rating_data.query('na_sales > 0').plot(kind='pie', y='na_sales', autopct='%1.1f%%', figsize=(6, 6));\n",
    "plt.title('Соотношение продаж по Америке');"
   ]
  },
  {
   "cell_type": "code",
   "execution_count": 47,
   "metadata": {},
   "outputs": [
    {
     "data": {
      "text/html": [
       "<div>\n",
       "<style scoped>\n",
       "    .dataframe tbody tr th:only-of-type {\n",
       "        vertical-align: middle;\n",
       "    }\n",
       "\n",
       "    .dataframe tbody tr th {\n",
       "        vertical-align: top;\n",
       "    }\n",
       "\n",
       "    .dataframe thead tr th {\n",
       "        text-align: left;\n",
       "    }\n",
       "\n",
       "    .dataframe thead tr:last-of-type th {\n",
       "        text-align: right;\n",
       "    }\n",
       "</style>\n",
       "<table border=\"1\" class=\"dataframe\">\n",
       "  <thead>\n",
       "    <tr>\n",
       "      <th></th>\n",
       "      <th>sum</th>\n",
       "      <th>count</th>\n",
       "    </tr>\n",
       "    <tr>\n",
       "      <th></th>\n",
       "      <th>jp_sales</th>\n",
       "      <th>jp_sales</th>\n",
       "    </tr>\n",
       "    <tr>\n",
       "      <th>rating</th>\n",
       "      <th></th>\n",
       "      <th></th>\n",
       "    </tr>\n",
       "  </thead>\n",
       "  <tbody>\n",
       "    <tr>\n",
       "      <th>E</th>\n",
       "      <td>28.33</td>\n",
       "      <td>394</td>\n",
       "    </tr>\n",
       "    <tr>\n",
       "      <th>E10+</th>\n",
       "      <td>8.19</td>\n",
       "      <td>306</td>\n",
       "    </tr>\n",
       "    <tr>\n",
       "      <th>M</th>\n",
       "      <td>21.20</td>\n",
       "      <td>498</td>\n",
       "    </tr>\n",
       "    <tr>\n",
       "      <th>T</th>\n",
       "      <td>26.02</td>\n",
       "      <td>412</td>\n",
       "    </tr>\n",
       "    <tr>\n",
       "      <th>no rating</th>\n",
       "      <td>108.84</td>\n",
       "      <td>1275</td>\n",
       "    </tr>\n",
       "  </tbody>\n",
       "</table>\n",
       "</div>"
      ],
      "text/plain": [
       "               sum    count\n",
       "          jp_sales jp_sales\n",
       "rating                     \n",
       "E            28.33      394\n",
       "E10+          8.19      306\n",
       "M            21.20      498\n",
       "T            26.02      412\n",
       "no rating   108.84     1275"
      ]
     },
     "metadata": {},
     "output_type": "display_data"
    },
    {
     "data": {
      "image/png": "[encoded data removed]",
      "text/plain": [
       "<Figure size 432x432 with 1 Axes>"
      ]
     },
     "metadata": {},
     "output_type": "display_data"
    }
   ],
   "source": [
    "jp_rating_data = actual_data.pivot_table(index='rating', values='jp_sales', aggfunc=['sum', 'count'])\n",
    "display(jp_rating_data)\n",
    "jp_rating_data.columns = ['jp_sales', 'games_count']\n",
    "jp_rating_data.query('jp_sales > 0').plot(kind='pie', y='jp_sales', autopct='%1.1f%%', figsize=(6, 6));\n",
    "plt.title('Соотношение продаж по Японии');"
   ]
  },
  {
   "cell_type": "markdown",
   "metadata": {},
   "source": [
    "Самые популярные игры с рейтингом M для Европы и Америки. В Японии у большого кол-ва игр не указан рейтинг esrb."
   ]
  },
  {
   "cell_type": "markdown",
   "metadata": {},
   "source": [
    "<div class=\"alert alert-info\">\n",
    "Вывод: В Европе и Америке схожи предпочтения в платформах и жанрах. Самые популярные жанры: Action, Sports, Shooter, Misc; Платформы: PS3, X360, Wii, DS. В Японии же немного другая картина. Жанры: Role-Playing, Action, Sports, Misc, Platform; Платформы: DS, 3DS, PS3, PSP, Wii. В Европе и Америке покупают иргы с рейтингом M активнее всего. У многих игр в Японии рейтинг не определен."
   ]
  },
  {
   "cell_type": "markdown",
   "metadata": {},
   "source": [
    "## Проверка гипотез"
   ]
  },
  {
   "cell_type": "markdown",
   "metadata": {},
   "source": [
    "### Средние пользовательские рейтинги платформ Xbox One и PC"
   ]
  },
  {
   "cell_type": "markdown",
   "metadata": {},
   "source": [
    "Проверим гипотезу, что средние пользовательские рейтинги платформ Xbox One и PC одинаковые"
   ]
  },
  {
   "cell_type": "code",
   "execution_count": 48,
   "metadata": {},
   "outputs": [
    {
     "data": {
      "text/plain": [
       "6.521428571428572"
      ]
     },
     "metadata": {},
     "output_type": "display_data"
    },
    {
     "data": {
      "text/plain": [
       "6.4286407766990274"
      ]
     },
     "metadata": {},
     "output_type": "display_data"
    }
   ],
   "source": [
    "#xbox_stat = actual_data.query('platform == \"XOne\"')\n",
    "#pc_stat = actual_data.query('platform == \"PC\"')\n",
    "\n",
    "xbox_stat = actual_data.query('platform == \"XOne\" and user_score < 11')\n",
    "pc_stat = actual_data.query('platform == \"PC\" and user_score < 11')\n",
    "display(xbox_stat['user_score'].mean())\n",
    "display(pc_stat['user_score'].mean())"
   ]
  },
  {
   "cell_type": "markdown",
   "metadata": {},
   "source": [
    "Нулевая гипотеза: Средние пользовательские рейтинги платформ Xbox One и PC одинаковые (=).\n",
    "Альернативная гипотеза: Средние пользовательские рейтинги платформ Xbox One и PC не равны."
   ]
  },
  {
   "cell_type": "code",
   "execution_count": 50,
   "metadata": {},
   "outputs": [
    {
     "name": "stdout",
     "output_type": "stream",
     "text": [
      "p-value: 0.5535080500643661\n",
      "Нет оснований отвергнуть нулевую гипотезу\n"
     ]
    }
   ],
   "source": [
    "alpha = 0.05\n",
    "platform_score_results = st.ttest_ind(xbox_stat['user_score'], pc_stat['user_score'])\n",
    "print('p-value:', platform_score_results.pvalue)\n",
    "if platform_score_results.pvalue < alpha:\n",
    "    print('Отвергаем нулевую гипотезу')\n",
    "else:\n",
    "    print('Нет оснований отвергнуть нулевую гипотезу')"
   ]
  },
  {
   "cell_type": "markdown",
   "metadata": {},
   "source": [
    "### Средние пользовательские рейтинги жанров Action и Sports"
   ]
  },
  {
   "cell_type": "markdown",
   "metadata": {},
   "source": [
    "Средние пользовательские рейтинги платформ Action и Sports разные."
   ]
  },
  {
   "cell_type": "code",
   "execution_count": 51,
   "metadata": {},
   "outputs": [
    {
     "data": {
      "text/plain": [
       "6.825047801147227"
      ]
     },
     "metadata": {},
     "output_type": "display_data"
    },
    {
     "data": {
      "text/plain": [
       "5.455670103092784"
      ]
     },
     "metadata": {},
     "output_type": "display_data"
    }
   ],
   "source": [
    "#action_stat = actual_data.query('genre == \"Action\"')\n",
    "#sports_stat = actual_data.query('genre == \"Sports\"')\n",
    "\n",
    "action_stat = actual_data.query('genre == \"Action\" and user_score < 11')\n",
    "sports_stat = actual_data.query('genre == \"Sports\" and user_score < 11')\n",
    "display(action_stat['user_score'].mean())\n",
    "display(sports_stat['user_score'].mean())"
   ]
  },
  {
   "cell_type": "markdown",
   "metadata": {},
   "source": [
    "Нулевая гипотеза: Средние пользовательские рейтинги жанров Action и Sports равны.\n",
    "Альтернативная гипотеза: Средние пользовательские рейтинги жанров Action и Sports не равны."
   ]
  },
  {
   "cell_type": "code",
   "execution_count": 52,
   "metadata": {},
   "outputs": [
    {
     "name": "stdout",
     "output_type": "stream",
     "text": [
      "p-value: 4.8045233804629176e-26\n",
      "Отвергаем нулевую гипотезу\n"
     ]
    }
   ],
   "source": [
    "alpha = 0.05\n",
    "genre_score_results = st.ttest_ind(action_stat['user_score'], sports_stat['user_score'])\n",
    "print('p-value:', genre_score_results.pvalue)\n",
    "if genre_score_results.pvalue < alpha:\n",
    "    print('Отвергаем нулевую гипотезу')\n",
    "else:\n",
    "    print('Нет оснований отвергнуть нулевую гипотезу')"
   ]
  },
  {
   "cell_type": "markdown",
   "metadata": {},
   "source": [
    "<div class=\"alert alert-info\">\n",
    "Вывод: Чтобы сформулировать нулевую гипотезу лучше использовать логику: истинные средние двух выборок равны. А альтернативную гипотезу: истинные средние двух выборок не равны для двусторонней гипотезы. Так как в гипотезе не спрашивается больше или меньше одно значение, то пременяем двустороннюю гипотезу. Выборки две, и они не завимы, значит используем двухвыборочный t-тест (ttest_ind)\n",
    "    \n",
    "- В первой проверке не отклоняем нулевую гипотезу. Есть основания говорить, что средние пользовательские рейтинги платформ Xbox One и PC равны.\n",
    "- Во второй проверке отклоняем нулевую гипотезу в пользу альтернативной. Есть основания говрить, что средние пользовательские рейтинги жанров Action и Sports  не равны.\n",
    "    "
   ]
  },
  {
   "cell_type": "markdown",
   "metadata": {},
   "source": [
    "## Вывод"
   ]
  },
  {
   "cell_type": "markdown",
   "metadata": {},
   "source": [
    "<div class=\"alert alert-info\">\n",
    "<font size=\"4\", color = \"black\"><b>Вывод</b></font>\n",
    "    <br /> \n",
    "    <font size=\"3\", color = \"black\">\n",
    "<br /> Нужно было проанализировать данные о продажах игр до 2016 года и проверить несколько гипотез. В полученных данных встретились пустые значения, которые пришлось заменить на значения-триггеры. В ходе работы нужно было привести столбцы к нижнему регистру и создать новый. Выяснилось, что самыми популярными платформами являются Xbox360, PS3, XboxOne, 3DS, PS4; жанрами: sports, shooter, platform, role-playing, racing. Больше всего потенциала в 2017 году у Xbox One, PS4, WiiU, 3DS. Отзывы на игры не сильно влияют на продажи. В Европе и Америке схожи предпочтения в жанрах и платформах. В Японии покупают игры без рейтинга esrb чаще всего. В Европе и Америке же покупают игры с рейтингом M больше всего. Были проверенны 2 гипотезы, из которых выяснилось, что средние пользовательские рейтинги платформ Xbox One и PC равны, а средние пользовательские рейтинги жанров Action и Sports не равны."
   ]
  }
 ],
 "metadata": {
  "ExecuteTimeLog": [
   {
    "duration": 451,
    "start_time": "2024-09-14T12:25:38.252Z"
   },
   {
    "duration": 261,
    "start_time": "2024-09-14T12:26:14.518Z"
   },
   {
    "duration": 91,
    "start_time": "2024-09-14T12:26:53.135Z"
   },
   {
    "duration": 50,
    "start_time": "2024-09-14T20:41:29.835Z"
   },
   {
    "duration": 397,
    "start_time": "2024-09-14T20:41:37.022Z"
   },
   {
    "duration": 252,
    "start_time": "2024-09-14T20:41:37.421Z"
   },
   {
    "duration": 3,
    "start_time": "2024-09-14T20:41:37.675Z"
   },
   {
    "duration": 2,
    "start_time": "2024-09-14T20:41:58.285Z"
   },
   {
    "duration": 20,
    "start_time": "2024-09-14T20:42:07.729Z"
   },
   {
    "duration": 923,
    "start_time": "2024-09-14T20:42:45.345Z"
   },
   {
    "duration": 527,
    "start_time": "2024-09-14T20:42:50.941Z"
   },
   {
    "duration": 473,
    "start_time": "2024-09-14T20:43:16.986Z"
   },
   {
    "duration": 756,
    "start_time": "2024-09-14T20:43:37.472Z"
   },
   {
    "duration": 7,
    "start_time": "2024-09-14T20:49:53.359Z"
   },
   {
    "duration": 15,
    "start_time": "2024-09-14T20:50:03.557Z"
   },
   {
    "duration": 14,
    "start_time": "2024-09-14T20:52:54.137Z"
   },
   {
    "duration": 16,
    "start_time": "2024-09-14T20:52:57.918Z"
   },
   {
    "duration": 604,
    "start_time": "2024-09-14T20:53:18.688Z"
   },
   {
    "duration": 7,
    "start_time": "2024-09-14T20:53:23.874Z"
   },
   {
    "duration": 14,
    "start_time": "2024-09-14T20:53:24.677Z"
   },
   {
    "duration": 5,
    "start_time": "2024-09-14T20:53:38.888Z"
   },
   {
    "duration": 15,
    "start_time": "2024-09-14T20:53:40.837Z"
   },
   {
    "duration": 16,
    "start_time": "2024-09-14T20:54:31.613Z"
   },
   {
    "duration": 13,
    "start_time": "2024-09-14T20:54:32.476Z"
   },
   {
    "duration": 110,
    "start_time": "2024-09-14T20:55:27.273Z"
   },
   {
    "duration": 59,
    "start_time": "2024-09-14T20:57:05.407Z"
   },
   {
    "duration": 64,
    "start_time": "2024-09-14T20:57:13.893Z"
   },
   {
    "duration": 1129,
    "start_time": "2024-09-14T20:57:43.893Z"
   },
   {
    "duration": 92,
    "start_time": "2024-09-14T20:57:45.024Z"
   },
   {
    "duration": 743,
    "start_time": "2024-09-14T20:57:45.118Z"
   },
   {
    "duration": 3,
    "start_time": "2024-09-14T20:57:45.863Z"
   },
   {
    "duration": 16,
    "start_time": "2024-09-14T20:57:45.867Z"
   },
   {
    "duration": 13,
    "start_time": "2024-09-14T20:58:58.974Z"
   },
   {
    "duration": 121,
    "start_time": "2024-09-14T20:59:08.057Z"
   },
   {
    "duration": 9,
    "start_time": "2024-09-14T20:59:49.503Z"
   },
   {
    "duration": 7,
    "start_time": "2024-09-14T21:00:36.943Z"
   },
   {
    "duration": 14,
    "start_time": "2024-09-14T21:01:10.260Z"
   },
   {
    "duration": 8,
    "start_time": "2024-09-14T21:02:14.333Z"
   },
   {
    "duration": 6,
    "start_time": "2024-09-14T21:02:22.735Z"
   },
   {
    "duration": 6,
    "start_time": "2024-09-14T21:02:57.142Z"
   },
   {
    "duration": 6,
    "start_time": "2024-09-14T21:03:47.439Z"
   },
   {
    "duration": 14,
    "start_time": "2024-09-14T21:03:50.360Z"
   },
   {
    "duration": 10,
    "start_time": "2024-09-14T21:04:14.995Z"
   },
   {
    "duration": 14,
    "start_time": "2024-09-14T21:06:13.827Z"
   },
   {
    "duration": 8,
    "start_time": "2024-09-14T21:06:38.431Z"
   },
   {
    "duration": 9,
    "start_time": "2024-09-14T21:06:40.524Z"
   },
   {
    "duration": 9,
    "start_time": "2024-09-14T21:09:00.967Z"
   },
   {
    "duration": 9,
    "start_time": "2024-09-14T21:09:10.357Z"
   },
   {
    "duration": 782,
    "start_time": "2024-09-14T21:09:27.343Z"
   },
   {
    "duration": 799,
    "start_time": "2024-09-14T21:09:43.944Z"
   },
   {
    "duration": 837,
    "start_time": "2024-09-14T21:09:51.414Z"
   },
   {
    "duration": 15,
    "start_time": "2024-09-14T21:10:13.386Z"
   },
   {
    "duration": 28,
    "start_time": "2024-09-14T21:11:07.223Z"
   },
   {
    "duration": 18,
    "start_time": "2024-09-14T21:12:17.534Z"
   },
   {
    "duration": 41,
    "start_time": "2024-09-14T21:25:37.499Z"
   },
   {
    "duration": 5,
    "start_time": "2024-09-14T21:27:49.863Z"
   },
   {
    "duration": 35,
    "start_time": "2024-09-14T21:28:00.251Z"
   },
   {
    "duration": 21,
    "start_time": "2024-09-14T21:29:24.357Z"
   },
   {
    "duration": 5,
    "start_time": "2024-09-14T21:29:54.072Z"
   },
   {
    "duration": 28,
    "start_time": "2024-09-14T21:44:13.992Z"
   },
   {
    "duration": 1050,
    "start_time": "2024-09-14T21:45:16.717Z"
   },
   {
    "duration": 12,
    "start_time": "2024-09-14T21:45:24.763Z"
   },
   {
    "duration": 1008,
    "start_time": "2024-09-14T21:48:01.290Z"
   },
   {
    "duration": 1033,
    "start_time": "2024-09-14T21:48:04.148Z"
   },
   {
    "duration": 11,
    "start_time": "2024-09-14T21:48:07.787Z"
   },
   {
    "duration": 20,
    "start_time": "2024-09-14T21:48:26.020Z"
   },
   {
    "duration": 1021,
    "start_time": "2024-09-14T21:51:33.845Z"
   },
   {
    "duration": 945,
    "start_time": "2024-09-14T21:51:34.868Z"
   },
   {
    "duration": 11,
    "start_time": "2024-09-14T21:51:36.460Z"
   },
   {
    "duration": 14,
    "start_time": "2024-09-14T21:53:52.192Z"
   },
   {
    "duration": 8625,
    "start_time": "2024-09-14T21:54:23.217Z"
   },
   {
    "duration": 9,
    "start_time": "2024-09-14T21:54:31.844Z"
   },
   {
    "duration": 9129,
    "start_time": "2024-09-14T21:55:29.398Z"
   },
   {
    "duration": 9,
    "start_time": "2024-09-14T21:55:38.529Z"
   },
   {
    "duration": 21,
    "start_time": "2024-09-14T21:55:42.269Z"
   },
   {
    "duration": 23,
    "start_time": "2024-09-14T21:56:15.721Z"
   },
   {
    "duration": 8075,
    "start_time": "2024-09-14T21:59:50.209Z"
   },
   {
    "duration": 6669,
    "start_time": "2024-09-14T22:01:28.705Z"
   },
   {
    "duration": 10,
    "start_time": "2024-09-14T22:01:42.233Z"
   },
   {
    "duration": 7189,
    "start_time": "2024-09-14T22:03:55.384Z"
   },
   {
    "duration": 10,
    "start_time": "2024-09-14T22:04:05.545Z"
   },
   {
    "duration": 6940,
    "start_time": "2024-09-14T22:04:19.887Z"
   },
   {
    "duration": 10,
    "start_time": "2024-09-14T22:04:31.955Z"
   },
   {
    "duration": 1192,
    "start_time": "2024-09-14T22:04:50.624Z"
   },
   {
    "duration": 97,
    "start_time": "2024-09-14T22:04:51.818Z"
   },
   {
    "duration": 783,
    "start_time": "2024-09-14T22:04:51.916Z"
   },
   {
    "duration": 10,
    "start_time": "2024-09-14T22:04:52.701Z"
   },
   {
    "duration": 3,
    "start_time": "2024-09-14T22:04:52.713Z"
   },
   {
    "duration": 9,
    "start_time": "2024-09-14T22:04:52.718Z"
   },
   {
    "duration": 19,
    "start_time": "2024-09-14T22:04:52.729Z"
   },
   {
    "duration": 9034,
    "start_time": "2024-09-14T22:04:52.749Z"
   },
   {
    "duration": 8346,
    "start_time": "2024-09-14T22:05:01.785Z"
   },
   {
    "duration": 7265,
    "start_time": "2024-09-14T22:05:10.134Z"
   },
   {
    "duration": 7255,
    "start_time": "2024-09-14T22:05:17.401Z"
   },
   {
    "duration": 10,
    "start_time": "2024-09-14T22:05:24.658Z"
   },
   {
    "duration": 32,
    "start_time": "2024-09-14T22:05:24.670Z"
   },
   {
    "duration": 1177,
    "start_time": "2024-09-14T22:06:53.050Z"
   },
   {
    "duration": 93,
    "start_time": "2024-09-14T22:06:54.229Z"
   },
   {
    "duration": 746,
    "start_time": "2024-09-14T22:06:54.324Z"
   },
   {
    "duration": 11,
    "start_time": "2024-09-14T22:06:55.072Z"
   },
   {
    "duration": 15,
    "start_time": "2024-09-14T22:06:55.085Z"
   },
   {
    "duration": 11,
    "start_time": "2024-09-14T22:06:55.101Z"
   },
   {
    "duration": 20,
    "start_time": "2024-09-14T22:06:55.114Z"
   },
   {
    "duration": 9103,
    "start_time": "2024-09-14T22:06:55.135Z"
   },
   {
    "duration": 8283,
    "start_time": "2024-09-14T22:07:04.240Z"
   },
   {
    "duration": 9,
    "start_time": "2024-09-14T22:07:12.525Z"
   },
   {
    "duration": 29,
    "start_time": "2024-09-14T22:07:12.536Z"
   },
   {
    "duration": 8,
    "start_time": "2024-09-14T22:10:46.176Z"
   },
   {
    "duration": 9,
    "start_time": "2024-09-14T22:10:47.039Z"
   },
   {
    "duration": 8,
    "start_time": "2024-09-14T22:11:53.253Z"
   },
   {
    "duration": 10,
    "start_time": "2024-09-14T22:11:54.105Z"
   },
   {
    "duration": 99,
    "start_time": "2024-09-14T22:12:34.124Z"
   },
   {
    "duration": 8,
    "start_time": "2024-09-14T22:12:50.193Z"
   },
   {
    "duration": 9,
    "start_time": "2024-09-14T22:12:51.877Z"
   },
   {
    "duration": 17,
    "start_time": "2024-09-14T22:12:54.399Z"
   },
   {
    "duration": 6,
    "start_time": "2024-09-14T22:15:37.866Z"
   },
   {
    "duration": 15,
    "start_time": "2024-09-14T22:15:46.154Z"
   },
   {
    "duration": 19,
    "start_time": "2024-09-14T22:16:17.313Z"
   },
   {
    "duration": 12,
    "start_time": "2024-09-14T22:17:19.033Z"
   },
   {
    "duration": 18,
    "start_time": "2024-09-14T22:17:31.399Z"
   },
   {
    "duration": 1179,
    "start_time": "2024-09-14T22:19:33.010Z"
   },
   {
    "duration": 96,
    "start_time": "2024-09-14T22:19:34.191Z"
   },
   {
    "duration": 750,
    "start_time": "2024-09-14T22:19:34.288Z"
   },
   {
    "duration": 11,
    "start_time": "2024-09-14T22:19:35.041Z"
   },
   {
    "duration": 20,
    "start_time": "2024-09-14T22:19:35.053Z"
   },
   {
    "duration": 20,
    "start_time": "2024-09-14T22:19:35.075Z"
   },
   {
    "duration": 33,
    "start_time": "2024-09-14T22:19:35.097Z"
   },
   {
    "duration": 9113,
    "start_time": "2024-09-14T22:19:35.133Z"
   },
   {
    "duration": 8474,
    "start_time": "2024-09-14T22:19:44.248Z"
   },
   {
    "duration": 8,
    "start_time": "2024-09-14T22:19:52.724Z"
   },
   {
    "duration": 28,
    "start_time": "2024-09-14T22:19:52.733Z"
   },
   {
    "duration": 11,
    "start_time": "2024-09-14T22:19:52.763Z"
   },
   {
    "duration": 20,
    "start_time": "2024-09-14T22:19:52.775Z"
   },
   {
    "duration": 38,
    "start_time": "2024-09-14T22:19:52.798Z"
   },
   {
    "duration": 306,
    "start_time": "2024-09-14T22:23:38.489Z"
   },
   {
    "duration": 13,
    "start_time": "2024-09-14T22:32:08.928Z"
   },
   {
    "duration": 9,
    "start_time": "2024-09-14T22:42:00.914Z"
   },
   {
    "duration": 220,
    "start_time": "2024-09-14T22:45:52.158Z"
   },
   {
    "duration": 12,
    "start_time": "2024-09-14T22:46:25.534Z"
   },
   {
    "duration": 15,
    "start_time": "2024-09-14T22:47:26.878Z"
   },
   {
    "duration": 21,
    "start_time": "2024-09-14T22:47:39.535Z"
   },
   {
    "duration": 3,
    "start_time": "2024-09-14T22:49:53.665Z"
   },
   {
    "duration": 1435,
    "start_time": "2024-09-15T10:41:32.105Z"
   },
   {
    "duration": 218,
    "start_time": "2024-09-15T10:41:33.543Z"
   },
   {
    "duration": 789,
    "start_time": "2024-09-15T10:41:33.764Z"
   },
   {
    "duration": 11,
    "start_time": "2024-09-15T10:41:34.555Z"
   },
   {
    "duration": 15,
    "start_time": "2024-09-15T10:41:34.568Z"
   },
   {
    "duration": 26,
    "start_time": "2024-09-15T10:41:34.585Z"
   },
   {
    "duration": 9604,
    "start_time": "2024-09-15T10:41:34.612Z"
   },
   {
    "duration": 8829,
    "start_time": "2024-09-15T10:41:44.218Z"
   },
   {
    "duration": 16,
    "start_time": "2024-09-15T10:41:53.049Z"
   },
   {
    "duration": 12,
    "start_time": "2024-09-15T10:41:53.067Z"
   },
   {
    "duration": 18,
    "start_time": "2024-09-15T10:41:53.080Z"
   },
   {
    "duration": 25,
    "start_time": "2024-09-15T10:41:53.100Z"
   },
   {
    "duration": 183,
    "start_time": "2024-09-15T10:43:48.133Z"
   },
   {
    "duration": 164,
    "start_time": "2024-09-15T10:45:30.170Z"
   },
   {
    "duration": 164,
    "start_time": "2024-09-15T10:45:41.384Z"
   },
   {
    "duration": 159,
    "start_time": "2024-09-15T10:46:23.470Z"
   },
   {
    "duration": 166,
    "start_time": "2024-09-15T10:47:23.574Z"
   },
   {
    "duration": 154,
    "start_time": "2024-09-15T10:47:39.840Z"
   },
   {
    "duration": 189,
    "start_time": "2024-09-15T10:47:57.644Z"
   },
   {
    "duration": 180,
    "start_time": "2024-09-15T10:48:51.584Z"
   },
   {
    "duration": 171,
    "start_time": "2024-09-15T10:49:14.274Z"
   },
   {
    "duration": 200,
    "start_time": "2024-09-15T10:49:29.078Z"
   },
   {
    "duration": 205,
    "start_time": "2024-09-15T10:50:49.095Z"
   },
   {
    "duration": 217,
    "start_time": "2024-09-15T10:51:00.561Z"
   },
   {
    "duration": 14,
    "start_time": "2024-09-15T10:54:14.561Z"
   },
   {
    "duration": 19,
    "start_time": "2024-09-15T10:55:05.969Z"
   },
   {
    "duration": 19,
    "start_time": "2024-09-15T10:55:17.959Z"
   },
   {
    "duration": 21,
    "start_time": "2024-09-15T10:56:16.279Z"
   },
   {
    "duration": 21,
    "start_time": "2024-09-15T10:57:00.259Z"
   },
   {
    "duration": 19,
    "start_time": "2024-09-15T10:58:30.944Z"
   },
   {
    "duration": 115,
    "start_time": "2024-09-15T11:05:06.927Z"
   },
   {
    "duration": 58,
    "start_time": "2024-09-15T11:06:46.553Z"
   },
   {
    "duration": 61,
    "start_time": "2024-09-15T11:07:45.784Z"
   },
   {
    "duration": 183,
    "start_time": "2024-09-15T11:14:22.231Z"
   },
   {
    "duration": 20,
    "start_time": "2024-09-15T11:15:31.481Z"
   },
   {
    "duration": 304,
    "start_time": "2024-09-15T11:18:11.566Z"
   },
   {
    "duration": 159,
    "start_time": "2024-09-15T11:18:27.852Z"
   },
   {
    "duration": 174,
    "start_time": "2024-09-15T11:18:53.105Z"
   },
   {
    "duration": 182,
    "start_time": "2024-09-15T11:19:00.583Z"
   },
   {
    "duration": 15,
    "start_time": "2024-09-15T11:21:28.383Z"
   },
   {
    "duration": 10,
    "start_time": "2024-09-15T11:23:39.163Z"
   },
   {
    "duration": 18,
    "start_time": "2024-09-15T11:24:38.242Z"
   },
   {
    "duration": 11,
    "start_time": "2024-09-15T11:24:39.963Z"
   },
   {
    "duration": 19,
    "start_time": "2024-09-15T11:25:57.900Z"
   },
   {
    "duration": 31,
    "start_time": "2024-09-15T11:36:17.325Z"
   },
   {
    "duration": 170,
    "start_time": "2024-09-15T11:36:41.345Z"
   },
   {
    "duration": 31,
    "start_time": "2024-09-15T11:37:30.592Z"
   },
   {
    "duration": 23,
    "start_time": "2024-09-15T11:39:08.349Z"
   },
   {
    "duration": 23,
    "start_time": "2024-09-15T11:39:23.107Z"
   },
   {
    "duration": 35,
    "start_time": "2024-09-15T11:39:57.581Z"
   },
   {
    "duration": 21,
    "start_time": "2024-09-15T11:40:08.650Z"
   },
   {
    "duration": 6,
    "start_time": "2024-09-15T11:51:42.095Z"
   },
   {
    "duration": 15,
    "start_time": "2024-09-15T11:51:51.042Z"
   },
   {
    "duration": 12,
    "start_time": "2024-09-15T11:51:59.099Z"
   },
   {
    "duration": 11,
    "start_time": "2024-09-15T11:52:19.744Z"
   },
   {
    "duration": 8,
    "start_time": "2024-09-15T11:52:34.569Z"
   },
   {
    "duration": 8,
    "start_time": "2024-09-15T11:52:47.629Z"
   },
   {
    "duration": 9,
    "start_time": "2024-09-15T11:56:05.445Z"
   },
   {
    "duration": 984,
    "start_time": "2024-09-15T11:56:22.170Z"
   },
   {
    "duration": 42,
    "start_time": "2024-09-15T11:56:54.168Z"
   },
   {
    "duration": 33,
    "start_time": "2024-09-15T11:57:59.726Z"
   },
   {
    "duration": 1125,
    "start_time": "2024-09-15T11:58:18.664Z"
   },
   {
    "duration": 31,
    "start_time": "2024-09-15T11:58:30.954Z"
   },
   {
    "duration": 146,
    "start_time": "2024-09-15T11:58:53.067Z"
   },
   {
    "duration": 188,
    "start_time": "2024-09-15T11:59:34.020Z"
   },
   {
    "duration": 10,
    "start_time": "2024-09-15T12:01:06.125Z"
   },
   {
    "duration": 1079,
    "start_time": "2024-09-15T12:01:16.040Z"
   },
   {
    "duration": 1061,
    "start_time": "2024-09-15T12:01:24.937Z"
   },
   {
    "duration": 1168,
    "start_time": "2024-09-15T12:01:38.345Z"
   },
   {
    "duration": 9,
    "start_time": "2024-09-15T12:02:15.080Z"
   },
   {
    "duration": 1101,
    "start_time": "2024-09-15T12:03:00.288Z"
   },
   {
    "duration": 8,
    "start_time": "2024-09-15T12:03:42.587Z"
   },
   {
    "duration": 2,
    "start_time": "2024-09-15T12:05:29.821Z"
   },
   {
    "duration": 32,
    "start_time": "2024-09-15T12:05:40.170Z"
   },
   {
    "duration": 229,
    "start_time": "2024-09-15T12:05:58.069Z"
   },
   {
    "duration": 394,
    "start_time": "2024-09-15T12:06:24.292Z"
   },
   {
    "duration": 223,
    "start_time": "2024-09-15T12:06:31.302Z"
   },
   {
    "duration": 259,
    "start_time": "2024-09-15T12:35:18.589Z"
   },
   {
    "duration": 250,
    "start_time": "2024-09-15T12:36:14.444Z"
   },
   {
    "duration": 288,
    "start_time": "2024-09-15T12:37:20.378Z"
   },
   {
    "duration": 282,
    "start_time": "2024-09-15T12:38:33.280Z"
   },
   {
    "duration": 304,
    "start_time": "2024-09-15T12:39:04.208Z"
   },
   {
    "duration": 277,
    "start_time": "2024-09-15T12:39:37.169Z"
   },
   {
    "duration": 410,
    "start_time": "2024-09-15T12:39:42.904Z"
   },
   {
    "duration": 21,
    "start_time": "2024-09-15T12:43:55.807Z"
   },
   {
    "duration": 18,
    "start_time": "2024-09-15T12:44:11.790Z"
   },
   {
    "duration": 180,
    "start_time": "2024-09-15T12:44:40.228Z"
   },
   {
    "duration": 174,
    "start_time": "2024-09-15T12:44:44.525Z"
   },
   {
    "duration": 19,
    "start_time": "2024-09-15T12:45:28.520Z"
   },
   {
    "duration": 385,
    "start_time": "2024-09-15T12:45:52.748Z"
   },
   {
    "duration": 17,
    "start_time": "2024-09-15T12:46:34.287Z"
   },
   {
    "duration": 13,
    "start_time": "2024-09-15T12:49:23.364Z"
   },
   {
    "duration": 10,
    "start_time": "2024-09-15T12:49:30.857Z"
   },
   {
    "duration": 8,
    "start_time": "2024-09-15T12:49:36.370Z"
   },
   {
    "duration": 23,
    "start_time": "2024-09-15T12:50:13.422Z"
   },
   {
    "duration": 12,
    "start_time": "2024-09-15T12:50:41.513Z"
   },
   {
    "duration": 17,
    "start_time": "2024-09-15T12:57:44.997Z"
   },
   {
    "duration": 66,
    "start_time": "2024-09-15T13:04:23.454Z"
   },
   {
    "duration": 23,
    "start_time": "2024-09-15T13:04:40.686Z"
   },
   {
    "duration": 19,
    "start_time": "2024-09-15T13:05:52.633Z"
   },
   {
    "duration": 19,
    "start_time": "2024-09-15T13:12:27.239Z"
   },
   {
    "duration": 20,
    "start_time": "2024-09-15T13:12:37.201Z"
   },
   {
    "duration": 53,
    "start_time": "2024-09-15T17:04:58.345Z"
   },
   {
    "duration": 89,
    "start_time": "2024-09-15T17:05:31.449Z"
   },
   {
    "duration": 1530,
    "start_time": "2024-09-15T17:05:31.593Z"
   },
   {
    "duration": 239,
    "start_time": "2024-09-15T17:05:33.125Z"
   },
   {
    "duration": 814,
    "start_time": "2024-09-15T17:05:33.366Z"
   },
   {
    "duration": 15,
    "start_time": "2024-09-15T17:05:34.182Z"
   },
   {
    "duration": 8,
    "start_time": "2024-09-15T17:05:34.200Z"
   },
   {
    "duration": 17,
    "start_time": "2024-09-15T17:05:34.210Z"
   },
   {
    "duration": 9746,
    "start_time": "2024-09-15T17:05:34.229Z"
   },
   {
    "duration": 9080,
    "start_time": "2024-09-15T17:05:43.977Z"
   },
   {
    "duration": 17,
    "start_time": "2024-09-15T17:05:53.059Z"
   },
   {
    "duration": 52,
    "start_time": "2024-09-15T17:05:53.078Z"
   },
   {
    "duration": 38,
    "start_time": "2024-09-15T17:05:53.132Z"
   },
   {
    "duration": 40,
    "start_time": "2024-09-15T17:05:53.173Z"
   },
   {
    "duration": 217,
    "start_time": "2024-09-15T17:05:53.216Z"
   },
   {
    "duration": 199,
    "start_time": "2024-09-15T17:05:53.436Z"
   },
   {
    "duration": 3,
    "start_time": "2024-09-15T17:05:53.637Z"
   },
   {
    "duration": 294,
    "start_time": "2024-09-15T17:05:53.643Z"
   },
   {
    "duration": 1117,
    "start_time": "2024-09-15T17:05:53.939Z"
   },
   {
    "duration": 23,
    "start_time": "2024-09-15T17:06:43.240Z"
   },
   {
    "duration": 28,
    "start_time": "2024-09-15T17:07:16.220Z"
   },
   {
    "duration": 20,
    "start_time": "2024-09-15T17:07:48.989Z"
   },
   {
    "duration": 337,
    "start_time": "2024-09-15T17:09:38.327Z"
   },
   {
    "duration": 332,
    "start_time": "2024-09-15T17:09:50.829Z"
   },
   {
    "duration": 10,
    "start_time": "2024-09-15T17:16:32.678Z"
   },
   {
    "duration": 27,
    "start_time": "2024-09-15T17:17:04.976Z"
   },
   {
    "duration": 33,
    "start_time": "2024-09-15T17:17:26.148Z"
   },
   {
    "duration": 25,
    "start_time": "2024-09-15T17:18:04.361Z"
   },
   {
    "duration": 15,
    "start_time": "2024-09-15T17:20:28.563Z"
   },
   {
    "duration": 23,
    "start_time": "2024-09-15T17:21:29.245Z"
   },
   {
    "duration": 34,
    "start_time": "2024-09-15T17:23:17.022Z"
   },
   {
    "duration": 15,
    "start_time": "2024-09-15T17:35:47.069Z"
   },
   {
    "duration": 439,
    "start_time": "2024-09-15T17:35:53.376Z"
   },
   {
    "duration": 35,
    "start_time": "2024-09-15T17:36:19.389Z"
   },
   {
    "duration": 424,
    "start_time": "2024-09-15T17:36:24.640Z"
   },
   {
    "duration": 43,
    "start_time": "2024-09-15T17:37:45.109Z"
   },
   {
    "duration": 498,
    "start_time": "2024-09-15T17:37:46.284Z"
   },
   {
    "duration": 506,
    "start_time": "2024-09-15T17:41:08.798Z"
   },
   {
    "duration": 12,
    "start_time": "2024-09-15T17:59:38.587Z"
   },
   {
    "duration": 24,
    "start_time": "2024-09-15T17:59:54.025Z"
   },
   {
    "duration": 11,
    "start_time": "2024-09-15T18:01:09.767Z"
   },
   {
    "duration": 13,
    "start_time": "2024-09-15T18:01:23.149Z"
   },
   {
    "duration": 1141,
    "start_time": "2024-09-15T18:15:09.995Z"
   },
   {
    "duration": 458,
    "start_time": "2024-09-15T18:15:30.188Z"
   },
   {
    "duration": 134,
    "start_time": "2024-09-15T18:15:54.637Z"
   },
   {
    "duration": 456,
    "start_time": "2024-09-15T18:16:26.035Z"
   },
   {
    "duration": 313,
    "start_time": "2024-09-15T18:25:18.628Z"
   },
   {
    "duration": 14,
    "start_time": "2024-09-15T18:27:21.812Z"
   },
   {
    "duration": 817,
    "start_time": "2024-09-15T18:27:34.120Z"
   },
   {
    "duration": 485,
    "start_time": "2024-09-15T18:31:06.316Z"
   },
   {
    "duration": 250,
    "start_time": "2024-09-15T18:31:19.548Z"
   },
   {
    "duration": 384,
    "start_time": "2024-09-15T18:34:02.954Z"
   },
   {
    "duration": 258,
    "start_time": "2024-09-15T18:34:12.577Z"
   },
   {
    "duration": 246,
    "start_time": "2024-09-15T18:34:54.754Z"
   },
   {
    "duration": 232,
    "start_time": "2024-09-15T18:35:00.333Z"
   },
   {
    "duration": 349,
    "start_time": "2024-09-15T18:35:16.976Z"
   },
   {
    "duration": 501,
    "start_time": "2024-09-15T18:36:01.058Z"
   },
   {
    "duration": 329,
    "start_time": "2024-09-15T18:36:22.165Z"
   },
   {
    "duration": 392,
    "start_time": "2024-09-15T18:36:33.763Z"
   },
   {
    "duration": 363,
    "start_time": "2024-09-15T18:36:50.320Z"
   },
   {
    "duration": 388,
    "start_time": "2024-09-15T18:37:48.042Z"
   },
   {
    "duration": 36,
    "start_time": "2024-09-15T18:48:45.864Z"
   },
   {
    "duration": 158,
    "start_time": "2024-09-15T18:48:54.643Z"
   },
   {
    "duration": 150,
    "start_time": "2024-09-15T18:49:46.317Z"
   },
   {
    "duration": 284,
    "start_time": "2024-09-15T18:50:09.350Z"
   },
   {
    "duration": 142,
    "start_time": "2024-09-15T18:50:34.235Z"
   },
   {
    "duration": 172,
    "start_time": "2024-09-15T18:52:48.133Z"
   },
   {
    "duration": 164,
    "start_time": "2024-09-15T18:53:55.253Z"
   },
   {
    "duration": 149,
    "start_time": "2024-09-15T18:54:03.442Z"
   },
   {
    "duration": 153,
    "start_time": "2024-09-15T18:54:45.061Z"
   },
   {
    "duration": 167,
    "start_time": "2024-09-15T18:55:39.577Z"
   },
   {
    "duration": 89,
    "start_time": "2024-09-15T18:57:24.269Z"
   },
   {
    "duration": 63,
    "start_time": "2024-09-15T18:57:31.990Z"
   },
   {
    "duration": 64,
    "start_time": "2024-09-15T18:57:40.675Z"
   },
   {
    "duration": 188,
    "start_time": "2024-09-15T18:57:45.552Z"
   },
   {
    "duration": 62,
    "start_time": "2024-09-15T18:57:50.797Z"
   },
   {
    "duration": 149,
    "start_time": "2024-09-15T18:57:56.352Z"
   },
   {
    "duration": 166,
    "start_time": "2024-09-15T18:59:26.900Z"
   },
   {
    "duration": 153,
    "start_time": "2024-09-15T18:59:35.771Z"
   },
   {
    "duration": 167,
    "start_time": "2024-09-15T18:59:37.000Z"
   },
   {
    "duration": 179,
    "start_time": "2024-09-15T18:59:54.943Z"
   },
   {
    "duration": 166,
    "start_time": "2024-09-15T19:00:10.233Z"
   },
   {
    "duration": 155,
    "start_time": "2024-09-15T19:00:32.671Z"
   },
   {
    "duration": 159,
    "start_time": "2024-09-15T19:00:52.619Z"
   },
   {
    "duration": 9,
    "start_time": "2024-09-15T19:03:51.024Z"
   },
   {
    "duration": 7,
    "start_time": "2024-09-15T19:03:58.916Z"
   },
   {
    "duration": 23,
    "start_time": "2024-09-15T19:05:38.955Z"
   },
   {
    "duration": 16,
    "start_time": "2024-09-15T19:07:07.487Z"
   },
   {
    "duration": 20,
    "start_time": "2024-09-15T19:07:22.108Z"
   },
   {
    "duration": 30,
    "start_time": "2024-09-15T19:07:55.221Z"
   },
   {
    "duration": 21,
    "start_time": "2024-09-15T19:08:10.058Z"
   },
   {
    "duration": 12,
    "start_time": "2024-09-15T19:13:45.208Z"
   },
   {
    "duration": 15,
    "start_time": "2024-09-15T19:16:59.350Z"
   },
   {
    "duration": 136,
    "start_time": "2024-09-15T19:17:39.993Z"
   },
   {
    "duration": 45,
    "start_time": "2024-09-15T22:35:05.165Z"
   },
   {
    "duration": 1269,
    "start_time": "2024-09-15T22:35:12.225Z"
   },
   {
    "duration": 234,
    "start_time": "2024-09-15T22:35:13.496Z"
   },
   {
    "duration": 709,
    "start_time": "2024-09-15T22:35:13.731Z"
   },
   {
    "duration": 14,
    "start_time": "2024-09-15T22:35:14.443Z"
   },
   {
    "duration": 18,
    "start_time": "2024-09-15T22:35:14.459Z"
   },
   {
    "duration": 12,
    "start_time": "2024-09-15T22:35:14.480Z"
   },
   {
    "duration": 8768,
    "start_time": "2024-09-15T22:35:14.494Z"
   },
   {
    "duration": 8157,
    "start_time": "2024-09-15T22:35:23.264Z"
   },
   {
    "duration": 15,
    "start_time": "2024-09-15T22:35:31.423Z"
   },
   {
    "duration": 9,
    "start_time": "2024-09-15T22:35:31.441Z"
   },
   {
    "duration": 28,
    "start_time": "2024-09-15T22:35:31.452Z"
   },
   {
    "duration": 34,
    "start_time": "2024-09-15T22:35:31.483Z"
   },
   {
    "duration": 228,
    "start_time": "2024-09-15T22:35:31.519Z"
   },
   {
    "duration": 245,
    "start_time": "2024-09-15T22:35:31.749Z"
   },
   {
    "duration": 3,
    "start_time": "2024-09-15T22:35:31.996Z"
   },
   {
    "duration": 341,
    "start_time": "2024-09-15T22:35:32.000Z"
   },
   {
    "duration": 36,
    "start_time": "2024-09-15T22:35:32.343Z"
   },
   {
    "duration": 33,
    "start_time": "2024-09-15T22:35:32.381Z"
   },
   {
    "duration": 21,
    "start_time": "2024-09-15T22:35:32.416Z"
   },
   {
    "duration": 75,
    "start_time": "2024-09-15T22:35:32.439Z"
   },
   {
    "duration": 487,
    "start_time": "2024-09-15T22:35:32.516Z"
   },
   {
    "duration": 372,
    "start_time": "2024-09-15T22:35:33.006Z"
   },
   {
    "duration": 197,
    "start_time": "2024-09-15T22:35:33.379Z"
   },
   {
    "duration": 133,
    "start_time": "2024-09-15T22:35:33.577Z"
   },
   {
    "duration": 22,
    "start_time": "2024-09-15T22:35:33.711Z"
   },
   {
    "duration": 18,
    "start_time": "2024-09-15T22:35:33.735Z"
   },
   {
    "duration": 158,
    "start_time": "2024-09-15T22:35:33.755Z"
   },
   {
    "duration": 0,
    "start_time": "2024-09-15T22:35:33.915Z"
   },
   {
    "duration": 0,
    "start_time": "2024-09-15T22:35:33.917Z"
   },
   {
    "duration": 20,
    "start_time": "2024-09-15T22:36:06.081Z"
   },
   {
    "duration": 21,
    "start_time": "2024-09-15T22:36:37.192Z"
   },
   {
    "duration": 147,
    "start_time": "2024-09-15T22:37:27.845Z"
   },
   {
    "duration": 14,
    "start_time": "2024-09-15T22:38:56.084Z"
   },
   {
    "duration": 18,
    "start_time": "2024-09-15T22:39:02.594Z"
   },
   {
    "duration": 14,
    "start_time": "2024-09-15T22:39:04.406Z"
   },
   {
    "duration": 117,
    "start_time": "2024-09-15T22:39:06.083Z"
   },
   {
    "duration": 208,
    "start_time": "2024-09-15T22:39:17.059Z"
   },
   {
    "duration": 155,
    "start_time": "2024-09-15T22:40:40.929Z"
   },
   {
    "duration": 175,
    "start_time": "2024-09-15T22:41:35.704Z"
   },
   {
    "duration": 10,
    "start_time": "2024-09-15T22:41:52.763Z"
   },
   {
    "duration": 188,
    "start_time": "2024-09-15T22:42:01.057Z"
   },
   {
    "duration": 174,
    "start_time": "2024-09-15T22:42:06.223Z"
   },
   {
    "duration": 249,
    "start_time": "2024-09-15T22:42:32.441Z"
   },
   {
    "duration": 187,
    "start_time": "2024-09-15T22:42:43.604Z"
   },
   {
    "duration": 18,
    "start_time": "2024-09-15T22:43:51.216Z"
   },
   {
    "duration": 194,
    "start_time": "2024-09-15T22:44:02.744Z"
   },
   {
    "duration": 183,
    "start_time": "2024-09-15T22:44:37.098Z"
   },
   {
    "duration": 205,
    "start_time": "2024-09-15T22:45:41.381Z"
   },
   {
    "duration": 254,
    "start_time": "2024-09-15T22:46:47.798Z"
   },
   {
    "duration": 189,
    "start_time": "2024-09-15T22:47:06.492Z"
   },
   {
    "duration": 265,
    "start_time": "2024-09-15T22:48:07.170Z"
   },
   {
    "duration": 213,
    "start_time": "2024-09-15T22:48:29.165Z"
   },
   {
    "duration": 207,
    "start_time": "2024-09-15T22:51:08.390Z"
   },
   {
    "duration": 225,
    "start_time": "2024-09-15T22:52:28.185Z"
   },
   {
    "duration": 180,
    "start_time": "2024-09-15T22:53:27.918Z"
   },
   {
    "duration": 22,
    "start_time": "2024-09-15T22:57:07.485Z"
   },
   {
    "duration": 28,
    "start_time": "2024-09-15T23:01:11.819Z"
   },
   {
    "duration": 31,
    "start_time": "2024-09-15T23:01:47.183Z"
   },
   {
    "duration": 11,
    "start_time": "2024-09-15T23:12:06.379Z"
   },
   {
    "duration": 10,
    "start_time": "2024-09-15T23:14:48.048Z"
   },
   {
    "duration": 6,
    "start_time": "2024-09-15T23:15:02.788Z"
   },
   {
    "duration": 9,
    "start_time": "2024-09-15T23:17:52.786Z"
   },
   {
    "duration": 11,
    "start_time": "2024-09-15T23:20:31.771Z"
   },
   {
    "duration": 5,
    "start_time": "2024-09-15T23:21:15.712Z"
   },
   {
    "duration": 11,
    "start_time": "2024-09-15T23:21:19.102Z"
   },
   {
    "duration": 5,
    "start_time": "2024-09-15T23:21:20.026Z"
   },
   {
    "duration": 5,
    "start_time": "2024-09-15T23:21:56.388Z"
   },
   {
    "duration": 1534,
    "start_time": "2024-09-16T14:47:17.385Z"
   },
   {
    "duration": 248,
    "start_time": "2024-09-16T14:47:18.921Z"
   },
   {
    "duration": 818,
    "start_time": "2024-09-16T14:47:19.171Z"
   },
   {
    "duration": 11,
    "start_time": "2024-09-16T14:47:19.991Z"
   },
   {
    "duration": 12,
    "start_time": "2024-09-16T14:47:20.004Z"
   },
   {
    "duration": 19,
    "start_time": "2024-09-16T14:47:20.018Z"
   },
   {
    "duration": 10006,
    "start_time": "2024-09-16T14:47:20.039Z"
   },
   {
    "duration": 9637,
    "start_time": "2024-09-16T14:47:30.047Z"
   },
   {
    "duration": 19,
    "start_time": "2024-09-16T14:47:39.685Z"
   },
   {
    "duration": 10,
    "start_time": "2024-09-16T14:47:39.706Z"
   },
   {
    "duration": 6,
    "start_time": "2024-09-16T14:47:39.718Z"
   },
   {
    "duration": 60,
    "start_time": "2024-09-16T14:47:39.726Z"
   },
   {
    "duration": 216,
    "start_time": "2024-09-16T14:47:39.789Z"
   },
   {
    "duration": 212,
    "start_time": "2024-09-16T14:47:40.007Z"
   },
   {
    "duration": 3,
    "start_time": "2024-09-16T14:47:40.220Z"
   },
   {
    "duration": 367,
    "start_time": "2024-09-16T14:47:40.225Z"
   },
   {
    "duration": 20,
    "start_time": "2024-09-16T14:47:40.593Z"
   },
   {
    "duration": 56,
    "start_time": "2024-09-16T14:47:40.615Z"
   },
   {
    "duration": 15,
    "start_time": "2024-09-16T14:47:40.673Z"
   },
   {
    "duration": 41,
    "start_time": "2024-09-16T14:47:40.690Z"
   },
   {
    "duration": 509,
    "start_time": "2024-09-16T14:47:40.733Z"
   },
   {
    "duration": 385,
    "start_time": "2024-09-16T14:47:41.244Z"
   },
   {
    "duration": 162,
    "start_time": "2024-09-16T14:47:41.631Z"
   },
   {
    "duration": 134,
    "start_time": "2024-09-16T14:47:41.795Z"
   },
   {
    "duration": 39,
    "start_time": "2024-09-16T14:47:41.930Z"
   },
   {
    "duration": 216,
    "start_time": "2024-09-16T14:47:41.970Z"
   },
   {
    "duration": 222,
    "start_time": "2024-09-16T14:47:42.188Z"
   },
   {
    "duration": 349,
    "start_time": "2024-09-16T14:47:42.414Z"
   },
   {
    "duration": 217,
    "start_time": "2024-09-16T14:47:42.765Z"
   },
   {
    "duration": 221,
    "start_time": "2024-09-16T14:47:42.983Z"
   },
   {
    "duration": 222,
    "start_time": "2024-09-16T14:47:43.206Z"
   },
   {
    "duration": 33,
    "start_time": "2024-09-16T14:47:43.430Z"
   },
   {
    "duration": 20,
    "start_time": "2024-09-16T14:47:43.469Z"
   },
   {
    "duration": 19,
    "start_time": "2024-09-16T14:47:43.491Z"
   },
   {
    "duration": 10,
    "start_time": "2024-09-16T14:47:43.512Z"
   },
   {
    "duration": 26,
    "start_time": "2024-09-16T14:47:43.524Z"
   },
   {
    "duration": 20,
    "start_time": "2024-09-16T14:47:43.551Z"
   },
   {
    "duration": 7,
    "start_time": "2024-09-16T14:47:43.572Z"
   },
   {
    "duration": 316,
    "start_time": "2024-09-16T14:48:48.319Z"
   },
   {
    "duration": 327,
    "start_time": "2024-09-16T14:48:57.721Z"
   },
   {
    "duration": 331,
    "start_time": "2024-09-16T14:49:06.024Z"
   },
   {
    "duration": 435,
    "start_time": "2024-09-16T14:49:13.785Z"
   },
   {
    "duration": 356,
    "start_time": "2024-09-16T14:49:32.916Z"
   },
   {
    "duration": 15,
    "start_time": "2024-09-16T15:00:46.670Z"
   },
   {
    "duration": 1109,
    "start_time": "2024-09-16T15:11:49.801Z"
   },
   {
    "duration": 996,
    "start_time": "2024-09-16T15:12:14.047Z"
   },
   {
    "duration": 1041,
    "start_time": "2024-09-16T15:12:28.028Z"
   },
   {
    "duration": 19,
    "start_time": "2024-09-16T15:21:17.422Z"
   },
   {
    "duration": 401,
    "start_time": "2024-09-16T15:31:31.300Z"
   },
   {
    "duration": 361,
    "start_time": "2024-09-16T15:31:55.829Z"
   },
   {
    "duration": 206,
    "start_time": "2024-09-16T15:59:14.694Z"
   },
   {
    "duration": 204,
    "start_time": "2024-09-16T16:01:16.791Z"
   },
   {
    "duration": 206,
    "start_time": "2024-09-16T16:01:43.090Z"
   },
   {
    "duration": 628,
    "start_time": "2024-09-16T16:03:49.250Z"
   },
   {
    "duration": 455,
    "start_time": "2024-09-16T16:03:57.424Z"
   },
   {
    "duration": 365,
    "start_time": "2024-09-16T16:04:52.303Z"
   },
   {
    "duration": 149,
    "start_time": "2024-09-16T16:06:27.774Z"
   },
   {
    "duration": 140,
    "start_time": "2024-09-16T16:06:50.351Z"
   },
   {
    "duration": 230,
    "start_time": "2024-09-16T16:08:09.510Z"
   },
   {
    "duration": 139,
    "start_time": "2024-09-16T16:08:38.799Z"
   },
   {
    "duration": 148,
    "start_time": "2024-09-16T16:08:52.039Z"
   },
   {
    "duration": 177,
    "start_time": "2024-09-16T16:09:18.897Z"
   },
   {
    "duration": 195,
    "start_time": "2024-09-16T16:09:26.967Z"
   },
   {
    "duration": 289,
    "start_time": "2024-09-16T16:09:39.754Z"
   },
   {
    "duration": 188,
    "start_time": "2024-09-16T16:10:52.658Z"
   },
   {
    "duration": 203,
    "start_time": "2024-09-16T16:12:29.845Z"
   },
   {
    "duration": 235,
    "start_time": "2024-09-16T16:13:05.645Z"
   },
   {
    "duration": 208,
    "start_time": "2024-09-16T16:13:20.130Z"
   },
   {
    "duration": 224,
    "start_time": "2024-09-16T16:13:33.184Z"
   },
   {
    "duration": 227,
    "start_time": "2024-09-16T16:13:44.746Z"
   },
   {
    "duration": 204,
    "start_time": "2024-09-16T16:13:58.218Z"
   },
   {
    "duration": 209,
    "start_time": "2024-09-16T16:14:06.122Z"
   },
   {
    "duration": 42,
    "start_time": "2024-09-17T13:02:55.018Z"
   },
   {
    "duration": 1308,
    "start_time": "2024-09-17T13:03:03.099Z"
   },
   {
    "duration": 215,
    "start_time": "2024-09-17T13:03:04.409Z"
   },
   {
    "duration": 731,
    "start_time": "2024-09-17T13:03:04.626Z"
   },
   {
    "duration": 8,
    "start_time": "2024-09-17T13:03:05.360Z"
   },
   {
    "duration": 31,
    "start_time": "2024-09-17T13:03:05.370Z"
   },
   {
    "duration": 36,
    "start_time": "2024-09-17T13:03:05.402Z"
   },
   {
    "duration": 7634,
    "start_time": "2024-09-17T13:03:05.440Z"
   },
   {
    "duration": 7225,
    "start_time": "2024-09-17T13:03:13.075Z"
   },
   {
    "duration": 15,
    "start_time": "2024-09-17T13:03:20.302Z"
   },
   {
    "duration": 8,
    "start_time": "2024-09-17T13:03:20.320Z"
   },
   {
    "duration": 6,
    "start_time": "2024-09-17T13:03:20.329Z"
   },
   {
    "duration": 19,
    "start_time": "2024-09-17T13:03:20.336Z"
   },
   {
    "duration": 178,
    "start_time": "2024-09-17T13:03:20.356Z"
   },
   {
    "duration": 163,
    "start_time": "2024-09-17T13:03:20.536Z"
   },
   {
    "duration": 7,
    "start_time": "2024-09-17T13:03:20.700Z"
   },
   {
    "duration": 816,
    "start_time": "2024-09-17T13:03:20.708Z"
   },
   {
    "duration": 21,
    "start_time": "2024-09-17T13:03:21.526Z"
   },
   {
    "duration": 27,
    "start_time": "2024-09-17T13:03:21.549Z"
   },
   {
    "duration": 36,
    "start_time": "2024-09-17T13:03:21.578Z"
   },
   {
    "duration": 24,
    "start_time": "2024-09-17T13:03:21.616Z"
   },
   {
    "duration": 419,
    "start_time": "2024-09-17T13:03:21.642Z"
   },
   {
    "duration": 334,
    "start_time": "2024-09-17T13:03:22.062Z"
   },
   {
    "duration": 126,
    "start_time": "2024-09-17T13:03:22.398Z"
   },
   {
    "duration": 143,
    "start_time": "2024-09-17T13:03:22.525Z"
   },
   {
    "duration": 180,
    "start_time": "2024-09-17T13:03:22.669Z"
   },
   {
    "duration": 226,
    "start_time": "2024-09-17T13:03:22.850Z"
   },
   {
    "duration": 240,
    "start_time": "2024-09-17T13:03:23.077Z"
   },
   {
    "duration": 219,
    "start_time": "2024-09-17T13:03:23.321Z"
   },
   {
    "duration": 189,
    "start_time": "2024-09-17T13:03:23.542Z"
   },
   {
    "duration": 228,
    "start_time": "2024-09-17T13:03:23.733Z"
   },
   {
    "duration": 163,
    "start_time": "2024-09-17T13:03:23.962Z"
   },
   {
    "duration": 19,
    "start_time": "2024-09-17T13:03:24.127Z"
   },
   {
    "duration": 15,
    "start_time": "2024-09-17T13:03:24.148Z"
   },
   {
    "duration": 1370,
    "start_time": "2024-09-17T13:03:24.164Z"
   },
   {
    "duration": 0,
    "start_time": "2024-09-17T13:03:25.536Z"
   },
   {
    "duration": 0,
    "start_time": "2024-09-17T13:03:25.538Z"
   },
   {
    "duration": 0,
    "start_time": "2024-09-17T13:03:25.539Z"
   },
   {
    "duration": 0,
    "start_time": "2024-09-17T13:03:25.540Z"
   },
   {
    "duration": 202,
    "start_time": "2024-09-17T13:05:01.283Z"
   },
   {
    "duration": 23,
    "start_time": "2024-09-17T13:05:51.814Z"
   },
   {
    "duration": 30,
    "start_time": "2024-09-17T13:06:01.710Z"
   },
   {
    "duration": 192,
    "start_time": "2024-09-17T13:06:18.956Z"
   },
   {
    "duration": 168,
    "start_time": "2024-09-17T13:07:09.573Z"
   },
   {
    "duration": 262,
    "start_time": "2024-09-17T13:08:04.575Z"
   },
   {
    "duration": 173,
    "start_time": "2024-09-17T13:09:40.318Z"
   },
   {
    "duration": 10,
    "start_time": "2024-09-17T13:20:38.509Z"
   },
   {
    "duration": 5,
    "start_time": "2024-09-17T13:20:38.635Z"
   },
   {
    "duration": 10,
    "start_time": "2024-09-17T13:20:38.753Z"
   },
   {
    "duration": 5,
    "start_time": "2024-09-17T13:20:38.858Z"
   },
   {
    "duration": 1197,
    "start_time": "2024-09-17T14:29:03.283Z"
   },
   {
    "duration": 93,
    "start_time": "2024-09-17T14:29:04.482Z"
   },
   {
    "duration": 741,
    "start_time": "2024-09-17T14:29:04.576Z"
   },
   {
    "duration": 10,
    "start_time": "2024-09-17T14:29:05.319Z"
   },
   {
    "duration": 15,
    "start_time": "2024-09-17T14:29:05.330Z"
   },
   {
    "duration": 10,
    "start_time": "2024-09-17T14:29:05.347Z"
   },
   {
    "duration": 8871,
    "start_time": "2024-09-17T14:29:05.359Z"
   },
   {
    "duration": 8177,
    "start_time": "2024-09-17T14:29:14.232Z"
   },
   {
    "duration": 17,
    "start_time": "2024-09-17T14:29:22.411Z"
   },
   {
    "duration": 9,
    "start_time": "2024-09-17T14:29:22.430Z"
   },
   {
    "duration": 5,
    "start_time": "2024-09-17T14:29:22.453Z"
   },
   {
    "duration": 19,
    "start_time": "2024-09-17T14:29:22.460Z"
   },
   {
    "duration": 214,
    "start_time": "2024-09-17T14:29:22.480Z"
   },
   {
    "duration": 207,
    "start_time": "2024-09-17T14:29:22.696Z"
   },
   {
    "duration": 3,
    "start_time": "2024-09-17T14:29:22.905Z"
   },
   {
    "duration": 917,
    "start_time": "2024-09-17T14:29:22.910Z"
   },
   {
    "duration": 26,
    "start_time": "2024-09-17T14:29:23.828Z"
   },
   {
    "duration": 22,
    "start_time": "2024-09-17T14:29:23.855Z"
   },
   {
    "duration": 13,
    "start_time": "2024-09-17T14:29:23.879Z"
   },
   {
    "duration": 31,
    "start_time": "2024-09-17T14:29:23.893Z"
   },
   {
    "duration": 442,
    "start_time": "2024-09-17T14:29:23.925Z"
   },
   {
    "duration": 350,
    "start_time": "2024-09-17T14:29:24.368Z"
   },
   {
    "duration": 218,
    "start_time": "2024-09-17T14:29:24.719Z"
   },
   {
    "duration": 129,
    "start_time": "2024-09-17T14:29:24.939Z"
   },
   {
    "duration": 174,
    "start_time": "2024-09-17T14:29:25.069Z"
   },
   {
    "duration": 202,
    "start_time": "2024-09-17T14:29:25.245Z"
   },
   {
    "duration": 195,
    "start_time": "2024-09-17T14:29:25.448Z"
   },
   {
    "duration": 199,
    "start_time": "2024-09-17T14:29:25.658Z"
   },
   {
    "duration": 194,
    "start_time": "2024-09-17T14:29:25.859Z"
   },
   {
    "duration": 195,
    "start_time": "2024-09-17T14:29:26.055Z"
   },
   {
    "duration": 202,
    "start_time": "2024-09-17T14:29:26.252Z"
   },
   {
    "duration": 227,
    "start_time": "2024-09-17T14:29:26.455Z"
   },
   {
    "duration": 241,
    "start_time": "2024-09-17T14:29:26.683Z"
   },
   {
    "duration": 204,
    "start_time": "2024-09-17T14:29:26.926Z"
   },
   {
    "duration": 10,
    "start_time": "2024-09-17T14:29:27.131Z"
   },
   {
    "duration": 5,
    "start_time": "2024-09-17T14:29:27.152Z"
   },
   {
    "duration": 33,
    "start_time": "2024-09-17T14:29:27.159Z"
   },
   {
    "duration": 4,
    "start_time": "2024-09-17T14:29:27.193Z"
   },
   {
    "duration": 80,
    "start_time": "2024-09-17T16:39:43.506Z"
   },
   {
    "duration": 26,
    "start_time": "2024-09-17T16:57:10.217Z"
   },
   {
    "duration": 25,
    "start_time": "2024-09-17T16:58:04.585Z"
   },
   {
    "duration": 21,
    "start_time": "2024-09-17T17:42:55.439Z"
   },
   {
    "duration": 4,
    "start_time": "2024-09-17T17:43:14.622Z"
   },
   {
    "duration": 1307,
    "start_time": "2024-09-17T21:08:31.677Z"
   },
   {
    "duration": 222,
    "start_time": "2024-09-17T21:08:32.986Z"
   },
   {
    "duration": 824,
    "start_time": "2024-09-17T21:08:33.209Z"
   },
   {
    "duration": 0,
    "start_time": "2024-09-17T21:08:34.036Z"
   },
   {
    "duration": 0,
    "start_time": "2024-09-17T21:08:34.037Z"
   },
   {
    "duration": 0,
    "start_time": "2024-09-17T21:08:34.053Z"
   },
   {
    "duration": 0,
    "start_time": "2024-09-17T21:08:34.054Z"
   },
   {
    "duration": 0,
    "start_time": "2024-09-17T21:08:34.055Z"
   },
   {
    "duration": 0,
    "start_time": "2024-09-17T21:08:34.056Z"
   },
   {
    "duration": 0,
    "start_time": "2024-09-17T21:08:34.057Z"
   },
   {
    "duration": 0,
    "start_time": "2024-09-17T21:08:34.058Z"
   },
   {
    "duration": 0,
    "start_time": "2024-09-17T21:08:34.059Z"
   },
   {
    "duration": 0,
    "start_time": "2024-09-17T21:08:34.060Z"
   },
   {
    "duration": 0,
    "start_time": "2024-09-17T21:08:34.062Z"
   },
   {
    "duration": 0,
    "start_time": "2024-09-17T21:08:34.062Z"
   },
   {
    "duration": 0,
    "start_time": "2024-09-17T21:08:34.063Z"
   },
   {
    "duration": 0,
    "start_time": "2024-09-17T21:08:34.064Z"
   },
   {
    "duration": 0,
    "start_time": "2024-09-17T21:08:34.065Z"
   },
   {
    "duration": 0,
    "start_time": "2024-09-17T21:08:34.066Z"
   },
   {
    "duration": 0,
    "start_time": "2024-09-17T21:08:34.067Z"
   },
   {
    "duration": 0,
    "start_time": "2024-09-17T21:08:34.068Z"
   },
   {
    "duration": 0,
    "start_time": "2024-09-17T21:08:34.069Z"
   },
   {
    "duration": 0,
    "start_time": "2024-09-17T21:08:34.070Z"
   },
   {
    "duration": 0,
    "start_time": "2024-09-17T21:08:34.071Z"
   },
   {
    "duration": 0,
    "start_time": "2024-09-17T21:08:34.072Z"
   },
   {
    "duration": 0,
    "start_time": "2024-09-17T21:08:34.073Z"
   },
   {
    "duration": 0,
    "start_time": "2024-09-17T21:08:34.074Z"
   },
   {
    "duration": 0,
    "start_time": "2024-09-17T21:08:34.075Z"
   },
   {
    "duration": 0,
    "start_time": "2024-09-17T21:08:34.076Z"
   },
   {
    "duration": 0,
    "start_time": "2024-09-17T21:08:34.077Z"
   },
   {
    "duration": 0,
    "start_time": "2024-09-17T21:08:34.079Z"
   },
   {
    "duration": 0,
    "start_time": "2024-09-17T21:08:34.080Z"
   },
   {
    "duration": 0,
    "start_time": "2024-09-17T21:08:34.081Z"
   },
   {
    "duration": 0,
    "start_time": "2024-09-17T21:08:34.082Z"
   },
   {
    "duration": 0,
    "start_time": "2024-09-17T21:08:34.083Z"
   },
   {
    "duration": 0,
    "start_time": "2024-09-17T21:08:34.084Z"
   },
   {
    "duration": 0,
    "start_time": "2024-09-17T21:08:34.085Z"
   },
   {
    "duration": 0,
    "start_time": "2024-09-17T21:08:34.086Z"
   },
   {
    "duration": 0,
    "start_time": "2024-09-17T21:08:34.088Z"
   },
   {
    "duration": 0,
    "start_time": "2024-09-17T21:08:34.089Z"
   },
   {
    "duration": 0,
    "start_time": "2024-09-17T21:08:34.090Z"
   },
   {
    "duration": 726,
    "start_time": "2024-09-17T21:08:45.637Z"
   },
   {
    "duration": 766,
    "start_time": "2024-09-17T21:11:44.610Z"
   },
   {
    "duration": 55,
    "start_time": "2024-09-19T00:53:08.265Z"
   },
   {
    "duration": 1310,
    "start_time": "2024-09-19T00:53:13.877Z"
   },
   {
    "duration": 205,
    "start_time": "2024-09-19T00:53:15.189Z"
   },
   {
    "duration": 735,
    "start_time": "2024-09-19T00:53:15.396Z"
   },
   {
    "duration": 20,
    "start_time": "2024-09-19T00:53:16.133Z"
   },
   {
    "duration": 10,
    "start_time": "2024-09-19T00:53:16.154Z"
   },
   {
    "duration": 97,
    "start_time": "2024-09-19T00:53:16.166Z"
   },
   {
    "duration": 0,
    "start_time": "2024-09-19T00:53:16.266Z"
   },
   {
    "duration": 0,
    "start_time": "2024-09-19T00:53:16.267Z"
   },
   {
    "duration": 0,
    "start_time": "2024-09-19T00:53:16.268Z"
   },
   {
    "duration": 0,
    "start_time": "2024-09-19T00:53:16.269Z"
   },
   {
    "duration": 0,
    "start_time": "2024-09-19T00:53:16.271Z"
   },
   {
    "duration": 0,
    "start_time": "2024-09-19T00:53:16.272Z"
   },
   {
    "duration": 0,
    "start_time": "2024-09-19T00:53:16.273Z"
   },
   {
    "duration": 0,
    "start_time": "2024-09-19T00:53:16.274Z"
   },
   {
    "duration": 0,
    "start_time": "2024-09-19T00:53:16.276Z"
   },
   {
    "duration": 0,
    "start_time": "2024-09-19T00:53:16.277Z"
   },
   {
    "duration": 0,
    "start_time": "2024-09-19T00:53:16.278Z"
   },
   {
    "duration": 0,
    "start_time": "2024-09-19T00:53:16.279Z"
   },
   {
    "duration": 0,
    "start_time": "2024-09-19T00:53:16.280Z"
   },
   {
    "duration": 0,
    "start_time": "2024-09-19T00:53:16.281Z"
   },
   {
    "duration": 0,
    "start_time": "2024-09-19T00:53:16.283Z"
   },
   {
    "duration": 0,
    "start_time": "2024-09-19T00:53:16.284Z"
   },
   {
    "duration": 0,
    "start_time": "2024-09-19T00:53:16.285Z"
   },
   {
    "duration": 0,
    "start_time": "2024-09-19T00:53:16.287Z"
   },
   {
    "duration": 0,
    "start_time": "2024-09-19T00:53:16.288Z"
   },
   {
    "duration": 0,
    "start_time": "2024-09-19T00:53:16.289Z"
   },
   {
    "duration": 0,
    "start_time": "2024-09-19T00:53:16.291Z"
   },
   {
    "duration": 0,
    "start_time": "2024-09-19T00:53:16.292Z"
   },
   {
    "duration": 0,
    "start_time": "2024-09-19T00:53:16.293Z"
   },
   {
    "duration": 0,
    "start_time": "2024-09-19T00:53:16.294Z"
   },
   {
    "duration": 0,
    "start_time": "2024-09-19T00:53:16.295Z"
   },
   {
    "duration": 0,
    "start_time": "2024-09-19T00:53:16.296Z"
   },
   {
    "duration": 1,
    "start_time": "2024-09-19T00:53:16.297Z"
   },
   {
    "duration": 0,
    "start_time": "2024-09-19T00:53:16.353Z"
   },
   {
    "duration": 0,
    "start_time": "2024-09-19T00:53:16.354Z"
   },
   {
    "duration": 0,
    "start_time": "2024-09-19T00:53:16.355Z"
   },
   {
    "duration": 0,
    "start_time": "2024-09-19T00:53:16.357Z"
   },
   {
    "duration": 0,
    "start_time": "2024-09-19T00:53:16.358Z"
   },
   {
    "duration": 0,
    "start_time": "2024-09-19T00:53:16.359Z"
   },
   {
    "duration": 0,
    "start_time": "2024-09-19T00:53:16.360Z"
   },
   {
    "duration": 0,
    "start_time": "2024-09-19T00:53:16.361Z"
   },
   {
    "duration": 0,
    "start_time": "2024-09-19T00:53:16.362Z"
   },
   {
    "duration": 24,
    "start_time": "2024-09-19T00:54:30.296Z"
   },
   {
    "duration": 1364,
    "start_time": "2024-09-19T01:01:54.583Z"
   },
   {
    "duration": 10,
    "start_time": "2024-09-19T01:03:49.325Z"
   },
   {
    "duration": 11,
    "start_time": "2024-09-19T01:05:22.837Z"
   },
   {
    "duration": 11,
    "start_time": "2024-09-19T01:05:30.472Z"
   },
   {
    "duration": 15,
    "start_time": "2024-09-19T01:05:41.052Z"
   },
   {
    "duration": 14,
    "start_time": "2024-09-19T01:08:32.059Z"
   },
   {
    "duration": 7,
    "start_time": "2024-09-19T01:11:00.340Z"
   },
   {
    "duration": 5,
    "start_time": "2024-09-19T01:11:24.863Z"
   },
   {
    "duration": 4,
    "start_time": "2024-09-19T01:13:41.117Z"
   },
   {
    "duration": 5,
    "start_time": "2024-09-19T01:15:43.653Z"
   },
   {
    "duration": 1155,
    "start_time": "2024-09-19T01:18:51.618Z"
   },
   {
    "duration": 92,
    "start_time": "2024-09-19T01:18:52.775Z"
   },
   {
    "duration": 729,
    "start_time": "2024-09-19T01:18:52.869Z"
   },
   {
    "duration": 9,
    "start_time": "2024-09-19T01:18:53.600Z"
   },
   {
    "duration": 9,
    "start_time": "2024-09-19T01:18:53.612Z"
   },
   {
    "duration": 31,
    "start_time": "2024-09-19T01:18:53.623Z"
   },
   {
    "duration": 12,
    "start_time": "2024-09-19T01:18:53.656Z"
   },
   {
    "duration": 24,
    "start_time": "2024-09-19T01:18:53.670Z"
   },
   {
    "duration": 35,
    "start_time": "2024-09-19T01:18:53.696Z"
   },
   {
    "duration": 11,
    "start_time": "2024-09-19T01:18:53.733Z"
   },
   {
    "duration": 9044,
    "start_time": "2024-09-19T01:18:53.746Z"
   },
   {
    "duration": 8433,
    "start_time": "2024-09-19T01:19:02.792Z"
   },
   {
    "duration": 15,
    "start_time": "2024-09-19T01:19:11.227Z"
   },
   {
    "duration": 9,
    "start_time": "2024-09-19T01:19:11.252Z"
   },
   {
    "duration": 4,
    "start_time": "2024-09-19T01:19:11.263Z"
   },
   {
    "duration": 13,
    "start_time": "2024-09-19T01:19:11.269Z"
   },
   {
    "duration": 99,
    "start_time": "2024-09-19T01:19:11.284Z"
   },
   {
    "duration": 205,
    "start_time": "2024-09-19T01:19:11.385Z"
   },
   {
    "duration": 188,
    "start_time": "2024-09-19T01:19:11.592Z"
   },
   {
    "duration": 2,
    "start_time": "2024-09-19T01:19:11.782Z"
   },
   {
    "duration": 920,
    "start_time": "2024-09-19T01:19:11.786Z"
   },
   {
    "duration": 20,
    "start_time": "2024-09-19T01:19:12.708Z"
   },
   {
    "duration": 38,
    "start_time": "2024-09-19T01:19:12.729Z"
   },
   {
    "duration": 21,
    "start_time": "2024-09-19T01:19:12.769Z"
   },
   {
    "duration": 14,
    "start_time": "2024-09-19T01:19:12.792Z"
   },
   {
    "duration": 52,
    "start_time": "2024-09-19T01:19:12.807Z"
   },
   {
    "duration": 406,
    "start_time": "2024-09-19T01:19:12.861Z"
   },
   {
    "duration": 352,
    "start_time": "2024-09-19T01:19:13.269Z"
   },
   {
    "duration": 237,
    "start_time": "2024-09-19T01:19:13.624Z"
   },
   {
    "duration": 143,
    "start_time": "2024-09-19T01:19:13.863Z"
   },
   {
    "duration": 179,
    "start_time": "2024-09-19T01:19:14.008Z"
   },
   {
    "duration": 201,
    "start_time": "2024-09-19T01:19:14.188Z"
   },
   {
    "duration": 218,
    "start_time": "2024-09-19T01:19:14.391Z"
   },
   {
    "duration": 193,
    "start_time": "2024-09-19T01:19:14.610Z"
   },
   {
    "duration": 196,
    "start_time": "2024-09-19T01:19:14.805Z"
   },
   {
    "duration": 201,
    "start_time": "2024-09-19T01:19:15.003Z"
   },
   {
    "duration": 197,
    "start_time": "2024-09-19T01:19:15.206Z"
   },
   {
    "duration": 236,
    "start_time": "2024-09-19T01:19:15.404Z"
   },
   {
    "duration": 246,
    "start_time": "2024-09-19T01:19:15.641Z"
   },
   {
    "duration": 202,
    "start_time": "2024-09-19T01:19:15.889Z"
   },
   {
    "duration": 12,
    "start_time": "2024-09-19T01:19:16.094Z"
   },
   {
    "duration": 24,
    "start_time": "2024-09-19T01:19:16.107Z"
   },
   {
    "duration": 28,
    "start_time": "2024-09-19T01:19:16.132Z"
   },
   {
    "duration": 24,
    "start_time": "2024-09-19T01:19:16.162Z"
   },
   {
    "duration": 25,
    "start_time": "2024-09-19T01:19:16.188Z"
   },
   {
    "duration": 288,
    "start_time": "2024-09-19T01:20:09.184Z"
   },
   {
    "duration": 270,
    "start_time": "2024-09-19T01:21:48.635Z"
   },
   {
    "duration": 227,
    "start_time": "2024-09-19T01:22:27.045Z"
   },
   {
    "duration": 224,
    "start_time": "2024-09-19T01:24:17.595Z"
   },
   {
    "duration": 201,
    "start_time": "2024-09-19T01:24:21.628Z"
   },
   {
    "duration": 1336,
    "start_time": "2024-09-19T11:57:48.949Z"
   },
   {
    "duration": 231,
    "start_time": "2024-09-19T11:57:50.287Z"
   },
   {
    "duration": 730,
    "start_time": "2024-09-19T11:57:50.519Z"
   },
   {
    "duration": 9,
    "start_time": "2024-09-19T11:57:51.251Z"
   },
   {
    "duration": 16,
    "start_time": "2024-09-19T11:57:51.262Z"
   },
   {
    "duration": 30,
    "start_time": "2024-09-19T11:57:51.280Z"
   },
   {
    "duration": 10,
    "start_time": "2024-09-19T11:57:51.311Z"
   },
   {
    "duration": 5,
    "start_time": "2024-09-19T11:57:51.322Z"
   },
   {
    "duration": 5,
    "start_time": "2024-09-19T11:57:51.328Z"
   },
   {
    "duration": 8,
    "start_time": "2024-09-19T11:57:51.334Z"
   },
   {
    "duration": 8549,
    "start_time": "2024-09-19T11:57:51.375Z"
   },
   {
    "duration": 7866,
    "start_time": "2024-09-19T11:57:59.925Z"
   },
   {
    "duration": 15,
    "start_time": "2024-09-19T11:58:07.793Z"
   },
   {
    "duration": 9,
    "start_time": "2024-09-19T11:58:07.810Z"
   },
   {
    "duration": 5,
    "start_time": "2024-09-19T11:58:07.820Z"
   },
   {
    "duration": 13,
    "start_time": "2024-09-19T11:58:07.826Z"
   },
   {
    "duration": 101,
    "start_time": "2024-09-19T11:58:07.840Z"
   },
   {
    "duration": 209,
    "start_time": "2024-09-19T11:58:07.942Z"
   },
   {
    "duration": 211,
    "start_time": "2024-09-19T11:58:08.153Z"
   },
   {
    "duration": 2,
    "start_time": "2024-09-19T11:58:08.366Z"
   },
   {
    "duration": 972,
    "start_time": "2024-09-19T11:58:08.369Z"
   },
   {
    "duration": 17,
    "start_time": "2024-09-19T11:58:09.343Z"
   },
   {
    "duration": 47,
    "start_time": "2024-09-19T11:58:09.362Z"
   },
   {
    "duration": 19,
    "start_time": "2024-09-19T11:58:09.411Z"
   },
   {
    "duration": 39,
    "start_time": "2024-09-19T11:58:09.432Z"
   },
   {
    "duration": 29,
    "start_time": "2024-09-19T11:58:09.472Z"
   },
   {
    "duration": 364,
    "start_time": "2024-09-19T11:58:09.502Z"
   },
   {
    "duration": 340,
    "start_time": "2024-09-19T11:58:09.868Z"
   },
   {
    "duration": 252,
    "start_time": "2024-09-19T11:58:10.209Z"
   },
   {
    "duration": 147,
    "start_time": "2024-09-19T11:58:10.463Z"
   },
   {
    "duration": 204,
    "start_time": "2024-09-19T11:58:10.612Z"
   },
   {
    "duration": 206,
    "start_time": "2024-09-19T11:58:10.818Z"
   },
   {
    "duration": 212,
    "start_time": "2024-09-19T11:58:11.025Z"
   },
   {
    "duration": 219,
    "start_time": "2024-09-19T11:58:11.238Z"
   },
   {
    "duration": 218,
    "start_time": "2024-09-19T11:58:11.459Z"
   },
   {
    "duration": 198,
    "start_time": "2024-09-19T11:58:11.679Z"
   },
   {
    "duration": 202,
    "start_time": "2024-09-19T11:58:11.879Z"
   },
   {
    "duration": 224,
    "start_time": "2024-09-19T11:58:12.082Z"
   },
   {
    "duration": 210,
    "start_time": "2024-09-19T11:58:12.308Z"
   },
   {
    "duration": 196,
    "start_time": "2024-09-19T11:58:12.519Z"
   },
   {
    "duration": 10,
    "start_time": "2024-09-19T11:58:12.718Z"
   },
   {
    "duration": 41,
    "start_time": "2024-09-19T11:58:12.730Z"
   },
   {
    "duration": 6,
    "start_time": "2024-09-19T11:58:12.772Z"
   },
   {
    "duration": 11,
    "start_time": "2024-09-19T11:58:12.779Z"
   },
   {
    "duration": 4,
    "start_time": "2024-09-19T11:58:12.791Z"
   },
   {
    "duration": 25,
    "start_time": "2024-09-19T12:12:24.140Z"
   },
   {
    "duration": 24,
    "start_time": "2024-09-19T12:13:09.106Z"
   },
   {
    "duration": 15,
    "start_time": "2024-09-19T12:13:28.718Z"
   },
   {
    "duration": 21,
    "start_time": "2024-09-19T12:13:28.968Z"
   },
   {
    "duration": 430,
    "start_time": "2024-09-19T12:13:29.076Z"
   },
   {
    "duration": 21,
    "start_time": "2024-09-19T12:14:47.796Z"
   },
   {
    "duration": 269,
    "start_time": "2024-09-19T12:17:39.164Z"
   },
   {
    "duration": 1441,
    "start_time": "2024-09-19T16:51:03.744Z"
   },
   {
    "duration": 220,
    "start_time": "2024-09-19T16:51:05.188Z"
   },
   {
    "duration": 774,
    "start_time": "2024-09-19T16:51:05.409Z"
   },
   {
    "duration": 10,
    "start_time": "2024-09-19T16:51:06.184Z"
   },
   {
    "duration": 28,
    "start_time": "2024-09-19T16:51:06.196Z"
   },
   {
    "duration": 44,
    "start_time": "2024-09-19T16:51:06.226Z"
   },
   {
    "duration": 23,
    "start_time": "2024-09-19T16:51:06.271Z"
   },
   {
    "duration": 76,
    "start_time": "2024-09-19T16:51:06.295Z"
   },
   {
    "duration": 19,
    "start_time": "2024-09-19T16:51:06.373Z"
   },
   {
    "duration": 34,
    "start_time": "2024-09-19T16:51:06.394Z"
   },
   {
    "duration": 9317,
    "start_time": "2024-09-19T16:51:06.430Z"
   },
   {
    "duration": 8625,
    "start_time": "2024-09-19T16:51:15.749Z"
   },
   {
    "duration": 16,
    "start_time": "2024-09-19T16:51:24.375Z"
   },
   {
    "duration": 41,
    "start_time": "2024-09-19T16:51:24.395Z"
   },
   {
    "duration": 20,
    "start_time": "2024-09-19T16:51:24.439Z"
   },
   {
    "duration": 40,
    "start_time": "2024-09-19T16:51:24.461Z"
   },
   {
    "duration": 109,
    "start_time": "2024-09-19T16:51:24.503Z"
   },
   {
    "duration": 237,
    "start_time": "2024-09-19T16:51:24.613Z"
   },
   {
    "duration": 198,
    "start_time": "2024-09-19T16:51:24.852Z"
   },
   {
    "duration": 3,
    "start_time": "2024-09-19T16:51:25.052Z"
   },
   {
    "duration": 987,
    "start_time": "2024-09-19T16:51:25.056Z"
   },
   {
    "duration": 17,
    "start_time": "2024-09-19T16:51:26.046Z"
   },
   {
    "duration": 30,
    "start_time": "2024-09-19T16:51:26.065Z"
   },
   {
    "duration": 42,
    "start_time": "2024-09-19T16:51:26.097Z"
   },
   {
    "duration": 15,
    "start_time": "2024-09-19T16:51:26.141Z"
   },
   {
    "duration": 35,
    "start_time": "2024-09-19T16:51:26.157Z"
   },
   {
    "duration": 329,
    "start_time": "2024-09-19T16:51:26.193Z"
   },
   {
    "duration": 288,
    "start_time": "2024-09-19T16:51:26.524Z"
   },
   {
    "duration": 170,
    "start_time": "2024-09-19T16:51:26.813Z"
   },
   {
    "duration": 244,
    "start_time": "2024-09-19T16:51:26.985Z"
   },
   {
    "duration": 202,
    "start_time": "2024-09-19T16:51:27.231Z"
   },
   {
    "duration": 227,
    "start_time": "2024-09-19T16:51:27.435Z"
   },
   {
    "duration": 201,
    "start_time": "2024-09-19T16:51:27.663Z"
   },
   {
    "duration": 213,
    "start_time": "2024-09-19T16:51:27.865Z"
   },
   {
    "duration": 222,
    "start_time": "2024-09-19T16:51:28.080Z"
   },
   {
    "duration": 216,
    "start_time": "2024-09-19T16:51:28.304Z"
   },
   {
    "duration": 248,
    "start_time": "2024-09-19T16:51:28.522Z"
   },
   {
    "duration": 213,
    "start_time": "2024-09-19T16:51:28.772Z"
   },
   {
    "duration": 235,
    "start_time": "2024-09-19T16:51:28.987Z"
   },
   {
    "duration": 250,
    "start_time": "2024-09-19T16:51:29.223Z"
   },
   {
    "duration": 10,
    "start_time": "2024-09-19T16:51:29.478Z"
   },
   {
    "duration": 149,
    "start_time": "2024-09-19T16:51:29.490Z"
   },
   {
    "duration": 10,
    "start_time": "2024-09-19T16:51:29.641Z"
   },
   {
    "duration": 12,
    "start_time": "2024-09-19T16:51:29.652Z"
   },
   {
    "duration": 6,
    "start_time": "2024-09-19T16:51:29.666Z"
   },
   {
    "duration": 15,
    "start_time": "2024-09-19T17:26:07.536Z"
   },
   {
    "duration": 4,
    "start_time": "2024-09-19T17:26:12.734Z"
   },
   {
    "duration": 5,
    "start_time": "2024-09-19T17:26:17.575Z"
   },
   {
    "duration": 12,
    "start_time": "2024-09-19T17:26:32.344Z"
   },
   {
    "duration": 5,
    "start_time": "2024-09-19T17:26:36.757Z"
   },
   {
    "duration": 12,
    "start_time": "2024-09-19T17:27:08.845Z"
   },
   {
    "duration": 12,
    "start_time": "2024-09-19T17:27:40.656Z"
   },
   {
    "duration": 344,
    "start_time": "2024-09-19T17:46:13.263Z"
   },
   {
    "duration": 319,
    "start_time": "2024-09-19T17:51:26.514Z"
   },
   {
    "duration": 121,
    "start_time": "2024-09-19T17:51:52.923Z"
   },
   {
    "duration": 311,
    "start_time": "2024-09-19T17:52:26.200Z"
   },
   {
    "duration": 80,
    "start_time": "2024-09-19T18:03:32.963Z"
   },
   {
    "duration": 226,
    "start_time": "2024-09-19T18:03:43.896Z"
   },
   {
    "duration": 245,
    "start_time": "2024-09-19T18:04:52.804Z"
   },
   {
    "duration": 226,
    "start_time": "2024-09-19T18:05:05.866Z"
   },
   {
    "duration": 219,
    "start_time": "2024-09-19T18:06:15.597Z"
   },
   {
    "duration": 34,
    "start_time": "2024-09-19T18:07:35.305Z"
   },
   {
    "duration": 222,
    "start_time": "2024-09-19T18:07:57.213Z"
   },
   {
    "duration": 208,
    "start_time": "2024-09-19T18:08:13.909Z"
   },
   {
    "duration": 26,
    "start_time": "2024-09-19T18:08:56.714Z"
   },
   {
    "duration": 223,
    "start_time": "2024-09-19T18:09:07.211Z"
   },
   {
    "duration": 364,
    "start_time": "2024-09-19T18:10:19.807Z"
   },
   {
    "duration": 229,
    "start_time": "2024-09-19T18:11:51.077Z"
   },
   {
    "duration": 339,
    "start_time": "2024-09-19T18:12:27.432Z"
   },
   {
    "duration": 252,
    "start_time": "2024-09-19T18:12:52.437Z"
   },
   {
    "duration": 16,
    "start_time": "2024-09-19T18:19:29.541Z"
   },
   {
    "duration": 12,
    "start_time": "2024-09-19T18:19:30.465Z"
   },
   {
    "duration": 5,
    "start_time": "2024-09-19T18:19:31.472Z"
   },
   {
    "duration": 6,
    "start_time": "2024-09-19T18:19:32.256Z"
   },
   {
    "duration": 11,
    "start_time": "2024-09-19T18:20:49.366Z"
   },
   {
    "duration": 20,
    "start_time": "2024-09-19T18:22:04.618Z"
   },
   {
    "duration": 21,
    "start_time": "2024-09-19T18:22:31.405Z"
   },
   {
    "duration": 11,
    "start_time": "2024-09-19T18:22:46.985Z"
   },
   {
    "duration": 12,
    "start_time": "2024-09-19T18:23:03.370Z"
   },
   {
    "duration": 12,
    "start_time": "2024-09-19T18:23:08.441Z"
   },
   {
    "duration": 1267,
    "start_time": "2024-09-19T18:23:21.213Z"
   },
   {
    "duration": 97,
    "start_time": "2024-09-19T18:23:22.482Z"
   },
   {
    "duration": 807,
    "start_time": "2024-09-19T18:23:22.581Z"
   },
   {
    "duration": 10,
    "start_time": "2024-09-19T18:23:23.389Z"
   },
   {
    "duration": 14,
    "start_time": "2024-09-19T18:23:23.401Z"
   },
   {
    "duration": 34,
    "start_time": "2024-09-19T18:23:23.417Z"
   },
   {
    "duration": 9326,
    "start_time": "2024-09-19T18:23:23.453Z"
   },
   {
    "duration": 8718,
    "start_time": "2024-09-19T18:23:32.780Z"
   },
   {
    "duration": 17,
    "start_time": "2024-09-19T18:23:41.499Z"
   },
   {
    "duration": 10,
    "start_time": "2024-09-19T18:23:41.518Z"
   },
   {
    "duration": 28,
    "start_time": "2024-09-19T18:23:41.530Z"
   },
   {
    "duration": 11,
    "start_time": "2024-09-19T18:23:41.559Z"
   },
   {
    "duration": 11,
    "start_time": "2024-09-19T18:23:41.572Z"
   },
   {
    "duration": 5,
    "start_time": "2024-09-19T18:23:41.585Z"
   },
   {
    "duration": 16,
    "start_time": "2024-09-19T18:23:41.591Z"
   },
   {
    "duration": 5,
    "start_time": "2024-09-19T18:23:41.608Z"
   },
   {
    "duration": 41,
    "start_time": "2024-09-19T18:23:41.615Z"
   },
   {
    "duration": 91,
    "start_time": "2024-09-19T18:23:41.657Z"
   },
   {
    "duration": 225,
    "start_time": "2024-09-19T18:23:41.750Z"
   },
   {
    "duration": 200,
    "start_time": "2024-09-19T18:23:41.977Z"
   },
   {
    "duration": 3,
    "start_time": "2024-09-19T18:23:42.179Z"
   },
   {
    "duration": 935,
    "start_time": "2024-09-19T18:23:42.184Z"
   },
   {
    "duration": 25,
    "start_time": "2024-09-19T18:23:43.121Z"
   },
   {
    "duration": 26,
    "start_time": "2024-09-19T18:23:43.148Z"
   },
   {
    "duration": 21,
    "start_time": "2024-09-19T18:23:43.176Z"
   },
   {
    "duration": 14,
    "start_time": "2024-09-19T18:23:43.198Z"
   },
   {
    "duration": 51,
    "start_time": "2024-09-19T18:23:43.213Z"
   },
   {
    "duration": 329,
    "start_time": "2024-09-19T18:23:43.266Z"
   },
   {
    "duration": 278,
    "start_time": "2024-09-19T18:23:43.597Z"
   },
   {
    "duration": 185,
    "start_time": "2024-09-19T18:23:43.877Z"
   },
   {
    "duration": 234,
    "start_time": "2024-09-19T18:23:44.064Z"
   },
   {
    "duration": 182,
    "start_time": "2024-09-19T18:23:44.299Z"
   },
   {
    "duration": 257,
    "start_time": "2024-09-19T18:23:44.483Z"
   },
   {
    "duration": 231,
    "start_time": "2024-09-19T18:23:44.742Z"
   },
   {
    "duration": 243,
    "start_time": "2024-09-19T18:23:44.975Z"
   },
   {
    "duration": 241,
    "start_time": "2024-09-19T18:23:45.219Z"
   },
   {
    "duration": 233,
    "start_time": "2024-09-19T18:23:45.462Z"
   },
   {
    "duration": 244,
    "start_time": "2024-09-19T18:23:45.697Z"
   },
   {
    "duration": 215,
    "start_time": "2024-09-19T18:23:45.945Z"
   },
   {
    "duration": 230,
    "start_time": "2024-09-19T18:23:46.161Z"
   },
   {
    "duration": 277,
    "start_time": "2024-09-19T18:23:46.394Z"
   },
   {
    "duration": 14,
    "start_time": "2024-09-19T18:23:46.674Z"
   },
   {
    "duration": 13,
    "start_time": "2024-09-19T18:23:46.690Z"
   },
   {
    "duration": 15,
    "start_time": "2024-09-19T18:23:46.704Z"
   },
   {
    "duration": 27,
    "start_time": "2024-09-19T18:23:46.720Z"
   },
   {
    "duration": 5,
    "start_time": "2024-09-19T18:23:46.749Z"
   },
   {
    "duration": 7,
    "start_time": "2024-09-19T18:29:24.967Z"
   },
   {
    "duration": 1202,
    "start_time": "2024-09-19T18:29:48.572Z"
   },
   {
    "duration": 90,
    "start_time": "2024-09-19T18:29:49.776Z"
   },
   {
    "duration": 765,
    "start_time": "2024-09-19T18:29:49.868Z"
   },
   {
    "duration": 18,
    "start_time": "2024-09-19T18:29:50.635Z"
   },
   {
    "duration": 4,
    "start_time": "2024-09-19T18:29:50.656Z"
   },
   {
    "duration": 16,
    "start_time": "2024-09-19T18:29:50.661Z"
   },
   {
    "duration": 34,
    "start_time": "2024-09-19T18:29:50.679Z"
   },
   {
    "duration": 13,
    "start_time": "2024-09-19T18:29:50.715Z"
   },
   {
    "duration": 36,
    "start_time": "2024-09-19T18:29:50.730Z"
   },
   {
    "duration": 9,
    "start_time": "2024-09-19T18:29:50.769Z"
   },
   {
    "duration": 17,
    "start_time": "2024-09-19T18:29:50.780Z"
   },
   {
    "duration": 12,
    "start_time": "2024-09-19T18:29:50.799Z"
   },
   {
    "duration": 31,
    "start_time": "2024-09-19T18:29:50.813Z"
   },
   {
    "duration": 8,
    "start_time": "2024-09-19T18:29:50.846Z"
   },
   {
    "duration": 16,
    "start_time": "2024-09-19T18:29:50.856Z"
   },
   {
    "duration": 17,
    "start_time": "2024-09-19T18:29:50.873Z"
   },
   {
    "duration": 38,
    "start_time": "2024-09-19T18:29:50.892Z"
   },
   {
    "duration": 110,
    "start_time": "2024-09-19T18:29:50.932Z"
   },
   {
    "duration": 221,
    "start_time": "2024-09-19T18:29:51.044Z"
   },
   {
    "duration": 222,
    "start_time": "2024-09-19T18:29:51.268Z"
   },
   {
    "duration": 3,
    "start_time": "2024-09-19T18:29:51.491Z"
   },
   {
    "duration": 1074,
    "start_time": "2024-09-19T18:29:51.495Z"
   },
   {
    "duration": 27,
    "start_time": "2024-09-19T18:29:52.571Z"
   },
   {
    "duration": 32,
    "start_time": "2024-09-19T18:29:52.599Z"
   },
   {
    "duration": 23,
    "start_time": "2024-09-19T18:29:52.646Z"
   },
   {
    "duration": 55,
    "start_time": "2024-09-19T18:29:52.671Z"
   },
   {
    "duration": 114,
    "start_time": "2024-09-19T18:29:52.727Z"
   },
   {
    "duration": 450,
    "start_time": "2024-09-19T18:29:52.844Z"
   },
   {
    "duration": 275,
    "start_time": "2024-09-19T18:29:53.296Z"
   },
   {
    "duration": 182,
    "start_time": "2024-09-19T18:29:53.573Z"
   },
   {
    "duration": 148,
    "start_time": "2024-09-19T18:29:53.757Z"
   },
   {
    "duration": 185,
    "start_time": "2024-09-19T18:29:53.906Z"
   },
   {
    "duration": 234,
    "start_time": "2024-09-19T18:29:54.093Z"
   },
   {
    "duration": 237,
    "start_time": "2024-09-19T18:29:54.329Z"
   },
   {
    "duration": 338,
    "start_time": "2024-09-19T18:29:54.568Z"
   },
   {
    "duration": 275,
    "start_time": "2024-09-19T18:29:54.908Z"
   },
   {
    "duration": 240,
    "start_time": "2024-09-19T18:29:55.185Z"
   },
   {
    "duration": 252,
    "start_time": "2024-09-19T18:29:55.426Z"
   },
   {
    "duration": 215,
    "start_time": "2024-09-19T18:29:55.681Z"
   },
   {
    "duration": 211,
    "start_time": "2024-09-19T18:29:55.898Z"
   },
   {
    "duration": 230,
    "start_time": "2024-09-19T18:29:56.110Z"
   },
   {
    "duration": 11,
    "start_time": "2024-09-19T18:29:56.345Z"
   },
   {
    "duration": 15,
    "start_time": "2024-09-19T18:29:56.358Z"
   },
   {
    "duration": 12,
    "start_time": "2024-09-19T18:29:56.374Z"
   },
   {
    "duration": 32,
    "start_time": "2024-09-19T18:29:56.388Z"
   },
   {
    "duration": 17,
    "start_time": "2024-09-19T18:29:56.422Z"
   },
   {
    "duration": 5,
    "start_time": "2024-09-19T18:34:45.952Z"
   },
   {
    "duration": 14,
    "start_time": "2024-09-19T18:34:48.268Z"
   },
   {
    "duration": 281,
    "start_time": "2024-09-19T18:40:27.826Z"
   },
   {
    "duration": 139,
    "start_time": "2024-09-19T18:41:38.733Z"
   },
   {
    "duration": 158,
    "start_time": "2024-09-19T18:43:20.849Z"
   },
   {
    "duration": 250,
    "start_time": "2024-09-19T18:43:35.668Z"
   },
   {
    "duration": 161,
    "start_time": "2024-09-19T18:44:11.211Z"
   },
   {
    "duration": 137,
    "start_time": "2024-09-19T18:44:18.799Z"
   },
   {
    "duration": 176,
    "start_time": "2024-09-19T18:44:54.510Z"
   },
   {
    "duration": 147,
    "start_time": "2024-09-19T18:44:56.100Z"
   },
   {
    "duration": 166,
    "start_time": "2024-09-19T18:45:01.906Z"
   },
   {
    "duration": 151,
    "start_time": "2024-09-19T18:45:06.882Z"
   },
   {
    "duration": 152,
    "start_time": "2024-09-19T18:45:17.210Z"
   },
   {
    "duration": 143,
    "start_time": "2024-09-19T18:46:43.703Z"
   },
   {
    "duration": 143,
    "start_time": "2024-09-19T18:46:51.032Z"
   },
   {
    "duration": 138,
    "start_time": "2024-09-19T18:46:59.382Z"
   },
   {
    "duration": 143,
    "start_time": "2024-09-19T18:47:24.502Z"
   },
   {
    "duration": 524,
    "start_time": "2024-09-19T18:54:39.476Z"
   },
   {
    "duration": 458,
    "start_time": "2024-09-19T18:55:19.751Z"
   },
   {
    "duration": 285,
    "start_time": "2024-09-19T18:55:38.902Z"
   },
   {
    "duration": 451,
    "start_time": "2024-09-19T18:55:49.622Z"
   },
   {
    "duration": 452,
    "start_time": "2024-09-19T18:56:11.743Z"
   },
   {
    "duration": 442,
    "start_time": "2024-09-19T18:57:06.349Z"
   },
   {
    "duration": 174,
    "start_time": "2024-09-19T18:59:12.927Z"
   },
   {
    "duration": 274,
    "start_time": "2024-09-19T19:01:25.603Z"
   },
   {
    "duration": 1227,
    "start_time": "2024-09-19T19:11:21.468Z"
   },
   {
    "duration": 91,
    "start_time": "2024-09-19T19:11:22.697Z"
   },
   {
    "duration": 732,
    "start_time": "2024-09-19T19:11:22.790Z"
   },
   {
    "duration": 10,
    "start_time": "2024-09-19T19:11:23.524Z"
   },
   {
    "duration": 36,
    "start_time": "2024-09-19T19:11:23.536Z"
   },
   {
    "duration": 23,
    "start_time": "2024-09-19T19:11:23.573Z"
   },
   {
    "duration": 35,
    "start_time": "2024-09-19T19:11:23.597Z"
   },
   {
    "duration": 24,
    "start_time": "2024-09-19T19:11:23.634Z"
   },
   {
    "duration": 21,
    "start_time": "2024-09-19T19:11:23.659Z"
   },
   {
    "duration": 9,
    "start_time": "2024-09-19T19:11:23.682Z"
   },
   {
    "duration": 14,
    "start_time": "2024-09-19T19:11:23.692Z"
   },
   {
    "duration": 13,
    "start_time": "2024-09-19T19:11:23.708Z"
   },
   {
    "duration": 13,
    "start_time": "2024-09-19T19:11:23.722Z"
   },
   {
    "duration": 5,
    "start_time": "2024-09-19T19:11:23.745Z"
   },
   {
    "duration": 9,
    "start_time": "2024-09-19T19:11:23.751Z"
   },
   {
    "duration": 26,
    "start_time": "2024-09-19T19:11:23.761Z"
   },
   {
    "duration": 30,
    "start_time": "2024-09-19T19:11:23.788Z"
   },
   {
    "duration": 80,
    "start_time": "2024-09-19T19:11:23.820Z"
   },
   {
    "duration": 238,
    "start_time": "2024-09-19T19:11:23.901Z"
   },
   {
    "duration": 194,
    "start_time": "2024-09-19T19:11:24.141Z"
   },
   {
    "duration": 9,
    "start_time": "2024-09-19T19:11:24.337Z"
   },
   {
    "duration": 999,
    "start_time": "2024-09-19T19:11:24.347Z"
   },
   {
    "duration": 19,
    "start_time": "2024-09-19T19:11:25.348Z"
   },
   {
    "duration": 42,
    "start_time": "2024-09-19T19:11:25.369Z"
   },
   {
    "duration": 22,
    "start_time": "2024-09-19T19:11:25.413Z"
   },
   {
    "duration": 15,
    "start_time": "2024-09-19T19:11:25.446Z"
   },
   {
    "duration": 21,
    "start_time": "2024-09-19T19:11:25.463Z"
   },
   {
    "duration": 404,
    "start_time": "2024-09-19T19:11:25.486Z"
   },
   {
    "duration": 270,
    "start_time": "2024-09-19T19:11:25.892Z"
   },
   {
    "duration": 291,
    "start_time": "2024-09-19T19:11:26.163Z"
   },
   {
    "duration": 183,
    "start_time": "2024-09-19T19:11:26.455Z"
   },
   {
    "duration": 145,
    "start_time": "2024-09-19T19:11:26.645Z"
   },
   {
    "duration": 177,
    "start_time": "2024-09-19T19:11:26.791Z"
   },
   {
    "duration": 238,
    "start_time": "2024-09-19T19:11:26.969Z"
   },
   {
    "duration": 156,
    "start_time": "2024-09-19T19:11:27.208Z"
   },
   {
    "duration": 152,
    "start_time": "2024-09-19T19:11:27.366Z"
   },
   {
    "duration": 216,
    "start_time": "2024-09-19T19:11:27.520Z"
   },
   {
    "duration": 243,
    "start_time": "2024-09-19T19:11:27.738Z"
   },
   {
    "duration": 226,
    "start_time": "2024-09-19T19:11:27.982Z"
   },
   {
    "duration": 224,
    "start_time": "2024-09-19T19:11:28.209Z"
   },
   {
    "duration": 266,
    "start_time": "2024-09-19T19:11:28.437Z"
   },
   {
    "duration": 234,
    "start_time": "2024-09-19T19:11:28.705Z"
   },
   {
    "duration": 257,
    "start_time": "2024-09-19T19:11:28.941Z"
   },
   {
    "duration": 221,
    "start_time": "2024-09-19T19:11:29.199Z"
   },
   {
    "duration": 215,
    "start_time": "2024-09-19T19:11:29.422Z"
   },
   {
    "duration": 309,
    "start_time": "2024-09-19T19:11:29.638Z"
   },
   {
    "duration": 11,
    "start_time": "2024-09-19T19:11:29.949Z"
   },
   {
    "duration": 8,
    "start_time": "2024-09-19T19:11:29.961Z"
   },
   {
    "duration": 6,
    "start_time": "2024-09-19T19:11:29.970Z"
   },
   {
    "duration": 11,
    "start_time": "2024-09-19T19:11:29.977Z"
   },
   {
    "duration": 5,
    "start_time": "2024-09-19T19:11:29.989Z"
   },
   {
    "duration": 1155,
    "start_time": "2024-09-19T19:29:31.477Z"
   },
   {
    "duration": 1451,
    "start_time": "2024-09-19T19:30:21.334Z"
   },
   {
    "duration": 1194,
    "start_time": "2024-09-19T19:33:17.287Z"
   },
   {
    "duration": 1111,
    "start_time": "2024-09-19T19:33:47.504Z"
   },
   {
    "duration": 1216,
    "start_time": "2024-09-20T00:05:46.449Z"
   },
   {
    "duration": 95,
    "start_time": "2024-09-20T00:05:47.668Z"
   },
   {
    "duration": 942,
    "start_time": "2024-09-20T00:05:47.764Z"
   },
   {
    "duration": 16,
    "start_time": "2024-09-20T00:05:48.708Z"
   },
   {
    "duration": 10,
    "start_time": "2024-09-20T00:05:48.726Z"
   },
   {
    "duration": 23,
    "start_time": "2024-09-20T00:05:48.737Z"
   },
   {
    "duration": 21,
    "start_time": "2024-09-20T00:05:48.761Z"
   },
   {
    "duration": 8,
    "start_time": "2024-09-20T00:05:48.783Z"
   },
   {
    "duration": 20,
    "start_time": "2024-09-20T00:05:48.792Z"
   },
   {
    "duration": 12,
    "start_time": "2024-09-20T00:05:48.815Z"
   },
   {
    "duration": 19,
    "start_time": "2024-09-20T00:05:48.828Z"
   },
   {
    "duration": 11,
    "start_time": "2024-09-20T00:05:48.848Z"
   },
   {
    "duration": 11,
    "start_time": "2024-09-20T00:05:48.860Z"
   },
   {
    "duration": 5,
    "start_time": "2024-09-20T00:05:48.872Z"
   },
   {
    "duration": 7,
    "start_time": "2024-09-20T00:05:48.878Z"
   },
   {
    "duration": 38,
    "start_time": "2024-09-20T00:05:48.886Z"
   },
   {
    "duration": 16,
    "start_time": "2024-09-20T00:05:48.925Z"
   },
   {
    "duration": 101,
    "start_time": "2024-09-20T00:05:48.943Z"
   },
   {
    "duration": 233,
    "start_time": "2024-09-20T00:05:49.045Z"
   },
   {
    "duration": 217,
    "start_time": "2024-09-20T00:05:49.279Z"
   },
   {
    "duration": 3,
    "start_time": "2024-09-20T00:05:49.498Z"
   },
   {
    "duration": 952,
    "start_time": "2024-09-20T00:05:49.503Z"
   },
   {
    "duration": 20,
    "start_time": "2024-09-20T00:05:50.457Z"
   },
   {
    "duration": 45,
    "start_time": "2024-09-20T00:05:50.479Z"
   },
   {
    "duration": 24,
    "start_time": "2024-09-20T00:05:50.526Z"
   },
   {
    "duration": 14,
    "start_time": "2024-09-20T00:05:50.552Z"
   },
   {
    "duration": 153,
    "start_time": "2024-09-20T00:05:50.567Z"
   },
   {
    "duration": 335,
    "start_time": "2024-09-20T00:05:50.724Z"
   },
   {
    "duration": 283,
    "start_time": "2024-09-20T00:05:51.060Z"
   },
   {
    "duration": 297,
    "start_time": "2024-09-20T00:05:51.345Z"
   },
   {
    "duration": 181,
    "start_time": "2024-09-20T00:05:51.644Z"
   },
   {
    "duration": 171,
    "start_time": "2024-09-20T00:05:51.827Z"
   },
   {
    "duration": 171,
    "start_time": "2024-09-20T00:05:52.000Z"
   },
   {
    "duration": 247,
    "start_time": "2024-09-20T00:05:52.173Z"
   },
   {
    "duration": 147,
    "start_time": "2024-09-20T00:05:52.422Z"
   },
   {
    "duration": 153,
    "start_time": "2024-09-20T00:05:52.571Z"
   },
   {
    "duration": 186,
    "start_time": "2024-09-20T00:05:52.726Z"
   },
   {
    "duration": 236,
    "start_time": "2024-09-20T00:05:52.914Z"
   },
   {
    "duration": 241,
    "start_time": "2024-09-20T00:05:53.152Z"
   },
   {
    "duration": 234,
    "start_time": "2024-09-20T00:05:53.395Z"
   },
   {
    "duration": 236,
    "start_time": "2024-09-20T00:05:53.631Z"
   },
   {
    "duration": 236,
    "start_time": "2024-09-20T00:05:53.869Z"
   },
   {
    "duration": 236,
    "start_time": "2024-09-20T00:05:54.106Z"
   },
   {
    "duration": 223,
    "start_time": "2024-09-20T00:05:54.344Z"
   },
   {
    "duration": 226,
    "start_time": "2024-09-20T00:05:54.568Z"
   },
   {
    "duration": 332,
    "start_time": "2024-09-20T00:05:54.796Z"
   },
   {
    "duration": 17,
    "start_time": "2024-09-20T00:05:55.130Z"
   },
   {
    "duration": 6,
    "start_time": "2024-09-20T00:05:55.149Z"
   },
   {
    "duration": 6,
    "start_time": "2024-09-20T00:05:55.156Z"
   },
   {
    "duration": 23,
    "start_time": "2024-09-20T00:05:55.164Z"
   },
   {
    "duration": 4,
    "start_time": "2024-09-20T00:05:55.189Z"
   },
   {
    "duration": 1124,
    "start_time": "2024-09-20T00:07:41.297Z"
   },
   {
    "duration": 1197,
    "start_time": "2024-09-20T00:08:16.851Z"
   },
   {
    "duration": 90,
    "start_time": "2024-09-20T00:08:18.049Z"
   },
   {
    "duration": 917,
    "start_time": "2024-09-20T00:08:18.141Z"
   },
   {
    "duration": 936,
    "start_time": "2024-09-20T00:08:19.061Z"
   },
   {
    "duration": 10,
    "start_time": "2024-09-20T00:08:19.999Z"
   },
   {
    "duration": 4,
    "start_time": "2024-09-20T00:08:20.020Z"
   },
   {
    "duration": 10,
    "start_time": "2024-09-20T00:08:20.025Z"
   },
   {
    "duration": 7,
    "start_time": "2024-09-20T00:08:20.036Z"
   },
   {
    "duration": 17,
    "start_time": "2024-09-20T00:08:20.045Z"
   },
   {
    "duration": 96,
    "start_time": "2024-09-20T00:08:20.064Z"
   },
   {
    "duration": 9,
    "start_time": "2024-09-20T00:08:20.162Z"
   },
   {
    "duration": 16,
    "start_time": "2024-09-20T00:08:20.172Z"
   },
   {
    "duration": 18,
    "start_time": "2024-09-20T00:08:20.190Z"
   },
   {
    "duration": 13,
    "start_time": "2024-09-20T00:08:20.221Z"
   },
   {
    "duration": 5,
    "start_time": "2024-09-20T00:08:20.236Z"
   },
   {
    "duration": 12,
    "start_time": "2024-09-20T00:08:20.242Z"
   },
   {
    "duration": 15,
    "start_time": "2024-09-20T00:08:20.256Z"
   },
   {
    "duration": 16,
    "start_time": "2024-09-20T00:08:20.273Z"
   },
   {
    "duration": 107,
    "start_time": "2024-09-20T00:08:20.290Z"
   },
   {
    "duration": 241,
    "start_time": "2024-09-20T00:08:20.399Z"
   },
   {
    "duration": 216,
    "start_time": "2024-09-20T00:08:20.642Z"
   },
   {
    "duration": 4,
    "start_time": "2024-09-20T00:08:20.859Z"
   },
   {
    "duration": 918,
    "start_time": "2024-09-20T00:08:20.864Z"
   },
   {
    "duration": 20,
    "start_time": "2024-09-20T00:08:21.784Z"
   },
   {
    "duration": 43,
    "start_time": "2024-09-20T00:08:21.805Z"
   },
   {
    "duration": 21,
    "start_time": "2024-09-20T00:08:21.849Z"
   },
   {
    "duration": 14,
    "start_time": "2024-09-20T00:08:21.871Z"
   },
   {
    "duration": 44,
    "start_time": "2024-09-20T00:08:21.889Z"
   },
   {
    "duration": 335,
    "start_time": "2024-09-20T00:08:21.934Z"
   },
   {
    "duration": 281,
    "start_time": "2024-09-20T00:08:22.271Z"
   },
   {
    "duration": 396,
    "start_time": "2024-09-20T00:08:22.554Z"
   },
   {
    "duration": 172,
    "start_time": "2024-09-20T00:08:22.952Z"
   },
   {
    "duration": 156,
    "start_time": "2024-09-20T00:08:23.126Z"
   },
   {
    "duration": 171,
    "start_time": "2024-09-20T00:08:23.283Z"
   },
   {
    "duration": 179,
    "start_time": "2024-09-20T00:08:23.455Z"
   },
   {
    "duration": 170,
    "start_time": "2024-09-20T00:08:23.636Z"
   },
   {
    "duration": 157,
    "start_time": "2024-09-20T00:08:23.808Z"
   },
   {
    "duration": 189,
    "start_time": "2024-09-20T00:08:23.967Z"
   },
   {
    "duration": 233,
    "start_time": "2024-09-20T00:08:24.158Z"
   },
   {
    "duration": 232,
    "start_time": "2024-09-20T00:08:24.392Z"
   },
   {
    "duration": 233,
    "start_time": "2024-09-20T00:08:24.625Z"
   },
   {
    "duration": 274,
    "start_time": "2024-09-20T00:08:24.860Z"
   },
   {
    "duration": 248,
    "start_time": "2024-09-20T00:08:25.136Z"
   },
   {
    "duration": 352,
    "start_time": "2024-09-20T00:08:25.385Z"
   },
   {
    "duration": 219,
    "start_time": "2024-09-20T00:08:25.738Z"
   },
   {
    "duration": 215,
    "start_time": "2024-09-20T00:08:25.958Z"
   },
   {
    "duration": 238,
    "start_time": "2024-09-20T00:08:26.175Z"
   },
   {
    "duration": 12,
    "start_time": "2024-09-20T00:08:26.420Z"
   },
   {
    "duration": 9,
    "start_time": "2024-09-20T00:08:26.433Z"
   },
   {
    "duration": 7,
    "start_time": "2024-09-20T00:08:26.443Z"
   },
   {
    "duration": 20,
    "start_time": "2024-09-20T00:08:26.452Z"
   },
   {
    "duration": 6,
    "start_time": "2024-09-20T00:08:26.474Z"
   }
  ],
  "kernelspec": {
   "display_name": "Python 3 (ipykernel)",
   "language": "python",
   "name": "python3"
  },
  "language_info": {
   "codemirror_mode": {
    "name": "ipython",
    "version": 3
   },
   "file_extension": ".py",
   "mimetype": "text/x-python",
   "name": "python",
   "nbconvert_exporter": "python",
   "pygments_lexer": "ipython3",
   "version": "3.9.5"
  },
  "toc": {
   "base_numbering": 1,
   "nav_menu": {},
   "number_sections": true,
   "sideBar": true,
   "skip_h1_title": true,
   "title_cell": "Table of Contents",
   "title_sidebar": "Contents",
   "toc_cell": false,
   "toc_position": {
    "height": "calc(100% - 180px)",
    "left": "10px",
    "top": "150px",
    "width": "223.93px"
   },
   "toc_section_display": true,
   "toc_window_display": true
  }
 },
 "nbformat": 4,
 "nbformat_minor": 2
}
